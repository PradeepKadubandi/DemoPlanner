{
 "cells": [
  {
   "cell_type": "code",
   "execution_count": 1,
   "metadata": {},
   "outputs": [],
   "source": [
    "%load_ext autoreload\n",
    "%autoreload 2"
   ]
  },
  {
   "cell_type": "code",
   "execution_count": 2,
   "metadata": {},
   "outputs": [],
   "source": [
    "import numpy as np\n",
    "import matplotlib.pyplot as plt\n",
    "import time\n",
    "import os\n",
    "import glob\n",
    "import pprint\n",
    "import copy\n",
    "import shutil\n",
    "\n",
    "import torch\n",
    "import torch.nn as nn\n",
    "import torch.nn.functional as F\n",
    "from torch.utils.data import DataLoader\n",
    "import torch.optim as optim\n",
    "from collections import OrderedDict\n",
    "\n",
    "from dataset import *\n",
    "from runner import ExptRunner\n",
    "from runner import ExptEvaluator\n",
    "from networks.imageencoder import *\n",
    "from networks.imagedecoder import *\n",
    "from networks.DenseAutoEncoder import DenseAutoEncoder\n",
    "from networks.composedautoencoder import ComposedAutoEncoder\n",
    "from networks.ConvVae import ConvVae\n",
    "from networks.vae import VAE\n",
    "from networks.dense import *\n",
    "from networks.lossfunctions import *\n",
    "from networks.reacherspecial import *\n",
    "from helpers import *\n",
    "import utils\n",
    "import simplereacherdimensions\n",
    "import simplereacheradapters\n",
    "from env.simulator import simulator, evaluator"
   ]
  },
  {
   "cell_type": "code",
   "execution_count": 3,
   "metadata": {},
   "outputs": [],
   "source": [
    "import warnings\n",
    "warnings.filterwarnings(\"ignore\", category=torch.serialization.SourceChangeWarning)"
   ]
  },
  {
   "cell_type": "code",
   "execution_count": 4,
   "metadata": {},
   "outputs": [],
   "source": [
    "opt = np.get_printoptions()\n",
    "np.set_printoptions(threshold=np.inf)"
   ]
  },
  {
   "cell_type": "code",
   "execution_count": 5,
   "metadata": {},
   "outputs": [],
   "source": [
    "torch.set_printoptions(sci_mode=False)"
   ]
  },
  {
   "cell_type": "code",
   "execution_count": 6,
   "metadata": {},
   "outputs": [],
   "source": [
    "device = torch.device(\"cuda:2\" if torch.cuda.is_available() else \"cpu\")"
   ]
  },
  {
   "cell_type": "code",
   "execution_count": 7,
   "metadata": {},
   "outputs": [
    {
     "name": "stdout",
     "output_type": "stream",
     "text": [
      "cuda:2\n"
     ]
    }
   ],
   "source": [
    "print (device)"
   ]
  },
  {
   "cell_type": "code",
   "execution_count": 8,
   "metadata": {},
   "outputs": [
    {
     "name": "stdout",
     "output_type": "stream",
     "text": [
      "0\n",
      "2\n"
     ]
    }
   ],
   "source": [
    "if torch.cuda.is_available():\n",
    "    print (torch.cuda.current_device())\n",
    "    torch.cuda.set_device(device)\n",
    "    print (torch.cuda.current_device())"
   ]
  },
  {
   "cell_type": "code",
   "execution_count": 9,
   "metadata": {},
   "outputs": [],
   "source": [
    "root_folder = 'data/simple_reacher/training'\n",
    "# number_of_trajectories = 10\n",
    "number_of_trajectories = 5000"
   ]
  },
  {
   "cell_type": "code",
   "execution_count": 10,
   "metadata": {},
   "outputs": [
    {
     "name": "stdout",
     "output_type": "stream",
     "text": [
      "Time Taken: 4.987574815750122 sec\n"
     ]
    }
   ],
   "source": [
    "start = time.time()\n",
    "train_data = SimpleReacherOnDemandDataset(root_folder, range(4750), device=device)\n",
    "test_data = SimpleReacherOnDemandDataset(root_folder, range(4750, 5000), device=device)\n",
    "print (\"Time Taken: {} sec\".format(time.time() - start))"
   ]
  },
  {
   "cell_type": "code",
   "execution_count": 11,
   "metadata": {},
   "outputs": [
    {
     "name": "stdout",
     "output_type": "stream",
     "text": [
      "103274\n",
      "5399\n",
      "cuda:2\n",
      "cuda:2\n"
     ]
    }
   ],
   "source": [
    "print (len(train_data))\n",
    "print (len(test_data))\n",
    "print (train_data.trajectory_data.device)\n",
    "print (test_data.trajectory_data.device)"
   ]
  },
  {
   "cell_type": "code",
   "execution_count": 12,
   "metadata": {},
   "outputs": [],
   "source": [
    "def run_expts(train_epochs):\n",
    "    for i in range(len(expts)):\n",
    "        arg_lists = expts[i]\n",
    "        cons_args = arg_lists[0]\n",
    "        train_args = {}\n",
    "        if (len(arg_lists)) > 1:\n",
    "            train_args = arg_lists[1]\n",
    "        test_args = {}\n",
    "        if (len(arg_lists)) > 2:\n",
    "            test_args = arg_lists[2]\n",
    "        \n",
    "        runner = ExptRunner(train_data=train_data, test_data=test_data, device=device, **cons_args)\n",
    "        print (\"Experiment logs folder: {}\".format(runner.log_folder))\n",
    "        with open(runner.log_folder + '/expt.txt', 'w') as f:\n",
    "            f.write(pprint.pformat(arg_lists))\n",
    "        runner.train(train_epochs, **train_args)"
   ]
  },
  {
   "cell_type": "code",
   "execution_count": 13,
   "metadata": {},
   "outputs": [],
   "source": [
    "# First number represents the number of layers, second : channels per each layer, third : kernel size\n",
    "img_auto_encoder = lambda: ComposedAutoEncoder(x_dim=simplereacherdimensions.x_dim,\n",
    "                                               img_res=simplereacherdimensions.img_res,\n",
    "                                               layers_channels=[16, 16, 16, 16],\n",
    "                                               useMaxPool=True,\n",
    "                                               device=device)\n",
    "\n",
    "img_auto_encoder_5_16_7 = lambda: ComposedAutoEncoder(x_dim=simplereacherdimensions.x_dim,\n",
    "                                               img_res=simplereacherdimensions.img_res,\n",
    "                                               layers_channels=[16, 16, 16, 16, 16],\n",
    "                                               useMaxPool=True,\n",
    "                                               device=device,\n",
    "                                               kernel_size=7)\n",
    "\n",
    "img_auto_encoder_5_32_7 = lambda: ComposedAutoEncoder(x_dim=simplereacherdimensions.x_dim,\n",
    "                                               img_res=simplereacherdimensions.img_res,\n",
    "                                               layers_channels=[32, 32, 32, 32, 32],\n",
    "                                               useMaxPool=True,\n",
    "                                               device=device,\n",
    "                                               kernel_size=7)\n",
    "img_auto_encoder_5_16_5 = lambda: ComposedAutoEncoder(x_dim=simplereacherdimensions.x_dim,\n",
    "                                               img_res=simplereacherdimensions.img_res,\n",
    "                                               layers_channels=[16, 16, 16, 16, 16],\n",
    "                                               useMaxPool=True,\n",
    "                                               device=device,\n",
    "                                               kernel_size=5)\n",
    "\n",
    "img_auto_encoder_5_32_5 = lambda: ComposedAutoEncoder(x_dim=simplereacherdimensions.x_dim,\n",
    "                                               img_res=simplereacherdimensions.img_res,\n",
    "                                               layers_channels=[32, 32, 32, 32, 32],\n",
    "                                               useMaxPool=True,\n",
    "                                               device=device,\n",
    "                                               kernel_size=5)\n",
    "img_encoder_5_32_5 = lambda: ImageEncoderFlatInput(img_res=simplereacherdimensions.img_res,\n",
    "                                               input_channels=1,\n",
    "                                               layers_channels=[32, 32, 32, 32, 32],\n",
    "                                               prefix='enc',\n",
    "                                               useMaxPool=True,\n",
    "                                               addFlatten=True,\n",
    "                                               kernel_size=5)"
   ]
  },
  {
   "cell_type": "code",
   "execution_count": 14,
   "metadata": {},
   "outputs": [],
   "source": [
    "def load_pretrained(folder):\n",
    "    chkptFile = os.path.join('runs', folder, 'train_checkpoint.tar')\n",
    "    return torch.load(chkptFile, map_location=device)['model']\n",
    "\n",
    "pretrain_image_auto_enc = load_pretrained('AutoEncoders/08-13/run2-img-auto-encoder/08-13-21-59-10-ImageAutoEncoder-Reacher-ComposedAutoEncoder_5_32_5-L1')\n",
    "pretrain_policy = load_pretrained('Policies/08-19/08-19-13-32-36-Policy-Reacher-Dense4WithTanh-L1')\n",
    "pretrain_img_to_env = load_pretrained('AutoEncoders/08-12/run1-img-to-env/08-12-18-44-36-ImageToEnv-Reacher-Conv4Dense3-MSE/')"
   ]
  },
  {
   "cell_type": "code",
   "execution_count": 15,
   "metadata": {},
   "outputs": [],
   "source": [
    "img_layers = [16,16,16,16]\n",
    "# z_dim = 4096 # 16 * 26 * 16 , This should be set based on above img_layers\n",
    "z_dim = 2048\n",
    "env_layers = [6, 128, 512, z_dim]\n",
    "in_channels = 1\n",
    "img_encoder = lambda: ImageEncoderFlatInput(in_channels, img_layers, 'imgenc', useMaxPool=True, addFlatten=True, img_res=simplereacheradapters.img_res)\n",
    "# img_decoder = lambda: ImageDecoderFlatInput(z_dim, list(reversed(img_layers)), in_channels, 'imgdec', useSigmoid=True)\n",
    "# env_encoder = lambda: Dense(env_layers, use_last_act=False, prefix='envenc')\n",
    "env_decoder = lambda: Dense(list(reversed(env_layers)), last_act='sigmoid', prefix='envdec')\n",
    "combined = lambda l1, l2: nn.Sequential(OrderedDict([\n",
    "                              ('EncNet', l1()),\n",
    "                              ('DecNet', l2()),\n",
    "                            ]))"
   ]
  },
  {
   "cell_type": "code",
   "execution_count": 16,
   "metadata": {},
   "outputs": [],
   "source": [
    "def env_enc_pretrained_img_dec():\n",
    "    net = combined(env_encoder, img_decoder).to(device)\n",
    "    load_mapped_state_dict(net, pretrain_imgEncDec, 'DecNet.net.imgdec', 'decoder.net.dec')\n",
    "    return net\n",
    "\n",
    "def pretrained_img_enc_env_dec(i_encoder, e_decoder):\n",
    "    net = combined(i_encoder, e_decoder).to(device)\n",
    "    load_mapped_state_dict(net, pretrain_image_auto_enc, 'EncNet.net.imgenc', 'encoder.net.enc')\n",
    "    return net\n",
    "\n",
    "def img_enc_env_dec_from_pretrained():\n",
    "    net = combined(img_encoder, env_decoder).to(device)\n",
    "    load_mapped_state_dict(net, pretrain_imgEncDec, 'EncNet.net.imgenc', 'encoder.net.enc')\n",
    "    load_mapped_state_dict(net, pretrain_envEncDec, 'DecNet.net.envdec_fc0', 'decoder.dec_fc1') # Hacky\n",
    "    return net\n",
    "\n",
    "def latent_policy_from_latent(latentReference, policy=None, fix_indices=[0]):\n",
    "    latent = copy.deepcopy(latentReference)\n",
    "    if not policy:\n",
    "        policy = Dense(layer_dims=[6, 16, 16, 3], last_act='tanh', prefix='pol')\n",
    "    configure_net_training(latent, False)\n",
    "    net = LatentPolicyNet(latent=latent, policy=policy).to(device)\n",
    "    return net\n",
    "\n",
    "def latent_policy_fixed_img_enc_pol_train_env_dec(latentFilter=None, policy=pretrain_policy, e_decoder=env_decoder, i_encoder=img_encoder):\n",
    "    latent = pretrained_img_enc_env_dec(i_encoder, e_decoder)\n",
    "    policy = copy.deepcopy(policy)\n",
    "    configure_net_training(policy, False)\n",
    "    configure_net_training(latent[0], False)\n",
    "    return LatentPolicyNet(latent=latent, policy=policy, latentFilter=latentFilter).to(device)\n",
    "\n",
    "def latentFilter_gt_x_latent_y(data, latent_output):\n",
    "    return torch.cat((Xt_scaled_adapter(data), latent_output[:, 2:]), dim=1)\n",
    "\n",
    "def image_to_env(conv, dense):\n",
    "    return combined(conv, dense)"
   ]
  },
  {
   "cell_type": "code",
   "execution_count": 17,
   "metadata": {},
   "outputs": [],
   "source": [
    "net = latent_policy_fixed_img_enc_pol_train_env_dec(i_encoder=img_encoder_5_32_5)"
   ]
  },
  {
   "cell_type": "code",
   "execution_count": 18,
   "metadata": {},
   "outputs": [],
   "source": [
    "r = verify_mapped_state_dict(net, pretrain_image_auto_enc, 'EncNet.net.imgenc', 'encoder.net.enc')\n",
    "if not r:\n",
    "    print ('Verificiation failed!')"
   ]
  },
  {
   "cell_type": "code",
   "execution_count": 19,
   "metadata": {},
   "outputs": [],
   "source": [
    "expts = [\n",
    "#   Fixed image encoder, policy, train decoder from encoder output to policy input\n",
    "    [{\n",
    "        \"expt_prefix\":'FixImageEncoderPolicy_TrainDecoder-Reacher-Conv5Dense4-L1',\n",
    "        \"net_func\": lambda: latent_policy_fixed_img_enc_pol_train_env_dec(i_encoder=img_encoder_5_32_5),\n",
    "        \"data_adapter_func\": simplereacheradapters.It_scaled_adapter,\n",
    "        \"data_to_label_adapter\": simplereacheradapters.Ut_scaled_adapter_zero_center,\n",
    "        \"loss_adapter_func\": l1_loss_adapter,\n",
    "     },\n",
    "    {\n",
    "    },\n",
    "    {\n",
    "        \"loss_adapter\": l1_loss_adapter\n",
    "    }],\n",
    "#   Train policy using fixed Image To Env function\n",
    "#     [{\n",
    "#         \"expt_prefix\":'FixImageToEnv_TrainFreshPolicy-Reacher-Conv4Dense3-MSE',\n",
    "#         \"net_func\": lambda: latent_policy_from_latent(pretrain_img_to_env),\n",
    "#         \"data_adapter_func\": simplereacheradapters.It_scaled_adapter,\n",
    "#         \"data_to_label_adapter\": simplereacheradapters.Ut_scaled_adapter_zero_center,\n",
    "#         \"loss_adapter_func\": mse_loss_adapter,\n",
    "#      },\n",
    "#     {\n",
    "#     },\n",
    "#     {\n",
    "#         \"loss_adapter\": l1_loss_adapter\n",
    "#     }],\n",
    "#   Image To Env function\n",
    "#     [{\n",
    "#         \"expt_prefix\":'ImageToEnv-Reacher-Conv4Dense3-MSE',\n",
    "#         \"net_func\": lambda: image_to_env(img_encoder, env_decoder),\n",
    "#         \"data_adapter_func\": simplereacheradapters.It_scaled_adapter,\n",
    "#         \"data_to_label_adapter\": simplereacheradapters.XtYt_scaled_adapter,\n",
    "#         \"loss_adapter_func\": mse_loss_adapter,\n",
    "#      },\n",
    "#     {\n",
    "#     },\n",
    "#     {\n",
    "#         \"loss_adapter\": l1_loss_adapter\n",
    "#     }],\n",
    "#   Policy\n",
    "#     [{\n",
    "#         \"expt_prefix\":'Policy-Reacher-Dense4WithTanh-L1',\n",
    "#         \"net_func\": lambda: Dense(layer_dims=[6, 16, 16, 3], last_act='tanh', prefix='pol'),\n",
    "#         \"data_adapter_func\": simplereacheradapters.XtYt_scaled_adapter,\n",
    "#         \"data_to_label_adapter\": simplereacheradapters.Ut_scaled_adapter_zero_center,\n",
    "#         \"loss_adapter_func\": l1_loss_adapter,\n",
    "#      },\n",
    "#     {\n",
    "#     },\n",
    "#     {\n",
    "#         \"loss_adapter\": l1_loss_adapter\n",
    "#     }],\n",
    "#     [{\n",
    "#         \"expt_prefix\":'Policy-Reacher-Dense4WithTanh-mse',\n",
    "#         \"net_func\": lambda: Dense(layer_dims=[6, 16, 16, 3], last_act='tanh', prefix='pol'),\n",
    "#         \"data_adapter_func\": simplereacheradapters.XtYt_scaled_adapter,\n",
    "#         \"data_to_label_adapter\": simplereacheradapters.Ut_scaled_adapter_zero_center,\n",
    "#         \"loss_adapter_func\": mse_loss_adapter,\n",
    "#      },\n",
    "#     {\n",
    "#     },\n",
    "#     {\n",
    "#         \"loss_adapter\": l1_loss_adapter\n",
    "#     }],\n",
    "#     [{\n",
    "#         \"expt_prefix\":'Policy-Reacher-Dense4WithSigmoid-L1',\n",
    "#         \"net_func\": lambda: Dense(layer_dims=[6, 16, 16, 3], last_act='sigmoid', prefix='pol'),\n",
    "#         \"data_adapter_func\": simplereacheradapters.XtYt_scaled_adapter,\n",
    "#         \"data_to_label_adapter\": simplereacheradapters.Ut_scaled_adapter,\n",
    "#         \"loss_adapter_func\": l1_loss_adapter,\n",
    "#      },\n",
    "#     {\n",
    "#     },\n",
    "#     {\n",
    "#         \"loss_adapter\": l1_loss_adapter\n",
    "#     }],\n",
    "#   Image autoencoder\n",
    "#     [{\n",
    "#         \"expt_prefix\":'ImageAutoEncoder-Reacher-ComposedAutoEncoder4-MSE',\n",
    "#         \"net_func\": img_auto_encoder,\n",
    "#         \"data_adapter_func\": simplereacheradapters.It_scaled_adapter,\n",
    "#         \"loss_adapter_func\": mse_loss_adapter,\n",
    "#      },\n",
    "#     {\n",
    "#     },\n",
    "#     {\n",
    "#         \"loss_adapter\": l1_loss_adapter\n",
    "#     }],\n",
    "#     [{\n",
    "#         \"expt_prefix\":'ImageAutoEncoder-Reacher-ComposedAutoEncoder4-L1',\n",
    "#         \"net_func\": img_auto_encoder,\n",
    "#         \"data_adapter_func\": simplereacheradapters.It_scaled_adapter,\n",
    "#         \"loss_adapter_func\": l1_loss_adapter,\n",
    "#      },\n",
    "#     {\n",
    "#     },\n",
    "#     {\n",
    "#         \"loss_adapter\": l1_loss_adapter\n",
    "#     }],\n",
    "#     [{\n",
    "#         \"expt_prefix\":'ImageAutoEncoder-Reacher-ComposedAutoEncoder_5_16_7-L1',\n",
    "#         \"net_func\": img_auto_encoder_5_16_7,\n",
    "#         \"data_adapter_func\": simplereacheradapters.It_scaled_adapter,\n",
    "#         \"loss_adapter_func\": l1_loss_adapter,\n",
    "#      },\n",
    "#     {\n",
    "#     },\n",
    "#     {\n",
    "#         \"loss_adapter\": l1_loss_adapter\n",
    "#     }],\n",
    "#     [{\n",
    "#         \"expt_prefix\":'ImageAutoEncoder-Reacher-ComposedAutoEncoder_5_32_7-L1',\n",
    "#         \"net_func\": img_auto_encoder_5_32_7,\n",
    "#         \"data_adapter_func\": simplereacheradapters.It_scaled_adapter,\n",
    "#         \"loss_adapter_func\": l1_loss_adapter,\n",
    "#      },\n",
    "#     {\n",
    "#     },\n",
    "#     {\n",
    "#         \"loss_adapter\": l1_loss_adapter\n",
    "#     }],\n",
    "#     [{\n",
    "#         \"expt_prefix\":'ImageAutoEncoder-Reacher-ComposedAutoEncoder_5_16_5-L1',\n",
    "#         \"net_func\": img_auto_encoder_5_16_5,\n",
    "#         \"data_adapter_func\": simplereacheradapters.It_scaled_adapter,\n",
    "#         \"loss_adapter_func\": l1_loss_adapter,\n",
    "#      },\n",
    "#     {\n",
    "#     },\n",
    "#     {\n",
    "#         \"loss_adapter\": l1_loss_adapter\n",
    "#     }],\n",
    "#     [{\n",
    "#         \"expt_prefix\":'ImageAutoEncoder-Reacher-ComposedAutoEncoder_5_32_5-L1',\n",
    "#         \"net_func\": img_auto_encoder_5_32_5,\n",
    "#         \"data_adapter_func\": simplereacheradapters.It_scaled_adapter,\n",
    "#         \"loss_adapter_func\": l1_loss_adapter,\n",
    "#      },\n",
    "#     {\n",
    "#     },\n",
    "#     {\n",
    "#         \"loss_adapter\": l1_loss_adapter\n",
    "#     }],\n",
    "]"
   ]
  },
  {
   "cell_type": "code",
   "execution_count": null,
   "metadata": {},
   "outputs": [
    {
     "name": "stdout",
     "output_type": "stream",
     "text": [
      "Experiment logs folder: runs/08-19-20-24-49-FixImageEncoderPolicy_TrainDecoder-Reacher-Conv5Dense4-L1\n"
     ]
    }
   ],
   "source": [
    "train_epochs = 100\n",
    "run_expts(train_epochs)"
   ]
  },
  {
   "cell_type": "code",
   "execution_count": 21,
   "metadata": {},
   "outputs": [
    {
     "name": "stdout",
     "output_type": "stream",
     "text": [
      "Done with checkpoint file runs/08-19-20-24-49-FixImageEncoderPolicy_TrainDecoder-Reacher-Conv5Dense4-L1/train_checkpoint.tar\n",
      "Time Taken: 102.84824466705322 sec\n"
     ]
    }
   ],
   "source": [
    "start = time.time()\n",
    "\n",
    "for chkpt_file in utils.enumerate_files(rootdir='runs/08-19-20-24-49-FixImageEncoderPolicy_TrainDecoder-Reacher-Conv5Dense4-L1'):\n",
    "    e = ExptEvaluator(chkpt_file, train_data, test_data, device)\n",
    "    e.test()\n",
    "    print ('Done with checkpoint file {}'.format(chkpt_file))\n",
    "\n",
    "print (\"Time Taken: {} sec\".format(time.time() - start))"
   ]
  },
  {
   "cell_type": "code",
   "execution_count": 68,
   "metadata": {},
   "outputs": [],
   "source": [
    "def save_sample(ip_batch, op_batch, filePath):\n",
    "    cmap = plt.get_cmap('gray')\n",
    "    ip_batch = ip_batch.cpu()\n",
    "    op_batch = op_batch.cpu()\n",
    "    fig = plt.figure()\n",
    "    ax = plt.subplot(1, 2, 1)\n",
    "    plt.imshow(ip_batch.reshape(256, 256), cmap=cmap, vmin=0, vmax=1)\n",
    "    ax.title.set_text('Original')\n",
    "    ax.set_yticklabels([])\n",
    "    ax.set_xticklabels([])\n",
    "    ax = plt.subplot(1, 2, 2)\n",
    "    ax.set_yticklabels([])\n",
    "    ax.set_xticklabels([])\n",
    "    plt.imshow(op_batch.reshape(256, 256), cmap=cmap, vmin=0, vmax=1)\n",
    "    ax.title.set_text('Recontructed')\n",
    "    fig.savefig(filePath)\n",
    "    plt.close()"
   ]
  },
  {
   "cell_type": "code",
   "execution_count": 69,
   "metadata": {},
   "outputs": [
    {
     "name": "stdout",
     "output_type": "stream",
     "text": [
      "Time Taken: 2.773077964782715 sec\n"
     ]
    }
   ],
   "source": [
    "start = time.time()\n",
    "\n",
    "for chkpt_file in utils.enumerate_files(rootdir='runs/08-13/run2-img-auto-encoder/'):\n",
    "    chkpt = torch.load(chkpt_file, map_location=device)\n",
    "    net = chkpt['model']\n",
    "    data_adapter_func = chkpt['input_adapter']\n",
    "    # data_to_label_adapter = chkpt['label_adapter']\n",
    "    log_folder = os.path.dirname(chkpt_file)\n",
    "    for dataset, setName in zip([train_data, test_data], ['training_set', 'test_set']):\n",
    "        for crit in ['good', 'bad']:\n",
    "            with open(os.path.join(log_folder, '{}_{}_samples.txt'.format(setName, crit)), 'r') as f:\n",
    "                while True:\n",
    "                    line = f.readline()\n",
    "                    if len(line) == 0:\n",
    "                        break\n",
    "                    idx = int(line)\n",
    "                    ip_batch = data_adapter_func(dataset[idx])\n",
    "                    with torch.no_grad():\n",
    "                        op_batch = net(ip_batch)\n",
    "                        save_sample(ip_batch, op_batch, os.path.join(log_folder, '{}_{}_{}.png'.format(setName, crit, idx)))\n",
    "\n",
    "print (\"Time Taken: {} sec\".format(time.time() - start))"
   ]
  },
  {
   "cell_type": "code",
   "execution_count": 23,
   "metadata": {},
   "outputs": [
    {
     "data": {
      "text/plain": [
       "device(type='cpu')"
      ]
     },
     "execution_count": 23,
     "metadata": {},
     "output_type": "execute_result"
    }
   ],
   "source": [
    "cpu = torch.device('cpu')\n",
    "cpu"
   ]
  },
  {
   "cell_type": "code",
   "execution_count": 24,
   "metadata": {},
   "outputs": [
    {
     "name": "stdout",
     "output_type": "stream",
     "text": [
      "Time Taken: 0.00010228157043457031 sec\n"
     ]
    }
   ],
   "source": [
    "start = time.time()\n",
    "train_traj_data = SimpleReacherTrajectoryDataset(root_folder, range(500), device=cpu) #only a subset of training_data\n",
    "test_traj_data = SimpleReacherTrajectoryDataset(root_folder, range(4750, 5000), device=cpu)\n",
    "print (\"Time Taken: {} sec\".format(time.time() - start))"
   ]
  },
  {
   "cell_type": "code",
   "execution_count": 58,
   "metadata": {},
   "outputs": [],
   "source": [
    "pretrained_net = nn.Sequential(OrderedDict([\n",
    "                      ('ItoY', pretrain_img_to_env),\n",
    "                      ('pol', pretrain_policy),\n",
    "                    ])).to(cpu)\n",
    "pretrained_net = pretrained_net.eval()"
   ]
  },
  {
   "cell_type": "code",
   "execution_count": 25,
   "metadata": {},
   "outputs": [
    {
     "name": "stdout",
     "output_type": "stream",
     "text": [
      "Start processing checkpoint file runs/08-19-20-24-49-FixImageEncoderPolicy_TrainDecoder-Reacher-Conv5Dense4-L1/train_checkpoint.tar\n",
      "-------------------------------------------------------------\n",
      "runs/08-19-20-24-49-FixImageEncoderPolicy_TrainDecoder-Reacher-Conv5Dense4-L1\n",
      "-------------------------------------------------------------\n",
      "Number of Trajectories Ended up Within Goal Region (Goal Loss <= 0.009999999776482582): 0.0\n",
      "Average Policy L1 Loss: 0.047874096781015396\n",
      "Average Trajectory Loss: 0.4601467549800873\n",
      "Average Goal Loss: 0.9688474535942078\n",
      "Average Combined State Loss: 0.23222993314266205\n",
      "\n",
      "Least Policy L1 Error: Index = 67, Value = 0.03337201848626137\n",
      "Least Trajectory Error: Index = 38, Value = 0.06545984745025635\n",
      "Least Goal Error: Index = 38, Value = 0.12528112530708313\n",
      "\n",
      "Highest Policy L1 Error: Index = 195, Value = 0.06092376634478569\n",
      "Highest Trajectory Error: Index = 97, Value = 0.9188792705535889\n",
      "Highest Goal Error: Index = 97, Value = 1.8536933660507202\n",
      "-------------------------------------------------------------\n",
      "runs/08-19-20-24-49-FixImageEncoderPolicy_TrainDecoder-Reacher-Conv5Dense4-L1\n",
      "-------------------------------------------------------------\n",
      "Number of Trajectories Ended up Within Goal Region (Goal Loss <= 0.009999999776482582): 0.0\n",
      "Average Policy L1 Loss: 0.04820629954338074\n",
      "Average Trajectory Loss: 0.4632360339164734\n",
      "Average Goal Loss: 0.9749404788017273\n",
      "Average Combined State Loss: 0.23377485573291779\n",
      "\n",
      "Least Policy L1 Error: Index = 67, Value = 0.03337201848626137\n",
      "Least Trajectory Error: Index = 335, Value = 0.06545254588127136\n",
      "Least Goal Error: Index = 38, Value = 0.12528112530708313\n",
      "\n",
      "Highest Policy L1 Error: Index = 372, Value = 0.06139926239848137\n",
      "Highest Trajectory Error: Index = 97, Value = 0.9188792705535889\n",
      "Highest Goal Error: Index = 97, Value = 1.8536933660507202\n",
      "\n",
      "Time Taken: 525.3436048030853 sec\n"
     ]
    }
   ],
   "source": [
    "start = time.time()\n",
    "\n",
    "for chkpt_file in utils.enumerate_files(rootdir='runs/08-19-20-24-49-FixImageEncoderPolicy_TrainDecoder-Reacher-Conv5Dense4-L1'):\n",
    "    print ('Start processing checkpoint file {}'.format(chkpt_file))\n",
    "    policy_takes_image=True # DO NOT FORGET TO SET THIS\n",
    "    e = evaluator(chkpt_file, cpu, policy_takes_image=policy_takes_image, persist_to_disk=True, \n",
    "                  op_reverse_adapter=simplereacheradapters.Ut_scaled_adapter_zero_center_reverse,\n",
    "                  ip_adapter=simplereacheradapters.It_scaled_adapter_eval)\n",
    "    e.evaluate(test_traj_data, target_folder='TestSet_Evaluations')\n",
    "    e.evaluate(train_traj_data, target_folder='SmallTrainSet_Evaluations')\n",
    "    print ('')\n",
    "\n",
    "print (\"Time Taken: {} sec\".format(time.time() - start))"
   ]
  },
  {
   "cell_type": "code",
   "execution_count": 48,
   "metadata": {},
   "outputs": [
    {
     "name": "stdout",
     "output_type": "stream",
     "text": [
      "Deleting folder : runs/08-13/run1-img-pol-tanh/08-13-10-45-12-FixImageEncoderPolicy_TrainDecoder-Reacher-Conv4Dense3-MSE/TestSet_Evaluations\n",
      "Deleting folder : runs/08-13/run1-img-pol-tanh/08-13-11-15-00-FixImageToEnv_TrainFreshPolicy-Reacher-Conv4Dense3-MSE/TestSet_Evaluations\n",
      "Time Taken: 0.003167867660522461 sec\n"
     ]
    }
   ],
   "source": [
    "# start = time.time()\n",
    "\n",
    "# for chkpt_file in utils.enumerate_files(rootdir='runs/08-13'):\n",
    "#     folder = os.path.join(os.path.dirname(chkpt_file), 'TestSet_Evaluations')\n",
    "#     if os.path.exists(folder):\n",
    "#         print ('Deleting folder : {}'.format(folder))\n",
    "#         shutil.rmtree(folder, ignore_errors=True)\n",
    "#     # os.rename(os.path.dirname(chkpt_file) + '/Evaluations', os.path.dirname(chkpt_file) + '/Old_Evaluations')\n",
    "\n",
    "# print (\"Time Taken: {} sec\".format(time.time() - start))"
   ]
  },
  {
   "cell_type": "code",
   "execution_count": 27,
   "metadata": {},
   "outputs": [
    {
     "name": "stdout",
     "output_type": "stream",
     "text": [
      "Total trajectories where there is goal deviation in ground truth : 229\n",
      "Maximum goal deviation in ground truth : 0.033625187543541234\n"
     ]
    }
   ],
   "source": [
    "traj_data = SimpleReacherTrajectoryDataset(root_folder, range(5000), device=cpu)\n",
    "count = 0\n",
    "max_dev = 0\n",
    "for tId in range(len(traj_data)):\n",
    "    last_row = traj_data[tId][states_key][-1, :]\n",
    "    goal_dev_gt = F.l1_loss(last_row[:3], last_row[3:6])\n",
    "    if goal_dev_gt > 0.01:\n",
    "        # print (goal_dev_gt)\n",
    "        max_dev = max(max_dev, goal_dev_gt)\n",
    "        count += 1\n",
    "print ('Total trajectories where there is goal deviation in ground truth : {}'.format(count))\n",
    "print ('Maximum goal deviation in ground truth : {}'.format(max_dev))"
   ]
  },
  {
   "cell_type": "code",
   "execution_count": 26,
   "metadata": {},
   "outputs": [],
   "source": [
    "def error_metrics_list(rootdir='runs/Policies', eval_folder_name='TestSet_Evaluations', error_index=5, include=None):\n",
    "    L = 0 if not include else len(include)\n",
    "    errors = [0.0] * L\n",
    "    run_names = [''] * L\n",
    "    for chkpt_file in utils.enumerate_files(rootdir):\n",
    "        run_folder = os.path.dirname(chkpt_file)\n",
    "        run_name = os.path.basename(run_folder)\n",
    "        if include is not None and run_name not in include:\n",
    "            continue\n",
    "        metrics = np.loadtxt(os.path.join(run_folder, eval_folder_name, 'trajectory_eval_metrics.csv'), delimiter=',', dtype=np.float32)\n",
    "        if include is not None:\n",
    "            idx = include.index(run_name)\n",
    "            errors[idx] = metrics[:, error_index]\n",
    "            run_names[idx] = run_name\n",
    "        else:\n",
    "            errors.append(metrics[:, error_index])\n",
    "            run_names.append(run_name)\n",
    "    return run_names, errors\n",
    "        \n",
    "def box_plot_across_runs(rootdir='runs/Policies', error_index=4, metric_name='Goal Deviation', include=None):\n",
    "    run_names, errors = error_metrics_list(rootdir=rootdir, error_index=error_index, include=include)\n",
    "    plt.figure()\n",
    "    plt.boxplot(errors)\n",
    "    plt.show()\n",
    "    plt.close()\n",
    "    print ('From left to right:')\n",
    "    for n in run_names:\n",
    "        print (n)\n",
    "\n",
    "def error_interval_counts(low, high, num, errors):\n",
    "    x = np.linspace(low, high, num)\n",
    "    y = np.zeros(len(x))\n",
    "    for i in range(0, len(x)-1):\n",
    "        y[i] = np.count_nonzero(np.logical_and(np.less_equal(x[i], errors), np.less(errors, x[i+1])))\n",
    "    y[-1] = np.count_nonzero(errors >= x[-1])\n",
    "    assert sum(y) == len(errors)\n",
    "    return x, y\n",
    "\n",
    "def save_all_plots(rootdir, eval_folder_name):\n",
    "    error_indices = {2:'PolicyError', 3:'TrajectoryError', 4:'GoalDeviation', 5:'CombinedStateLoss'}\n",
    "    high_values = {2:0.05, 3:0.2, 4:0.2, 5:0.1}\n",
    "    for chkpt_file in utils.enumerate_files(rootdir):\n",
    "        run_folder = os.path.dirname(chkpt_file)\n",
    "        print ('Processing folder : {}'.format(run_folder))\n",
    "        metrics = np.loadtxt(os.path.join(run_folder, eval_folder_name, 'trajectory_eval_metrics.csv'), delimiter=',', dtype=np.float32)\n",
    "        for error_index, error_name in error_indices.items():\n",
    "            fig = plt.figure()\n",
    "            plt.boxplot(metrics[:, error_index])\n",
    "            plt.ylabel(error_name)\n",
    "            fig.savefig(os.path.join(run_folder, eval_folder_name, 'BoxPlot_' + error_name + '.png'))\n",
    "            plt.close()\n",
    "            \n",
    "            fig = plt.figure()\n",
    "            plt.bar(range(len(metrics)), np.sort(metrics[:, error_index]))\n",
    "            plt.ylabel(error_name)\n",
    "            fig.savefig(os.path.join(run_folder, eval_folder_name, 'SortedErrors_BarPlot_' + error_name + '.png'))\n",
    "            plt.close()\n",
    "\n",
    "            low, high, num = 0.0, high_values[error_index], 20\n",
    "            x, y = error_interval_counts(low, high, num, metrics[:, error_index])\n",
    "            fig = plt.figure()\n",
    "            plt.bar(x, y, align='edge', width=(high-low)/num)\n",
    "            plt.ylabel('Count of trajectories')\n",
    "            plt.xlabel(error_name + 'Range')\n",
    "            fig.savefig(os.path.join(run_folder, eval_folder_name, 'TrajectoryCounts_BarPlot_' + error_name + '.png'))\n",
    "            plt.close()\n",
    "            \n",
    "            percentiles = np.percentile(metrics[:, error_index], [50, 95, 99], axis=0)\n",
    "            np.savetxt(os.path.join(run_folder, eval_folder_name, 'Percentiles_' + error_name + '.csv'), percentiles, fmt='%2.5f', delimiter=',')\n",
    "    print ('Done')"
   ]
  },
  {
   "cell_type": "code",
   "execution_count": 35,
   "metadata": {},
   "outputs": [
    {
     "data": {
      "image/png": "[encoded data removed]",
      "text/plain": [
       "<Figure size 432x288 with 1 Axes>"
      ]
     },
     "metadata": {
      "needs_background": "light"
     },
     "output_type": "display_data"
    },
    {
     "name": "stdout",
     "output_type": "stream",
     "text": [
      "From left to right:\n",
      "08-11-15-10-38-Policy-Reacher-Dense4WithTanh-L1\n",
      "08-11-15-45-41-Policy-Reacher-Dense4WithTanh-mse\n",
      "08-13-10-45-12-FixImageEncoderPolicy_TrainDecoder-Reacher-Conv4Dense3-MSE\n",
      "08-13-11-15-00-FixImageToEnv_TrainFreshPolicy-Reacher-Conv4Dense3-MSE\n",
      "08-14-08-54-19-FixImageEncoderPolicy_TrainDecoder-Reacher-Conv5Dense3-MSE\n",
      "08-17-11-09-51-Policy-Reacher-Dense4WithTanh-mse\n",
      "08-17-14-49-24-Policy-Reacher-Dense4WithSigmoid-L1\n",
      "08-19-13-32-36-Policy-Reacher-Dense4WithTanh-L1\n",
      "08-19-20-24-49-FixImageEncoderPolicy_TrainDecoder-Reacher-Conv5Dense4-L1\n"
     ]
    }
   ],
   "source": [
    "box_plot_across_runs()"
   ]
  },
  {
   "cell_type": "code",
   "execution_count": 36,
   "metadata": {},
   "outputs": [
    {
     "data": {
      "image/png": "[encoded data removed]",
      "text/plain": [
       "<Figure size 432x288 with 1 Axes>"
      ]
     },
     "metadata": {
      "needs_background": "light"
     },
     "output_type": "display_data"
    },
    {
     "name": "stdout",
     "output_type": "stream",
     "text": [
      "From left to right:\n",
      "08-11-15-10-38-Policy-Reacher-Dense4WithTanh-L1\n",
      "08-11-15-45-41-Policy-Reacher-Dense4WithTanh-mse\n",
      "08-17-11-09-51-Policy-Reacher-Dense4WithTanh-mse\n",
      "08-17-14-49-24-Policy-Reacher-Dense4WithSigmoid-L1\n"
     ]
    }
   ],
   "source": [
    "box_plot_across_runs(include=['08-11-15-10-38-Policy-Reacher-Dense4WithTanh-L1', \n",
    "                              '08-11-15-45-41-Policy-Reacher-Dense4WithTanh-mse',\n",
    "                              '08-17-11-09-51-Policy-Reacher-Dense4WithTanh-mse',\n",
    "                              '08-17-14-49-24-Policy-Reacher-Dense4WithSigmoid-L1'\n",
    "                             ])"
   ]
  },
  {
   "cell_type": "code",
   "execution_count": 37,
   "metadata": {},
   "outputs": [
    {
     "data": {
      "image/png": "[encoded data removed]",
      "text/plain": [
       "<Figure size 432x288 with 1 Axes>"
      ]
     },
     "metadata": {
      "needs_background": "light"
     },
     "output_type": "display_data"
    },
    {
     "name": "stdout",
     "output_type": "stream",
     "text": [
      "From left to right:\n",
      "08-11-15-10-38-Policy-Reacher-Dense4WithTanh-L1\n",
      "08-11-15-45-41-Policy-Reacher-Dense4WithTanh-mse\n",
      "08-17-11-09-51-Policy-Reacher-Dense4WithTanh-mse\n",
      "08-19-13-32-36-Policy-Reacher-Dense4WithTanh-L1\n"
     ]
    }
   ],
   "source": [
    "box_plot_across_runs(include=['08-11-15-10-38-Policy-Reacher-Dense4WithTanh-L1', \n",
    "                              '08-11-15-45-41-Policy-Reacher-Dense4WithTanh-mse',\n",
    "                              '08-17-11-09-51-Policy-Reacher-Dense4WithTanh-mse',\n",
    "                              '08-19-13-32-36-Policy-Reacher-Dense4WithTanh-L1'\n",
    "                             ])"
   ]
  },
  {
   "cell_type": "code",
   "execution_count": 38,
   "metadata": {},
   "outputs": [
    {
     "data": {
      "image/png": "[encoded data removed]",
      "text/plain": [
       "<Figure size 432x288 with 1 Axes>"
      ]
     },
     "metadata": {
      "needs_background": "light"
     },
     "output_type": "display_data"
    },
    {
     "name": "stdout",
     "output_type": "stream",
     "text": [
      "From left to right:\n",
      "08-13-10-45-12-FixImageEncoderPolicy_TrainDecoder-Reacher-Conv4Dense3-MSE\n",
      "08-14-08-54-19-FixImageEncoderPolicy_TrainDecoder-Reacher-Conv5Dense3-MSE\n",
      "08-19-20-24-49-FixImageEncoderPolicy_TrainDecoder-Reacher-Conv5Dense4-L1\n"
     ]
    }
   ],
   "source": [
    "box_plot_across_runs(include=['08-13-10-45-12-FixImageEncoderPolicy_TrainDecoder-Reacher-Conv4Dense3-MSE',\n",
    "                              '08-14-08-54-19-FixImageEncoderPolicy_TrainDecoder-Reacher-Conv5Dense3-MSE',\n",
    "                              '08-19-20-24-49-FixImageEncoderPolicy_TrainDecoder-Reacher-Conv5Dense4-L1'\n",
    "                             ])"
   ]
  },
  {
   "cell_type": "code",
   "execution_count": 49,
   "metadata": {},
   "outputs": [
    {
     "data": {
      "image/png": "[encoded data removed]",
      "text/plain": [
       "<Figure size 432x288 with 1 Axes>"
      ]
     },
     "metadata": {
      "needs_background": "light"
     },
     "output_type": "display_data"
    },
    {
     "name": "stdout",
     "output_type": "stream",
     "text": [
      "From left to right:\n",
      "08-19-13-32-36-Policy-Reacher-Dense4WithTanh-L1\n",
      "08-13-11-15-00-FixImageToEnv_TrainFreshPolicy-Reacher-Conv4Dense3-MSE\n",
      "08-14-08-54-19-FixImageEncoderPolicy_TrainDecoder-Reacher-Conv4Dense3-MSE\n"
     ]
    }
   ],
   "source": [
    "box_plot_across_runs(include=['08-19-13-32-36-Policy-Reacher-Dense4WithTanh-L1',\n",
    "                              '08-13-11-15-00-FixImageToEnv_TrainFreshPolicy-Reacher-Conv4Dense3-MSE',\n",
    "                              '08-14-08-54-19-FixImageEncoderPolicy_TrainDecoder-Reacher-Conv4Dense3-MSE'\n",
    "                             ])"
   ]
  },
  {
   "cell_type": "code",
   "execution_count": 50,
   "metadata": {},
   "outputs": [
    {
     "data": {
      "image/png": "[encoded data removed]",
      "text/plain": [
       "<Figure size 432x288 with 1 Axes>"
      ]
     },
     "metadata": {
      "needs_background": "light"
     },
     "output_type": "display_data"
    },
    {
     "name": "stdout",
     "output_type": "stream",
     "text": [
      "From left to right:\n",
      "08-19-13-32-36-Policy-Reacher-Dense4WithTanh-L1\n",
      "08-13-11-15-00-FixImageToEnv_TrainFreshPolicy-Reacher-Conv4Dense3-MSE\n"
     ]
    }
   ],
   "source": [
    "box_plot_across_runs(include=['08-19-13-32-36-Policy-Reacher-Dense4WithTanh-L1',\n",
    "                              '08-13-11-15-00-FixImageToEnv_TrainFreshPolicy-Reacher-Conv4Dense3-MSE',\n",
    "                             ])"
   ]
  },
  {
   "cell_type": "code",
   "execution_count": 51,
   "metadata": {},
   "outputs": [
    {
     "data": {
      "image/png": "[encoded data removed]",
      "text/plain": [
       "<Figure size 432x288 with 1 Axes>"
      ]
     },
     "metadata": {
      "needs_background": "light"
     },
     "output_type": "display_data"
    },
    {
     "name": "stdout",
     "output_type": "stream",
     "text": [
      "From left to right:\n",
      "08-19-13-32-36-Policy-Reacher-Dense4WithTanh-L1\n",
      "08-14-08-54-19-FixImageEncoderPolicy_TrainDecoder-Reacher-Conv4Dense3-MSE\n"
     ]
    }
   ],
   "source": [
    "box_plot_across_runs(include=['08-19-13-32-36-Policy-Reacher-Dense4WithTanh-L1',\n",
    "                              '08-14-08-54-19-FixImageEncoderPolicy_TrainDecoder-Reacher-Conv4Dense3-MSE',\n",
    "                             ])"
   ]
  },
  {
   "cell_type": "code",
   "execution_count": 32,
   "metadata": {},
   "outputs": [
    {
     "name": "stdout",
     "output_type": "stream",
     "text": [
      "Processing folder : runs/Policies/08-19/08-19-20-24-49-FixImageEncoderPolicy_TrainDecoder-Reacher-Conv5Dense4-L1\n",
      "Done\n"
     ]
    }
   ],
   "source": [
    "save_all_plots(rootdir='runs/Policies/08-19/08-19-20-24-49-FixImageEncoderPolicy_TrainDecoder-Reacher-Conv5Dense4-L1', eval_folder_name='TestSet_Evaluations')"
   ]
  },
  {
   "cell_type": "code",
   "execution_count": 33,
   "metadata": {},
   "outputs": [
    {
     "name": "stdout",
     "output_type": "stream",
     "text": [
      "Processing folder : runs/Policies/08-19/08-19-20-24-49-FixImageEncoderPolicy_TrainDecoder-Reacher-Conv5Dense4-L1\n",
      "Done\n"
     ]
    }
   ],
   "source": [
    "save_all_plots(rootdir='runs/Policies/08-19/08-19-20-24-49-FixImageEncoderPolicy_TrainDecoder-Reacher-Conv5Dense4-L1', eval_folder_name='SmallTrainSet_Evaluations')"
   ]
  },
  {
   "cell_type": "code",
   "execution_count": null,
   "metadata": {},
   "outputs": [],
   "source": []
  }
 ],
 "metadata": {
  "kernelspec": {
   "display_name": "Python 3",
   "language": "python",
   "name": "python3"
  },
  "language_info": {
   "codemirror_mode": {
    "name": "ipython",
    "version": 3
   },
   "file_extension": ".py",
   "mimetype": "text/x-python",
   "name": "python",
   "nbconvert_exporter": "python",
   "pygments_lexer": "ipython3",
   "version": "3.6.9"
  }
 },
 "nbformat": 4,
 "nbformat_minor": 4
}
