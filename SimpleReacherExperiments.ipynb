{
 "cells": [
  {
   "cell_type": "code",
   "execution_count": 1,
   "metadata": {},
   "outputs": [],
   "source": [
    "%load_ext autoreload\n",
    "%autoreload 2"
   ]
  },
  {
   "cell_type": "code",
   "execution_count": 2,
   "metadata": {},
   "outputs": [],
   "source": [
    "import numpy as np\n",
    "import matplotlib.pyplot as plt\n",
    "import time\n",
    "import os\n",
    "import glob\n",
    "import pprint\n",
    "import copy\n",
    "\n",
    "import torch\n",
    "import torch.nn as nn\n",
    "import torch.nn.functional as F\n",
    "from torch.utils.data import DataLoader\n",
    "import torch.optim as optim\n",
    "from collections import OrderedDict\n",
    "\n",
    "from dataset import *\n",
    "from runner import ExptRunner\n",
    "from networks.imageencoder import *\n",
    "from networks.imagedecoder import *\n",
    "from networks.DenseAutoEncoder import DenseAutoEncoder\n",
    "from networks.composedautoencoder import ComposedAutoEncoder\n",
    "from networks.ConvVae import ConvVae\n",
    "from networks.vae import VAE\n",
    "from networks.dense import *\n",
    "from networks.lossfunctions import *\n",
    "from networks.multinet import *\n",
    "from networks.special import *\n",
    "from helpers import *\n",
    "import utils\n",
    "import simplereacherdimensions\n",
    "import simplereacheradapters\n",
    "from env.simulator import simulator, evaluator"
   ]
  },
  {
   "cell_type": "code",
   "execution_count": 3,
   "metadata": {},
   "outputs": [],
   "source": [
    "import warnings\n",
    "warnings.filterwarnings(\"ignore\", category=torch.serialization.SourceChangeWarning)"
   ]
  },
  {
   "cell_type": "code",
   "execution_count": 4,
   "metadata": {},
   "outputs": [],
   "source": [
    "opt = np.get_printoptions()\n",
    "np.set_printoptions(threshold=np.inf)"
   ]
  },
  {
   "cell_type": "code",
   "execution_count": 5,
   "metadata": {},
   "outputs": [
    {
     "name": "stdout",
     "output_type": "stream",
     "text": [
      "cpu\n"
     ]
    }
   ],
   "source": [
    "device = torch.device(\"cuda:2\" if torch.cuda.is_available() else \"cpu\")\n",
    "print (device)"
   ]
  },
  {
   "cell_type": "code",
   "execution_count": 6,
   "metadata": {},
   "outputs": [],
   "source": [
    "if torch.cuda.is_available():\n",
    "    print (torch.cuda.current_device())\n",
    "    torch.cuda.set_device(device)\n",
    "    print (torch.cuda.current_device())"
   ]
  },
  {
   "cell_type": "code",
   "execution_count": 7,
   "metadata": {},
   "outputs": [],
   "source": [
    "root_folder = 'data/simple_reacher/training'\n",
    "# number_of_trajectories = 10\n",
    "number_of_trajectories = 5000"
   ]
  },
  {
   "cell_type": "code",
   "execution_count": 8,
   "metadata": {},
   "outputs": [
    {
     "name": "stdout",
     "output_type": "stream",
     "text": [
      "Time Taken: 0.8644099235534668 sec\n"
     ]
    }
   ],
   "source": [
    "start = time.time()\n",
    "train_data = SimpleReacherOnDemandDataset(root_folder, range(475), device=device)\n",
    "test_data = SimpleReacherOnDemandDataset(root_folder, range(475, 500), device=device)\n",
    "print (\"Time Taken: {} sec\".format(time.time() - start))"
   ]
  },
  {
   "cell_type": "code",
   "execution_count": 9,
   "metadata": {},
   "outputs": [
    {
     "name": "stdout",
     "output_type": "stream",
     "text": [
      "10000\n",
      "459\n"
     ]
    }
   ],
   "source": [
    "print (len(train_data))\n",
    "print (len(test_data))"
   ]
  },
  {
   "cell_type": "code",
   "execution_count": 10,
   "metadata": {},
   "outputs": [],
   "source": [
    "def run_expts(train_epochs):\n",
    "    for i in range(len(expts)):\n",
    "        arg_lists = expts[i]\n",
    "        cons_args = arg_lists[0]\n",
    "        train_args = {}\n",
    "        if (len(arg_lists)) > 1:\n",
    "            train_args = arg_lists[1]\n",
    "        test_args = {}\n",
    "        if (len(arg_lists)) > 2:\n",
    "            test_args = arg_lists[2]\n",
    "        \n",
    "        runner = ExptRunner(train_data=train_data, test_data=test_data, device=device, **cons_args)\n",
    "        print (\"Experiment logs folder: {}\".format(runner.log_folder))\n",
    "        with open(runner.log_folder + '/expt.txt', 'w') as f:\n",
    "            f.write(pprint.pformat(arg_lists))\n",
    "        runner.train(train_epochs, **train_args)\n",
    "        runner.test(**test_args)"
   ]
  },
  {
   "cell_type": "code",
   "execution_count": 11,
   "metadata": {},
   "outputs": [],
   "source": [
    "expts = [\n",
    "    [{\n",
    "        \"expt_prefix\":'ImageAutoEncoder-Reacher-ComposedAutoEncoder-MSE',\n",
    "        \"net_func\": lambda: ComposedAutoEncoder(x_dim=3, z_dim=4096, img_res=256,layers_channels=[16,16,16,16], useMaxPool=True, device=device),\n",
    "        \"data_adapter_func\": simplereacheradapters.It_scaled_adapter,\n",
    "        \"loss_adapter_func\": mse_loss_adapter,\n",
    "     },\n",
    "    {\n",
    "    },\n",
    "    {\n",
    "        \"loss_adapter\": l1_loss_adapter\n",
    "    }],\n",
    "]"
   ]
  },
  {
   "cell_type": "code",
   "execution_count": null,
   "metadata": {},
   "outputs": [
    {
     "name": "stdout",
     "output_type": "stream",
     "text": [
      "Experiment logs folder: runs/07-18-14-52-15-ImageAutoEncoder-Reacher-ComposedAutoEncoder-MSE\n"
     ]
    }
   ],
   "source": [
    "train_epochs = 2\n",
    "run_expts(train_epochs)"
   ]
  },
  {
   "cell_type": "code",
   "execution_count": 98,
   "metadata": {},
   "outputs": [
    {
     "data": {
      "text/plain": [
       "Dense(\n",
       "  (net): Sequential(\n",
       "    (pol_fc0): Linear(in_features=6, out_features=32, bias=True)\n",
       "    (pol_relu0): ReLU()\n",
       "    (pol_fc1): Linear(in_features=32, out_features=32, bias=True)\n",
       "    (pol_relu1): ReLU()\n",
       "    (pol_fc2): Linear(in_features=32, out_features=3, bias=True)\n",
       "    (pol_sig2): Sigmoid()\n",
       "  )\n",
       ")"
      ]
     },
     "execution_count": 98,
     "metadata": {},
     "output_type": "execute_result"
    }
   ],
   "source": [
    "testchkpt = torch.load('runs/07-20/run2/07-20-21-21-05-Policy-Reacher-Dense-MSE/train_checkpoint.tar', map_location=device)\n",
    "testNet = testchkpt['model']\n",
    "testNet.eval()"
   ]
  },
  {
   "cell_type": "code",
   "execution_count": 90,
   "metadata": {},
   "outputs": [],
   "source": [
    "class AdapterNet(nn.Module):\n",
    "    def __init__(self, testNet, ip_adapter=None, op_adapter=None):\n",
    "        super().__init__()\n",
    "        self.testNet = testNet\n",
    "        self.ip_adapter = ip_adapter if ip_adapter else lambda x:x\n",
    "        self.op_adapter = op_adapter if op_adapter else lambda x:x\n",
    "        \n",
    "    def forward(self, data):\n",
    "        ip = self.ip_adapter(data)\n",
    "        op = self.testNet(ip)\n",
    "        return self.op_adapter(op)"
   ]
  },
  {
   "cell_type": "code",
   "execution_count": 91,
   "metadata": {},
   "outputs": [],
   "source": [
    "t475 = test_data.trajectory_data[test_data.trajectory_index[:, 0] == 475, :]"
   ]
  },
  {
   "cell_type": "code",
   "execution_count": 92,
   "metadata": {},
   "outputs": [
    {
     "data": {
      "text/plain": [
       "torch.Size([19, 9])"
      ]
     },
     "execution_count": 92,
     "metadata": {},
     "output_type": "execute_result"
    }
   ],
   "source": [
    "t475.shape"
   ]
  },
  {
   "cell_type": "code",
   "execution_count": 99,
   "metadata": {},
   "outputs": [],
   "source": [
    "ip_adapter = lambda x:x.float()\n",
    "op_adapter = lambda x:((x * (2 * simplereacherdimensions.joint_max)) - (simplereacherdimensions.joint_max))\n",
    "ev = evaluator(AdapterNet(testNet, ip_adapter=ip_adapter, op_adapter=op_adapter))"
   ]
  },
  {
   "cell_type": "code",
   "execution_count": 100,
   "metadata": {},
   "outputs": [
    {
     "name": "stdout",
     "output_type": "stream",
     "text": [
      "Creating env\n"
     ]
    }
   ],
   "source": [
    "t475_output = ev.rollout(t475)"
   ]
  },
  {
   "cell_type": "code",
   "execution_count": 101,
   "metadata": {},
   "outputs": [
    {
     "data": {
      "text/plain": [
       "tensor([[2.0023, 0.4158, 1.8592, 0.9967, 1.1594, 2.5409],\n",
       "        [1.9043, 0.5139, 1.7611, 0.9996, 1.1593, 2.5384],\n",
       "        [1.8053, 0.5956, 1.6621, 1.0007, 1.1592, 2.5375],\n",
       "        [1.7063, 0.5854, 1.7592, 1.0011, 1.1592, 2.5371],\n",
       "        [1.6073, 0.6034, 1.8582, 1.0012, 1.1592, 2.5370],\n",
       "        [1.5083, 0.6397, 1.9572, 1.0013, 1.1592, 2.5369],\n",
       "        [1.4093, 0.7053, 2.0562, 1.0013, 1.1592, 2.5369],\n",
       "        [1.3102, 0.7835, 2.1552, 1.0013, 1.1592, 2.5369],\n",
       "        [1.2112, 0.8817, 2.2542, 1.0013, 1.1592, 2.5369],\n",
       "        [1.1122, 0.9807, 2.2044, 1.0013, 1.1592, 2.5369],\n",
       "        [1.0132, 1.0797, 2.2021, 1.0013, 1.1592, 2.5369],\n",
       "        [0.9142, 1.1061, 2.3001, 1.0013, 1.1592, 2.5369],\n",
       "        [0.8152, 1.0081, 2.3929, 1.0013, 1.1592, 2.5369],\n",
       "        [0.7162, 0.9091, 2.3035, 1.0013, 1.1592, 2.5369],\n",
       "        [0.6172, 0.8319, 2.2383, 1.0013, 1.1592, 2.5369],\n",
       "        [0.5182, 0.7456, 2.1949, 1.0013, 1.1592, 2.5369],\n",
       "        [0.4192, 0.6712, 2.1471, 1.0013, 1.1592, 2.5369],\n",
       "        [0.3202, 0.6230, 2.0908, 1.0013, 1.1592, 2.5369],\n",
       "        [0.2212, 0.5687, 2.0249, 1.0013, 1.1592, 2.5369]], dtype=torch.float64)"
      ]
     },
     "execution_count": 101,
     "metadata": {},
     "output_type": "execute_result"
    }
   ],
   "source": [
    "t475_output"
   ]
  },
  {
   "cell_type": "code",
   "execution_count": 96,
   "metadata": {},
   "outputs": [
    {
     "data": {
      "text/plain": [
       "tensor([[2.0023, 0.4158, 1.8592, 0.9967, 1.1594, 2.5409],\n",
       "        [1.9702, 0.3573, 1.9128, 0.9967, 1.1594, 2.5409],\n",
       "        [1.9658, 0.3536, 1.9160, 0.9967, 1.1594, 2.5409],\n",
       "        [1.9073, 0.4041, 1.9532, 0.9967, 1.1594, 2.5409],\n",
       "        [1.8453, 0.4557, 1.9929, 0.9967, 1.1594, 2.5409],\n",
       "        [1.7844, 0.5060, 2.0321, 0.9967, 1.1594, 2.5409],\n",
       "        [1.7239, 0.5562, 2.0713, 0.9967, 1.1594, 2.5409],\n",
       "        [1.6633, 0.6065, 2.1104, 0.9967, 1.1594, 2.5409],\n",
       "        [1.6027, 0.6567, 2.1495, 0.9967, 1.1594, 2.5409],\n",
       "        [1.5421, 0.7070, 2.1887, 0.9967, 1.1594, 2.5409],\n",
       "        [1.4815, 0.7573, 2.2278, 0.9967, 1.1594, 2.5409],\n",
       "        [1.4209, 0.8075, 2.2670, 0.9967, 1.1594, 2.5409],\n",
       "        [1.3603, 0.8578, 2.3061, 0.9967, 1.1594, 2.5409],\n",
       "        [1.2997, 0.9080, 2.3452, 0.9967, 1.1594, 2.5409],\n",
       "        [1.2391, 0.9583, 2.3844, 0.9967, 1.1594, 2.5409],\n",
       "        [1.1785, 1.0086, 2.4235, 0.9967, 1.1594, 2.5409],\n",
       "        [1.1179, 1.0588, 2.4627, 0.9967, 1.1594, 2.5409],\n",
       "        [1.0573, 1.1091, 2.5018, 0.9967, 1.1594, 2.5409],\n",
       "        [0.9967, 1.1594, 2.5409, 0.9967, 1.1594, 2.5409]], dtype=torch.float64)"
      ]
     },
     "execution_count": 96,
     "metadata": {},
     "output_type": "execute_result"
    }
   ],
   "source": [
    "t475[:, :6]"
   ]
  },
  {
   "cell_type": "code",
   "execution_count": 102,
   "metadata": {},
   "outputs": [
    {
     "name": "stdout",
     "output_type": "stream",
     "text": [
      "tensor(0.2655, dtype=torch.float64)\n",
      "tensor(0.6274, dtype=torch.float64)\n"
     ]
    }
   ],
   "source": [
    "print (F.l1_loss(t475[:, :3], t475_output[:, :3]))\n",
    "print (F.l1_loss(t475[-1:, :3], t475_output[-1:, :3]))"
   ]
  }
 ],
 "metadata": {
  "kernelspec": {
   "display_name": "demopl",
   "language": "python",
   "name": "demopl"
  },
  "language_info": {
   "codemirror_mode": {
    "name": "ipython",
    "version": 3
   },
   "file_extension": ".py",
   "mimetype": "text/x-python",
   "name": "python",
   "nbconvert_exporter": "python",
   "pygments_lexer": "ipython3",
   "version": "3.6.8"
  }
 },
 "nbformat": 4,
 "nbformat_minor": 4
}
