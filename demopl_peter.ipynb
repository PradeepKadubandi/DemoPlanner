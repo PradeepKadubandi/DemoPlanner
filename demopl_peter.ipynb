{
 "cells": [
  {
   "cell_type": "code",
   "execution_count": 40,
   "metadata": {
    "pycharm": {
     "is_executing": false
    }
   },
   "outputs": [
    {
     "name": "stdout",
     "output_type": "stream",
     "text": [
      "The autoreload extension is already loaded. To reload it, use:\n",
      "  %reload_ext autoreload\n"
     ]
    }
   ],
   "source": [
    "%load_ext autoreload\n",
    "%autoreload 2"
   ]
  },
  {
   "cell_type": "code",
   "execution_count": 41,
   "metadata": {
    "pycharm": {
     "is_executing": false
    }
   },
   "outputs": [],
   "source": [
    "from networks.autoencoder import AutoEncoder\n",
    "from networks.composedautoencoder import ComposedAutoEncoder\n",
    "from dataset import NumpyCsvDataSet\n",
    "\n",
    "import torch\n",
    "import torch.nn.functional as F\n",
    "from torch.utils.data import DataLoader\n",
    "import torch.optim as optim\n",
    "from torch.utils.tensorboard import SummaryWriter\n",
    "\n",
    "import numpy as np\n",
    "import matplotlib.pyplot as plt\n",
    "import time\n",
    "import os\n",
    "from io import StringIO"
   ]
  },
  {
   "cell_type": "code",
   "execution_count": 42,
   "metadata": {
    "pycharm": {
     "is_executing": false
    }
   },
   "outputs": [],
   "source": [
    "opt = np.get_printoptions()\n",
    "np.set_printoptions(threshold=np.inf)"
   ]
  },
  {
   "cell_type": "code",
   "execution_count": 43,
   "metadata": {
    "pycharm": {
     "is_executing": false
    }
   },
   "outputs": [],
   "source": [
    "data_folder = 'data/demoplanner/version1'\n",
    "train_data = NumpyCsvDataSet(data_folder + '/train.csv')\n",
    "test_data = NumpyCsvDataSet(data_folder + '/test.csv')\n",
    "train_data = train_data.data/255.\n",
    "test_data = test_data.data/255.\n",
    "\n",
    "training_loader = DataLoader(train_data, batch_size=50, shuffle=True)\n",
    "test_loader = DataLoader(test_data, batch_size=3, shuffle=True)"
   ]
  },
  {
   "cell_type": "code",
   "execution_count": 44,
   "metadata": {
    "pycharm": {
     "is_executing": false
    }
   },
   "outputs": [
    {
     "name": "stdout",
     "output_type": "stream",
     "text": [
      "torch.Size([13280, 2058])\n",
      "torch.Size([1341, 2058])\n"
     ]
    }
   ],
   "source": [
    "print (train_data.data.shape)\n",
    "print (test_data.data.shape)"
   ]
  },
  {
   "cell_type": "code",
   "execution_count": 45,
   "metadata": {
    "pycharm": {
     "is_executing": false
    }
   },
   "outputs": [],
   "source": [
    "x_dim = 2\n",
    "img_res = 32\n",
    "img_size = img_res * img_res"
   ]
  },
  {
   "cell_type": "code",
   "execution_count": 46,
   "metadata": {
    "pycharm": {
     "is_executing": false
    }
   },
   "outputs": [
    {
     "name": "stdout",
     "output_type": "stream",
     "text": [
      "Don't know how to reset  autoencoder, please run `%reset?` for details\n",
      "Don't know how to reset  composedautoencoder, please run `%reset?` for details\n",
      "Don't know how to reset  net, please run `%reset?` for details\n"
     ]
    }
   ],
   "source": [
    "%reset -f AutoEncoder\n",
    "%reset -f ComposedAutoEncoder\n",
    "%reset -f net"
   ]
  },
  {
   "cell_type": "code",
   "execution_count": 47,
   "metadata": {
    "pycharm": {
     "is_executing": false
    }
   },
   "outputs": [
    {
     "name": "stdout",
     "output_type": "stream",
     "text": [
      "autoencoder(\n",
      "  (encoder): Sequential(\n",
      "    (0): Conv2d(1, 16, kernel_size=(3, 3), stride=(1, 1), padding=(1, 1))\n",
      "    (1): ReLU(inplace=True)\n",
      "    (2): MaxPool2d(kernel_size=2, stride=2, padding=0, dilation=1, ceil_mode=False)\n",
      "    (3): Conv2d(16, 16, kernel_size=(3, 3), stride=(1, 1), padding=(1, 1))\n",
      "    (4): ReLU(inplace=True)\n",
      "    (5): MaxPool2d(kernel_size=2, stride=2, padding=0, dilation=1, ceil_mode=False)\n",
      "    (6): Conv2d(16, 16, kernel_size=(3, 3), stride=(1, 1), padding=(1, 1))\n",
      "    (7): ReLU(inplace=True)\n",
      "    (8): MaxPool2d(kernel_size=2, stride=2, padding=0, dilation=1, ceil_mode=False)\n",
      "  )\n",
      "  (decoder): Sequential(\n",
      "    (0): ConvTranspose2d(16, 16, kernel_size=(3, 3), stride=(2, 2), padding=(1, 1), output_padding=(1, 1))\n",
      "    (1): ReLU(inplace=True)\n",
      "    (2): ConvTranspose2d(16, 16, kernel_size=(3, 3), stride=(2, 2), padding=(1, 1), output_padding=(1, 1))\n",
      "    (3): ReLU(inplace=True)\n",
      "    (4): ConvTranspose2d(16, 1, kernel_size=(3, 3), stride=(2, 2), padding=(1, 1), output_padding=(1, 1))\n",
      "  )\n",
      ")\n",
      "encoder.0.weight 16\n",
      "encoder.0.bias 16\n",
      "encoder.3.weight 16\n",
      "encoder.3.bias 16\n",
      "encoder.6.weight 16\n",
      "encoder.6.bias 16\n",
      "decoder.0.weight 16\n",
      "decoder.0.bias 16\n",
      "decoder.2.weight 16\n",
      "decoder.2.bias 16\n",
      "decoder.4.weight 16\n",
      "decoder.4.bias 1\n"
     ]
    }
   ],
   "source": [
    "class autoencoder(torch.torch.nn.Module):\n",
    "    def __init__(self):\n",
    "        super(autoencoder, self).__init__()\n",
    "        self.encoder = torch.nn.Sequential(\n",
    "            torch.nn.Conv2d(in_channels=1, out_channels=16, kernel_size=3, stride=1, padding=1), #bias=False\n",
    "            torch.nn.ReLU(True),\n",
    "            torch.nn.MaxPool2d(2, stride=2),\n",
    "            torch.nn.Conv2d(16, 16, kernel_size=3, stride=1, padding=1),\n",
    "            torch.nn.ReLU(True),\n",
    "            torch.nn.MaxPool2d(2, stride=2),\n",
    "            torch.nn.Conv2d(16, 16, kernel_size=3, stride=1, padding=1),\n",
    "            torch.nn.ReLU(True),\n",
    "            torch.nn.MaxPool2d(2, stride=2),\n",
    "        )\n",
    "        self.decoder = torch.nn.Sequential(\n",
    "            torch.nn.ConvTranspose2d(16, 16, kernel_size=3, stride=2, padding=1, output_padding=1),\n",
    "            torch.nn.ReLU(True),\n",
    "            torch.nn.ConvTranspose2d(16, 16, kernel_size=3, stride=2, padding=1, output_padding=1),\n",
    "            torch.nn.ReLU(True),\n",
    "            torch.nn.ConvTranspose2d(16, 1, kernel_size=3, stride=2, padding=1, output_padding=1),\n",
    "        )\n",
    "\n",
    "    def forward(self, x):\n",
    "        x = self.encoder(x)\n",
    "        x = self.decoder(x)\n",
    "        return x\n",
    "net = autoencoder()\n",
    "\n",
    "print(net)\n",
    "\n",
    "for name, param in net.named_parameters():\n",
    "    if param.requires_grad:\n",
    "        print(name, len(param.data))\n"
   ]
  },
  {
   "cell_type": "code",
   "execution_count": null,
   "metadata": {
    "pycharm": {
     "is_executing": false,
     "name": "#%%\n"
    },
    "scrolled": true
   },
   "outputs": [
    {
     "data": {
      "image/png": "[encoded data removed]",
      "text/plain": [
       "<Figure size 432x288 with 1 Axes>"
      ]
     },
     "metadata": {
      "needs_background": "light"
     },
     "output_type": "display_data"
    },
    {
     "name": "stdout",
     "output_type": "stream",
     "text": [
      "---------------------------------------\n",
      "Iteration 0\n",
      "MAE on train set 0.015200335532426834\n",
      "MAE on test set 0.015357334166765213\n"
     ]
    },
    {
     "data": {
      "image/png": "[encoded data removed]",
      "text/plain": [
       "<Figure size 432x288 with 1 Axes>"
      ]
     },
     "metadata": {
      "needs_background": "light"
     },
     "output_type": "display_data"
    },
    {
     "name": "stdout",
     "output_type": "stream",
     "text": [
      "---------------------------------------\n",
      "Iteration 100\n",
      "MAE on train set 0.004006269387900829\n",
      "MAE on test set 0.004177029710263014\n"
     ]
    },
    {
     "data": {
      "image/png": "[encoded data removed]",
      "text/plain": [
       "<Figure size 432x288 with 1 Axes>"
      ]
     },
     "metadata": {
      "needs_background": "light"
     },
     "output_type": "display_data"
    },
    {
     "name": "stdout",
     "output_type": "stream",
     "text": [
      "---------------------------------------\n",
      "Iteration 200\n",
      "MAE on train set 0.003038001013919711\n",
      "MAE on test set 0.0031402281019836664\n"
     ]
    },
    {
     "data": {
      "image/png": "[encoded data removed]",
      "text/plain": [
       "<Figure size 432x288 with 1 Axes>"
      ]
     },
     "metadata": {
      "needs_background": "light"
     },
     "output_type": "display_data"
    },
    {
     "name": "stdout",
     "output_type": "stream",
     "text": [
      "---------------------------------------\n",
      "Iteration 300\n",
      "MAE on train set 0.0025810336228460073\n",
      "MAE on test set 0.0026742115151137114\n"
     ]
    },
    {
     "data": {
      "image/png": "[encoded data removed]",
      "text/plain": [
       "<Figure size 432x288 with 1 Axes>"
      ]
     },
     "metadata": {
      "needs_background": "light"
     },
     "output_type": "display_data"
    },
    {
     "name": "stdout",
     "output_type": "stream",
     "text": [
      "---------------------------------------\n",
      "Iteration 400\n",
      "MAE on train set 0.0021990486420691013\n",
      "MAE on test set 0.0022985555697232485\n"
     ]
    },
    {
     "data": {
      "image/png": "[encoded data removed]",
      "text/plain": [
       "<Figure size 432x288 with 1 Axes>"
      ]
     },
     "metadata": {
      "needs_background": "light"
     },
     "output_type": "display_data"
    },
    {
     "name": "stdout",
     "output_type": "stream",
     "text": [
      "---------------------------------------\n",
      "Iteration 500\n",
      "MAE on train set 0.001897707348689437\n",
      "MAE on test set 0.001989443553611636\n"
     ]
    },
    {
     "data": {
      "image/png": "[encoded data removed]",
      "text/plain": [
       "<Figure size 432x288 with 1 Axes>"
      ]
     },
     "metadata": {
      "needs_background": "light"
     },
     "output_type": "display_data"
    },
    {
     "name": "stdout",
     "output_type": "stream",
     "text": [
      "---------------------------------------\n",
      "Iteration 600\n",
      "MAE on train set 0.0016720903804525733\n",
      "MAE on test set 0.001752357347868383\n"
     ]
    },
    {
     "data": {
      "image/png": "[encoded data removed]",
      "text/plain": [
       "<Figure size 432x288 with 1 Axes>"
      ]
     },
     "metadata": {
      "needs_background": "light"
     },
     "output_type": "display_data"
    },
    {
     "name": "stdout",
     "output_type": "stream",
     "text": [
      "---------------------------------------\n",
      "Iteration 700\n",
      "MAE on train set 0.0014784522354602814\n",
      "MAE on test set 0.0015550958923995495\n"
     ]
    },
    {
     "data": {
      "image/png": "[encoded data removed]",
      "text/plain": [
       "<Figure size 432x288 with 1 Axes>"
      ]
     },
     "metadata": {
      "needs_background": "light"
     },
     "output_type": "display_data"
    },
    {
     "name": "stdout",
     "output_type": "stream",
     "text": [
      "---------------------------------------\n",
      "Iteration 800\n",
      "MAE on train set 0.0013292034855112433\n",
      "MAE on test set 0.0014024629490450025\n"
     ]
    },
    {
     "data": {
      "image/png": "[encoded data removed]",
      "text/plain": [
       "<Figure size 432x288 with 1 Axes>"
      ]
     },
     "metadata": {
      "needs_background": "light"
     },
     "output_type": "display_data"
    },
    {
     "name": "stdout",
     "output_type": "stream",
     "text": [
      "---------------------------------------\n",
      "Iteration 900\n",
      "MAE on train set 0.0012086040806025267\n",
      "MAE on test set 0.0012848058249801397\n"
     ]
    },
    {
     "data": {
      "image/png": "[encoded data removed]",
      "text/plain": [
       "<Figure size 432x288 with 1 Axes>"
      ]
     },
     "metadata": {
      "needs_background": "light"
     },
     "output_type": "display_data"
    },
    {
     "name": "stdout",
     "output_type": "stream",
     "text": [
      "---------------------------------------\n",
      "Iteration 1000\n",
      "MAE on train set 0.001111093908548355\n",
      "MAE on test set 0.0011774363229051232\n"
     ]
    },
    {
     "data": {
      "image/png": "[encoded data removed]",
      "text/plain": [
       "<Figure size 432x288 with 1 Axes>"
      ]
     },
     "metadata": {
      "needs_background": "light"
     },
     "output_type": "display_data"
    },
    {
     "name": "stdout",
     "output_type": "stream",
     "text": [
      "---------------------------------------\n",
      "Iteration 1100\n",
      "MAE on train set 0.0010425973450765014\n",
      "MAE on test set 0.0011117204558104277\n"
     ]
    },
    {
     "data": {
      "image/png": "[encoded data removed]",
      "text/plain": [
       "<Figure size 432x288 with 1 Axes>"
      ]
     },
     "metadata": {
      "needs_background": "light"
     },
     "output_type": "display_data"
    },
    {
     "name": "stdout",
     "output_type": "stream",
     "text": [
      "---------------------------------------\n",
      "Iteration 1200\n",
      "MAE on train set 0.0009857343975454569\n",
      "MAE on test set 0.001049153390340507\n"
     ]
    },
    {
     "data": {
      "image/png": "[encoded data removed]",
      "text/plain": [
       "<Figure size 432x288 with 1 Axes>"
      ]
     },
     "metadata": {
      "needs_background": "light"
     },
     "output_type": "display_data"
    },
    {
     "name": "stdout",
     "output_type": "stream",
     "text": [
      "---------------------------------------\n",
      "Iteration 1300\n",
      "MAE on train set 0.0009330035536549985\n",
      "MAE on test set 0.0009945817291736603\n"
     ]
    },
    {
     "data": {
      "image/png": "[encoded data removed]",
      "text/plain": [
       "<Figure size 432x288 with 1 Axes>"
      ]
     },
     "metadata": {
      "needs_background": "light"
     },
     "output_type": "display_data"
    },
    {
     "name": "stdout",
     "output_type": "stream",
     "text": [
      "---------------------------------------\n",
      "Iteration 1400\n",
      "MAE on train set 0.0009027214837260544\n",
      "MAE on test set 0.0009625286911614239\n"
     ]
    },
    {
     "data": {
      "image/png": "[encoded data removed]",
      "text/plain": [
       "<Figure size 432x288 with 1 Axes>"
      ]
     },
     "metadata": {
      "needs_background": "light"
     },
     "output_type": "display_data"
    },
    {
     "name": "stdout",
     "output_type": "stream",
     "text": [
      "---------------------------------------\n",
      "Iteration 1500\n",
      "MAE on train set 0.0008732273709028959\n",
      "MAE on test set 0.0009266426786780357\n"
     ]
    },
    {
     "data": {
      "image/png": "[encoded data removed]",
      "text/plain": [
       "<Figure size 432x288 with 1 Axes>"
      ]
     },
     "metadata": {
      "needs_background": "light"
     },
     "output_type": "display_data"
    },
    {
     "name": "stdout",
     "output_type": "stream",
     "text": [
      "---------------------------------------\n",
      "Iteration 1600\n",
      "MAE on train set 0.0008336393511854112\n",
      "MAE on test set 0.0008831212762743235\n"
     ]
    },
    {
     "data": {
      "image/png": "[encoded data removed]",
      "text/plain": [
       "<Figure size 432x288 with 1 Axes>"
      ]
     },
     "metadata": {
      "needs_background": "light"
     },
     "output_type": "display_data"
    },
    {
     "name": "stdout",
     "output_type": "stream",
     "text": [
      "---------------------------------------\n",
      "Iteration 1700\n",
      "MAE on train set 0.000807317323051393\n",
      "MAE on test set 0.0008580471039749682\n"
     ]
    },
    {
     "data": {
      "image/png": "[encoded data removed]",
      "text/plain": [
       "<Figure size 432x288 with 1 Axes>"
      ]
     },
     "metadata": {
      "needs_background": "light"
     },
     "output_type": "display_data"
    },
    {
     "name": "stdout",
     "output_type": "stream",
     "text": [
      "---------------------------------------\n",
      "Iteration 1800\n",
      "MAE on train set 0.0007823036285117269\n",
      "MAE on test set 0.0008319363696500659\n"
     ]
    },
    {
     "data": {
      "image/png": "[encoded data removed]",
      "text/plain": [
       "<Figure size 432x288 with 1 Axes>"
      ]
     },
     "metadata": {
      "needs_background": "light"
     },
     "output_type": "display_data"
    },
    {
     "name": "stdout",
     "output_type": "stream",
     "text": [
      "---------------------------------------\n",
      "Iteration 1900\n",
      "MAE on train set 0.0007658684626221657\n",
      "MAE on test set 0.0008167329942807555\n"
     ]
    },
    {
     "data": {
      "image/png": "[encoded data removed]",
      "text/plain": [
       "<Figure size 432x288 with 1 Axes>"
      ]
     },
     "metadata": {
      "needs_background": "light"
     },
     "output_type": "display_data"
    },
    {
     "name": "stdout",
     "output_type": "stream",
     "text": [
      "---------------------------------------\n",
      "Iteration 2000\n",
      "MAE on train set 0.0007469519041478634\n",
      "MAE on test set 0.0007909784326329827\n"
     ]
    },
    {
     "data": {
      "image/png": "[encoded data removed]",
      "text/plain": [
       "<Figure size 432x288 with 1 Axes>"
      ]
     },
     "metadata": {
      "needs_background": "light"
     },
     "output_type": "display_data"
    },
    {
     "name": "stdout",
     "output_type": "stream",
     "text": [
      "---------------------------------------\n",
      "Iteration 2100\n",
      "MAE on train set 0.000721065909601748\n",
      "MAE on test set 0.0007688463083468378\n"
     ]
    },
    {
     "data": {
      "image/png": "[encoded data removed]",
      "text/plain": [
       "<Figure size 432x288 with 1 Axes>"
      ]
     },
     "metadata": {
      "needs_background": "light"
     },
     "output_type": "display_data"
    },
    {
     "name": "stdout",
     "output_type": "stream",
     "text": [
      "---------------------------------------\n",
      "Iteration 2200\n",
      "MAE on train set 0.0007068173144944012\n",
      "MAE on test set 0.0007542315870523453\n"
     ]
    },
    {
     "data": {
      "image/png": "[encoded data removed]",
      "text/plain": [
       "<Figure size 432x288 with 1 Axes>"
      ]
     },
     "metadata": {
      "needs_background": "light"
     },
     "output_type": "display_data"
    },
    {
     "name": "stdout",
     "output_type": "stream",
     "text": [
      "---------------------------------------\n",
      "Iteration 2300\n",
      "MAE on train set 0.0006911277305334806\n",
      "MAE on test set 0.0007389293168671429\n"
     ]
    },
    {
     "data": {
      "image/png": "[encoded data removed]",
      "text/plain": [
       "<Figure size 432x288 with 1 Axes>"
      ]
     },
     "metadata": {
      "needs_background": "light"
     },
     "output_type": "display_data"
    },
    {
     "name": "stdout",
     "output_type": "stream",
     "text": [
      "---------------------------------------\n",
      "Iteration 2400\n",
      "MAE on train set 0.000671745277941227\n",
      "MAE on test set 0.0007185190916061401\n"
     ]
    },
    {
     "data": {
      "image/png": "[encoded data removed]",
      "text/plain": [
       "<Figure size 432x288 with 1 Axes>"
      ]
     },
     "metadata": {
      "needs_background": "light"
     },
     "output_type": "display_data"
    },
    {
     "name": "stdout",
     "output_type": "stream",
     "text": [
      "---------------------------------------\n",
      "Iteration 2500\n",
      "MAE on train set 0.0006656484329141676\n",
      "MAE on test set 0.0007123186951503158\n"
     ]
    },
    {
     "data": {
      "image/png": "[encoded data removed]",
      "text/plain": [
       "<Figure size 432x288 with 1 Axes>"
      ]
     },
     "metadata": {
      "needs_background": "light"
     },
     "output_type": "display_data"
    },
    {
     "name": "stdout",
     "output_type": "stream",
     "text": [
      "---------------------------------------\n",
      "Iteration 2600\n",
      "MAE on train set 0.000651977607049048\n",
      "MAE on test set 0.0006964371423237026\n"
     ]
    },
    {
     "data": {
      "image/png": "[encoded data removed]",
      "text/plain": [
       "<Figure size 432x288 with 1 Axes>"
      ]
     },
     "metadata": {
      "needs_background": "light"
     },
     "output_type": "display_data"
    },
    {
     "name": "stdout",
     "output_type": "stream",
     "text": [
      "---------------------------------------\n",
      "Iteration 2700\n",
      "MAE on train set 0.0006397289107553661\n",
      "MAE on test set 0.0006876775296404958\n"
     ]
    },
    {
     "data": {
      "image/png": "[encoded data removed]",
      "text/plain": [
       "<Figure size 432x288 with 1 Axes>"
      ]
     },
     "metadata": {
      "needs_background": "light"
     },
     "output_type": "display_data"
    },
    {
     "name": "stdout",
     "output_type": "stream",
     "text": [
      "---------------------------------------\n",
      "Iteration 2800\n",
      "MAE on train set 0.0006267181597650051\n",
      "MAE on test set 0.0006738146767020226\n"
     ]
    },
    {
     "data": {
      "image/png": "[encoded data removed]",
      "text/plain": [
       "<Figure size 432x288 with 1 Axes>"
      ]
     },
     "metadata": {
      "needs_background": "light"
     },
     "output_type": "display_data"
    },
    {
     "name": "stdout",
     "output_type": "stream",
     "text": [
      "---------------------------------------\n",
      "Iteration 2900\n",
      "MAE on train set 0.0006222673109732568\n",
      "MAE on test set 0.0006674720789305866\n"
     ]
    },
    {
     "data": {
      "image/png": "[encoded data removed]",
      "text/plain": [
       "<Figure size 432x288 with 1 Axes>"
      ]
     },
     "metadata": {
      "needs_background": "light"
     },
     "output_type": "display_data"
    },
    {
     "name": "stdout",
     "output_type": "stream",
     "text": [
      "---------------------------------------\n",
      "Iteration 3000\n",
      "MAE on train set 0.0006112753180786967\n",
      "MAE on test set 0.0006596455350518227\n"
     ]
    },
    {
     "data": {
      "image/png": "[encoded data removed]",
      "text/plain": [
       "<Figure size 432x288 with 1 Axes>"
      ]
     },
     "metadata": {
      "needs_background": "light"
     },
     "output_type": "display_data"
    },
    {
     "name": "stdout",
     "output_type": "stream",
     "text": [
      "---------------------------------------\n",
      "Iteration 3100\n",
      "MAE on train set 0.0005968685727566481\n",
      "MAE on test set 0.0006451393128372729\n"
     ]
    }
   ],
   "source": [
    "num_iterations = 10000\n",
    "batch_size = 200\n",
    "eval_freq = 100\n",
    "\n",
    "criterion = torch.nn.SmoothL1Loss()\n",
    "optimizer = torch.optim.Adam(net.parameters())\n",
    "for i in range(num_iterations):\n",
    "    net.zero_grad()\n",
    "    optimizer.zero_grad()\n",
    "\n",
    "    ind = np.random.randint(0, train_data.data.shape[0], size=batch_size)\n",
    "    input = torch.FloatTensor(train_data.data[ind, 2:1026].float())\n",
    "    input = torch.reshape(input, [-1, 1, 32, 32])\n",
    "    output = net(input)\n",
    "\n",
    "    loss = criterion(input=output, target=input)\n",
    "    loss.backward()\n",
    "    optimizer.step()\n",
    "\n",
    "    if i % eval_freq == 0:\n",
    "        input = torch.FloatTensor(train_data.data[:, 2:1026].float())\n",
    "        input = torch.reshape(input, [-1, 1, 32, 32])\n",
    "        output = net(input)\n",
    "        # train_mae = torch.mean(torch.abs(input-output), dim=0)\n",
    "        train_error = criterion(input=output, target=input)\n",
    "\n",
    "        input = torch.FloatTensor(test_data.data[:, 2:1026].float())\n",
    "        input = torch.reshape(input, [-1, 1, 32, 32])\n",
    "        output = net(input)\n",
    "        test_error = criterion(input=output, target=input)\n",
    "\n",
    "        plt.imshow(output.data[0, 0, :, :], cmap=plt.get_cmap(\"gray\"), vmin=0, vmax=1)\n",
    "        plt.show()\n",
    "\n",
    "        print(\"---------------------------------------\")\n",
    "        print(f\"Iteration {i}\")\n",
    "        # print(f\"MAE on train set {train_mae}\")\n",
    "        print(f\"MAE on train set {train_error}\")\n",
    "        # print(f\"MAE on test set {test_mae}\")\n",
    "        print(f\"MAE on test set {test_error}\")"
   ]
  },
  {
   "cell_type": "code",
   "execution_count": null,
   "metadata": {},
   "outputs": [],
   "source": [
    "input = torch.FloatTensor(test_data.data[:, 2:1026].float())\n",
    "input = torch.reshape(input, [-1, 1, 32, 32])\n",
    "output = net(input)\n",
    "for i in range(5):\n",
    "    print('datapoint', str(i), 'test error', criterion(input=input.data[i, 0, :, :], target=output.data[i, 0, :, :]))\n",
    "    plt.imshow(input.data[i, 0, :, :], cmap=plt.get_cmap(\"gray\"), vmin=0, vmax=1)\n",
    "    plt.show()\n",
    "    plt.imshow(output.data[i, 0, :, :], cmap=plt.get_cmap(\"gray\"), vmin=0, vmax=1)\n",
    "    plt.show()"
   ]
  },
  {
   "cell_type": "code",
   "execution_count": null,
   "metadata": {},
   "outputs": [],
   "source": [
    "input = torch.FloatTensor(train_data.data[:, 2:1026].float())\n",
    "input = torch.reshape(input, [-1, 1, 32, 32])\n",
    "output = net(input)\n",
    "for i in range(5):\n",
    "    print('datapoint', str(i), 'train error', criterion(input=input.data[i, 0, :, :], target=output.data[i, 0, :, :]))\n",
    "    plt.imshow(input.data[i, 0, :, :], cmap=plt.get_cmap(\"gray\"), vmin=0, vmax=1)\n",
    "    plt.show()\n",
    "    plt.imshow(output.data[i, 0, :, :], cmap=plt.get_cmap(\"gray\"), vmin=0, vmax=1)\n",
    "    plt.show()"
   ]
  },
  {
   "cell_type": "code",
   "execution_count": null,
   "metadata": {},
   "outputs": [],
   "source": []
  }
 ],
 "metadata": {
  "kernelspec": {
   "display_name": "Python 3",
   "language": "python",
   "name": "python3"
  },
  "language_info": {
   "codemirror_mode": {
    "name": "ipython",
    "version": 3
   },
   "file_extension": ".py",
   "mimetype": "text/x-python",
   "name": "python",
   "nbconvert_exporter": "python",
   "pygments_lexer": "ipython3",
   "version": "3.7.6"
  },
  "pycharm": {
   "stem_cell": {
    "cell_type": "raw",
    "metadata": {
     "collapsed": false
    },
    "source": []
   }
  }
 },
 "nbformat": 4,
 "nbformat_minor": 4
}
