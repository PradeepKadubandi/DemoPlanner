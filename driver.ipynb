{
 "cells": [
  {
   "cell_type": "code",
   "execution_count": 1,
   "metadata": {},
   "outputs": [],
   "source": [
    "%load_ext autoreload\n",
    "%autoreload 2"
   ]
  },
  {
   "cell_type": "code",
   "execution_count": 17,
   "metadata": {},
   "outputs": [],
   "source": [
    "import numpy as np\n",
    "import matplotlib.pyplot as plt\n",
    "import time\n",
    "import os\n",
    "import glob\n",
    "\n",
    "import torch\n",
    "import torch.nn as nn\n",
    "import torch.nn.functional as F\n",
    "from torch.utils.data import DataLoader\n",
    "\n",
    "from adapters import *\n",
    "from dataset import NumpyCsvDataSet\n",
    "from runner import ExptRunner\n",
    "from networks.autoencoder import AutoEncoder\n",
    "from networks.composedautoencoder import ComposedAutoEncoder\n",
    "from networks.DenseAutoEncoder import DenseAutoEncoder\n",
    "from networks.ConvVae import ConvVae\n",
    "from networks.vae import VAE\n",
    "from networks.etpr.autoencoder import autoencoder as etprautoenc\n",
    "from networks.dense import Dense\n",
    "from networks.dense import DenseForPolicy\n",
    "from networks.lossfunctions import *\n",
    "from helpers import ReportResults\n",
    "import utils"
   ]
  },
  {
   "cell_type": "code",
   "execution_count": 3,
   "metadata": {},
   "outputs": [],
   "source": [
    "opt = np.get_printoptions()\n",
    "np.set_printoptions(threshold=np.inf)"
   ]
  },
  {
   "cell_type": "code",
   "execution_count": 4,
   "metadata": {},
   "outputs": [
    {
     "name": "stdout",
     "output_type": "stream",
     "text": [
      "cpu\n"
     ]
    }
   ],
   "source": [
    "device = torch.device(\"cuda:2\" if torch.cuda.is_available() else \"cpu\")\n",
    "print (device)"
   ]
  },
  {
   "cell_type": "code",
   "execution_count": 5,
   "metadata": {},
   "outputs": [
    {
     "name": "stdout",
     "output_type": "stream",
     "text": [
      "Time Taken: 28.037065029144287 sec\n"
     ]
    }
   ],
   "source": [
    "start = time.time()\n",
    "data_folder = 'data/demoplanner/version1'\n",
    "v1_train_data = NumpyCsvDataSet(data_folder + '/train.csv', device=device)\n",
    "v1_test_data = NumpyCsvDataSet(data_folder + '/test.csv', device=device)\n",
    "print (\"Time Taken: {} sec\".format(time.time() - start))"
   ]
  },
  {
   "cell_type": "code",
   "execution_count": 19,
   "metadata": {},
   "outputs": [
    {
     "name": "stdout",
     "output_type": "stream",
     "text": [
      "Time Taken: 301.2297029495239 sec\n"
     ]
    }
   ],
   "source": [
    "start = time.time()\n",
    "data_folder = 'data/demoplanner/version2'\n",
    "v2_train_data = NumpyCsvDataSet(data_folder + '/train.csv', device=device)\n",
    "v2_test_data = NumpyCsvDataSet(data_folder + '/test.csv', device=device)\n",
    "print (\"Time Taken: {} sec\".format(time.time() - start))"
   ]
  },
  {
   "cell_type": "code",
   "execution_count": 6,
   "metadata": {},
   "outputs": [],
   "source": [
    "train_data = v1_train_data\n",
    "test_data = v1_test_data"
   ]
  },
  {
   "cell_type": "code",
   "execution_count": 7,
   "metadata": {},
   "outputs": [
    {
     "name": "stdout",
     "output_type": "stream",
     "text": [
      "torch.Size([13280, 2058])\n",
      "torch.Size([1341, 2058])\n",
      "cpu\n",
      "cpu\n",
      "torch.float32\n",
      "torch.float32\n"
     ]
    }
   ],
   "source": [
    "print (train_data.data.shape)\n",
    "print (test_data.data.shape)\n",
    "\n",
    "print (train_data.data.device)\n",
    "print (test_data.data.device)\n",
    "\n",
    "print (train_data.data.dtype)\n",
    "print (test_data.data.dtype)"
   ]
  },
  {
   "cell_type": "code",
   "execution_count": 8,
   "metadata": {},
   "outputs": [],
   "source": [
    "expts = [\n",
    "    ['DynamicsX-V1-Dense-MSE', lambda: Dense([4, 16, 1], last_act = 'tanh'), dynamics_input_adapter, mse_loss_adapter, dynamics_grad_gt_X_unscaled, None],\n",
    "]"
   ]
  },
  {
   "cell_type": "code",
   "execution_count": 10,
   "metadata": {},
   "outputs": [
    {
     "name": "stdout",
     "output_type": "stream",
     "text": [
      "Log folder for expt 0: runs/04-10-17-48-38-DynamicsX-V1-Dense-MSE\n"
     ]
    }
   ],
   "source": [
    "train_epochs = 5\n",
    "runners = []\n",
    "for i in range(len(expts)):\n",
    "    inputs = expts[i]\n",
    "    net = inputs[1]()\n",
    "    net = net.to(device)\n",
    "    runner = ExptRunner(inputs[0], net, train_data, test_data, \n",
    "                        inputs[2], inputs[3], inputs[4], data_to_img_func=inputs[5], device=device)\n",
    "    print (\"Log folder for expt {}: {}\".format(i, runner.log_folder))\n",
    "    runner.train(train_epochs, shouldShowReconstruction=False)\n",
    "    runner.test()\n",
    "    runners.append(runner)"
   ]
  },
  {
   "cell_type": "code",
   "execution_count": 11,
   "metadata": {},
   "outputs": [],
   "source": [
    "def build_reporter(checkpoint_file, useL1Loss=False):\n",
    "    rr = ReportResults(test_data.data, train_data.data, device,\n",
    "                       checkpoint_file, useL1Loss)\n",
    "    return rr"
   ]
  },
  {
   "cell_type": "code",
   "execution_count": 18,
   "metadata": {},
   "outputs": [],
   "source": [
    "for checkpoint_file in utils.enumerate_files():\n",
    "    rr = build_reporter(checkpoint_file)\n",
    "    print ('--------------------------------------------------------------')\n",
    "    print (checkpoint_file)\n",
    "    print ('--------------------------------------------------------------')\n",
    "    rr.eval_test_samples()"
   ]
  },
  {
   "cell_type": "code",
   "execution_count": 19,
   "metadata": {},
   "outputs": [
    {
     "name": "stdout",
     "output_type": "stream",
     "text": [
      "Time,Goal,DataSet,Network,Loss(Training),TestLoss,TrainLoss\n"
     ]
    }
   ],
   "source": [
    "print('Time,Goal,DataSet,Network,Loss(Training),TestLoss,TrainLoss')\n",
    "for checkpoint_file in utils.enumerate_files():\n",
    "    rr = build_reporter(checkpoint_file)\n",
    "    rr.eval_test_samples()"
   ]
  },
  {
   "cell_type": "code",
   "execution_count": 31,
   "metadata": {},
   "outputs": [
    {
     "name": "stdout",
     "output_type": "stream",
     "text": [
      "Time,Goal,DataSet,Network,Loss(Training),TestLoss,TrainLoss\n",
      "04:07:17:58:07,Policy,V1,Dense,CE,1.2633792161941528,1.2391564846038818\n",
      "04:07:19:03:09,Policy,V2,Dense,CE,1.1975611448287964,1.1838151216506958\n",
      "04:07:19:16:20,Policy,V2,Dense,CE,1.1645100116729736,1.177262306213379\n",
      "04:08:05:39:29,Policy,V2,DenseForPolicy,CE,1.4296996593475342,1.3790206909179688\n",
      "04:08:05:48:18,Policy,V2,DenseForPolicy,CE,1.3616671562194824,1.3848485946655273\n",
      "04:08:10:17:06,Policy,V2,Dense,CE,2.801307346089743e-06,2.7218900413572555e-06\n",
      "04:08:10:24:50,Policy,V2,Dense,CE,1.96190711676536e-07,1.5136279785110673e-07\n"
     ]
    }
   ],
   "source": [
    "rr.generate_csv_comparison_report(test_data_float, train_data_float,\n",
    "                   rootdir='runs/04-07')"
   ]
  },
  {
   "cell_type": "code",
   "execution_count": 32,
   "metadata": {},
   "outputs": [
    {
     "name": "stdout",
     "output_type": "stream",
     "text": [
      "Folder: 04-07-17-58-07-Policy-V1-Dense-CE\n",
      "tensor([[0, 1],\n",
      "        [0, 0],\n",
      "        [0, 1],\n",
      "        [0, 1],\n",
      "        [0, 1],\n",
      "        [2, 0],\n",
      "        [2, 0],\n",
      "        [2, 0],\n",
      "        [2, 0],\n",
      "        [2, 1]])\n",
      "tensor([[9.9892e-01, 1.1768e-02, 4.4407e-06, 6.9097e-01, 4.3719e-08, 5.8148e-05],\n",
      "        [9.8408e-01, 4.1556e-02, 1.0096e-03, 9.8178e-01, 5.3358e-06, 1.9832e-04],\n",
      "        [1.0000e+00, 1.0968e-05, 2.3005e-34, 5.3218e-30, 2.1840e-32, 2.9180e-05],\n",
      "        [1.0000e+00, 4.4320e-05, 4.1472e-32, 7.9823e-29, 2.2644e-30, 4.3043e-04],\n",
      "        [9.9999e-01, 1.9323e-04, 6.4159e-30, 1.2560e-27, 2.0004e-28, 5.3637e-03],\n",
      "        [2.7807e-11, 4.0247e-02, 9.9016e-01, 9.9007e-01, 3.9920e-02, 2.1634e-12],\n",
      "        [1.2382e-08, 3.5409e-02, 9.9082e-01, 9.9139e-01, 3.6082e-02, 8.6834e-10],\n",
      "        [4.4673e-06, 3.4880e-02, 9.9111e-01, 9.9073e-01, 3.2762e-02, 3.6731e-07],\n",
      "        [1.6327e-03, 3.4472e-02, 9.9060e-01, 9.8911e-01, 2.6565e-02, 1.5856e-04],\n",
      "        [0.0000e+00, 7.8143e-03, 9.9971e-01, 0.0000e+00, 9.5463e-01, 5.1911e-02]],\n",
      "       grad_fn=<SigmoidBackward>)\n",
      "tensor(1.3659, grad_fn=<AddBackward0>)\n",
      "tensor([0.5544, 0.5675, 0.5514, 0.5515, 0.5515, 0.5643, 0.5630, 0.5628, 0.5632,\n",
      "        0.5532], grad_fn=<NllLossBackward>)\n",
      "tensor([1.3852, 0.5593, 1.0986, 1.0988, 1.1004, 0.5643, 0.5629, 0.5625, 0.5618,\n",
      "        0.5825], grad_fn=<NllLossBackward>)\n",
      "-----------------------------------------\n",
      "Folder: 04-07-19-03-09-Policy-V2-Dense-CE\n",
      "tensor([[0, 1],\n",
      "        [0, 0],\n",
      "        [0, 1],\n",
      "        [0, 1],\n",
      "        [0, 1],\n",
      "        [2, 0],\n",
      "        [2, 0],\n",
      "        [2, 0],\n",
      "        [2, 0],\n",
      "        [2, 1]])\n",
      "tensor([[1.0000e+00, 0.0000e+00, 0.0000e+00, 4.8376e-09, 1.0000e+00, 0.0000e+00],\n",
      "        [1.0000e+00, 0.0000e+00, 0.0000e+00, 1.0000e+00, 1.1702e-07, 1.7503e-35],\n",
      "        [1.0000e+00, 0.0000e+00, 0.0000e+00, 0.0000e+00, 1.0000e+00, 0.0000e+00],\n",
      "        [1.0000e+00, 0.0000e+00, 0.0000e+00, 0.0000e+00, 1.0000e+00, 0.0000e+00],\n",
      "        [1.0000e+00, 0.0000e+00, 0.0000e+00, 0.0000e+00, 1.0000e+00, 0.0000e+00],\n",
      "        [0.0000e+00, 0.0000e+00, 1.0000e+00, 1.0000e+00, 9.2038e-08, 0.0000e+00],\n",
      "        [0.0000e+00, 0.0000e+00, 1.0000e+00, 1.0000e+00, 8.8851e-08, 0.0000e+00],\n",
      "        [0.0000e+00, 0.0000e+00, 1.0000e+00, 1.0000e+00, 8.5822e-08, 0.0000e+00],\n",
      "        [7.1500e-36, 0.0000e+00, 1.0000e+00, 1.0000e+00, 8.3050e-08, 3.9426e-35],\n",
      "        [0.0000e+00, 0.0000e+00, 1.0000e+00, 0.0000e+00, 1.0000e+00, 9.7490e-24]],\n",
      "       grad_fn=<SigmoidBackward>)\n",
      "tensor(1.1029, grad_fn=<AddBackward0>)\n",
      "tensor([0.5514, 0.5514, 0.5514, 0.5514, 0.5514, 0.5514, 0.5514, 0.5514, 0.5514,\n",
      "        0.5514], grad_fn=<NllLossBackward>)\n",
      "tensor([0.5514, 0.5514, 0.5514, 0.5514, 0.5514, 0.5514, 0.5514, 0.5514, 0.5514,\n",
      "        0.5514], grad_fn=<NllLossBackward>)\n",
      "-----------------------------------------\n",
      "Folder: 04-07-19-16-20-Policy-V2-Dense-CE\n",
      "tensor([[0, 1],\n",
      "        [0, 0],\n",
      "        [0, 1],\n",
      "        [0, 1],\n",
      "        [0, 1],\n",
      "        [2, 0],\n",
      "        [2, 0],\n",
      "        [2, 0],\n",
      "        [2, 0],\n",
      "        [2, 1]])\n",
      "tensor([[1.0000e+00, 1.0496e-22, 0.0000e+00, 8.0194e-15, 1.0000e+00, 0.0000e+00],\n",
      "        [1.0000e+00, 8.8153e-09, 5.7709e-36, 1.0000e+00, 3.0052e-13, 0.0000e+00],\n",
      "        [1.0000e+00, 0.0000e+00, 0.0000e+00, 0.0000e+00, 1.0000e+00, 0.0000e+00],\n",
      "        [1.0000e+00, 0.0000e+00, 0.0000e+00, 0.0000e+00, 1.0000e+00, 0.0000e+00],\n",
      "        [1.0000e+00, 0.0000e+00, 0.0000e+00, 0.0000e+00, 1.0000e+00, 0.0000e+00],\n",
      "        [0.0000e+00, 7.5242e-11, 1.0000e+00, 1.0000e+00, 0.0000e+00, 0.0000e+00],\n",
      "        [0.0000e+00, 7.6010e-11, 1.0000e+00, 1.0000e+00, 0.0000e+00, 0.0000e+00],\n",
      "        [0.0000e+00, 7.6790e-11, 1.0000e+00, 1.0000e+00, 0.0000e+00, 0.0000e+00],\n",
      "        [5.5264e-26, 7.7575e-11, 1.0000e+00, 1.0000e+00, 0.0000e+00, 6.2055e-31],\n",
      "        [0.0000e+00, 0.0000e+00, 1.0000e+00, 0.0000e+00, 0.0000e+00, 3.5369e-23]],\n",
      "       grad_fn=<SigmoidBackward>)\n",
      "tensor(1.1576, grad_fn=<AddBackward0>)\n",
      "tensor([0.5514, 0.5514, 0.5514, 0.5514, 0.5514, 0.5514, 0.5514, 0.5514, 0.5514,\n",
      "        0.5514], grad_fn=<NllLossBackward>)\n",
      "tensor([0.5514, 0.5514, 0.5514, 0.5514, 0.5514, 0.5514, 0.5514, 0.5514, 0.5514,\n",
      "        1.0986], grad_fn=<NllLossBackward>)\n",
      "-----------------------------------------\n",
      "Folder: 04-08-05-39-29-Policy-V2-DenseForPolicy-CE\n",
      "tensor([[0, 1],\n",
      "        [0, 0],\n",
      "        [0, 1],\n",
      "        [0, 1],\n",
      "        [0, 1],\n",
      "        [2, 0],\n",
      "        [2, 0],\n",
      "        [2, 0],\n",
      "        [2, 0],\n",
      "        [2, 1]])\n",
      "tensor([[1.0000e+00, 9.1717e-12, 2.9568e-28, 1.0000e+00, 6.8184e-26, 1.3941e-14],\n",
      "        [9.9993e-01, 7.1005e-05, 1.7448e-14, 1.0000e+00, 7.8660e-19, 1.3876e-14],\n",
      "        [1.0000e+00, 0.0000e+00, 0.0000e+00, 0.0000e+00, 0.0000e+00, 1.0000e+00],\n",
      "        [1.0000e+00, 0.0000e+00, 0.0000e+00, 0.0000e+00, 0.0000e+00, 1.0000e+00],\n",
      "        [1.0000e+00, 0.0000e+00, 0.0000e+00, 0.0000e+00, 0.0000e+00, 1.0000e+00],\n",
      "        [0.0000e+00, 7.3404e-05, 9.9993e-01, 9.9989e-01, 1.1058e-04, 0.0000e+00],\n",
      "        [4.7098e-42, 7.0182e-05, 9.9993e-01, 9.9989e-01, 1.0751e-04, 1.0229e-42],\n",
      "        [2.7632e-28, 6.7103e-05, 9.9993e-01, 9.9990e-01, 1.0453e-04, 1.2822e-28],\n",
      "        [1.6213e-14, 6.4158e-05, 9.9994e-01, 9.9990e-01, 1.0163e-04, 1.6062e-14],\n",
      "        [0.0000e+00, 0.0000e+00, 1.0000e+00, 0.0000e+00, 1.0000e+00, 1.0745e-10]],\n",
      "       grad_fn=<CatBackward>)\n",
      "tensor(1.5029, grad_fn=<AddBackward0>)\n",
      "tensor([0.5514, 0.5515, 0.5514, 0.5514, 0.5514, 0.5515, 0.5515, 0.5515, 0.5515,\n",
      "        0.5514], grad_fn=<NllLossBackward>)\n",
      "tensor([1.5514, 0.5514, 1.5514, 1.5514, 1.5514, 0.5515, 0.5515, 0.5515, 0.5515,\n",
      "        0.5514], grad_fn=<NllLossBackward>)\n",
      "-----------------------------------------\n",
      "Folder: 04-08-05-48-18-Policy-V2-DenseForPolicy-CE\n",
      "tensor([[0, 1],\n",
      "        [0, 0],\n",
      "        [0, 1],\n",
      "        [0, 1],\n",
      "        [0, 1],\n",
      "        [2, 0],\n",
      "        [2, 0],\n",
      "        [2, 0],\n",
      "        [2, 0],\n",
      "        [2, 1]])\n",
      "tensor([[1.0000e+00, 2.9781e-12, 1.8704e-29, 7.6128e-04, 9.9924e-01, 2.9045e-18],\n",
      "        [9.9996e-01, 4.3008e-05, 4.2823e-15, 9.9993e-01, 6.7084e-05, 3.8960e-15],\n",
      "        [1.0000e+00, 0.0000e+00, 0.0000e+00, 0.0000e+00, 1.0000e+00, 2.2621e-40],\n",
      "        [1.0000e+00, 0.0000e+00, 0.0000e+00, 0.0000e+00, 1.0000e+00, 4.2556e-33],\n",
      "        [1.0000e+00, 0.0000e+00, 0.0000e+00, 0.0000e+00, 1.0000e+00, 8.5028e-26],\n",
      "        [0.0000e+00, 6.0536e-05, 9.9994e-01, 1.0000e+00, 0.0000e+00, 0.0000e+00],\n",
      "        [6.0256e-44, 5.9583e-05, 9.9994e-01, 1.0000e+00, 0.0000e+00, 1.9618e-44],\n",
      "        [1.3826e-29, 5.8647e-05, 9.9994e-01, 1.0000e+00, 3.5978e-34, 6.8962e-30],\n",
      "        [3.1810e-15, 5.7723e-05, 9.9994e-01, 1.0000e+00, 1.3263e-19, 2.4888e-15],\n",
      "        [0.0000e+00, 0.0000e+00, 1.0000e+00, 0.0000e+00, 0.0000e+00, 1.0000e+00]],\n",
      "       grad_fn=<CatBackward>)\n",
      "tensor(1.2030, grad_fn=<AddBackward0>)\n",
      "tensor([0.5514, 0.5515, 0.5514, 0.5514, 0.5514, 0.5515, 0.5515, 0.5515, 0.5515,\n",
      "        0.5514], grad_fn=<NllLossBackward>)\n",
      "tensor([0.5519, 0.5515, 0.5514, 0.5514, 0.5514, 0.5514, 0.5514, 0.5514, 0.5514,\n",
      "        1.5514], grad_fn=<NllLossBackward>)\n",
      "-----------------------------------------\n",
      "Folder: 04-08-10-17-06-Policy-V2-Dense-CE\n",
      "tensor([[0, 1],\n",
      "        [0, 0],\n",
      "        [0, 1],\n",
      "        [0, 1],\n",
      "        [0, 1],\n",
      "        [2, 0],\n",
      "        [2, 0],\n",
      "        [2, 0],\n",
      "        [2, 0],\n",
      "        [2, 1]])\n",
      "tensor([[ -288.4457,  -327.3626,  -460.6696,  -123.0579,  -109.5551,  -200.1846],\n",
      "        [ -304.7435,  -316.2262,  -400.2991,   -97.6689,  -110.4753,  -189.8594],\n",
      "        [ -532.7365,  -664.7424, -1323.6047,  -721.6801,  -147.4241,  -298.0188],\n",
      "        [ -532.7309,  -650.9260, -1266.2437,  -696.4196,  -151.7133,  -274.3808],\n",
      "        [ -532.7254,  -637.1096, -1208.8826,  -671.1590,  -156.0025,  -250.7428],\n",
      "        [ -717.0560,  -495.9140,  -478.7786,  -135.3840,  -150.5016,  -389.0379],\n",
      "        [ -667.0754,  -495.9293,  -478.5860,  -137.5560,  -153.0979,  -341.9374],\n",
      "        [ -617.4940,  -496.2629,  -480.6568,  -141.3872,  -156.1618,  -294.3335],\n",
      "        [ -568.1227,  -496.8547,  -484.6817,  -146.9267,  -159.5398,  -246.3492],\n",
      "        [-1385.0968,  -449.0486,  -397.7214,  -931.5908,   -69.0488,  -109.2438]],\n",
      "       grad_fn=<AddmmBackward>)\n",
      "tensor(2.3603e-06, grad_fn=<AddBackward0>)\n",
      "tensor([-0.0000e+00, 1.0252e-05, -0.0000e+00, -0.0000e+00, -0.0000e+00, -0.0000e+00,\n",
      "        -0.0000e+00, 1.1921e-07, 5.1260e-06, -0.0000e+00],\n",
      "       grad_fn=<NllLossBackward>)\n",
      "tensor([1.3113e-06, 2.7418e-06, -0.0000e+00, -0.0000e+00, -0.0000e+00, 2.3842e-07,\n",
      "        1.1921e-07, 3.5763e-07, 3.3379e-06, -0.0000e+00],\n",
      "       grad_fn=<NllLossBackward>)\n",
      "-----------------------------------------\n",
      "Folder: 04-08-10-24-50-Policy-V2-Dense-CE\n",
      "tensor([[0, 1],\n",
      "        [0, 0],\n",
      "        [0, 1],\n",
      "        [0, 1],\n",
      "        [0, 1],\n",
      "        [2, 0],\n",
      "        [2, 0],\n",
      "        [2, 0],\n",
      "        [2, 0],\n",
      "        [2, 1]])\n",
      "tensor([[  18.7647,  -23.2727, -143.3823,  -73.5721,  -55.7588, -126.5669],\n",
      "        [  -8.5573,  -25.7353,  -92.9384,  -34.0161,  -53.6209, -106.1667],\n",
      "        [  85.6858,  -31.8648, -440.4355, -359.2087,  -80.3044, -259.6402],\n",
      "        [  78.9398,  -27.4030, -420.3117, -347.6358,  -81.7344, -235.1966],\n",
      "        [  71.3627,  -22.2197, -396.7290, -335.8711,  -84.3465, -203.8341],\n",
      "        [-226.3633,  -58.7200,  -41.1178,  -28.2435,  -50.9166, -209.8728],\n",
      "        [-196.0725,  -57.1479,  -39.3567,  -29.1192,  -52.3173, -183.7587],\n",
      "        [-155.4412,  -56.0853,  -37.5236,  -30.9007,  -54.8574, -150.8436],\n",
      "        [-111.7414,  -56.2768,  -39.9546,  -38.3197,  -58.9934, -116.3788],\n",
      "        [-666.4190,  -94.5566,  -10.3855, -547.9306,  -44.8400,  -97.8261]],\n",
      "       grad_fn=<AddmmBackward>)\n",
      "tensor(1.1921e-08, grad_fn=<AddBackward0>)\n",
      "tensor([-0.0000e+00, -0.0000e+00, -0.0000e+00, -0.0000e+00, -0.0000e+00, -0.0000e+00,\n",
      "        -0.0000e+00, -0.0000e+00, 1.1921e-07, -0.0000e+00],\n",
      "       grad_fn=<NllLossBackward>)\n",
      "tensor([-0., -0., -0., -0., -0., -0., -0., -0., -0., -0.],\n",
      "       grad_fn=<NllLossBackward>)\n",
      "-----------------------------------------\n"
     ]
    }
   ],
   "source": [
    "sample = torch.cat((test_data.data[1055:1060], test_data.data[1230:1235]), axis=0)\n",
    "ground_truth = policy_groud_truth_class_adapter(sample).to(device)\n",
    "for folder, net in rr.build_net(rootdir='runs/04-07/'):\n",
    "    print ('Folder: ' + folder)\n",
    "    op_batch, loss = rr.run_mini_batch(net, sample)\n",
    "    x_loss = F.cross_entropy(op_batch[:, :3], ground_truth[:, 0], reduction='none')\n",
    "    y_loss = F.cross_entropy(op_batch[:, 3:], ground_truth[:, 1], reduction='none')\n",
    "    print (ground_truth)\n",
    "    print (op_batch)\n",
    "    print (loss)\n",
    "    print (x_loss)\n",
    "    print (y_loss)\n",
    "    print ('-----------------------------------------')"
   ]
  },
  {
   "cell_type": "code",
   "execution_count": 19,
   "metadata": {},
   "outputs": [],
   "source": [
    "rr = ReportResults(map_netname_net, device, \n",
    "                   policy_input_adapter, policy_groud_truth_adapter,\n",
    "                   loss_adapter_func = l1_loss_adapter)"
   ]
  },
  {
   "cell_type": "code",
   "execution_count": 20,
   "metadata": {},
   "outputs": [
    {
     "name": "stdout",
     "output_type": "stream",
     "text": [
      "Time,Goal,DataSet,Network,Loss(Training),TestLoss,TrainLoss\n",
      "04:08:07:35:53,Policy,V2,Dense,MSE,0.0009246765985153615,0.0009788279421627522\n",
      "04:08:07:29:36,Policy,V2,Dense,MSE,0.015583701431751251,0.016864705830812454\n"
     ]
    }
   ],
   "source": [
    "rr.generate_csv_comparison_report(test_data.data, train_data.data,\n",
    "                   rootdir='runs/04-08')"
   ]
  },
  {
   "cell_type": "code",
   "execution_count": 21,
   "metadata": {},
   "outputs": [
    {
     "name": "stdout",
     "output_type": "stream",
     "text": [
      "Folder: 04-08-07-35-53-Policy-V2-Dense-MSE\n",
      "tensor([[-1.,  0.],\n",
      "        [-1., -1.],\n",
      "        [-1.,  0.],\n",
      "        [-1.,  0.],\n",
      "        [-1.,  0.],\n",
      "        [ 1., -1.],\n",
      "        [ 1., -1.],\n",
      "        [ 1., -1.],\n",
      "        [ 1., -1.],\n",
      "        [ 1.,  0.]])\n",
      "tensor([[-1.0000e+00, -5.9831e-04],\n",
      "        [-9.9837e-01, -9.9866e-01],\n",
      "        [-1.0000e+00, -2.0846e-03],\n",
      "        [-1.0000e+00, -2.0014e-03],\n",
      "        [-1.0000e+00, -1.9175e-03],\n",
      "        [ 9.9764e-01, -9.9867e-01],\n",
      "        [ 9.9765e-01, -9.9868e-01],\n",
      "        [ 9.9766e-01, -9.9868e-01],\n",
      "        [ 9.9767e-01, -9.9868e-01],\n",
      "        [ 1.0000e+00,  7.1299e-04]], grad_fn=<TanhBackward>)\n",
      "tensor(0.0012, grad_fn=<MeanBackward0>)\n",
      "Folder: 04-08-07-29-36-Policy-V2-Dense-MSE\n",
      "tensor([[-1.,  0.],\n",
      "        [-1., -1.],\n",
      "        [-1.,  0.],\n",
      "        [-1.,  0.],\n",
      "        [-1.,  0.],\n",
      "        [ 1., -1.],\n",
      "        [ 1., -1.],\n",
      "        [ 1., -1.],\n",
      "        [ 1., -1.],\n",
      "        [ 1.,  0.]])\n",
      "tensor([[-0.9994, -0.0311],\n",
      "        [-0.9682, -0.9674],\n",
      "        [-0.9995,  0.0176],\n",
      "        [-0.9995,  0.0170],\n",
      "        [-0.9995,  0.0165],\n",
      "        [ 0.9690, -0.9672],\n",
      "        [ 0.9690, -0.9673],\n",
      "        [ 0.9690, -0.9673],\n",
      "        [ 0.9690, -0.9674],\n",
      "        [ 0.9995,  0.0200]], grad_fn=<TanhBackward>)\n",
      "tensor(0.0212, grad_fn=<MeanBackward0>)\n"
     ]
    }
   ],
   "source": [
    "sample = torch.cat((test_data.data[1055:1060], test_data.data[1230:1235]), axis=0)\n",
    "ground_truth = policy_groud_truth_adapter(sample).to(device)\n",
    "for folder, net in rr.build_net(rootdir='runs/04-08/'):\n",
    "    print ('Folder: ' + folder)\n",
    "    op_batch, loss = rr.run_mini_batch(net, sample)\n",
    "    print (ground_truth)\n",
    "    print (op_batch)\n",
    "    print (loss)"
   ]
  },
  {
   "cell_type": "code",
   "execution_count": null,
   "metadata": {},
   "outputs": [],
   "source": [
    "np.set_printoptions(**opt)"
   ]
  }
 ],
 "metadata": {
  "kernelspec": {
   "display_name": "demopl",
   "language": "python",
   "name": "demopl"
  },
  "language_info": {
   "codemirror_mode": {
    "name": "ipython",
    "version": 3
   },
   "file_extension": ".py",
   "mimetype": "text/x-python",
   "name": "python",
   "nbconvert_exporter": "python",
   "pygments_lexer": "ipython3",
   "version": "3.6.8"
  }
 },
 "nbformat": 4,
 "nbformat_minor": 4
}
