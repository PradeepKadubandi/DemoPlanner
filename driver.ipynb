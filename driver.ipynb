{
 "cells": [
  {
   "cell_type": "code",
   "execution_count": 1,
   "metadata": {},
   "outputs": [],
   "source": [
    "%load_ext autoreload\n",
    "%autoreload 2"
   ]
  },
  {
   "cell_type": "code",
   "execution_count": 12,
   "metadata": {},
   "outputs": [],
   "source": [
    "import numpy as np\n",
    "import matplotlib.pyplot as plt\n",
    "import time\n",
    "import os\n",
    "import glob\n",
    "\n",
    "import torch\n",
    "import torch.nn as nn\n",
    "import torch.nn.functional as F\n",
    "from torch.utils.data import DataLoader\n",
    "\n",
    "from adapters import *\n",
    "from dataset import NumpyCsvDataSet\n",
    "from runner import ExptRunner\n",
    "from networks.autoencoder import AutoEncoder\n",
    "from networks.composedautoencoder import ComposedAutoEncoder\n",
    "from networks.DenseAutoEncoder import DenseAutoEncoder\n",
    "from networks.ConvVae import ConvVae\n",
    "from networks.vae import VAE\n",
    "from networks.lossfunctions import *"
   ]
  },
  {
   "cell_type": "code",
   "execution_count": 3,
   "metadata": {},
   "outputs": [],
   "source": [
    "opt = np.get_printoptions()\n",
    "np.set_printoptions(threshold=np.inf)"
   ]
  },
  {
   "cell_type": "code",
   "execution_count": 4,
   "metadata": {},
   "outputs": [
    {
     "name": "stdout",
     "output_type": "stream",
     "text": [
      "cpu\n"
     ]
    }
   ],
   "source": [
    "device = torch.device(\"cuda:2\" if torch.cuda.is_available() else \"cpu\")\n",
    "# device = torch.device(\"cpu\")\n",
    "print (device)"
   ]
  },
  {
   "cell_type": "code",
   "execution_count": 19,
   "metadata": {},
   "outputs": [
    {
     "name": "stdout",
     "output_type": "stream",
     "text": [
      "Time Taken: 301.2297029495239 sec\n"
     ]
    }
   ],
   "source": [
    "start = time.time()\n",
    "data_folder = 'data/demoplanner/version2'\n",
    "train_data = NumpyCsvDataSet(data_folder + '/train.csv', device=device)\n",
    "test_data = NumpyCsvDataSet(data_folder + '/test.csv', device=device)\n",
    "print (\"Time Taken: {} sec\".format(time.time() - start))"
   ]
  },
  {
   "cell_type": "code",
   "execution_count": 20,
   "metadata": {},
   "outputs": [
    {
     "name": "stdout",
     "output_type": "stream",
     "text": [
      "torch.Size([129779, 2058])\n",
      "torch.Size([6648, 2058])\n",
      "cpu\n",
      "cpu\n"
     ]
    }
   ],
   "source": [
    "print (train_data.data.shape)\n",
    "print (test_data.data.shape)\n",
    "\n",
    "print (train_data.data.device)\n",
    "print (test_data.data.device)"
   ]
  },
  {
   "cell_type": "code",
   "execution_count": null,
   "metadata": {},
   "outputs": [],
   "source": [
    "expts = [\n",
    "#     ['DemoPl-V2-ComposedAutoEncoderNoMaxPool-MSE-', ComposedAutoEncoder, demopl_v1_data_adapter, mse_loss_adapter, demopl_v1_data_to_img],\n",
    "#     ['DemoPl-V2-ComposedAutoEncoderNoMaxPool-SmoothL1-', ComposedAutoEncoder, demopl_v1_data_adapter, smooth_l1_loss_adapter, demopl_v1_data_to_img],\n",
    "    ['DemoPl-V2-ComposedAutoEncoderWithMaxPool-MSE-', lambda: ComposedAutoEncoder(useMaxPool=True), demopl_v1_data_adapter, mse_loss_adapter, demopl_v1_data_to_img],\n",
    "#     ['DemoPl-V2-ComposedAutoEncoderWithMaxPool-SmoothL1-', lambda: ComposedAutoEncoder(useMaxPool=True), demopl_v1_data_adapter, smooth_l1_loss_adapter, demopl_v1_data_to_img],\n",
    "#     ['DemoPl-V2-DenseAutoEncoder3-MSE-', lambda: DenseAutoEncoder(enc_layer_dims=[1024, 128, 16]), demopl_v1_data_adapter, mse_loss_adapter, demopl_v1_data_to_img],\n",
    "#     ['DemoPl-V2-DenseAutoEncoder3-SmoothL1-', lambda: DenseAutoEncoder(enc_layer_dims=[1024, 128, 16]), demopl_v1_data_adapter, smooth_l1_loss_adapter, demopl_v1_data_to_img],\n",
    "#     ['DemoPl-V2-VAE-VAELoss-', VAE, demopl_v1_data_adapter, vae_loss_adapter, demopl_v1_data_to_img],\n",
    "#     ['DemoPl-V2-ConvVAE-VAELoss-', ConvVae, demopl_v1_data_adapter, vae_loss_adapter, demopl_v1_data_to_img],\n",
    "]"
   ]
  },
  {
   "cell_type": "code",
   "execution_count": null,
   "metadata": {},
   "outputs": [],
   "source": [
    "train_epochs = 2\n",
    "for i in range(len(expts)):\n",
    "    inputs = expts[i]\n",
    "    net = inputs[1]()\n",
    "    net = net.to(device)\n",
    "    runner = ExptRunner(inputs[0], net, train_data, test_data, inputs[2], inputs[3], data_to_img_func=inputs[4])\n",
    "    print (\"Log folder for expt {}: {}\".format(i, runner.log_folder))\n",
    "    runner.train(train_epochs, shouldShowReconstruction=True)\n",
    "    runner.test()"
   ]
  },
  {
   "cell_type": "code",
   "execution_count": 54,
   "metadata": {},
   "outputs": [],
   "source": [
    "def test_samples(net, data, showfig):\n",
    "    with torch.no_grad():\n",
    "        criterion = nn.SmoothL1Loss()\n",
    "        ip_batch = demopl_v1_data_adapter(data)\n",
    "        op_batch, loss = smooth_l1_loss_adapter(net, ip_batch)\n",
    "        rows = max(5, len(ip_batch))\n",
    "        for i in range(rows):\n",
    "            print('datapoint', str(i), 'test error', criterion(input=ip_batch[i], target=op_batch[i]))\n",
    "            if showfig:\n",
    "                plt.imshow(ip_batch[i].reshape(32,32), cmap=plt.get_cmap(\"gray\"), vmin=0, vmax=1)\n",
    "                plt.show()\n",
    "                plt.imshow(op_batch[i].reshape(32,32), cmap=plt.get_cmap(\"gray\"), vmin=0, vmax=1)\n",
    "                plt.show()\n",
    "\n",
    "def report_all_net_perf(test_data, rootdir='runs', showfig=False):\n",
    "    for filename in glob.iglob(rootdir + '/**/*.pth', recursive=True):\n",
    "        map_netname_net = {\n",
    "            'ComposedAutoEncoderWithMaxPool': lambda: ComposedAutoEncoder(useMaxPool=True),\n",
    "            'DenseAutoEncoder3': lambda: DenseAutoEncoder(enc_layer_dims=[1024, 128, 16]),\n",
    "            'ComposedAutoEncoderNoMaxPool': lambda: ComposedAutoEncoder(useMaxPool=False),\n",
    "#             'VAE': VAE,\n",
    "#             'ConvVAE': ConvVae,\n",
    "            '03-19-22-21-33-DemoPl-V2-DenseAutoEncoder3-MSE-': lambda: DenseAutoEncoder(enc_layer_dims=[1024, 128, 32]),\n",
    "            '03-19-22-52-24-DemoPl-V2-DenseAutoEncoder3-SmoothL1-': lambda: DenseAutoEncoder(enc_layer_dims=[1024, 128, 32]),\n",
    "        }\n",
    "        folder = os.path.basename(os.path.dirname(filename))\n",
    "        netname = folder.split('-')[7]\n",
    "        if folder in map_netname_net.keys():\n",
    "            net = map_netname_net[folder]()\n",
    "        elif netname in map_netname_net.keys():\n",
    "            net = map_netname_net[netname]()\n",
    "        else:\n",
    "            continue\n",
    "\n",
    "        print ('Model File: {}'.format(filename))\n",
    "        net.load_state_dict(torch.load(filename, map_location=device))\n",
    "        test_samples(net, test_data, showfig)"
   ]
  },
  {
   "cell_type": "code",
   "execution_count": 55,
   "metadata": {},
   "outputs": [
    {
     "name": "stdout",
     "output_type": "stream",
     "text": [
      "Model File: runs/03-17/03-17-18-57-21-DemoPl-V1-ComposedAutoEncoderWithMaxPool-SmoothL1-/autoenc.pth\n",
      "datapoint 0 test error tensor(0.0013)\n",
      "datapoint 1 test error tensor(0.0013)\n",
      "datapoint 2 test error tensor(0.0010)\n",
      "datapoint 3 test error tensor(0.0007)\n",
      "datapoint 4 test error tensor(0.0010)\n",
      "Model File: runs/03-17/03-17-19-22-49-DemoPl-V1-DenseAutoEncoder3-MSE-/autoenc.pth\n",
      "datapoint 0 test error tensor(0.0062)\n",
      "datapoint 1 test error tensor(0.0055)\n",
      "datapoint 2 test error tensor(0.0043)\n",
      "datapoint 3 test error tensor(0.0036)\n",
      "datapoint 4 test error tensor(0.0025)\n",
      "Model File: runs/03-17/03-17-18-26-46-DemoPl-V1-ComposedAutoEncoderWithMaxPool-MSE-/autoenc.pth\n",
      "datapoint 0 test error tensor(0.0048)\n",
      "datapoint 1 test error tensor(0.0037)\n",
      "datapoint 2 test error tensor(0.0031)\n",
      "datapoint 3 test error tensor(0.0025)\n",
      "datapoint 4 test error tensor(0.0024)\n",
      "Model File: runs/03-17/03-17-18-03-42-DemoPl-V1-ComposedAutoEncoderNoMaxPool-SmoothL1-/autoenc.pth\n",
      "datapoint 0 test error tensor(0.0152)\n",
      "datapoint 1 test error tensor(0.0152)\n",
      "datapoint 2 test error tensor(0.0152)\n",
      "datapoint 3 test error tensor(0.0152)\n",
      "datapoint 4 test error tensor(0.0152)\n",
      "Model File: runs/03-17/03-17-17-50-40-DemoPl-V1-ComposedAutoEncoderNoMaxPool-MSE-/autoenc.pth\n",
      "datapoint 0 test error tensor(0.0011)\n",
      "datapoint 1 test error tensor(0.0010)\n",
      "datapoint 2 test error tensor(0.0006)\n",
      "datapoint 3 test error tensor(0.0005)\n",
      "datapoint 4 test error tensor(0.0008)\n",
      "Model File: runs/03-17/03-17-19-29-39-DemoPl-V1-DenseAutoEncoder3-SmoothL1-/autoenc.pth\n",
      "datapoint 0 test error tensor(0.0037)\n",
      "datapoint 1 test error tensor(0.0043)\n",
      "datapoint 2 test error tensor(0.0024)\n",
      "datapoint 3 test error tensor(0.0022)\n",
      "datapoint 4 test error tensor(0.0026)\n",
      "Model File: runs/03-19/03-19-20-04-55-DemoPl-V2-ComposedAutoEncoderWithMaxPool-SmoothL1-/autoenc.pth\n",
      "datapoint 0 test error tensor(0.0152)\n",
      "datapoint 1 test error tensor(0.0152)\n",
      "datapoint 2 test error tensor(0.0152)\n",
      "datapoint 3 test error tensor(0.0152)\n",
      "datapoint 4 test error tensor(0.0152)\n",
      "Model File: runs/03-19/03-19-22-52-24-DemoPl-V2-DenseAutoEncoder3-SmoothL1-/autoenc.pth\n",
      "datapoint 0 test error tensor(0.0014)\n",
      "datapoint 1 test error tensor(0.0014)\n",
      "datapoint 2 test error tensor(0.0009)\n",
      "datapoint 3 test error tensor(0.0014)\n",
      "datapoint 4 test error tensor(0.0011)\n",
      "Model File: runs/03-19/03-19-22-21-33-DemoPl-V2-DenseAutoEncoder3-MSE-/autoenc.pth\n",
      "datapoint 0 test error tensor(0.0017)\n",
      "datapoint 1 test error tensor(0.0013)\n",
      "datapoint 2 test error tensor(0.0010)\n",
      "datapoint 3 test error tensor(0.0011)\n",
      "datapoint 4 test error tensor(0.0006)\n",
      "Model File: runs/03-19/03-19-17-40-38-DemoPl-V2-ComposedAutoEncoderWithMaxPool-MSE-/autoenc.pth\n",
      "datapoint 0 test error tensor(0.0003)\n",
      "datapoint 1 test error tensor(0.0003)\n",
      "datapoint 2 test error tensor(0.0002)\n",
      "datapoint 3 test error tensor(0.0002)\n",
      "datapoint 4 test error tensor(0.0002)\n",
      "Model File: runs/03-18/03-18-12-21-36-DemoPl-V2-ComposedAutoEncoderNoMaxPool-MSE-/autoenc.pth\n",
      "datapoint 0 test error tensor(0.0001)\n",
      "datapoint 1 test error tensor(0.0011)\n",
      "datapoint 2 test error tensor(0.0002)\n",
      "datapoint 3 test error tensor(0.0001)\n",
      "datapoint 4 test error tensor(0.0001)\n",
      "Model File: runs/03-18/03-19-05-17-25-DemoPl-V2-DenseAutoEncoder3-MSE-/autoenc.pth\n",
      "datapoint 0 test error tensor(0.0029)\n",
      "datapoint 1 test error tensor(0.0042)\n",
      "datapoint 2 test error tensor(0.0031)\n",
      "datapoint 3 test error tensor(0.0020)\n",
      "datapoint 4 test error tensor(0.0016)\n",
      "Model File: runs/03-18/03-18-17-45-23-DemoPl-V2-ComposedAutoEncoderNoMaxPool-SmoothL1-/autoenc.pth\n",
      "datapoint 0 test error tensor(0.0003)\n",
      "datapoint 1 test error tensor(0.0004)\n",
      "datapoint 2 test error tensor(0.0003)\n",
      "datapoint 3 test error tensor(0.0003)\n",
      "datapoint 4 test error tensor(0.0002)\n",
      "Model File: runs/03-18/03-19-06-51-50-DemoPl-V2-DenseAutoEncoder3-SmoothL1-/autoenc.pth\n",
      "datapoint 0 test error tensor(0.0028)\n",
      "datapoint 1 test error tensor(0.0021)\n",
      "datapoint 2 test error tensor(0.0021)\n",
      "datapoint 3 test error tensor(0.0027)\n",
      "datapoint 4 test error tensor(0.0023)\n",
      "Model File: runs/03-18/03-19-01-02-04-DemoPl-V2-ComposedAutoEncoderWithMaxPool-SmoothL1-/autoenc.pth\n",
      "datapoint 0 test error tensor(0.0126)\n",
      "datapoint 1 test error tensor(0.0110)\n",
      "datapoint 2 test error tensor(0.0088)\n",
      "datapoint 3 test error tensor(0.0055)\n",
      "datapoint 4 test error tensor(0.0033)\n",
      "Model File: runs/03-18/03-18-20-19-34-DemoPl-V2-ComposedAutoEncoderWithMaxPool-MSE-/autoenc.pth\n",
      "datapoint 0 test error tensor(0.0152)\n",
      "datapoint 1 test error tensor(0.0152)\n",
      "datapoint 2 test error tensor(0.0152)\n",
      "datapoint 3 test error tensor(0.0152)\n",
      "datapoint 4 test error tensor(0.0152)\n"
     ]
    }
   ],
   "source": [
    "report_all_net_perf(test_data.data[0:5, :].float()) # Performance comparison on first 5 samples of test data"
   ]
  },
  {
   "cell_type": "code",
   "execution_count": 58,
   "metadata": {},
   "outputs": [
    {
     "name": "stdout",
     "output_type": "stream",
     "text": [
      "Model File: runs/03-17/03-17-18-57-21-DemoPl-V1-ComposedAutoEncoderWithMaxPool-SmoothL1-/autoenc.pth\n",
      "datapoint 0 test error tensor(0.0025)\n",
      "datapoint 1 test error tensor(0.0020)\n",
      "datapoint 2 test error tensor(0.0020)\n",
      "datapoint 3 test error tensor(0.0005)\n",
      "datapoint 4 test error tensor(0.0018)\n",
      "Model File: runs/03-17/03-17-19-22-49-DemoPl-V1-DenseAutoEncoder3-MSE-/autoenc.pth\n",
      "datapoint 0 test error tensor(0.0040)\n",
      "datapoint 1 test error tensor(0.0025)\n",
      "datapoint 2 test error tensor(0.0015)\n",
      "datapoint 3 test error tensor(0.0006)\n",
      "datapoint 4 test error tensor(0.0056)\n",
      "Model File: runs/03-17/03-17-18-26-46-DemoPl-V1-ComposedAutoEncoderWithMaxPool-MSE-/autoenc.pth\n",
      "datapoint 0 test error tensor(0.0031)\n",
      "datapoint 1 test error tensor(0.0022)\n",
      "datapoint 2 test error tensor(0.0023)\n",
      "datapoint 3 test error tensor(0.0012)\n",
      "datapoint 4 test error tensor(0.0036)\n",
      "Model File: runs/03-17/03-17-18-03-42-DemoPl-V1-ComposedAutoEncoderNoMaxPool-SmoothL1-/autoenc.pth\n",
      "datapoint 0 test error tensor(0.0149)\n",
      "datapoint 1 test error tensor(0.0145)\n",
      "datapoint 2 test error tensor(0.0141)\n",
      "datapoint 3 test error tensor(0.0133)\n",
      "datapoint 4 test error tensor(0.0152)\n",
      "Model File: runs/03-17/03-17-17-50-40-DemoPl-V1-ComposedAutoEncoderNoMaxPool-MSE-/autoenc.pth\n",
      "datapoint 0 test error tensor(0.0011)\n",
      "datapoint 1 test error tensor(0.0013)\n",
      "datapoint 2 test error tensor(0.0014)\n",
      "datapoint 3 test error tensor(0.0003)\n",
      "datapoint 4 test error tensor(0.0015)\n",
      "Model File: runs/03-17/03-17-19-29-39-DemoPl-V1-DenseAutoEncoder3-SmoothL1-/autoenc.pth\n",
      "datapoint 0 test error tensor(0.0024)\n",
      "datapoint 1 test error tensor(0.0020)\n",
      "datapoint 2 test error tensor(0.0020)\n",
      "datapoint 3 test error tensor(0.0007)\n",
      "datapoint 4 test error tensor(0.0045)\n",
      "Model File: runs/03-19/03-19-20-04-55-DemoPl-V2-ComposedAutoEncoderWithMaxPool-SmoothL1-/autoenc.pth\n",
      "datapoint 0 test error tensor(0.0149)\n",
      "datapoint 1 test error tensor(0.0145)\n",
      "datapoint 2 test error tensor(0.0141)\n",
      "datapoint 3 test error tensor(0.0133)\n",
      "datapoint 4 test error tensor(0.0152)\n",
      "Model File: runs/03-19/03-19-22-52-24-DemoPl-V2-DenseAutoEncoder3-SmoothL1-/autoenc.pth\n",
      "datapoint 0 test error tensor(0.0007)\n",
      "datapoint 1 test error tensor(0.0006)\n",
      "datapoint 2 test error tensor(0.0003)\n",
      "datapoint 3 test error tensor(0.0003)\n",
      "datapoint 4 test error tensor(0.0008)\n",
      "Model File: runs/03-19/03-19-22-21-33-DemoPl-V2-DenseAutoEncoder3-MSE-/autoenc.pth\n",
      "datapoint 0 test error tensor(0.0006)\n",
      "datapoint 1 test error tensor(0.0005)\n",
      "datapoint 2 test error tensor(0.0004)\n",
      "datapoint 3 test error tensor(0.0002)\n",
      "datapoint 4 test error tensor(0.0012)\n",
      "Model File: runs/03-19/03-19-17-40-38-DemoPl-V2-ComposedAutoEncoderWithMaxPool-MSE-/autoenc.pth\n",
      "datapoint 0 test error tensor(0.0016)\n",
      "datapoint 1 test error tensor(0.0018)\n",
      "datapoint 2 test error tensor(0.0014)\n",
      "datapoint 3 test error tensor(0.0004)\n",
      "datapoint 4 test error tensor(0.0004)\n",
      "Model File: runs/03-18/03-18-12-21-36-DemoPl-V2-ComposedAutoEncoderNoMaxPool-MSE-/autoenc.pth\n",
      "datapoint 0 test error tensor(0.0003)\n",
      "datapoint 1 test error tensor(0.0005)\n",
      "datapoint 2 test error tensor(0.0007)\n",
      "datapoint 3 test error tensor(0.0002)\n",
      "datapoint 4 test error tensor(0.0009)\n",
      "Model File: runs/03-18/03-19-05-17-25-DemoPl-V2-DenseAutoEncoder3-MSE-/autoenc.pth\n",
      "datapoint 0 test error tensor(0.0037)\n",
      "datapoint 1 test error tensor(0.0021)\n",
      "datapoint 2 test error tensor(0.0015)\n",
      "datapoint 3 test error tensor(0.0004)\n",
      "datapoint 4 test error tensor(0.0043)\n",
      "Model File: runs/03-18/03-18-17-45-23-DemoPl-V2-ComposedAutoEncoderNoMaxPool-SmoothL1-/autoenc.pth\n",
      "datapoint 0 test error tensor(0.0006)\n",
      "datapoint 1 test error tensor(0.0004)\n",
      "datapoint 2 test error tensor(0.0004)\n",
      "datapoint 3 test error tensor(0.0002)\n",
      "datapoint 4 test error tensor(0.0003)\n",
      "Model File: runs/03-18/03-19-06-51-50-DemoPl-V2-DenseAutoEncoder3-SmoothL1-/autoenc.pth\n",
      "datapoint 0 test error tensor(0.0032)\n",
      "datapoint 1 test error tensor(0.0019)\n",
      "datapoint 2 test error tensor(0.0014)\n",
      "datapoint 3 test error tensor(0.0004)\n",
      "datapoint 4 test error tensor(0.0034)\n",
      "Model File: runs/03-18/03-19-01-02-04-DemoPl-V2-ComposedAutoEncoderWithMaxPool-SmoothL1-/autoenc.pth\n",
      "datapoint 0 test error tensor(0.0031)\n",
      "datapoint 1 test error tensor(0.0030)\n",
      "datapoint 2 test error tensor(0.0031)\n",
      "datapoint 3 test error tensor(0.0013)\n",
      "datapoint 4 test error tensor(0.0098)\n",
      "Model File: runs/03-18/03-18-20-19-34-DemoPl-V2-ComposedAutoEncoderWithMaxPool-MSE-/autoenc.pth\n",
      "datapoint 0 test error tensor(0.0149)\n",
      "datapoint 1 test error tensor(0.0145)\n",
      "datapoint 2 test error tensor(0.0141)\n",
      "datapoint 3 test error tensor(0.0133)\n",
      "datapoint 4 test error tensor(0.0152)\n"
     ]
    }
   ],
   "source": [
    "report_all_net_perf(train_data.data[0:5, :].float()) # Performance comparison on first 5 samples of training data"
   ]
  },
  {
   "cell_type": "code",
   "execution_count": 56,
   "metadata": {},
   "outputs": [
    {
     "name": "stdout",
     "output_type": "stream",
     "text": [
      "Model File: runs/03-19/03-19-17-40-38-DemoPl-V2-ComposedAutoEncoderWithMaxPool-MSE-/autoenc.pth\n",
      "datapoint 0 test error tensor(0.0003)\n"
     ]
    },
    {
     "data": {
      "image/png": "[encoded data removed]",
      "text/plain": [
       "<Figure size 432x288 with 1 Axes>"
      ]
     },
     "metadata": {
      "needs_background": "light"
     },
     "output_type": "display_data"
    },
    {
     "data": {
      "image/png": "[encoded data removed]",
      "text/plain": [
       "<Figure size 432x288 with 1 Axes>"
      ]
     },
     "metadata": {
      "needs_background": "light"
     },
     "output_type": "display_data"
    },
    {
     "name": "stdout",
     "output_type": "stream",
     "text": [
      "datapoint 1 test error tensor(0.0003)\n"
     ]
    },
    {
     "data": {
      "image/png": "[encoded data removed]",
      "text/plain": [
       "<Figure size 432x288 with 1 Axes>"
      ]
     },
     "metadata": {
      "needs_background": "light"
     },
     "output_type": "display_data"
    },
    {
     "data": {
      "image/png": "[encoded data removed]",
      "text/plain": [
       "<Figure size 432x288 with 1 Axes>"
      ]
     },
     "metadata": {
      "needs_background": "light"
     },
     "output_type": "display_data"
    },
    {
     "name": "stdout",
     "output_type": "stream",
     "text": [
      "datapoint 2 test error tensor(0.0002)\n"
     ]
    },
    {
     "data": {
      "image/png": "[encoded data removed]",
      "text/plain": [
       "<Figure size 432x288 with 1 Axes>"
      ]
     },
     "metadata": {
      "needs_background": "light"
     },
     "output_type": "display_data"
    },
    {
     "data": {
      "image/png": "[encoded data removed]",
      "text/plain": [
       "<Figure size 432x288 with 1 Axes>"
      ]
     },
     "metadata": {
      "needs_background": "light"
     },
     "output_type": "display_data"
    },
    {
     "name": "stdout",
     "output_type": "stream",
     "text": [
      "datapoint 3 test error tensor(0.0002)\n"
     ]
    },
    {
     "data": {
      "image/png": "[encoded data removed]",
      "text/plain": [
       "<Figure size 432x288 with 1 Axes>"
      ]
     },
     "metadata": {
      "needs_background": "light"
     },
     "output_type": "display_data"
    },
    {
     "data": {
      "image/png": "[encoded data removed]",
      "text/plain": [
       "<Figure size 432x288 with 1 Axes>"
      ]
     },
     "metadata": {
      "needs_background": "light"
     },
     "output_type": "display_data"
    },
    {
     "name": "stdout",
     "output_type": "stream",
     "text": [
      "datapoint 4 test error tensor(0.0002)\n"
     ]
    },
    {
     "data": {
      "image/png": "[encoded data removed]",
      "text/plain": [
       "<Figure size 432x288 with 1 Axes>"
      ]
     },
     "metadata": {
      "needs_background": "light"
     },
     "output_type": "display_data"
    },
    {
     "data": {
      "image/png": "[encoded data removed]",
      "text/plain": [
       "<Figure size 432x288 with 1 Axes>"
      ]
     },
     "metadata": {
      "needs_background": "light"
     },
     "output_type": "display_data"
    }
   ],
   "source": [
    "# Image reconstruction on test set with best network 1\n",
    "report_all_net_perf(test_data.data[0:5, :].float(), \n",
    "                    rootdir='runs/03-19/03-19-17-40-38-DemoPl-V2-ComposedAutoEncoderWithMaxPool-MSE-', \n",
    "                    showfig=True)"
   ]
  },
  {
   "cell_type": "code",
   "execution_count": 57,
   "metadata": {},
   "outputs": [
    {
     "name": "stdout",
     "output_type": "stream",
     "text": [
      "Model File: runs/03-18/03-18-17-45-23-DemoPl-V2-ComposedAutoEncoderNoMaxPool-SmoothL1-/autoenc.pth\n",
      "datapoint 0 test error tensor(0.0003)\n"
     ]
    },
    {
     "data": {
      "image/png": "[encoded data removed]",
      "text/plain": [
       "<Figure size 432x288 with 1 Axes>"
      ]
     },
     "metadata": {
      "needs_background": "light"
     },
     "output_type": "display_data"
    },
    {
     "data": {
      "image/png": "[encoded data removed]",
      "text/plain": [
       "<Figure size 432x288 with 1 Axes>"
      ]
     },
     "metadata": {
      "needs_background": "light"
     },
     "output_type": "display_data"
    },
    {
     "name": "stdout",
     "output_type": "stream",
     "text": [
      "datapoint 1 test error tensor(0.0004)\n"
     ]
    },
    {
     "data": {
      "image/png": "[encoded data removed]",
      "text/plain": [
       "<Figure size 432x288 with 1 Axes>"
      ]
     },
     "metadata": {
      "needs_background": "light"
     },
     "output_type": "display_data"
    },
    {
     "data": {
      "image/png": "[encoded data removed]",
      "text/plain": [
       "<Figure size 432x288 with 1 Axes>"
      ]
     },
     "metadata": {
      "needs_background": "light"
     },
     "output_type": "display_data"
    },
    {
     "name": "stdout",
     "output_type": "stream",
     "text": [
      "datapoint 2 test error tensor(0.0003)\n"
     ]
    },
    {
     "data": {
      "image/png": "[encoded data removed]",
      "text/plain": [
       "<Figure size 432x288 with 1 Axes>"
      ]
     },
     "metadata": {
      "needs_background": "light"
     },
     "output_type": "display_data"
    },
    {
     "data": {
      "image/png": "[encoded data removed]",
      "text/plain": [
       "<Figure size 432x288 with 1 Axes>"
      ]
     },
     "metadata": {
      "needs_background": "light"
     },
     "output_type": "display_data"
    },
    {
     "name": "stdout",
     "output_type": "stream",
     "text": [
      "datapoint 3 test error tensor(0.0003)\n"
     ]
    },
    {
     "data": {
      "image/png": "[encoded data removed]",
      "text/plain": [
       "<Figure size 432x288 with 1 Axes>"
      ]
     },
     "metadata": {
      "needs_background": "light"
     },
     "output_type": "display_data"
    },
    {
     "data": {
      "image/png": "[encoded data removed]",
      "text/plain": [
       "<Figure size 432x288 with 1 Axes>"
      ]
     },
     "metadata": {
      "needs_background": "light"
     },
     "output_type": "display_data"
    },
    {
     "name": "stdout",
     "output_type": "stream",
     "text": [
      "datapoint 4 test error tensor(0.0002)\n"
     ]
    },
    {
     "data": {
      "image/png": "[encoded data removed]",
      "text/plain": [
       "<Figure size 432x288 with 1 Axes>"
      ]
     },
     "metadata": {
      "needs_background": "light"
     },
     "output_type": "display_data"
    },
    {
     "data": {
      "image/png": "[encoded data removed]",
      "text/plain": [
       "<Figure size 432x288 with 1 Axes>"
      ]
     },
     "metadata": {
      "needs_background": "light"
     },
     "output_type": "display_data"
    }
   ],
   "source": [
    "# Image reconstruction on test set with best network 2\n",
    "report_all_net_perf(test_data.data[0:5, :].float(),\n",
    "                    rootdir='runs/03-18/03-18-17-45-23-DemoPl-V2-ComposedAutoEncoderNoMaxPool-SmoothL1-', \n",
    "                    showfig=True)"
   ]
  },
  {
   "cell_type": "code",
   "execution_count": null,
   "metadata": {},
   "outputs": [],
   "source": [
    "np.set_printoptions(**opt)"
   ]
  }
 ],
 "metadata": {
  "kernelspec": {
   "display_name": "demopl",
   "language": "python",
   "name": "demopl"
  },
  "language_info": {
   "codemirror_mode": {
    "name": "ipython",
    "version": 3
   },
   "file_extension": ".py",
   "mimetype": "text/x-python",
   "name": "python",
   "nbconvert_exporter": "python",
   "pygments_lexer": "ipython3",
   "version": "3.6.8"
  }
 },
 "nbformat": 4,
 "nbformat_minor": 4
}
