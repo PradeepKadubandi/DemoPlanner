{
 "cells": [
  {
   "cell_type": "code",
   "execution_count": 2,
   "metadata": {},
   "outputs": [],
   "source": [
    "%load_ext autoreload\n",
    "%autoreload 2"
   ]
  },
  {
   "cell_type": "code",
   "execution_count": 60,
   "metadata": {},
   "outputs": [],
   "source": [
    "import numpy as np\n",
    "import matplotlib.pyplot as plt\n",
    "import time\n",
    "import os\n",
    "import glob\n",
    "\n",
    "import torch\n",
    "import torch.nn as nn\n",
    "import torch.nn.functional as F\n",
    "from torch.utils.data import DataLoader\n",
    "import torch.optim as optim\n",
    "from collections import OrderedDict\n",
    "\n",
    "from adapters import *\n",
    "from dataset import NumpyCsvDataSet\n",
    "from runner import ExptRunner\n",
    "from runner import SpecialExptRunner\n",
    "# from networks.autoencoder import AutoEncoder\n",
    "from networks.imageencoder import ImageEncoder\n",
    "from networks.imagedecoder import ImageDecoder\n",
    "from networks.imagedecoder import ImageDecoderFlatInput\n",
    "from networks.composedautoencoder import ComposedAutoEncoder\n",
    "from networks.DenseAutoEncoder import DenseAutoEncoder\n",
    "from networks.ConvVae import ConvVae\n",
    "from networks.vae import VAE\n",
    "# from networks.etpr.autoencoder import autoencoder as etprautoenc\n",
    "from networks.dense import Dense\n",
    "from networks.dense import DenseForPolicy\n",
    "from networks.lossfunctions import *\n",
    "from networks.multinet import MultiNet\n",
    "from networks.multinet import MultiEncoderNet\n",
    "from helpers import ReportResults\n",
    "import utils"
   ]
  },
  {
   "cell_type": "code",
   "execution_count": 4,
   "metadata": {},
   "outputs": [],
   "source": [
    "opt = np.get_printoptions()\n",
    "np.set_printoptions(threshold=np.inf)"
   ]
  },
  {
   "cell_type": "code",
   "execution_count": 5,
   "metadata": {},
   "outputs": [
    {
     "name": "stdout",
     "output_type": "stream",
     "text": [
      "cpu\n"
     ]
    }
   ],
   "source": [
    "device = torch.device(\"cuda:2\" if torch.cuda.is_available() else \"cpu\")\n",
    "print (device)"
   ]
  },
  {
   "cell_type": "code",
   "execution_count": 6,
   "metadata": {},
   "outputs": [
    {
     "name": "stdout",
     "output_type": "stream",
     "text": [
      "Time Taken: 30.871170043945312 sec\n"
     ]
    }
   ],
   "source": [
    "start = time.time()\n",
    "data_folder = 'data/demoplanner/version1'\n",
    "v1_train_data = NumpyCsvDataSet(data_folder + '/train.csv', device=device)\n",
    "v1_test_data = NumpyCsvDataSet(data_folder + '/test.csv', device=device)\n",
    "print (\"Time Taken: {} sec\".format(time.time() - start))"
   ]
  },
  {
   "cell_type": "code",
   "execution_count": 101,
   "metadata": {},
   "outputs": [
    {
     "name": "stdout",
     "output_type": "stream",
     "text": [
      "Time Taken: 403.2247488498688 sec\n"
     ]
    }
   ],
   "source": [
    "start = time.time()\n",
    "data_folder = 'data/demoplanner/version2'\n",
    "v2_train_data = NumpyCsvDataSet(data_folder + '/train.csv', device=device)\n",
    "v2_test_data = NumpyCsvDataSet(data_folder + '/test.csv', device=device)\n",
    "print (\"Time Taken: {} sec\".format(time.time() - start))"
   ]
  },
  {
   "cell_type": "code",
   "execution_count": 7,
   "metadata": {},
   "outputs": [],
   "source": [
    "train_data = v1_train_data\n",
    "test_data = v1_test_data"
   ]
  },
  {
   "cell_type": "code",
   "execution_count": 61,
   "metadata": {},
   "outputs": [
    {
     "name": "stdout",
     "output_type": "stream",
     "text": [
      "torch.Size([13280, 2058])\n",
      "torch.Size([1341, 2058])\n",
      "cpu\n",
      "cpu\n",
      "torch.float32\n",
      "torch.float32\n"
     ]
    }
   ],
   "source": [
    "print (train_data.data.shape)\n",
    "print (test_data.data.shape)\n",
    "\n",
    "print (train_data.data.device)\n",
    "print (test_data.data.device)\n",
    "\n",
    "print (train_data.data.dtype)\n",
    "print (test_data.data.dtype)"
   ]
  },
  {
   "cell_type": "code",
   "execution_count": 115,
   "metadata": {},
   "outputs": [
    {
     "data": {
      "text/plain": [
       "<All keys matched successfully>"
      ]
     },
     "execution_count": 115,
     "metadata": {},
     "output_type": "execute_result"
    }
   ],
   "source": [
    "pretrain_policy = Dense([4, 16, 16, 6], use_last_act=False, prefix='enc')\n",
    "pretrain_policy.load_state_dict(torch.load('runs/04-08-10-24-50-Policy-V2-Dense-CE/autoenc.pth', \n",
    "                                  map_location=device))\n",
    "\n",
    "pretrain_dynamics = Dense([4, 16, 2], prefix='enc')\n",
    "pretrain_dynamics.load_state_dict(torch.load('runs/03-31-18-02-52-Dynamics-V1-Dense-SmoothL1/autoenc.pth', \n",
    "                                    map_location=device))\n",
    "\n",
    "pretrain_imgEncDec = ComposedAutoEncoder(layers_channels=[16,16,16,16], useMaxPool=True, device=device)\n",
    "pretrain_imgEncDec.load_state_dict(torch.load('runs/03-28-14-10-20-DemoPl-V2-ComposedAutoEncoderWithMaxPool-SmoothL1-/autoenc.pth',\n",
    "                               map_location=device))"
   ]
  },
  {
   "cell_type": "code",
   "execution_count": null,
   "metadata": {},
   "outputs": [],
   "source": [
    "def load_mapped_state_dict(target, source, tPrefix, sPrefix):\n",
    "    new_dict = target.state_dict()\n",
    "    for p,v in source.state_dict().items():\n",
    "        targetKey = p.replace(sPrefix, tPrefix)\n",
    "        if targetKey in target.state_dict().keys():\n",
    "            new_dict[targetKey] = v\n",
    "    target.load_state_dict(new_dict)"
   ]
  },
  {
   "cell_type": "code",
   "execution_count": 104,
   "metadata": {},
   "outputs": [],
   "source": [
    "net_builder = lambda: MultiNet(policy=Dense([4, 16, 16, 6], use_last_act=False),\n",
    "                               dynamics=Dense([4, 16, 2]))"
   ]
  },
  {
   "cell_type": "code",
   "execution_count": 89,
   "metadata": {},
   "outputs": [],
   "source": [
    "img_layers = [16,16,16,16]\n",
    "z_dim = 64 # This should be set based on above img_layers\n",
    "env_layers = [4, 16, z_dim]\n",
    "in_channels = 1\n",
    "img_encoder = lambda: ImageEncoder(in_channels, img_layers, 'imgenc', useMaxPool=True, addFlatten=True)\n",
    "img_decoder = lambda: ImageDecoderFlatInput(z_dim, list(reversed(img_layers)), in_channels, 'imgdec', useSigmoid=True)\n",
    "env_encoder = lambda: Dense(env_layers, use_last_act=False, prefix='envenc')\n",
    "env_decoder = lambda: Dense(list(reversed(env_layers)), last_act='sigmoid', prefix='envdec')\n",
    "combined = lambda l1, l2: nn.Sequential(OrderedDict([\n",
    "                              ('EncNet', l1()),\n",
    "                              ('DecNet', l2()),\n",
    "                            ]))"
   ]
  },
  {
   "cell_type": "code",
   "execution_count": 118,
   "metadata": {},
   "outputs": [
    {
     "name": "stdout",
     "output_type": "stream",
     "text": [
      "Parameter containing:\n",
      "tensor([[ 0.3559,  0.2051,  0.4631, -0.3775],\n",
      "        [ 0.4513, -0.3036,  0.1314,  0.0291],\n",
      "        [ 0.2754, -0.1573, -0.3654,  0.3527],\n",
      "        [ 0.4962,  0.0783, -0.1249,  0.0386],\n",
      "        [-0.4247,  0.0354, -0.0232, -0.3170],\n",
      "        [-0.1845,  0.1161,  0.4885, -0.0458],\n",
      "        [ 0.1966,  0.2223,  0.0383,  0.2507],\n",
      "        [ 0.1853, -0.3856, -0.3157, -0.3622],\n",
      "        [ 0.3128,  0.4363,  0.4375,  0.0511],\n",
      "        [-0.4965,  0.0332,  0.0081, -0.3016],\n",
      "        [ 0.1978,  0.2233,  0.1330,  0.0160],\n",
      "        [-0.3559,  0.1614, -0.0499, -0.4496],\n",
      "        [ 0.1967, -0.1545,  0.2343,  0.2660],\n",
      "        [ 0.0617,  0.1519,  0.1517, -0.2094],\n",
      "        [ 0.3149, -0.1406, -0.2972, -0.0117],\n",
      "        [ 0.1319,  0.1511,  0.2159,  0.3919]], requires_grad=True)\n",
      "Parameter containing:\n",
      "tensor([[ 0.2971, -0.3855,  0.1434, -0.2455],\n",
      "        [ 0.4880,  0.1804, -0.1671, -0.3590],\n",
      "        [-0.3691, -0.0402, -0.2224,  0.4718],\n",
      "        [ 0.3345,  0.0431, -0.2351,  0.2344],\n",
      "        [-0.0445, -0.3115, -0.1494, -0.4103],\n",
      "        [ 0.0436, -0.1628, -0.0897, -0.2533],\n",
      "        [-0.4410,  0.4998,  0.3275,  0.4771],\n",
      "        [-0.1627, -0.1819,  0.1100,  0.2470],\n",
      "        [ 0.1120, -0.4517,  0.4056,  0.4630],\n",
      "        [ 0.1327, -0.0278,  0.0971,  0.1239],\n",
      "        [ 0.0126,  0.3924,  0.1980, -0.2262],\n",
      "        [-0.4085, -0.1236, -0.4318,  0.1656],\n",
      "        [-0.1427,  0.0097,  0.3306, -0.1646],\n",
      "        [ 0.0697, -0.1933, -0.4191,  0.3228],\n",
      "        [-0.2213, -0.0970,  0.3828,  0.1845],\n",
      "        [ 0.2580,  0.0624,  0.4038,  0.4320]], requires_grad=True)\n"
     ]
    }
   ],
   "source": [
    "n = net_builder()\n",
    "print (next(n.policy.parameters()))\n",
    "print (next(n.dynamics.parameters()))"
   ]
  },
  {
   "cell_type": "code",
   "execution_count": 91,
   "metadata": {},
   "outputs": [
    {
     "name": "stdout",
     "output_type": "stream",
     "text": [
      "odict_keys(['encoder.net.enc_conv0.weight', 'encoder.net.enc_conv0.bias', 'encoder.net.enc_conv1.weight', 'encoder.net.enc_conv1.bias', 'encoder.net.enc_conv2.weight', 'encoder.net.enc_conv2.bias', 'encoder.net.enc_conv3.weight', 'encoder.net.enc_conv3.bias', 'decoder.net.dec_convt0.weight', 'decoder.net.dec_convt0.bias', 'decoder.net.dec_convt1.weight', 'decoder.net.dec_convt1.bias', 'decoder.net.dec_convt2.weight', 'decoder.net.dec_convt2.bias', 'decoder.net.dec_convt3.weight', 'decoder.net.dec_convt3.bias'])\n",
      "odict_keys(['EncNet.net.imgenc_conv0.weight', 'EncNet.net.imgenc_conv0.bias', 'EncNet.net.imgenc_conv1.weight', 'EncNet.net.imgenc_conv1.bias', 'EncNet.net.imgenc_conv2.weight', 'EncNet.net.imgenc_conv2.bias', 'EncNet.net.imgenc_conv3.weight', 'EncNet.net.imgenc_conv3.bias', 'DecNet.net.envdec_fc0.weight', 'DecNet.net.envdec_fc0.bias', 'DecNet.net.envdec_fc1.weight', 'DecNet.net.envdec_fc1.bias'])\n"
     ]
    }
   ],
   "source": [
    "print (imgEncDec.state_dict().keys())\n",
    "print (n.state_dict().keys())"
   ]
  },
  {
   "cell_type": "code",
   "execution_count": 122,
   "metadata": {},
   "outputs": [],
   "source": [
    "def env_enc_pretrained_img_dec():\n",
    "    net = combined(env_encoder, img_decoder)\n",
    "    load_mapped_state_dict(net, pretrain_imgEncDec, 'DecNet.net.imgdec', 'decoder.net.dec')\n",
    "    return net\n",
    "\n",
    "def pretrained_img_enc_env_dec():\n",
    "    net = combined(img_encoder, env_decoder)\n",
    "    load_mapped_state_dict(net, pretrain_imgEncDec, 'EncNet.net.imgenc', 'encoder.net.enc')\n",
    "    return net\n",
    "\n",
    "def multinet_with_pretrained_policy_and_dynamics():\n",
    "    net = MultiNet(policy=Dense([4, 16, 16, 6], use_last_act=False, prefix='enc'),\n",
    "                   dynamics=Dense([4, 16, 2], prefix='enc'))\n",
    "    net.policy.load_state_dict(pretrain_policy.state_dict())\n",
    "    net.dynamics.load_state_dict(pretrain_dynamics.state_dict())\n",
    "    return net"
   ]
  },
  {
   "cell_type": "code",
   "execution_count": 9,
   "metadata": {},
   "outputs": [],
   "source": [
    "def run_expts(train_epochs):\n",
    "    runners = []\n",
    "    for i in range(len(expts)):\n",
    "        inputs = expts[i]\n",
    "        net = inputs[1]()\n",
    "        net = net.to(device)\n",
    "        runner = ExptRunner(inputs[0], net, train_data, test_data, \n",
    "                            inputs[2], inputs[3], inputs[4], data_to_img_func=inputs[5], device=device)\n",
    "        optimizer = inputs[6](net) if inputs[6] else None\n",
    "        train_and_test(runner, train_epochs, optimizer)\n",
    "        runners.append(runner)\n",
    "\n",
    "def train_and_test(runner, train_epochs, optimizer=None):\n",
    "    print (\"Experiment logs folder: {}\".format(runner.log_folder))\n",
    "    runner.train(train_epochs, optimizer, shouldShowReconstruction=False)\n",
    "    runner.test()    "
   ]
  },
  {
   "cell_type": "code",
   "execution_count": 123,
   "metadata": {},
   "outputs": [
    {
     "name": "stdout",
     "output_type": "stream",
     "text": [
      "Parameter containing:\n",
      "tensor([[ 2.1541e+00,  1.3347e+00, -1.5179e+00, -8.8442e-01],\n",
      "        [-1.6891e+00, -1.3337e-01,  2.0345e+00,  8.4390e-01],\n",
      "        [-1.2387e+00,  6.7191e-01,  1.8659e+00, -5.8997e-01],\n",
      "        [-1.1722e+00, -1.4820e+00,  1.3749e+00,  1.2455e+00],\n",
      "        [-1.4007e+00,  1.6215e+00,  1.4609e+00, -1.6081e+00],\n",
      "        [ 1.1641e+00,  1.8706e+00, -9.6192e-01, -1.5849e+00],\n",
      "        [-2.2746e-01, -1.3408e-01,  1.0522e-01,  3.3120e-01],\n",
      "        [ 1.8129e+00,  1.8907e+00, -4.4704e-01, -9.0037e-01],\n",
      "        [ 1.6567e+00, -1.1527e+00, -5.3506e-01,  1.9557e+00],\n",
      "        [-1.1602e+00, -9.2956e-01,  1.3206e+00,  1.2268e+00],\n",
      "        [-1.7325e+00,  1.7219e+00,  1.6757e+00, -1.6814e+00],\n",
      "        [-3.3325e-01, -4.3241e-02,  2.2437e-02,  1.2709e-01],\n",
      "        [ 1.7772e+00,  1.8430e+00, -1.8119e+00, -1.8316e+00],\n",
      "        [ 1.3270e-01,  2.5540e-01, -2.1870e-01, -3.3522e-02],\n",
      "        [-9.2949e-04, -1.1418e+00,  6.2241e-01,  2.0301e+00],\n",
      "        [ 1.3402e+00, -1.8480e+00, -1.5349e+00,  1.6890e+00]],\n",
      "       requires_grad=True)\n",
      "Parameter containing:\n",
      "tensor([[ 0.6315,  0.5252, -1.4529,  1.3221],\n",
      "        [-0.2422, -0.4778, -0.0323, -0.0992],\n",
      "        [ 1.2078,  0.8571, -1.3279, -1.0013],\n",
      "        [ 0.4292,  0.5588,  1.0498,  1.3932],\n",
      "        [ 0.1322,  0.6854, -0.7275, -0.2509],\n",
      "        [ 0.6459,  0.7039,  1.4292,  0.6820],\n",
      "        [ 0.2269,  0.3714,  1.3771, -0.6414],\n",
      "        [-0.4000,  0.3191, -0.3777, -0.1762],\n",
      "        [ 0.4480, -0.4256,  0.0281, -0.1863],\n",
      "        [-0.1188,  0.0784, -0.2800, -0.3971],\n",
      "        [ 0.8163,  0.6318,  1.4086,  1.2726],\n",
      "        [ 0.2968,  0.1287,  0.0287,  0.0656],\n",
      "        [ 0.2667,  0.2999,  0.1115,  1.4154],\n",
      "        [ 0.4999,  0.4296,  1.3568, -1.3163],\n",
      "        [-0.1452, -0.1258, -0.4602, -0.2900],\n",
      "        [ 0.3102,  0.3105,  0.8178, -0.9980]], requires_grad=True)\n"
     ]
    }
   ],
   "source": [
    "net = multinet_with_pretrained_policy_and_dynamics()\n",
    "print (next(net.policy.parameters()))\n",
    "print (next(net.dynamics.parameters()))"
   ]
  },
  {
   "cell_type": "code",
   "execution_count": 124,
   "metadata": {},
   "outputs": [],
   "source": [
    "expts = [\n",
    "    ['FineTunePolicyDynamics-V2-AdamOptimWith_LrMinus4-SmoothL1',\n",
    "     multinet_with_pretrained_policy_and_dynamics,\n",
    "     identity_adapter,\n",
    "     smooth_l1_loss_adapter,\n",
    "     dynamics_gradient_ground_truth_adapter,\n",
    "     None,\n",
    "     lambda net: optim.Adam(net.parameters(), lr=1e-4)],\n",
    "    ['FineTunePolicyDynamics-V2-AdamOptimWith_LrMinus5-SmoothL1',\n",
    "     multinet_with_pretrained_policy_and_dynamics,\n",
    "     identity_adapter,\n",
    "     smooth_l1_loss_adapter,\n",
    "     dynamics_gradient_ground_truth_adapter,\n",
    "     None,\n",
    "     lambda net: optim.Adam(net.parameters(), lr=1e-5)],\n",
    "    ['FineTunePolicyDynamics-V2-SGDOptimWith_LrMinus4_NoMomentum-SmoothL1', \n",
    "     multinet_with_pretrained_policy_and_dynamics,\n",
    "     identity_adapter, \n",
    "     smooth_l1_loss_adapter, \n",
    "     dynamics_gradient_ground_truth_adapter, \n",
    "     None,\n",
    "     lambda net: optim.SGD(net.parameters(), lr=1e-4)],\n",
    "    ['FineTunePolicyDynamics-V2-SGDOptimWith_LrMinus5_NoMomentum-SmoothL1', \n",
    "     multinet_with_pretrained_policy_and_dynamics,\n",
    "     identity_adapter, \n",
    "     smooth_l1_loss_adapter, \n",
    "     dynamics_gradient_ground_truth_adapter, \n",
    "     None,\n",
    "     lambda net: optim.SGD(net.parameters(), lr=1e-5)],\n",
    "    ['FineTunePolicyDynamics-V2-SGDOptimWith_LrMinus4_WithMomentum-SmoothL1', \n",
    "     multinet_with_pretrained_policy_and_dynamics,\n",
    "     identity_adapter, \n",
    "     smooth_l1_loss_adapter, \n",
    "     dynamics_gradient_ground_truth_adapter, \n",
    "     None,\n",
    "     lambda net: optim.SGD(net.parameters(), lr=1e-4, momentum=0.9)],\n",
    "    ['FineTunePolicyDynamics-V2-SGDOptimWith_LrMinus5_WithMomentum-SmoothL1', \n",
    "     multinet_with_pretrained_policy_and_dynamics,\n",
    "     identity_adapter, \n",
    "     smooth_l1_loss_adapter, \n",
    "     dynamics_gradient_ground_truth_adapter, \n",
    "     None,\n",
    "     lambda net: optim.SGD(net.parameters(), lr=1e-5, momentum=0.9)],\n",
    "]"
   ]
  },
  {
   "cell_type": "code",
   "execution_count": 125,
   "metadata": {},
   "outputs": [
    {
     "name": "stdout",
     "output_type": "stream",
     "text": [
      "Experiment logs folder: runs/04-17-18-45-58-FineTunePolicyDynamics-V2-AdamOptimWith_LrMinus4-SmoothL1\n",
      "Experiment logs folder: runs/04-17-18-47-06-FineTunePolicyDynamics-V2-AdamOptimWith_LrMinus5-SmoothL1\n",
      "Experiment logs folder: runs/04-17-18-48-04-FineTunePolicyDynamics-V2-SGDOptimWith_LrMinus4_NoMomentum-SmoothL1\n",
      "Experiment logs folder: runs/04-17-18-48-51-FineTunePolicyDynamics-V2-SGDOptimWith_LrMinus5_NoMomentum-SmoothL1\n",
      "Experiment logs folder: runs/04-17-18-49-43-FineTunePolicyDynamics-V2-SGDOptimWith_LrMinus4_WithMomentum-SmoothL1\n",
      "Experiment logs folder: runs/04-17-18-50-32-FineTunePolicyDynamics-V2-SGDOptimWith_LrMinus5_WithMomentum-SmoothL1\n"
     ]
    }
   ],
   "source": [
    "train_epochs = 10\n",
    "run_expts(train_epochs)"
   ]
  },
  {
   "cell_type": "code",
   "execution_count": 59,
   "metadata": {},
   "outputs": [
    {
     "name": "stdout",
     "output_type": "stream",
     "text": [
      "Experiment logs folder: runs/04-20-19-09-42-CombinedNet-V1-AlternateCombinationsPerEpoch-MSE\n"
     ]
    }
   ],
   "source": [
    "net = MultiEncoderNet().to(device)\n",
    "runner = SpecialExptRunner('CombinedNet-V1-AlternateCombinationsPerEpoch-MSE', net,\n",
    "                           train_data, test_data, device=device)\n",
    "print (\"Experiment logs folder: {}\".format(runner.log_folder))\n",
    "runner.train3(2)"
   ]
  },
  {
   "cell_type": "code",
   "execution_count": 21,
   "metadata": {},
   "outputs": [
    {
     "name": "stdout",
     "output_type": "stream",
     "text": [
      "Loss on test set at epoch 0, mini batch index 0 with combination ['I', 'I']: 0.02987826243042946\n",
      "Loss on test set at epoch 0, mini batch index 1 with combination ['E', 'E']: 0.019032321870326996\n",
      "Loss on test set at epoch 0, mini batch index 2 with combination ['I', 'E']: 0.024042878299951553\n",
      "Loss on test set at epoch 0, mini batch index 3 with combination ['E', 'I']: 0.029962103813886642\n",
      "Loss on test set at epoch 0, mini batch index 100 with combination ['I', 'I']: 0.029654700309038162\n",
      "Loss on test set at epoch 0, mini batch index 101 with combination ['E', 'E']: 0.014780594035983086\n",
      "Loss on test set at epoch 0, mini batch index 102 with combination ['I', 'E']: 0.021364621818065643\n",
      "Loss on test set at epoch 0, mini batch index 103 with combination ['E', 'I']: 0.0289880633354187\n",
      "Loss on test set at epoch 1, mini batch index 0 with combination ['I', 'I']: 0.029054583981633186\n",
      "Loss on test set at epoch 1, mini batch index 1 with combination ['E', 'E']: 0.013773190788924694\n",
      "Loss on test set at epoch 1, mini batch index 2 with combination ['I', 'E']: 0.02043914422392845\n",
      "Loss on test set at epoch 1, mini batch index 3 with combination ['E', 'I']: 0.02854890748858452\n",
      "Loss on test set at epoch 1, mini batch index 100 with combination ['I', 'I']: 0.02593616396188736\n",
      "Loss on test set at epoch 1, mini batch index 101 with combination ['E', 'E']: 0.010000515729188919\n",
      "Loss on test set at epoch 1, mini batch index 102 with combination ['I', 'E']: 0.018643172457814217\n",
      "Loss on test set at epoch 1, mini batch index 103 with combination ['E', 'I']: 0.02798105962574482\n"
     ]
    }
   ],
   "source": [
    "epochs = 2\n",
    "train_loader = DataLoader(train_data, batch_size=100, shuffle=True)\n",
    "# Training with one optimizer for all combinations\n",
    "opt = optim.Adam(net.parameters())\n",
    "crit = nn.MSELoss()\n",
    "combinations = {\n",
    "    0:['I', 'I'],\n",
    "    1:['E', 'E'],\n",
    "    2:['I', 'E'],\n",
    "    3:['E', 'I']\n",
    "}\n",
    "for e in range(epochs):\n",
    "    for i, data in enumerate(train_loader, 0):\n",
    "        comb = combinations[i%4]\n",
    "        net.setNetworksForForward(*comb)\n",
    "        ip_adapter = It_scaled_adapter if comb[0] == 'I' else XtYt_scaled_adapter\n",
    "        gt_adapter = It_scaled_adapter if comb[1] == 'I' else XtYt_scaled_adapter\n",
    "        ip = ip_adapter(data)\n",
    "        gt = gt_adapter(data)\n",
    "        op = net(ip)\n",
    "        loss = crit(op, gt)\n",
    "        opt.zero_grad()\n",
    "        loss.backward()\n",
    "        opt.step()\n",
    "        mBatchRem = i % 100\n",
    "        if 0 <= mBatchRem <= 3:\n",
    "            with torch.no_grad():\n",
    "                ip = ip_adapter(test_data)\n",
    "                gt = gt_adapter(test_data)\n",
    "                op = net(ip)\n",
    "                loss = crit(op, gt)\n",
    "                print ('Loss on test set at epoch {}, mini batch index {} with combination {}: {}'.format(e, i, comb, loss.item()))\n"
   ]
  },
  {
   "cell_type": "code",
   "execution_count": 126,
   "metadata": {},
   "outputs": [],
   "source": [
    "def build_reporter(checkpoint_file, useL1Loss=False):\n",
    "    rr = ReportResults(test_data.data, train_data.data, device,\n",
    "                       checkpoint_file, useL1Loss)\n",
    "    return rr"
   ]
  },
  {
   "cell_type": "code",
   "execution_count": 128,
   "metadata": {},
   "outputs": [
    {
     "name": "stdout",
     "output_type": "stream",
     "text": [
      "--------------------------------------------------------------\n",
      "runs/04-17/run1/04-17-16-18-22-EnvEncFixedImgDec-V2-Dense_ImageDecoderMaxPool-SmoothL1/train_checkpoint.tar\n",
      "--------------------------------------------------------------\n",
      "datapoint 0 test error 0.009120470844209194\n",
      "datapoint 1 test error 0.005518916994333267\n",
      "datapoint 2 test error 0.004766381811350584\n",
      "datapoint 3 test error 0.005364737473428249\n",
      "datapoint 4 test error 0.003259113524109125\n",
      "--------------------------------------------------------------\n",
      "runs/04-17/run1/04-17-18-33-10-FixedImgEncEnvDec-V2-ImageEncoderMaxPool_Dense-SmoothL1/train_checkpoint.tar\n",
      "--------------------------------------------------------------\n",
      "datapoint 0 test error 0.0002895758079830557\n",
      "datapoint 1 test error 0.00011081941920565441\n",
      "datapoint 2 test error 4.115376577829011e-05\n",
      "datapoint 3 test error 3.9934377127792686e-05\n",
      "datapoint 4 test error 9.88859756034799e-06\n",
      "--------------------------------------------------------------\n",
      "runs/04-17/run2/04-17-18-45-58-FineTunePolicyDynamics-V2-AdamOptimWith_LrMinus4-SmoothL1/train_checkpoint.tar\n",
      "--------------------------------------------------------------\n",
      "datapoint 0 test error 1.464505601234123e-07\n",
      "datapoint 1 test error 1.4647382329258107e-07\n",
      "datapoint 2 test error 1.46499175457393e-07\n",
      "datapoint 3 test error 2.4080918592517264e-07\n",
      "datapoint 4 test error 2.408085038041463e-07\n",
      "--------------------------------------------------------------\n",
      "runs/04-17/run2/04-17-18-47-06-FineTunePolicyDynamics-V2-AdamOptimWith_LrMinus5-SmoothL1/train_checkpoint.tar\n",
      "--------------------------------------------------------------\n",
      "datapoint 0 test error 1.6024082469812129e-06\n",
      "datapoint 1 test error 1.6025095419536228e-06\n",
      "datapoint 2 test error 1.6026129969759495e-06\n",
      "datapoint 3 test error 2.7417149794928264e-06\n",
      "datapoint 4 test error 2.7416631382948253e-06\n",
      "--------------------------------------------------------------\n",
      "runs/04-17/run2/04-17-18-48-04-FineTunePolicyDynamics-V2-SGDOptimWith_LrMinus4_NoMomentum-SmoothL1/train_checkpoint.tar\n",
      "--------------------------------------------------------------\n",
      "datapoint 0 test error 4.15678459830815e-06\n",
      "datapoint 1 test error 4.157276634941809e-06\n",
      "datapoint 2 test error 4.1578186937840655e-06\n",
      "datapoint 3 test error 9.003121704154182e-06\n",
      "datapoint 4 test error 9.00218674360076e-06\n",
      "--------------------------------------------------------------\n",
      "runs/04-17/run2/04-17-18-48-51-FineTunePolicyDynamics-V2-SGDOptimWith_LrMinus5_NoMomentum-SmoothL1/train_checkpoint.tar\n",
      "--------------------------------------------------------------\n",
      "datapoint 0 test error 4.1567773223505355e-06\n",
      "datapoint 1 test error 4.157268904236844e-06\n",
      "datapoint 2 test error 4.1578109630791005e-06\n",
      "datapoint 3 test error 9.00310533324955e-06\n",
      "datapoint 4 test error 9.00216673471732e-06\n",
      "--------------------------------------------------------------\n",
      "runs/04-17/run2/04-17-18-49-43-FineTunePolicyDynamics-V2-SGDOptimWith_LrMinus4_WithMomentum-SmoothL1/train_checkpoint.tar\n",
      "--------------------------------------------------------------\n",
      "datapoint 0 test error 4.1569378481653985e-06\n",
      "datapoint 1 test error 4.157426701567601e-06\n",
      "datapoint 2 test error 4.157965577178402e-06\n",
      "datapoint 3 test error 9.003373634186573e-06\n",
      "datapoint 4 test error 9.002442311611958e-06\n",
      "--------------------------------------------------------------\n",
      "runs/04-17/run2/04-17-18-50-32-FineTunePolicyDynamics-V2-SGDOptimWith_LrMinus5_WithMomentum-SmoothL1/train_checkpoint.tar\n",
      "--------------------------------------------------------------\n",
      "datapoint 0 test error 4.1567773223505355e-06\n",
      "datapoint 1 test error 4.157268904236844e-06\n",
      "datapoint 2 test error 4.1578109630791005e-06\n",
      "datapoint 3 test error 9.00310533324955e-06\n",
      "datapoint 4 test error 9.00216673471732e-06\n"
     ]
    }
   ],
   "source": [
    "for checkpoint_file in utils.enumerate_files('runs/04-17/'):\n",
    "    rr = build_reporter(checkpoint_file)\n",
    "    print ('--------------------------------------------------------------')\n",
    "    print (checkpoint_file)\n",
    "    print ('--------------------------------------------------------------')\n",
    "    rr.eval_test_samples()"
   ]
  },
  {
   "cell_type": "code",
   "execution_count": null,
   "metadata": {},
   "outputs": [
    {
     "name": "stdout",
     "output_type": "stream",
     "text": [
      "Time,Goal,DataSet,Network,Loss(Training),TestLoss,TrainLoss\n",
      "04:17:16:18:22,EnvEncFixedImgDec,V2,Dense_ImageDecoderMaxPool,SmoothL1,0.004931663163006306,0.004976250696927309\n"
     ]
    }
   ],
   "source": [
    "print('Time,Goal,DataSet,Network,Loss(Training),TestLoss,TrainLoss')\n",
    "for checkpoint_file in utils.enumerate_files('runs/04-17/'):\n",
    "    rr = build_reporter(checkpoint_file)\n",
    "    rr.eval_performance_metrics()"
   ]
  },
  {
   "cell_type": "code",
   "execution_count": 31,
   "metadata": {},
   "outputs": [
    {
     "name": "stdout",
     "output_type": "stream",
     "text": [
      "Time,Goal,DataSet,Network,Loss(Training),TestLoss,TrainLoss\n",
      "04:07:17:58:07,Policy,V1,Dense,CE,1.2633792161941528,1.2391564846038818\n",
      "04:07:19:03:09,Policy,V2,Dense,CE,1.1975611448287964,1.1838151216506958\n",
      "04:07:19:16:20,Policy,V2,Dense,CE,1.1645100116729736,1.177262306213379\n",
      "04:08:05:39:29,Policy,V2,DenseForPolicy,CE,1.4296996593475342,1.3790206909179688\n",
      "04:08:05:48:18,Policy,V2,DenseForPolicy,CE,1.3616671562194824,1.3848485946655273\n",
      "04:08:10:17:06,Policy,V2,Dense,CE,2.801307346089743e-06,2.7218900413572555e-06\n",
      "04:08:10:24:50,Policy,V2,Dense,CE,1.96190711676536e-07,1.5136279785110673e-07\n"
     ]
    }
   ],
   "source": [
    "rr.generate_csv_comparison_report(test_data_float, train_data_float,\n",
    "                   rootdir='runs/04-07')"
   ]
  },
  {
   "cell_type": "code",
   "execution_count": 32,
   "metadata": {},
   "outputs": [
    {
     "name": "stdout",
     "output_type": "stream",
     "text": [
      "Folder: 04-07-17-58-07-Policy-V1-Dense-CE\n",
      "tensor([[0, 1],\n",
      "        [0, 0],\n",
      "        [0, 1],\n",
      "        [0, 1],\n",
      "        [0, 1],\n",
      "        [2, 0],\n",
      "        [2, 0],\n",
      "        [2, 0],\n",
      "        [2, 0],\n",
      "        [2, 1]])\n",
      "tensor([[9.9892e-01, 1.1768e-02, 4.4407e-06, 6.9097e-01, 4.3719e-08, 5.8148e-05],\n",
      "        [9.8408e-01, 4.1556e-02, 1.0096e-03, 9.8178e-01, 5.3358e-06, 1.9832e-04],\n",
      "        [1.0000e+00, 1.0968e-05, 2.3005e-34, 5.3218e-30, 2.1840e-32, 2.9180e-05],\n",
      "        [1.0000e+00, 4.4320e-05, 4.1472e-32, 7.9823e-29, 2.2644e-30, 4.3043e-04],\n",
      "        [9.9999e-01, 1.9323e-04, 6.4159e-30, 1.2560e-27, 2.0004e-28, 5.3637e-03],\n",
      "        [2.7807e-11, 4.0247e-02, 9.9016e-01, 9.9007e-01, 3.9920e-02, 2.1634e-12],\n",
      "        [1.2382e-08, 3.5409e-02, 9.9082e-01, 9.9139e-01, 3.6082e-02, 8.6834e-10],\n",
      "        [4.4673e-06, 3.4880e-02, 9.9111e-01, 9.9073e-01, 3.2762e-02, 3.6731e-07],\n",
      "        [1.6327e-03, 3.4472e-02, 9.9060e-01, 9.8911e-01, 2.6565e-02, 1.5856e-04],\n",
      "        [0.0000e+00, 7.8143e-03, 9.9971e-01, 0.0000e+00, 9.5463e-01, 5.1911e-02]],\n",
      "       grad_fn=<SigmoidBackward>)\n",
      "tensor(1.3659, grad_fn=<AddBackward0>)\n",
      "tensor([0.5544, 0.5675, 0.5514, 0.5515, 0.5515, 0.5643, 0.5630, 0.5628, 0.5632,\n",
      "        0.5532], grad_fn=<NllLossBackward>)\n",
      "tensor([1.3852, 0.5593, 1.0986, 1.0988, 1.1004, 0.5643, 0.5629, 0.5625, 0.5618,\n",
      "        0.5825], grad_fn=<NllLossBackward>)\n",
      "-----------------------------------------\n",
      "Folder: 04-07-19-03-09-Policy-V2-Dense-CE\n",
      "tensor([[0, 1],\n",
      "        [0, 0],\n",
      "        [0, 1],\n",
      "        [0, 1],\n",
      "        [0, 1],\n",
      "        [2, 0],\n",
      "        [2, 0],\n",
      "        [2, 0],\n",
      "        [2, 0],\n",
      "        [2, 1]])\n",
      "tensor([[1.0000e+00, 0.0000e+00, 0.0000e+00, 4.8376e-09, 1.0000e+00, 0.0000e+00],\n",
      "        [1.0000e+00, 0.0000e+00, 0.0000e+00, 1.0000e+00, 1.1702e-07, 1.7503e-35],\n",
      "        [1.0000e+00, 0.0000e+00, 0.0000e+00, 0.0000e+00, 1.0000e+00, 0.0000e+00],\n",
      "        [1.0000e+00, 0.0000e+00, 0.0000e+00, 0.0000e+00, 1.0000e+00, 0.0000e+00],\n",
      "        [1.0000e+00, 0.0000e+00, 0.0000e+00, 0.0000e+00, 1.0000e+00, 0.0000e+00],\n",
      "        [0.0000e+00, 0.0000e+00, 1.0000e+00, 1.0000e+00, 9.2038e-08, 0.0000e+00],\n",
      "        [0.0000e+00, 0.0000e+00, 1.0000e+00, 1.0000e+00, 8.8851e-08, 0.0000e+00],\n",
      "        [0.0000e+00, 0.0000e+00, 1.0000e+00, 1.0000e+00, 8.5822e-08, 0.0000e+00],\n",
      "        [7.1500e-36, 0.0000e+00, 1.0000e+00, 1.0000e+00, 8.3050e-08, 3.9426e-35],\n",
      "        [0.0000e+00, 0.0000e+00, 1.0000e+00, 0.0000e+00, 1.0000e+00, 9.7490e-24]],\n",
      "       grad_fn=<SigmoidBackward>)\n",
      "tensor(1.1029, grad_fn=<AddBackward0>)\n",
      "tensor([0.5514, 0.5514, 0.5514, 0.5514, 0.5514, 0.5514, 0.5514, 0.5514, 0.5514,\n",
      "        0.5514], grad_fn=<NllLossBackward>)\n",
      "tensor([0.5514, 0.5514, 0.5514, 0.5514, 0.5514, 0.5514, 0.5514, 0.5514, 0.5514,\n",
      "        0.5514], grad_fn=<NllLossBackward>)\n",
      "-----------------------------------------\n",
      "Folder: 04-07-19-16-20-Policy-V2-Dense-CE\n",
      "tensor([[0, 1],\n",
      "        [0, 0],\n",
      "        [0, 1],\n",
      "        [0, 1],\n",
      "        [0, 1],\n",
      "        [2, 0],\n",
      "        [2, 0],\n",
      "        [2, 0],\n",
      "        [2, 0],\n",
      "        [2, 1]])\n",
      "tensor([[1.0000e+00, 1.0496e-22, 0.0000e+00, 8.0194e-15, 1.0000e+00, 0.0000e+00],\n",
      "        [1.0000e+00, 8.8153e-09, 5.7709e-36, 1.0000e+00, 3.0052e-13, 0.0000e+00],\n",
      "        [1.0000e+00, 0.0000e+00, 0.0000e+00, 0.0000e+00, 1.0000e+00, 0.0000e+00],\n",
      "        [1.0000e+00, 0.0000e+00, 0.0000e+00, 0.0000e+00, 1.0000e+00, 0.0000e+00],\n",
      "        [1.0000e+00, 0.0000e+00, 0.0000e+00, 0.0000e+00, 1.0000e+00, 0.0000e+00],\n",
      "        [0.0000e+00, 7.5242e-11, 1.0000e+00, 1.0000e+00, 0.0000e+00, 0.0000e+00],\n",
      "        [0.0000e+00, 7.6010e-11, 1.0000e+00, 1.0000e+00, 0.0000e+00, 0.0000e+00],\n",
      "        [0.0000e+00, 7.6790e-11, 1.0000e+00, 1.0000e+00, 0.0000e+00, 0.0000e+00],\n",
      "        [5.5264e-26, 7.7575e-11, 1.0000e+00, 1.0000e+00, 0.0000e+00, 6.2055e-31],\n",
      "        [0.0000e+00, 0.0000e+00, 1.0000e+00, 0.0000e+00, 0.0000e+00, 3.5369e-23]],\n",
      "       grad_fn=<SigmoidBackward>)\n",
      "tensor(1.1576, grad_fn=<AddBackward0>)\n",
      "tensor([0.5514, 0.5514, 0.5514, 0.5514, 0.5514, 0.5514, 0.5514, 0.5514, 0.5514,\n",
      "        0.5514], grad_fn=<NllLossBackward>)\n",
      "tensor([0.5514, 0.5514, 0.5514, 0.5514, 0.5514, 0.5514, 0.5514, 0.5514, 0.5514,\n",
      "        1.0986], grad_fn=<NllLossBackward>)\n",
      "-----------------------------------------\n",
      "Folder: 04-08-05-39-29-Policy-V2-DenseForPolicy-CE\n",
      "tensor([[0, 1],\n",
      "        [0, 0],\n",
      "        [0, 1],\n",
      "        [0, 1],\n",
      "        [0, 1],\n",
      "        [2, 0],\n",
      "        [2, 0],\n",
      "        [2, 0],\n",
      "        [2, 0],\n",
      "        [2, 1]])\n",
      "tensor([[1.0000e+00, 9.1717e-12, 2.9568e-28, 1.0000e+00, 6.8184e-26, 1.3941e-14],\n",
      "        [9.9993e-01, 7.1005e-05, 1.7448e-14, 1.0000e+00, 7.8660e-19, 1.3876e-14],\n",
      "        [1.0000e+00, 0.0000e+00, 0.0000e+00, 0.0000e+00, 0.0000e+00, 1.0000e+00],\n",
      "        [1.0000e+00, 0.0000e+00, 0.0000e+00, 0.0000e+00, 0.0000e+00, 1.0000e+00],\n",
      "        [1.0000e+00, 0.0000e+00, 0.0000e+00, 0.0000e+00, 0.0000e+00, 1.0000e+00],\n",
      "        [0.0000e+00, 7.3404e-05, 9.9993e-01, 9.9989e-01, 1.1058e-04, 0.0000e+00],\n",
      "        [4.7098e-42, 7.0182e-05, 9.9993e-01, 9.9989e-01, 1.0751e-04, 1.0229e-42],\n",
      "        [2.7632e-28, 6.7103e-05, 9.9993e-01, 9.9990e-01, 1.0453e-04, 1.2822e-28],\n",
      "        [1.6213e-14, 6.4158e-05, 9.9994e-01, 9.9990e-01, 1.0163e-04, 1.6062e-14],\n",
      "        [0.0000e+00, 0.0000e+00, 1.0000e+00, 0.0000e+00, 1.0000e+00, 1.0745e-10]],\n",
      "       grad_fn=<CatBackward>)\n",
      "tensor(1.5029, grad_fn=<AddBackward0>)\n",
      "tensor([0.5514, 0.5515, 0.5514, 0.5514, 0.5514, 0.5515, 0.5515, 0.5515, 0.5515,\n",
      "        0.5514], grad_fn=<NllLossBackward>)\n",
      "tensor([1.5514, 0.5514, 1.5514, 1.5514, 1.5514, 0.5515, 0.5515, 0.5515, 0.5515,\n",
      "        0.5514], grad_fn=<NllLossBackward>)\n",
      "-----------------------------------------\n",
      "Folder: 04-08-05-48-18-Policy-V2-DenseForPolicy-CE\n",
      "tensor([[0, 1],\n",
      "        [0, 0],\n",
      "        [0, 1],\n",
      "        [0, 1],\n",
      "        [0, 1],\n",
      "        [2, 0],\n",
      "        [2, 0],\n",
      "        [2, 0],\n",
      "        [2, 0],\n",
      "        [2, 1]])\n",
      "tensor([[1.0000e+00, 2.9781e-12, 1.8704e-29, 7.6128e-04, 9.9924e-01, 2.9045e-18],\n",
      "        [9.9996e-01, 4.3008e-05, 4.2823e-15, 9.9993e-01, 6.7084e-05, 3.8960e-15],\n",
      "        [1.0000e+00, 0.0000e+00, 0.0000e+00, 0.0000e+00, 1.0000e+00, 2.2621e-40],\n",
      "        [1.0000e+00, 0.0000e+00, 0.0000e+00, 0.0000e+00, 1.0000e+00, 4.2556e-33],\n",
      "        [1.0000e+00, 0.0000e+00, 0.0000e+00, 0.0000e+00, 1.0000e+00, 8.5028e-26],\n",
      "        [0.0000e+00, 6.0536e-05, 9.9994e-01, 1.0000e+00, 0.0000e+00, 0.0000e+00],\n",
      "        [6.0256e-44, 5.9583e-05, 9.9994e-01, 1.0000e+00, 0.0000e+00, 1.9618e-44],\n",
      "        [1.3826e-29, 5.8647e-05, 9.9994e-01, 1.0000e+00, 3.5978e-34, 6.8962e-30],\n",
      "        [3.1810e-15, 5.7723e-05, 9.9994e-01, 1.0000e+00, 1.3263e-19, 2.4888e-15],\n",
      "        [0.0000e+00, 0.0000e+00, 1.0000e+00, 0.0000e+00, 0.0000e+00, 1.0000e+00]],\n",
      "       grad_fn=<CatBackward>)\n",
      "tensor(1.2030, grad_fn=<AddBackward0>)\n",
      "tensor([0.5514, 0.5515, 0.5514, 0.5514, 0.5514, 0.5515, 0.5515, 0.5515, 0.5515,\n",
      "        0.5514], grad_fn=<NllLossBackward>)\n",
      "tensor([0.5519, 0.5515, 0.5514, 0.5514, 0.5514, 0.5514, 0.5514, 0.5514, 0.5514,\n",
      "        1.5514], grad_fn=<NllLossBackward>)\n",
      "-----------------------------------------\n",
      "Folder: 04-08-10-17-06-Policy-V2-Dense-CE\n",
      "tensor([[0, 1],\n",
      "        [0, 0],\n",
      "        [0, 1],\n",
      "        [0, 1],\n",
      "        [0, 1],\n",
      "        [2, 0],\n",
      "        [2, 0],\n",
      "        [2, 0],\n",
      "        [2, 0],\n",
      "        [2, 1]])\n",
      "tensor([[ -288.4457,  -327.3626,  -460.6696,  -123.0579,  -109.5551,  -200.1846],\n",
      "        [ -304.7435,  -316.2262,  -400.2991,   -97.6689,  -110.4753,  -189.8594],\n",
      "        [ -532.7365,  -664.7424, -1323.6047,  -721.6801,  -147.4241,  -298.0188],\n",
      "        [ -532.7309,  -650.9260, -1266.2437,  -696.4196,  -151.7133,  -274.3808],\n",
      "        [ -532.7254,  -637.1096, -1208.8826,  -671.1590,  -156.0025,  -250.7428],\n",
      "        [ -717.0560,  -495.9140,  -478.7786,  -135.3840,  -150.5016,  -389.0379],\n",
      "        [ -667.0754,  -495.9293,  -478.5860,  -137.5560,  -153.0979,  -341.9374],\n",
      "        [ -617.4940,  -496.2629,  -480.6568,  -141.3872,  -156.1618,  -294.3335],\n",
      "        [ -568.1227,  -496.8547,  -484.6817,  -146.9267,  -159.5398,  -246.3492],\n",
      "        [-1385.0968,  -449.0486,  -397.7214,  -931.5908,   -69.0488,  -109.2438]],\n",
      "       grad_fn=<AddmmBackward>)\n",
      "tensor(2.3603e-06, grad_fn=<AddBackward0>)\n",
      "tensor([-0.0000e+00, 1.0252e-05, -0.0000e+00, -0.0000e+00, -0.0000e+00, -0.0000e+00,\n",
      "        -0.0000e+00, 1.1921e-07, 5.1260e-06, -0.0000e+00],\n",
      "       grad_fn=<NllLossBackward>)\n",
      "tensor([1.3113e-06, 2.7418e-06, -0.0000e+00, -0.0000e+00, -0.0000e+00, 2.3842e-07,\n",
      "        1.1921e-07, 3.5763e-07, 3.3379e-06, -0.0000e+00],\n",
      "       grad_fn=<NllLossBackward>)\n",
      "-----------------------------------------\n",
      "Folder: 04-08-10-24-50-Policy-V2-Dense-CE\n",
      "tensor([[0, 1],\n",
      "        [0, 0],\n",
      "        [0, 1],\n",
      "        [0, 1],\n",
      "        [0, 1],\n",
      "        [2, 0],\n",
      "        [2, 0],\n",
      "        [2, 0],\n",
      "        [2, 0],\n",
      "        [2, 1]])\n",
      "tensor([[  18.7647,  -23.2727, -143.3823,  -73.5721,  -55.7588, -126.5669],\n",
      "        [  -8.5573,  -25.7353,  -92.9384,  -34.0161,  -53.6209, -106.1667],\n",
      "        [  85.6858,  -31.8648, -440.4355, -359.2087,  -80.3044, -259.6402],\n",
      "        [  78.9398,  -27.4030, -420.3117, -347.6358,  -81.7344, -235.1966],\n",
      "        [  71.3627,  -22.2197, -396.7290, -335.8711,  -84.3465, -203.8341],\n",
      "        [-226.3633,  -58.7200,  -41.1178,  -28.2435,  -50.9166, -209.8728],\n",
      "        [-196.0725,  -57.1479,  -39.3567,  -29.1192,  -52.3173, -183.7587],\n",
      "        [-155.4412,  -56.0853,  -37.5236,  -30.9007,  -54.8574, -150.8436],\n",
      "        [-111.7414,  -56.2768,  -39.9546,  -38.3197,  -58.9934, -116.3788],\n",
      "        [-666.4190,  -94.5566,  -10.3855, -547.9306,  -44.8400,  -97.8261]],\n",
      "       grad_fn=<AddmmBackward>)\n",
      "tensor(1.1921e-08, grad_fn=<AddBackward0>)\n",
      "tensor([-0.0000e+00, -0.0000e+00, -0.0000e+00, -0.0000e+00, -0.0000e+00, -0.0000e+00,\n",
      "        -0.0000e+00, -0.0000e+00, 1.1921e-07, -0.0000e+00],\n",
      "       grad_fn=<NllLossBackward>)\n",
      "tensor([-0., -0., -0., -0., -0., -0., -0., -0., -0., -0.],\n",
      "       grad_fn=<NllLossBackward>)\n",
      "-----------------------------------------\n"
     ]
    }
   ],
   "source": [
    "sample = torch.cat((test_data.data[1055:1060], test_data.data[1230:1235]), axis=0)\n",
    "ground_truth = policy_groud_truth_class_adapter(sample).to(device)\n",
    "for folder, net in rr.build_net(rootdir='runs/04-07/'):\n",
    "    print ('Folder: ' + folder)\n",
    "    op_batch, loss = rr.run_mini_batch(net, sample)\n",
    "    x_loss = F.cross_entropy(op_batch[:, :3], ground_truth[:, 0], reduction='none')\n",
    "    y_loss = F.cross_entropy(op_batch[:, 3:], ground_truth[:, 1], reduction='none')\n",
    "    print (ground_truth)\n",
    "    print (op_batch)\n",
    "    print (loss)\n",
    "    print (x_loss)\n",
    "    print (y_loss)\n",
    "    print ('-----------------------------------------')"
   ]
  },
  {
   "cell_type": "code",
   "execution_count": 19,
   "metadata": {},
   "outputs": [],
   "source": [
    "rr = ReportResults(map_netname_net, device, \n",
    "                   policy_input_adapter, policy_groud_truth_adapter,\n",
    "                   loss_adapter_func = l1_loss_adapter)"
   ]
  },
  {
   "cell_type": "code",
   "execution_count": 20,
   "metadata": {},
   "outputs": [
    {
     "name": "stdout",
     "output_type": "stream",
     "text": [
      "Time,Goal,DataSet,Network,Loss(Training),TestLoss,TrainLoss\n",
      "04:08:07:35:53,Policy,V2,Dense,MSE,0.0009246765985153615,0.0009788279421627522\n",
      "04:08:07:29:36,Policy,V2,Dense,MSE,0.015583701431751251,0.016864705830812454\n"
     ]
    }
   ],
   "source": [
    "rr.generate_csv_comparison_report(test_data.data, train_data.data,\n",
    "                   rootdir='runs/04-08')"
   ]
  },
  {
   "cell_type": "code",
   "execution_count": 21,
   "metadata": {},
   "outputs": [
    {
     "name": "stdout",
     "output_type": "stream",
     "text": [
      "Folder: 04-08-07-35-53-Policy-V2-Dense-MSE\n",
      "tensor([[-1.,  0.],\n",
      "        [-1., -1.],\n",
      "        [-1.,  0.],\n",
      "        [-1.,  0.],\n",
      "        [-1.,  0.],\n",
      "        [ 1., -1.],\n",
      "        [ 1., -1.],\n",
      "        [ 1., -1.],\n",
      "        [ 1., -1.],\n",
      "        [ 1.,  0.]])\n",
      "tensor([[-1.0000e+00, -5.9831e-04],\n",
      "        [-9.9837e-01, -9.9866e-01],\n",
      "        [-1.0000e+00, -2.0846e-03],\n",
      "        [-1.0000e+00, -2.0014e-03],\n",
      "        [-1.0000e+00, -1.9175e-03],\n",
      "        [ 9.9764e-01, -9.9867e-01],\n",
      "        [ 9.9765e-01, -9.9868e-01],\n",
      "        [ 9.9766e-01, -9.9868e-01],\n",
      "        [ 9.9767e-01, -9.9868e-01],\n",
      "        [ 1.0000e+00,  7.1299e-04]], grad_fn=<TanhBackward>)\n",
      "tensor(0.0012, grad_fn=<MeanBackward0>)\n",
      "Folder: 04-08-07-29-36-Policy-V2-Dense-MSE\n",
      "tensor([[-1.,  0.],\n",
      "        [-1., -1.],\n",
      "        [-1.,  0.],\n",
      "        [-1.,  0.],\n",
      "        [-1.,  0.],\n",
      "        [ 1., -1.],\n",
      "        [ 1., -1.],\n",
      "        [ 1., -1.],\n",
      "        [ 1., -1.],\n",
      "        [ 1.,  0.]])\n",
      "tensor([[-0.9994, -0.0311],\n",
      "        [-0.9682, -0.9674],\n",
      "        [-0.9995,  0.0176],\n",
      "        [-0.9995,  0.0170],\n",
      "        [-0.9995,  0.0165],\n",
      "        [ 0.9690, -0.9672],\n",
      "        [ 0.9690, -0.9673],\n",
      "        [ 0.9690, -0.9673],\n",
      "        [ 0.9690, -0.9674],\n",
      "        [ 0.9995,  0.0200]], grad_fn=<TanhBackward>)\n",
      "tensor(0.0212, grad_fn=<MeanBackward0>)\n"
     ]
    }
   ],
   "source": [
    "sample = torch.cat((test_data.data[1055:1060], test_data.data[1230:1235]), axis=0)\n",
    "ground_truth = policy_groud_truth_adapter(sample).to(device)\n",
    "for folder, net in rr.build_net(rootdir='runs/04-08/'):\n",
    "    print ('Folder: ' + folder)\n",
    "    op_batch, loss = rr.run_mini_batch(net, sample)\n",
    "    print (ground_truth)\n",
    "    print (op_batch)\n",
    "    print (loss)"
   ]
  },
  {
   "cell_type": "code",
   "execution_count": null,
   "metadata": {},
   "outputs": [],
   "source": [
    "np.set_printoptions(**opt)"
   ]
  }
 ],
 "metadata": {
  "kernelspec": {
   "display_name": "demopl",
   "language": "python",
   "name": "demopl"
  },
  "language_info": {
   "codemirror_mode": {
    "name": "ipython",
    "version": 3
   },
   "file_extension": ".py",
   "mimetype": "text/x-python",
   "name": "python",
   "nbconvert_exporter": "python",
   "pygments_lexer": "ipython3",
   "version": "3.6.8"
  }
 },
 "nbformat": 4,
 "nbformat_minor": 4
}
