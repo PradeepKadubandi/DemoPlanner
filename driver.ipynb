{
 "cells": [
  {
   "cell_type": "code",
   "execution_count": 1,
   "metadata": {},
   "outputs": [],
   "source": [
    "%load_ext autoreload\n",
    "%autoreload 2"
   ]
  },
  {
   "cell_type": "code",
   "execution_count": 41,
   "metadata": {},
   "outputs": [],
   "source": [
    "import numpy as np\n",
    "import matplotlib.pyplot as plt\n",
    "import time\n",
    "import os\n",
    "import glob\n",
    "\n",
    "import torch\n",
    "import torch.nn as nn\n",
    "import torch.nn.functional as F\n",
    "from torch.utils.data import DataLoader\n",
    "\n",
    "from adapters import *\n",
    "from dataset import NumpyCsvDataSet\n",
    "from runner import ExptRunner\n",
    "from networks.autoencoder import AutoEncoder\n",
    "from networks.composedautoencoder import ComposedAutoEncoder\n",
    "from networks.DenseAutoEncoder import DenseAutoEncoder\n",
    "from networks.ConvVae import ConvVae\n",
    "from networks.vae import VAE\n",
    "from networks.etpr.autoencoder import autoencoder as etprautoenc\n",
    "from networks.dense import Dense\n",
    "from networks.lossfunctions import *\n",
    "from helpers import ReportResults"
   ]
  },
  {
   "cell_type": "code",
   "execution_count": 3,
   "metadata": {},
   "outputs": [],
   "source": [
    "opt = np.get_printoptions()\n",
    "np.set_printoptions(threshold=np.inf)"
   ]
  },
  {
   "cell_type": "code",
   "execution_count": 4,
   "metadata": {},
   "outputs": [
    {
     "name": "stdout",
     "output_type": "stream",
     "text": [
      "cpu\n"
     ]
    }
   ],
   "source": [
    "device = torch.device(\"cuda:2\" if torch.cuda.is_available() else \"cpu\")\n",
    "print (device)"
   ]
  },
  {
   "cell_type": "code",
   "execution_count": 5,
   "metadata": {},
   "outputs": [
    {
     "name": "stdout",
     "output_type": "stream",
     "text": [
      "Time Taken: 28.116352081298828 sec\n"
     ]
    }
   ],
   "source": [
    "start = time.time()\n",
    "data_folder = 'data/demoplanner/version1'\n",
    "v1_train_data = NumpyCsvDataSet(data_folder + '/train.csv', device=device)\n",
    "v1_test_data = NumpyCsvDataSet(data_folder + '/test.csv', device=device)\n",
    "print (\"Time Taken: {} sec\".format(time.time() - start))"
   ]
  },
  {
   "cell_type": "code",
   "execution_count": 19,
   "metadata": {},
   "outputs": [
    {
     "name": "stdout",
     "output_type": "stream",
     "text": [
      "Time Taken: 301.2297029495239 sec\n"
     ]
    }
   ],
   "source": [
    "start = time.time()\n",
    "data_folder = 'data/demoplanner/version2'\n",
    "v2_train_data = NumpyCsvDataSet(data_folder + '/train.csv', device=device)\n",
    "v2_test_data = NumpyCsvDataSet(data_folder + '/test.csv', device=device)\n",
    "print (\"Time Taken: {} sec\".format(time.time() - start))"
   ]
  },
  {
   "cell_type": "code",
   "execution_count": 6,
   "metadata": {},
   "outputs": [],
   "source": [
    "train_data = v1_train_data\n",
    "test_data = v1_test_data"
   ]
  },
  {
   "cell_type": "code",
   "execution_count": 7,
   "metadata": {},
   "outputs": [
    {
     "name": "stdout",
     "output_type": "stream",
     "text": [
      "torch.Size([13280, 2058])\n",
      "torch.Size([1341, 2058])\n",
      "cpu\n",
      "cpu\n"
     ]
    }
   ],
   "source": [
    "print (train_data.data.shape)\n",
    "print (test_data.data.shape)\n",
    "\n",
    "print (train_data.data.device)\n",
    "print (test_data.data.device)"
   ]
  },
  {
   "cell_type": "code",
   "execution_count": 52,
   "metadata": {},
   "outputs": [],
   "source": [
    "expts = [\n",
    "    ['Policy-V1-Dense-CE', lambda: Dense([4, 64, 6]), policy_input_adapter, control_ce_loss_adapter, policy_groud_truth_adapter, None],\n",
    "#     ['Policy-V1-Dense-BCE', lambda: Dense([4, 64, 6]), policy_input_adapter, bce_loss_adapter, policy_groud_truth_one_hot_adapter, None],\n",
    "]"
   ]
  },
  {
   "cell_type": "code",
   "execution_count": 53,
   "metadata": {},
   "outputs": [
    {
     "name": "stdout",
     "output_type": "stream",
     "text": [
      "Log folder for expt 0: runs/04-07-17-58-07-Policy-V1-Dense-CE\n",
      "--------------------------------------------\n",
      "        Network Structure\n",
      "--------------------------------------------\n",
      "--------------------------------------------\n",
      "        Network Parameter Statistics\n",
      "--------------------------------------------\n",
      "Params for layer 1 = 256\n",
      "Params for layer 2 = 64\n",
      "Params for layer 3 = 384\n",
      "Params for layer 4 = 6\n",
      "--------------------------------------------\n",
      "Total: 710\n",
      "--------------------------------------------\n",
      "2020-04-07 17:58:08.112073: Epoch 0 Begin\n"
     ]
    },
    {
     "name": "stderr",
     "output_type": "stream",
     "text": [
      "/Users/pradeepkadubandi/GH/PradeepKadubandi/DemoPlanner/adapters.py:36: UserWarning: To copy construct from a tensor, it is recommended to use sourceTensor.clone().detach() or sourceTensor.clone().detach().requires_grad_(True), rather than torch.tensor(sourceTensor).\n",
      "  u = torch.tensor(data[:, u_begin:u_begin+u_dim] + 1.0, dtype=torch.long).detach()\n"
     ]
    },
    {
     "name": "stdout",
     "output_type": "stream",
     "text": [
      "2020-04-07 17:58:08.722441: Eval at Index 99 Begin\n",
      "[1,   100] Average Minibatch loss: 2.157\n",
      "MinibatchIndex 99: Training Loss (Max 10000 rows): 2.107891082763672\n",
      "MinibatchIndex 99: Test Loss: 2.1266136169433594\n",
      "2020-04-07 17:58:09.105100: Eval at Index 99 End\n",
      "2020-04-07 17:58:09.387740: Epoch 1 Begin\n",
      "2020-04-07 17:58:09.754666: Eval at Index 232 Begin\n",
      "[2,   100] Average Minibatch loss: 2.684\n",
      "MinibatchIndex 232: Training Loss (Max 10000 rows): 1.9352061748504639\n",
      "MinibatchIndex 232: Test Loss: 1.964280605316162\n",
      "2020-04-07 17:58:09.777097: Eval at Index 232 End\n",
      "2020-04-07 17:58:09.886177: Epoch 2 Begin\n",
      "2020-04-07 17:58:10.275080: Eval at Index 365 Begin\n",
      "[3,   100] Average Minibatch loss: 2.494\n",
      "MinibatchIndex 365: Training Loss (Max 10000 rows): 1.8204059600830078\n",
      "MinibatchIndex 365: Test Loss: 1.8565309047698975\n",
      "2020-04-07 17:58:10.284137: Eval at Index 365 End\n",
      "2020-04-07 17:58:10.398974: Epoch 3 Begin\n",
      "2020-04-07 17:58:10.875084: Eval at Index 498 Begin\n",
      "[4,   100] Average Minibatch loss: 2.378\n",
      "MinibatchIndex 498: Training Loss (Max 10000 rows): 1.7552878856658936\n",
      "MinibatchIndex 498: Test Loss: 1.7991328239440918\n",
      "2020-04-07 17:58:10.883535: Eval at Index 498 End\n",
      "2020-04-07 17:58:11.011695: Epoch 4 Begin\n",
      "2020-04-07 17:58:11.405456: Eval at Index 631 Begin\n",
      "[5,   100] Average Minibatch loss: 2.308\n",
      "MinibatchIndex 631: Training Loss (Max 10000 rows): 1.7131948471069336\n",
      "MinibatchIndex 631: Test Loss: 1.7605900764465332\n",
      "2020-04-07 17:58:11.414311: Eval at Index 631 End\n",
      "2020-04-07 17:58:11.643706: Epoch 5 Begin\n",
      "2020-04-07 17:58:12.271635: Eval at Index 764 Begin\n",
      "[6,   100] Average Minibatch loss: 2.263\n",
      "MinibatchIndex 764: Training Loss (Max 10000 rows): 1.6816750764846802\n",
      "MinibatchIndex 764: Test Loss: 1.7281250953674316\n",
      "2020-04-07 17:58:12.281032: Eval at Index 764 End\n",
      "2020-04-07 17:58:12.393597: Epoch 6 Begin\n",
      "2020-04-07 17:58:12.889276: Eval at Index 897 Begin\n",
      "[7,   100] Average Minibatch loss: 2.223\n",
      "MinibatchIndex 897: Training Loss (Max 10000 rows): 1.656700849533081\n",
      "MinibatchIndex 897: Test Loss: 1.703536033630371\n",
      "2020-04-07 17:58:12.899390: Eval at Index 897 End\n",
      "2020-04-07 17:58:13.022643: Epoch 7 Begin\n",
      "2020-04-07 17:58:13.534716: Eval at Index 1030 Begin\n",
      "[8,   100] Average Minibatch loss: 2.194\n",
      "MinibatchIndex 1030: Training Loss (Max 10000 rows): 1.6382838487625122\n",
      "MinibatchIndex 1030: Test Loss: 1.677663803100586\n",
      "2020-04-07 17:58:13.543407: Eval at Index 1030 End\n",
      "2020-04-07 17:58:13.663155: Epoch 8 Begin\n",
      "2020-04-07 17:58:14.016391: Eval at Index 1163 Begin\n",
      "[9,   100] Average Minibatch loss: 2.166\n",
      "MinibatchIndex 1163: Training Loss (Max 10000 rows): 1.6189138889312744\n",
      "MinibatchIndex 1163: Test Loss: 1.6606144905090332\n",
      "2020-04-07 17:58:14.029129: Eval at Index 1163 End\n",
      "2020-04-07 17:58:14.153123: Epoch 9 Begin\n",
      "2020-04-07 17:58:14.641437: Eval at Index 1296 Begin\n",
      "[10,   100] Average Minibatch loss: 2.141\n",
      "MinibatchIndex 1296: Training Loss (Max 10000 rows): 1.6020190715789795\n",
      "MinibatchIndex 1296: Test Loss: 1.6390233039855957\n",
      "2020-04-07 17:58:14.650978: Eval at Index 1296 End\n",
      "2020-04-07 17:58:14.770917: Epoch 10 Begin\n",
      "2020-04-07 17:58:15.130527: Eval at Index 1429 Begin\n",
      "[11,   100] Average Minibatch loss: 2.122\n",
      "MinibatchIndex 1429: Training Loss (Max 10000 rows): 1.5857417583465576\n",
      "MinibatchIndex 1429: Test Loss: 1.6196999549865723\n",
      "2020-04-07 17:58:15.138880: Eval at Index 1429 End\n",
      "2020-04-07 17:58:15.265023: Epoch 11 Begin\n",
      "2020-04-07 17:58:15.657898: Eval at Index 1562 Begin\n",
      "[12,   100] Average Minibatch loss: 2.100\n",
      "MinibatchIndex 1562: Training Loss (Max 10000 rows): 1.570591926574707\n",
      "MinibatchIndex 1562: Test Loss: 1.603934407234192\n",
      "2020-04-07 17:58:15.669846: Eval at Index 1562 End\n",
      "2020-04-07 17:58:15.885248: Epoch 12 Begin\n",
      "2020-04-07 17:58:16.521839: Eval at Index 1695 Begin\n",
      "[13,   100] Average Minibatch loss: 2.077\n",
      "MinibatchIndex 1695: Training Loss (Max 10000 rows): 1.556298017501831\n",
      "MinibatchIndex 1695: Test Loss: 1.5855183601379395\n",
      "2020-04-07 17:58:16.703151: Eval at Index 1695 End\n",
      "2020-04-07 17:58:16.918182: Epoch 13 Begin\n",
      "2020-04-07 17:58:17.397404: Eval at Index 1828 Begin\n",
      "[14,   100] Average Minibatch loss: 2.062\n",
      "MinibatchIndex 1828: Training Loss (Max 10000 rows): 1.5424818992614746\n",
      "MinibatchIndex 1828: Test Loss: 1.5693655014038086\n",
      "2020-04-07 17:58:17.413552: Eval at Index 1828 End\n",
      "2020-04-07 17:58:17.522262: Epoch 14 Begin\n",
      "2020-04-07 17:58:17.913477: Eval at Index 1961 Begin\n",
      "[15,   100] Average Minibatch loss: 2.040\n",
      "MinibatchIndex 1961: Training Loss (Max 10000 rows): 1.5291588306427002\n",
      "MinibatchIndex 1961: Test Loss: 1.5541963577270508\n",
      "2020-04-07 17:58:17.926172: Eval at Index 1961 End\n",
      "2020-04-07 17:58:18.063094: Epoch 15 Begin\n",
      "2020-04-07 17:58:18.483262: Eval at Index 2094 Begin\n",
      "[16,   100] Average Minibatch loss: 2.025\n",
      "MinibatchIndex 2094: Training Loss (Max 10000 rows): 1.5165055990219116\n",
      "MinibatchIndex 2094: Test Loss: 1.5402348041534424\n",
      "2020-04-07 17:58:18.501249: Eval at Index 2094 End\n",
      "2020-04-07 17:58:18.641721: Epoch 16 Begin\n",
      "2020-04-07 17:58:18.975246: Eval at Index 2227 Begin\n",
      "[17,   100] Average Minibatch loss: 2.011\n",
      "MinibatchIndex 2227: Training Loss (Max 10000 rows): 1.5055354833602905\n",
      "MinibatchIndex 2227: Test Loss: 1.5258877277374268\n",
      "2020-04-07 17:58:18.984253: Eval at Index 2227 End\n",
      "2020-04-07 17:58:19.107044: Epoch 17 Begin\n",
      "2020-04-07 17:58:19.466400: Eval at Index 2360 Begin\n",
      "[18,   100] Average Minibatch loss: 1.992\n",
      "MinibatchIndex 2360: Training Loss (Max 10000 rows): 1.4938747882843018\n",
      "MinibatchIndex 2360: Test Loss: 1.5116095542907715\n",
      "2020-04-07 17:58:19.476624: Eval at Index 2360 End\n",
      "2020-04-07 17:58:19.596101: Epoch 18 Begin\n",
      "2020-04-07 17:58:20.091433: Eval at Index 2493 Begin\n",
      "[19,   100] Average Minibatch loss: 1.974\n",
      "MinibatchIndex 2493: Training Loss (Max 10000 rows): 1.482749581336975\n",
      "MinibatchIndex 2493: Test Loss: 1.5012167692184448\n",
      "2020-04-07 17:58:20.102997: Eval at Index 2493 End\n",
      "2020-04-07 17:58:20.336166: Epoch 19 Begin\n",
      "2020-04-07 17:58:21.040334: Eval at Index 2626 Begin\n",
      "[20,   100] Average Minibatch loss: 1.965\n",
      "MinibatchIndex 2626: Training Loss (Max 10000 rows): 1.4727871417999268\n",
      "MinibatchIndex 2626: Test Loss: 1.4873813390731812\n",
      "2020-04-07 17:58:21.091343: Eval at Index 2626 End\n",
      "2020-04-07 17:58:21.355526: Epoch 20 Begin\n",
      "2020-04-07 17:58:22.088256: Eval at Index 2759 Begin\n",
      "[21,   100] Average Minibatch loss: 1.949\n",
      "MinibatchIndex 2759: Training Loss (Max 10000 rows): 1.4624286890029907\n",
      "MinibatchIndex 2759: Test Loss: 1.4779565334320068\n",
      "2020-04-07 17:58:22.102179: Eval at Index 2759 End\n",
      "2020-04-07 17:58:22.210120: Epoch 21 Begin\n",
      "2020-04-07 17:58:22.730049: Eval at Index 2892 Begin\n",
      "[22,   100] Average Minibatch loss: 1.935\n",
      "MinibatchIndex 2892: Training Loss (Max 10000 rows): 1.452880859375\n",
      "MinibatchIndex 2892: Test Loss: 1.4675140380859375\n",
      "2020-04-07 17:58:22.739434: Eval at Index 2892 End\n",
      "2020-04-07 17:58:22.860036: Epoch 22 Begin\n",
      "2020-04-07 17:58:23.270132: Eval at Index 3025 Begin\n",
      "[23,   100] Average Minibatch loss: 1.923\n",
      "MinibatchIndex 3025: Training Loss (Max 10000 rows): 1.4431664943695068\n",
      "MinibatchIndex 3025: Test Loss: 1.4569323062896729\n",
      "2020-04-07 17:58:23.283746: Eval at Index 3025 End\n",
      "2020-04-07 17:58:23.441605: Epoch 23 Begin\n",
      "2020-04-07 17:58:23.833411: Eval at Index 3158 Begin\n",
      "[24,   100] Average Minibatch loss: 1.911\n",
      "MinibatchIndex 3158: Training Loss (Max 10000 rows): 1.4337959289550781\n",
      "MinibatchIndex 3158: Test Loss: 1.446380376815796\n",
      "2020-04-07 17:58:23.849740: Eval at Index 3158 End\n",
      "2020-04-07 17:58:24.018254: Epoch 24 Begin\n",
      "2020-04-07 17:58:24.338635: Eval at Index 3291 Begin\n",
      "[25,   100] Average Minibatch loss: 1.897\n",
      "MinibatchIndex 3291: Training Loss (Max 10000 rows): 1.4240946769714355\n",
      "MinibatchIndex 3291: Test Loss: 1.4363272190093994\n",
      "2020-04-07 17:58:24.348064: Eval at Index 3291 End\n",
      "2020-04-07 17:58:24.466993: Epoch 25 Begin\n",
      "2020-04-07 17:58:24.822036: Eval at Index 3424 Begin\n",
      "[26,   100] Average Minibatch loss: 1.886\n",
      "MinibatchIndex 3424: Training Loss (Max 10000 rows): 1.4146878719329834\n",
      "MinibatchIndex 3424: Test Loss: 1.4291408061981201\n",
      "2020-04-07 17:58:24.830125: Eval at Index 3424 End\n",
      "2020-04-07 17:58:24.943383: Epoch 26 Begin\n",
      "2020-04-07 17:58:25.299768: Eval at Index 3557 Begin\n",
      "[27,   100] Average Minibatch loss: 1.874\n",
      "MinibatchIndex 3557: Training Loss (Max 10000 rows): 1.4057246446609497\n",
      "MinibatchIndex 3557: Test Loss: 1.4207338094711304\n",
      "2020-04-07 17:58:25.316482: Eval at Index 3557 End\n"
     ]
    },
    {
     "name": "stdout",
     "output_type": "stream",
     "text": [
      "2020-04-07 17:58:25.504180: Epoch 27 Begin\n",
      "2020-04-07 17:58:25.907176: Eval at Index 3690 Begin\n",
      "[28,   100] Average Minibatch loss: 1.862\n",
      "MinibatchIndex 3690: Training Loss (Max 10000 rows): 1.3970715999603271\n",
      "MinibatchIndex 3690: Test Loss: 1.4129819869995117\n",
      "2020-04-07 17:58:25.916001: Eval at Index 3690 End\n",
      "2020-04-07 17:58:26.180317: Epoch 28 Begin\n",
      "2020-04-07 17:58:26.824168: Eval at Index 3823 Begin\n",
      "[29,   100] Average Minibatch loss: 1.848\n",
      "MinibatchIndex 3823: Training Loss (Max 10000 rows): 1.3889743089675903\n",
      "MinibatchIndex 3823: Test Loss: 1.4064853191375732\n",
      "2020-04-07 17:58:26.857524: Eval at Index 3823 End\n",
      "2020-04-07 17:58:27.569630: Epoch 29 Begin\n",
      "2020-04-07 17:58:28.461810: Eval at Index 3956 Begin\n",
      "[30,   100] Average Minibatch loss: 1.838\n",
      "MinibatchIndex 3956: Training Loss (Max 10000 rows): 1.381697416305542\n",
      "MinibatchIndex 3956: Test Loss: 1.3996354341506958\n",
      "2020-04-07 17:58:28.500205: Eval at Index 3956 End\n",
      "2020-04-07 17:58:28.722857: Epoch 30 Begin\n",
      "2020-04-07 17:58:29.288342: Eval at Index 4089 Begin\n",
      "[31,   100] Average Minibatch loss: 1.831\n",
      "MinibatchIndex 4089: Training Loss (Max 10000 rows): 1.3745975494384766\n",
      "MinibatchIndex 4089: Test Loss: 1.393799901008606\n",
      "2020-04-07 17:58:29.298832: Eval at Index 4089 End\n",
      "2020-04-07 17:58:29.419811: Epoch 31 Begin\n",
      "2020-04-07 17:58:29.862726: Eval at Index 4222 Begin\n",
      "[32,   100] Average Minibatch loss: 1.827\n",
      "MinibatchIndex 4222: Training Loss (Max 10000 rows): 1.3682329654693604\n",
      "MinibatchIndex 4222: Test Loss: 1.3873896598815918\n",
      "2020-04-07 17:58:29.874765: Eval at Index 4222 End\n",
      "2020-04-07 17:58:30.004765: Epoch 32 Begin\n",
      "2020-04-07 17:58:30.426567: Eval at Index 4355 Begin\n",
      "[33,   100] Average Minibatch loss: 1.813\n",
      "MinibatchIndex 4355: Training Loss (Max 10000 rows): 1.362337589263916\n",
      "MinibatchIndex 4355: Test Loss: 1.3812119960784912\n",
      "2020-04-07 17:58:30.438738: Eval at Index 4355 End\n",
      "2020-04-07 17:58:30.583181: Epoch 33 Begin\n",
      "2020-04-07 17:58:31.240331: Eval at Index 4488 Begin\n",
      "[34,   100] Average Minibatch loss: 1.804\n",
      "MinibatchIndex 4488: Training Loss (Max 10000 rows): 1.356783390045166\n",
      "MinibatchIndex 4488: Test Loss: 1.376464605331421\n",
      "2020-04-07 17:58:31.255715: Eval at Index 4488 End\n",
      "2020-04-07 17:58:31.415132: Epoch 34 Begin\n",
      "2020-04-07 17:58:31.923166: Eval at Index 4621 Begin\n",
      "[35,   100] Average Minibatch loss: 1.802\n",
      "MinibatchIndex 4621: Training Loss (Max 10000 rows): 1.3518142700195312\n",
      "MinibatchIndex 4621: Test Loss: 1.3707911968231201\n",
      "2020-04-07 17:58:31.945962: Eval at Index 4621 End\n",
      "2020-04-07 17:58:32.112839: Epoch 35 Begin\n",
      "2020-04-07 17:58:32.729026: Eval at Index 4754 Begin\n",
      "[36,   100] Average Minibatch loss: 1.793\n",
      "MinibatchIndex 4754: Training Loss (Max 10000 rows): 1.3466439247131348\n",
      "MinibatchIndex 4754: Test Loss: 1.3669087886810303\n",
      "2020-04-07 17:58:32.758215: Eval at Index 4754 End\n",
      "2020-04-07 17:58:32.909314: Epoch 36 Begin\n",
      "2020-04-07 17:58:33.653846: Eval at Index 4887 Begin\n",
      "[37,   100] Average Minibatch loss: 1.786\n",
      "MinibatchIndex 4887: Training Loss (Max 10000 rows): 1.3422279357910156\n",
      "MinibatchIndex 4887: Test Loss: 1.3620017766952515\n",
      "2020-04-07 17:58:33.718430: Eval at Index 4887 End\n",
      "2020-04-07 17:58:33.857203: Epoch 37 Begin\n",
      "2020-04-07 17:58:34.296598: Eval at Index 5020 Begin\n",
      "[38,   100] Average Minibatch loss: 1.781\n",
      "MinibatchIndex 5020: Training Loss (Max 10000 rows): 1.338381290435791\n",
      "MinibatchIndex 5020: Test Loss: 1.3580126762390137\n",
      "2020-04-07 17:58:34.305411: Eval at Index 5020 End\n",
      "2020-04-07 17:58:34.421441: Epoch 38 Begin\n",
      "2020-04-07 17:58:34.856304: Eval at Index 5153 Begin\n",
      "[39,   100] Average Minibatch loss: 1.774\n",
      "MinibatchIndex 5153: Training Loss (Max 10000 rows): 1.3337899446487427\n",
      "MinibatchIndex 5153: Test Loss: 1.3539562225341797\n",
      "2020-04-07 17:58:34.868735: Eval at Index 5153 End\n",
      "2020-04-07 17:58:34.983600: Epoch 39 Begin\n",
      "2020-04-07 17:58:35.297442: Eval at Index 5286 Begin\n",
      "[40,   100] Average Minibatch loss: 1.771\n",
      "MinibatchIndex 5286: Training Loss (Max 10000 rows): 1.329890251159668\n",
      "MinibatchIndex 5286: Test Loss: 1.350321888923645\n",
      "2020-04-07 17:58:35.306018: Eval at Index 5286 End\n",
      "2020-04-07 17:58:35.408700: Epoch 40 Begin\n",
      "2020-04-07 17:58:35.762145: Eval at Index 5419 Begin\n",
      "[41,   100] Average Minibatch loss: 1.764\n",
      "MinibatchIndex 5419: Training Loss (Max 10000 rows): 1.32655930519104\n",
      "MinibatchIndex 5419: Test Loss: 1.3458304405212402\n",
      "2020-04-07 17:58:35.770902: Eval at Index 5419 End\n",
      "2020-04-07 17:58:35.873701: Epoch 41 Begin\n",
      "2020-04-07 17:58:36.209582: Eval at Index 5552 Begin\n",
      "[42,   100] Average Minibatch loss: 1.761\n",
      "MinibatchIndex 5552: Training Loss (Max 10000 rows): 1.3228156566619873\n",
      "MinibatchIndex 5552: Test Loss: 1.3426628112792969\n",
      "2020-04-07 17:58:36.218019: Eval at Index 5552 End\n",
      "2020-04-07 17:58:36.318869: Epoch 42 Begin\n",
      "2020-04-07 17:58:36.633639: Eval at Index 5685 Begin\n",
      "[43,   100] Average Minibatch loss: 1.751\n",
      "MinibatchIndex 5685: Training Loss (Max 10000 rows): 1.3206268548965454\n",
      "MinibatchIndex 5685: Test Loss: 1.338850975036621\n",
      "2020-04-07 17:58:36.641965: Eval at Index 5685 End\n",
      "2020-04-07 17:58:36.741555: Epoch 43 Begin\n",
      "2020-04-07 17:58:37.049929: Eval at Index 5818 Begin\n",
      "[44,   100] Average Minibatch loss: 1.752\n",
      "MinibatchIndex 5818: Training Loss (Max 10000 rows): 1.3165838718414307\n",
      "MinibatchIndex 5818: Test Loss: 1.3368232250213623\n",
      "2020-04-07 17:58:37.058174: Eval at Index 5818 End\n",
      "2020-04-07 17:58:37.156488: Epoch 44 Begin\n",
      "2020-04-07 17:58:37.463359: Eval at Index 5951 Begin\n",
      "[45,   100] Average Minibatch loss: 1.749\n",
      "MinibatchIndex 5951: Training Loss (Max 10000 rows): 1.313385009765625\n",
      "MinibatchIndex 5951: Test Loss: 1.334749698638916\n",
      "2020-04-07 17:58:37.471574: Eval at Index 5951 End\n",
      "2020-04-07 17:58:37.570708: Epoch 45 Begin\n",
      "2020-04-07 17:58:37.880819: Eval at Index 6084 Begin\n",
      "[46,   100] Average Minibatch loss: 1.743\n",
      "MinibatchIndex 6084: Training Loss (Max 10000 rows): 1.3107560873031616\n",
      "MinibatchIndex 6084: Test Loss: 1.3317656517028809\n",
      "2020-04-07 17:58:37.888777: Eval at Index 6084 End\n",
      "2020-04-07 17:58:37.988673: Epoch 46 Begin\n",
      "2020-04-07 17:58:38.308633: Eval at Index 6217 Begin\n",
      "[47,   100] Average Minibatch loss: 1.740\n",
      "MinibatchIndex 6217: Training Loss (Max 10000 rows): 1.3077906370162964\n",
      "MinibatchIndex 6217: Test Loss: 1.3277939558029175\n",
      "2020-04-07 17:58:38.316836: Eval at Index 6217 End\n",
      "2020-04-07 17:58:38.415823: Epoch 47 Begin\n",
      "2020-04-07 17:58:38.726315: Eval at Index 6350 Begin\n",
      "[48,   100] Average Minibatch loss: 1.736\n",
      "MinibatchIndex 6350: Training Loss (Max 10000 rows): 1.305265188217163\n",
      "MinibatchIndex 6350: Test Loss: 1.3251852989196777\n",
      "2020-04-07 17:58:38.734574: Eval at Index 6350 End\n",
      "2020-04-07 17:58:38.837228: Epoch 48 Begin\n",
      "2020-04-07 17:58:39.327389: Eval at Index 6483 Begin\n",
      "[49,   100] Average Minibatch loss: 1.732\n",
      "MinibatchIndex 6483: Training Loss (Max 10000 rows): 1.3027517795562744\n",
      "MinibatchIndex 6483: Test Loss: 1.3233569860458374\n",
      "2020-04-07 17:58:39.344415: Eval at Index 6483 End\n",
      "2020-04-07 17:58:39.537416: Epoch 49 Begin\n",
      "2020-04-07 17:58:40.002020: Eval at Index 6616 Begin\n",
      "[50,   100] Average Minibatch loss: 1.731\n",
      "MinibatchIndex 6616: Training Loss (Max 10000 rows): 1.3004786968231201\n",
      "MinibatchIndex 6616: Test Loss: 1.3205771446228027\n",
      "2020-04-07 17:58:40.010730: Eval at Index 6616 End\n",
      "2020-04-07 17:58:40.120278: Epoch 50 Begin\n",
      "2020-04-07 17:58:40.522143: Eval at Index 6749 Begin\n",
      "[51,   100] Average Minibatch loss: 1.725\n",
      "MinibatchIndex 6749: Training Loss (Max 10000 rows): 1.2982378005981445\n",
      "MinibatchIndex 6749: Test Loss: 1.319868564605713\n",
      "2020-04-07 17:58:40.531891: Eval at Index 6749 End\n",
      "2020-04-07 17:58:40.638977: Epoch 51 Begin\n",
      "2020-04-07 17:58:41.011529: Eval at Index 6882 Begin\n",
      "[52,   100] Average Minibatch loss: 1.724\n",
      "MinibatchIndex 6882: Training Loss (Max 10000 rows): 1.2962318658828735\n",
      "MinibatchIndex 6882: Test Loss: 1.3159797191619873\n",
      "2020-04-07 17:58:41.019586: Eval at Index 6882 End\n",
      "2020-04-07 17:58:41.124480: Epoch 52 Begin\n",
      "2020-04-07 17:58:41.431981: Eval at Index 7015 Begin\n",
      "[53,   100] Average Minibatch loss: 1.719\n",
      "MinibatchIndex 7015: Training Loss (Max 10000 rows): 1.2937915325164795\n",
      "MinibatchIndex 7015: Test Loss: 1.314913272857666\n",
      "2020-04-07 17:58:41.439977: Eval at Index 7015 End\n",
      "2020-04-07 17:58:41.550643: Epoch 53 Begin\n",
      "2020-04-07 17:58:41.873693: Eval at Index 7148 Begin\n",
      "[54,   100] Average Minibatch loss: 1.720\n",
      "MinibatchIndex 7148: Training Loss (Max 10000 rows): 1.2917745113372803\n",
      "MinibatchIndex 7148: Test Loss: 1.3120160102844238\n",
      "2020-04-07 17:58:41.881710: Eval at Index 7148 End\n",
      "2020-04-07 17:58:41.992996: Epoch 54 Begin\n"
     ]
    },
    {
     "name": "stdout",
     "output_type": "stream",
     "text": [
      "2020-04-07 17:58:42.320026: Eval at Index 7281 Begin\n",
      "[55,   100] Average Minibatch loss: 1.712\n",
      "MinibatchIndex 7281: Training Loss (Max 10000 rows): 1.2907733917236328\n",
      "MinibatchIndex 7281: Test Loss: 1.3096815347671509\n",
      "2020-04-07 17:58:42.328157: Eval at Index 7281 End\n",
      "2020-04-07 17:58:42.431447: Epoch 55 Begin\n",
      "2020-04-07 17:58:42.741813: Eval at Index 7414 Begin\n",
      "[56,   100] Average Minibatch loss: 1.716\n",
      "MinibatchIndex 7414: Training Loss (Max 10000 rows): 1.2886433601379395\n",
      "MinibatchIndex 7414: Test Loss: 1.3083512783050537\n",
      "2020-04-07 17:58:42.750333: Eval at Index 7414 End\n",
      "2020-04-07 17:58:42.891081: Epoch 56 Begin\n",
      "2020-04-07 17:58:43.248059: Eval at Index 7547 Begin\n",
      "[57,   100] Average Minibatch loss: 1.707\n",
      "MinibatchIndex 7547: Training Loss (Max 10000 rows): 1.2862293720245361\n",
      "MinibatchIndex 7547: Test Loss: 1.3066492080688477\n",
      "2020-04-07 17:58:43.256632: Eval at Index 7547 End\n",
      "2020-04-07 17:58:43.357002: Epoch 57 Begin\n",
      "2020-04-07 17:58:43.789122: Eval at Index 7680 Begin\n",
      "[58,   100] Average Minibatch loss: 1.712\n",
      "MinibatchIndex 7680: Training Loss (Max 10000 rows): 1.2846364974975586\n",
      "MinibatchIndex 7680: Test Loss: 1.3067095279693604\n",
      "2020-04-07 17:58:43.801083: Eval at Index 7680 End\n",
      "2020-04-07 17:58:43.936456: Epoch 58 Begin\n",
      "2020-04-07 17:58:44.337807: Eval at Index 7813 Begin\n",
      "[59,   100] Average Minibatch loss: 1.703\n",
      "MinibatchIndex 7813: Training Loss (Max 10000 rows): 1.2824898958206177\n",
      "MinibatchIndex 7813: Test Loss: 1.3028556108474731\n",
      "2020-04-07 17:58:44.345977: Eval at Index 7813 End\n",
      "2020-04-07 17:58:44.448029: Epoch 59 Begin\n",
      "2020-04-07 17:58:44.809345: Eval at Index 7946 Begin\n",
      "[60,   100] Average Minibatch loss: 1.704\n",
      "MinibatchIndex 7946: Training Loss (Max 10000 rows): 1.28128981590271\n",
      "MinibatchIndex 7946: Test Loss: 1.302527904510498\n",
      "2020-04-07 17:58:44.817805: Eval at Index 7946 End\n",
      "2020-04-07 17:58:44.926938: Epoch 60 Begin\n",
      "2020-04-07 17:58:45.281465: Eval at Index 8079 Begin\n",
      "[61,   100] Average Minibatch loss: 1.699\n",
      "MinibatchIndex 8079: Training Loss (Max 10000 rows): 1.279232382774353\n",
      "MinibatchIndex 8079: Test Loss: 1.3004132509231567\n",
      "2020-04-07 17:58:45.289926: Eval at Index 8079 End\n",
      "2020-04-07 17:58:45.388261: Epoch 61 Begin\n",
      "2020-04-07 17:58:45.695881: Eval at Index 8212 Begin\n",
      "[62,   100] Average Minibatch loss: 1.697\n",
      "MinibatchIndex 8212: Training Loss (Max 10000 rows): 1.2778288125991821\n",
      "MinibatchIndex 8212: Test Loss: 1.2981923818588257\n",
      "2020-04-07 17:58:45.704705: Eval at Index 8212 End\n",
      "2020-04-07 17:58:45.819869: Epoch 62 Begin\n",
      "2020-04-07 17:58:46.155066: Eval at Index 8345 Begin\n",
      "[63,   100] Average Minibatch loss: 1.700\n",
      "MinibatchIndex 8345: Training Loss (Max 10000 rows): 1.276562213897705\n",
      "MinibatchIndex 8345: Test Loss: 1.2983261346817017\n",
      "2020-04-07 17:58:46.170052: Eval at Index 8345 End\n",
      "2020-04-07 17:58:46.309544: Epoch 63 Begin\n",
      "2020-04-07 17:58:46.624679: Eval at Index 8478 Begin\n",
      "[64,   100] Average Minibatch loss: 1.695\n",
      "MinibatchIndex 8478: Training Loss (Max 10000 rows): 1.2750877141952515\n",
      "MinibatchIndex 8478: Test Loss: 1.2955849170684814\n",
      "2020-04-07 17:58:46.633210: Eval at Index 8478 End\n",
      "2020-04-07 17:58:46.769313: Epoch 64 Begin\n",
      "2020-04-07 17:58:47.256440: Eval at Index 8611 Begin\n",
      "[65,   100] Average Minibatch loss: 1.692\n",
      "MinibatchIndex 8611: Training Loss (Max 10000 rows): 1.2743120193481445\n",
      "MinibatchIndex 8611: Test Loss: 1.2939937114715576\n",
      "2020-04-07 17:58:47.270398: Eval at Index 8611 End\n",
      "2020-04-07 17:58:47.425210: Epoch 65 Begin\n",
      "2020-04-07 17:58:47.825744: Eval at Index 8744 Begin\n",
      "[66,   100] Average Minibatch loss: 1.690\n",
      "MinibatchIndex 8744: Training Loss (Max 10000 rows): 1.271958827972412\n",
      "MinibatchIndex 8744: Test Loss: 1.2930059432983398\n",
      "2020-04-07 17:58:47.834224: Eval at Index 8744 End\n",
      "2020-04-07 17:58:47.940329: Epoch 66 Begin\n",
      "2020-04-07 17:58:48.287922: Eval at Index 8877 Begin\n",
      "[67,   100] Average Minibatch loss: 1.687\n",
      "MinibatchIndex 8877: Training Loss (Max 10000 rows): 1.2708714008331299\n",
      "MinibatchIndex 8877: Test Loss: 1.292333722114563\n",
      "2020-04-07 17:58:48.296072: Eval at Index 8877 End\n",
      "2020-04-07 17:58:48.398280: Epoch 67 Begin\n",
      "2020-04-07 17:58:48.759645: Eval at Index 9010 Begin\n",
      "[68,   100] Average Minibatch loss: 1.689\n",
      "MinibatchIndex 9010: Training Loss (Max 10000 rows): 1.2695717811584473\n",
      "MinibatchIndex 9010: Test Loss: 1.2898006439208984\n",
      "2020-04-07 17:58:48.767719: Eval at Index 9010 End\n",
      "2020-04-07 17:58:48.866612: Epoch 68 Begin\n",
      "2020-04-07 17:58:49.178358: Eval at Index 9143 Begin\n",
      "[69,   100] Average Minibatch loss: 1.686\n",
      "MinibatchIndex 9143: Training Loss (Max 10000 rows): 1.2681740522384644\n",
      "MinibatchIndex 9143: Test Loss: 1.2888818979263306\n",
      "2020-04-07 17:58:49.186407: Eval at Index 9143 End\n",
      "2020-04-07 17:58:49.293789: Epoch 69 Begin\n",
      "2020-04-07 17:58:49.706130: Eval at Index 9276 Begin\n",
      "[70,   100] Average Minibatch loss: 1.686\n",
      "MinibatchIndex 9276: Training Loss (Max 10000 rows): 1.266866683959961\n",
      "MinibatchIndex 9276: Test Loss: 1.2881048917770386\n",
      "2020-04-07 17:58:49.718592: Eval at Index 9276 End\n",
      "2020-04-07 17:58:49.846948: Epoch 70 Begin\n",
      "2020-04-07 17:58:50.277471: Eval at Index 9409 Begin\n",
      "[71,   100] Average Minibatch loss: 1.678\n",
      "MinibatchIndex 9409: Training Loss (Max 10000 rows): 1.2657111883163452\n",
      "MinibatchIndex 9409: Test Loss: 1.2869353294372559\n",
      "2020-04-07 17:58:50.287564: Eval at Index 9409 End\n",
      "2020-04-07 17:58:50.402884: Epoch 71 Begin\n",
      "2020-04-07 17:58:50.821414: Eval at Index 9542 Begin\n",
      "[72,   100] Average Minibatch loss: 1.684\n",
      "MinibatchIndex 9542: Training Loss (Max 10000 rows): 1.264404296875\n",
      "MinibatchIndex 9542: Test Loss: 1.2857774496078491\n",
      "2020-04-07 17:58:50.836492: Eval at Index 9542 End\n",
      "2020-04-07 17:58:50.976914: Epoch 72 Begin\n",
      "2020-04-07 17:58:51.362074: Eval at Index 9675 Begin\n",
      "[73,   100] Average Minibatch loss: 1.678\n",
      "MinibatchIndex 9675: Training Loss (Max 10000 rows): 1.263659954071045\n",
      "MinibatchIndex 9675: Test Loss: 1.2840849161148071\n",
      "2020-04-07 17:58:51.370287: Eval at Index 9675 End\n",
      "2020-04-07 17:58:51.473074: Epoch 73 Begin\n",
      "2020-04-07 17:58:51.784611: Eval at Index 9808 Begin\n",
      "[74,   100] Average Minibatch loss: 1.680\n",
      "MinibatchIndex 9808: Training Loss (Max 10000 rows): 1.2622214555740356\n",
      "MinibatchIndex 9808: Test Loss: 1.2834947109222412\n",
      "2020-04-07 17:58:51.792992: Eval at Index 9808 End\n",
      "2020-04-07 17:58:51.908726: Epoch 74 Begin\n",
      "2020-04-07 17:58:52.304244: Eval at Index 9941 Begin\n",
      "[75,   100] Average Minibatch loss: 1.674\n",
      "MinibatchIndex 9941: Training Loss (Max 10000 rows): 1.2611570358276367\n",
      "MinibatchIndex 9941: Test Loss: 1.282991886138916\n",
      "2020-04-07 17:58:52.312652: Eval at Index 9941 End\n",
      "2020-04-07 17:58:52.415144: Epoch 75 Begin\n",
      "2020-04-07 17:58:52.740437: Eval at Index 10074 Begin\n",
      "[76,   100] Average Minibatch loss: 1.674\n",
      "MinibatchIndex 10074: Training Loss (Max 10000 rows): 1.260107159614563\n",
      "MinibatchIndex 10074: Test Loss: 1.2813289165496826\n",
      "2020-04-07 17:58:52.750593: Eval at Index 10074 End\n",
      "2020-04-07 17:58:52.876122: Epoch 76 Begin\n",
      "2020-04-07 17:58:53.204145: Eval at Index 10207 Begin\n",
      "[77,   100] Average Minibatch loss: 1.674\n",
      "MinibatchIndex 10207: Training Loss (Max 10000 rows): 1.2591902017593384\n",
      "MinibatchIndex 10207: Test Loss: 1.2802023887634277\n",
      "2020-04-07 17:58:53.212759: Eval at Index 10207 End\n",
      "2020-04-07 17:58:53.339901: Epoch 77 Begin\n",
      "2020-04-07 17:58:53.747312: Eval at Index 10340 Begin\n",
      "[78,   100] Average Minibatch loss: 1.673\n",
      "MinibatchIndex 10340: Training Loss (Max 10000 rows): 1.258584976196289\n",
      "MinibatchIndex 10340: Test Loss: 1.280623197555542\n",
      "2020-04-07 17:58:53.757051: Eval at Index 10340 End\n",
      "2020-04-07 17:58:53.863600: Epoch 78 Begin\n",
      "2020-04-07 17:58:54.185235: Eval at Index 10473 Begin\n",
      "[79,   100] Average Minibatch loss: 1.671\n",
      "MinibatchIndex 10473: Training Loss (Max 10000 rows): 1.2574427127838135\n",
      "MinibatchIndex 10473: Test Loss: 1.2784852981567383\n",
      "2020-04-07 17:58:54.194294: Eval at Index 10473 End\n",
      "2020-04-07 17:58:54.307694: Epoch 79 Begin\n",
      "2020-04-07 17:58:54.619124: Eval at Index 10606 Begin\n",
      "[80,   100] Average Minibatch loss: 1.668\n",
      "MinibatchIndex 10606: Training Loss (Max 10000 rows): 1.2566301822662354\n",
      "MinibatchIndex 10606: Test Loss: 1.2790191173553467\n",
      "2020-04-07 17:58:54.627186: Eval at Index 10606 End\n",
      "2020-04-07 17:58:54.728548: Epoch 80 Begin\n",
      "2020-04-07 17:58:55.119418: Eval at Index 10739 Begin\n",
      "[81,   100] Average Minibatch loss: 1.668\n",
      "MinibatchIndex 10739: Training Loss (Max 10000 rows): 1.2553815841674805\n",
      "MinibatchIndex 10739: Test Loss: 1.2776024341583252\n",
      "2020-04-07 17:58:55.127693: Eval at Index 10739 End\n",
      "2020-04-07 17:58:55.227558: Epoch 81 Begin\n"
     ]
    },
    {
     "name": "stdout",
     "output_type": "stream",
     "text": [
      "2020-04-07 17:58:55.541269: Eval at Index 10872 Begin\n",
      "[82,   100] Average Minibatch loss: 1.669\n",
      "MinibatchIndex 10872: Training Loss (Max 10000 rows): 1.2543460130691528\n",
      "MinibatchIndex 10872: Test Loss: 1.275336503982544\n",
      "2020-04-07 17:58:55.552976: Eval at Index 10872 End\n",
      "2020-04-07 17:58:55.665994: Epoch 82 Begin\n",
      "2020-04-07 17:58:55.979117: Eval at Index 11005 Begin\n",
      "[83,   100] Average Minibatch loss: 1.667\n",
      "MinibatchIndex 11005: Training Loss (Max 10000 rows): 1.2536652088165283\n",
      "MinibatchIndex 11005: Test Loss: 1.27573823928833\n",
      "2020-04-07 17:58:55.987492: Eval at Index 11005 End\n",
      "2020-04-07 17:58:56.087874: Epoch 83 Begin\n",
      "2020-04-07 17:58:56.430663: Eval at Index 11138 Begin\n",
      "[84,   100] Average Minibatch loss: 1.663\n",
      "MinibatchIndex 11138: Training Loss (Max 10000 rows): 1.2529172897338867\n",
      "MinibatchIndex 11138: Test Loss: 1.273928165435791\n",
      "2020-04-07 17:58:56.445514: Eval at Index 11138 End\n",
      "2020-04-07 17:58:56.601069: Epoch 84 Begin\n",
      "2020-04-07 17:58:57.080357: Eval at Index 11271 Begin\n",
      "[85,   100] Average Minibatch loss: 1.665\n",
      "MinibatchIndex 11271: Training Loss (Max 10000 rows): 1.2520662546157837\n",
      "MinibatchIndex 11271: Test Loss: 1.273245096206665\n",
      "2020-04-07 17:58:57.089119: Eval at Index 11271 End\n",
      "2020-04-07 17:58:57.246184: Epoch 85 Begin\n",
      "2020-04-07 17:58:57.614483: Eval at Index 11404 Begin\n",
      "[86,   100] Average Minibatch loss: 1.662\n",
      "MinibatchIndex 11404: Training Loss (Max 10000 rows): 1.2509403228759766\n",
      "MinibatchIndex 11404: Test Loss: 1.2722764015197754\n",
      "2020-04-07 17:58:57.623294: Eval at Index 11404 End\n",
      "2020-04-07 17:58:57.728178: Epoch 86 Begin\n",
      "2020-04-07 17:58:58.151768: Eval at Index 11537 Begin\n",
      "[87,   100] Average Minibatch loss: 1.660\n",
      "MinibatchIndex 11537: Training Loss (Max 10000 rows): 1.2500824928283691\n",
      "MinibatchIndex 11537: Test Loss: 1.27149498462677\n",
      "2020-04-07 17:58:58.160236: Eval at Index 11537 End\n",
      "2020-04-07 17:58:58.262529: Epoch 87 Begin\n",
      "2020-04-07 17:58:58.568507: Eval at Index 11670 Begin\n",
      "[88,   100] Average Minibatch loss: 1.663\n",
      "MinibatchIndex 11670: Training Loss (Max 10000 rows): 1.2497458457946777\n",
      "MinibatchIndex 11670: Test Loss: 1.2706173658370972\n",
      "2020-04-07 17:58:58.576826: Eval at Index 11670 End\n",
      "2020-04-07 17:58:58.682727: Epoch 88 Begin\n",
      "2020-04-07 17:58:59.022676: Eval at Index 11803 Begin\n",
      "[89,   100] Average Minibatch loss: 1.659\n",
      "MinibatchIndex 11803: Training Loss (Max 10000 rows): 1.2484930753707886\n",
      "MinibatchIndex 11803: Test Loss: 1.2704029083251953\n",
      "2020-04-07 17:58:59.031119: Eval at Index 11803 End\n",
      "2020-04-07 17:58:59.141761: Epoch 89 Begin\n",
      "2020-04-07 17:58:59.460913: Eval at Index 11936 Begin\n",
      "[90,   100] Average Minibatch loss: 1.659\n",
      "MinibatchIndex 11936: Training Loss (Max 10000 rows): 1.247760534286499\n",
      "MinibatchIndex 11936: Test Loss: 1.2695701122283936\n",
      "2020-04-07 17:58:59.469251: Eval at Index 11936 End\n",
      "2020-04-07 17:58:59.590323: Epoch 90 Begin\n",
      "2020-04-07 17:59:00.014646: Eval at Index 12069 Begin\n",
      "[91,   100] Average Minibatch loss: 1.656\n",
      "MinibatchIndex 12069: Training Loss (Max 10000 rows): 1.2482647895812988\n",
      "MinibatchIndex 12069: Test Loss: 1.2695869207382202\n",
      "2020-04-07 17:59:00.031379: Eval at Index 12069 End\n",
      "2020-04-07 17:59:00.194339: Epoch 91 Begin\n",
      "2020-04-07 17:59:00.546817: Eval at Index 12202 Begin\n",
      "[92,   100] Average Minibatch loss: 1.656\n",
      "MinibatchIndex 12202: Training Loss (Max 10000 rows): 1.2462975978851318\n",
      "MinibatchIndex 12202: Test Loss: 1.2680853605270386\n",
      "2020-04-07 17:59:00.556040: Eval at Index 12202 End\n",
      "2020-04-07 17:59:00.657382: Epoch 92 Begin\n",
      "2020-04-07 17:59:01.001403: Eval at Index 12335 Begin\n",
      "[93,   100] Average Minibatch loss: 1.656\n",
      "MinibatchIndex 12335: Training Loss (Max 10000 rows): 1.2455744743347168\n",
      "MinibatchIndex 12335: Test Loss: 1.2672661542892456\n",
      "2020-04-07 17:59:01.010501: Eval at Index 12335 End\n",
      "2020-04-07 17:59:01.120691: Epoch 93 Begin\n",
      "2020-04-07 17:59:01.450061: Eval at Index 12468 Begin\n",
      "[94,   100] Average Minibatch loss: 1.653\n",
      "MinibatchIndex 12468: Training Loss (Max 10000 rows): 1.2450459003448486\n",
      "MinibatchIndex 12468: Test Loss: 1.267033338546753\n",
      "2020-04-07 17:59:01.459094: Eval at Index 12468 End\n",
      "2020-04-07 17:59:01.564499: Epoch 94 Begin\n",
      "2020-04-07 17:59:01.897403: Eval at Index 12601 Begin\n",
      "[95,   100] Average Minibatch loss: 1.655\n",
      "MinibatchIndex 12601: Training Loss (Max 10000 rows): 1.2445175647735596\n",
      "MinibatchIndex 12601: Test Loss: 1.2656643390655518\n",
      "2020-04-07 17:59:01.911499: Eval at Index 12601 End\n",
      "2020-04-07 17:59:02.072597: Epoch 95 Begin\n",
      "2020-04-07 17:59:02.397738: Eval at Index 12734 Begin\n",
      "[96,   100] Average Minibatch loss: 1.653\n",
      "MinibatchIndex 12734: Training Loss (Max 10000 rows): 1.243784785270691\n",
      "MinibatchIndex 12734: Test Loss: 1.264894962310791\n",
      "2020-04-07 17:59:02.406262: Eval at Index 12734 End\n",
      "2020-04-07 17:59:02.507624: Epoch 96 Begin\n",
      "2020-04-07 17:59:02.846477: Eval at Index 12867 Begin\n",
      "[97,   100] Average Minibatch loss: 1.654\n",
      "MinibatchIndex 12867: Training Loss (Max 10000 rows): 1.242837905883789\n",
      "MinibatchIndex 12867: Test Loss: 1.2654194831848145\n",
      "2020-04-07 17:59:02.855066: Eval at Index 12867 End\n",
      "2020-04-07 17:59:02.967355: Epoch 97 Begin\n",
      "2020-04-07 17:59:03.285505: Eval at Index 13000 Begin\n",
      "[98,   100] Average Minibatch loss: 1.647\n",
      "MinibatchIndex 13000: Training Loss (Max 10000 rows): 1.242204189300537\n",
      "MinibatchIndex 13000: Test Loss: 1.2642779350280762\n",
      "2020-04-07 17:59:03.293823: Eval at Index 13000 End\n",
      "2020-04-07 17:59:03.395032: Epoch 98 Begin\n",
      "2020-04-07 17:59:03.712588: Eval at Index 13133 Begin\n",
      "[99,   100] Average Minibatch loss: 1.652\n",
      "MinibatchIndex 13133: Training Loss (Max 10000 rows): 1.2417328357696533\n",
      "MinibatchIndex 13133: Test Loss: 1.2632776498794556\n",
      "2020-04-07 17:59:03.720812: Eval at Index 13133 End\n",
      "2020-04-07 17:59:03.822714: Epoch 99 Begin\n",
      "2020-04-07 17:59:04.222999: Eval at Index 13266 Begin\n",
      "[100,   100] Average Minibatch loss: 1.649\n",
      "MinibatchIndex 13266: Training Loss (Max 10000 rows): 1.240910291671753\n",
      "MinibatchIndex 13266: Test Loss: 1.2628200054168701\n",
      "2020-04-07 17:59:04.232919: Eval at Index 13266 End\n",
      "Total time taken for training 56.838242053985596 sec.\n",
      "Average Test Loss: 0.001\n"
     ]
    }
   ],
   "source": [
    "train_epochs = 100\n",
    "for i in range(len(expts)):\n",
    "    inputs = expts[i]\n",
    "    net = inputs[1]()\n",
    "    net = net.to(device)\n",
    "    runner = ExptRunner(inputs[0], net, train_data, test_data, \n",
    "                        inputs[2], inputs[3], inputs[4], data_to_img_func=inputs[5])\n",
    "    print (\"Log folder for expt {}: {}\".format(i, runner.log_folder))\n",
    "    runner.train(train_epochs, shouldShowReconstruction=False)\n",
    "    runner.test()"
   ]
  },
  {
   "cell_type": "code",
   "execution_count": 54,
   "metadata": {},
   "outputs": [],
   "source": [
    "test_data_float = v1_test_data.data.float()\n",
    "train_data_float = v1_train_data.data.float()"
   ]
  },
  {
   "cell_type": "code",
   "execution_count": 55,
   "metadata": {},
   "outputs": [],
   "source": [
    "map_netname_net = {\n",
    "    'ComposedAutoEncoderWithMaxPool': lambda: ComposedAutoEncoder(useMaxPool=True),\n",
    "    'DenseAutoEncoder3': lambda: DenseAutoEncoder(enc_layer_dims=[1024, 128, 16]),\n",
    "    'ComposedAutoEncoderNoMaxPool': lambda: ComposedAutoEncoder(useMaxPool=False),\n",
    "    'VAE': VAE,\n",
    "    'ConvVAE': ConvVae,\n",
    "    'EtprEncoder': etprautoenc,\n",
    "    '03-31-18-02-15-Dynamics-V1-Dense-SmoothL1': lambda: Dense([4, 2]),\n",
    "    '03-31-18-02-32-Dynamics-V1-Dense-SmoothL1': lambda: Dense([4, 8, 2]),\n",
    "    '03-31-18-02-52-Dynamics-V1-Dense-SmoothL1': lambda: Dense([4, 16, 2]),\n",
    "    '03-31-18-01-03-Dynamics-V1-Dense-MSE': lambda: Dense([4, 2]),\n",
    "    '03-31-18-01-22-Dynamics-V1-Dense-MSE': lambda: Dense([4, 8, 2]),\n",
    "    '03-31-18-01-50-Dynamics-V1-Dense-MSE': lambda: Dense([4, 16, 2]),\n",
    "    '04-07-17-58-07-Policy-V1-Dense-CE': lambda: Dense([4, 64, 6]),\n",
    "}\n",
    "\n",
    "# Notes: \n",
    "#  Input normalization (bringing the data to [0, 1]) interval improved the convergence loss\n",
    "#  Turning off bias is performing worse      "
   ]
  },
  {
   "cell_type": "code",
   "execution_count": 61,
   "metadata": {},
   "outputs": [],
   "source": [
    "rr = ReportResults(map_netname_net, device, \n",
    "                   policy_input_adapter, policy_groud_truth_adapter,\n",
    "                   loss_adapter_func = control_ce_loss_adapter)"
   ]
  },
  {
   "cell_type": "code",
   "execution_count": 62,
   "metadata": {},
   "outputs": [
    {
     "name": "stdout",
     "output_type": "stream",
     "text": [
      "Time,Goal,DataSet,Network,Loss(Training),TestLoss,TrainLoss\n",
      "04:07:17:58:07,Policy,V1,Dense,CE,1.2633792161941528,1.2391564846038818\n"
     ]
    }
   ],
   "source": [
    "rr.generate_csv_comparison_report(test_data_float, train_data_float,\n",
    "                   rootdir='runs/04-07')"
   ]
  },
  {
   "cell_type": "code",
   "execution_count": 35,
   "metadata": {},
   "outputs": [
    {
     "name": "stdout",
     "output_type": "stream",
     "text": [
      "Folder: 03-31-18-01-22-Dynamics-V1-Dense-MSE\n",
      "tensor([[0.0000e+00, 5.0000e-01, 4.6587e-03, 5.0098e-01, 4.6587e-03, 9.8205e-04],\n",
      "        [0.0000e+00, 0.0000e+00, 6.5376e-03, 6.0927e-03, 6.5376e-03, 6.0927e-03],\n",
      "        [0.0000e+00, 5.0000e-01, 4.6546e-03, 4.9954e-01, 4.6546e-03, 4.5604e-04],\n",
      "        [0.0000e+00, 5.0000e-01, 4.6546e-03, 4.9960e-01, 4.6546e-03, 4.0260e-04],\n",
      "        [0.0000e+00, 5.0000e-01, 4.6546e-03, 4.9965e-01, 4.6546e-03, 3.4928e-04],\n",
      "        [1.0000e+00, 0.0000e+00, 9.9535e-01, 3.8400e-03, 4.6490e-03, 3.8400e-03],\n",
      "        [1.0000e+00, 0.0000e+00, 9.9535e-01, 3.8399e-03, 4.6488e-03, 3.8399e-03],\n",
      "        [1.0000e+00, 0.0000e+00, 9.9535e-01, 3.8397e-03, 4.6484e-03, 3.8397e-03],\n",
      "        [1.0000e+00, 0.0000e+00, 9.9535e-01, 3.8396e-03, 4.6482e-03, 3.8396e-03],\n",
      "        [1.0000e+00, 5.0000e-01, 9.9402e-01, 4.6098e-01, 5.9755e-03, 3.9022e-02]],\n",
      "       grad_fn=<CatBackward>)\n"
     ]
    }
   ],
   "source": [
    "sample = torch.cat((test_data_float[1055:1060], test_data_float[1230:1235]), axis=0)\n",
    "ground_truth = dynamics_gradient_ground_truth_adapter(sample)\n",
    "for folder, net in rr.build_net(rootdir='runs/03-31/run2/03-31-18-01-22-Dynamics-V1-Dense-MSE'):\n",
    "    print ('Folder: ' + folder)\n",
    "    op_batch, loss = rr.run_mini_batch(net, sample)\n",
    "    row_loss = F.l1_loss(ground_truth, op_batch, reduction='none')\n",
    "    print (torch.cat((ground_truth, op_batch, row_loss), axis=1))\n",
    "    # print(torch.max(row_loss, axis=0))"
   ]
  },
  {
   "cell_type": "code",
   "execution_count": 16,
   "metadata": {},
   "outputs": [
    {
     "name": "stdout",
     "output_type": "stream",
     "text": [
      "datapoint 0 test error tensor(9.2288e-06)\n"
     ]
    },
    {
     "data": {
      "image/png": "[encoded data removed]",
      "text/plain": [
       "<Figure size 432x288 with 1 Axes>"
      ]
     },
     "metadata": {
      "needs_background": "light"
     },
     "output_type": "display_data"
    },
    {
     "data": {
      "image/png": "[encoded data removed]",
      "text/plain": [
       "<Figure size 432x288 with 1 Axes>"
      ]
     },
     "metadata": {
      "needs_background": "light"
     },
     "output_type": "display_data"
    },
    {
     "name": "stdout",
     "output_type": "stream",
     "text": [
      "datapoint 1 test error tensor(9.4870e-06)\n"
     ]
    },
    {
     "data": {
      "image/png": "[encoded data removed]",
      "text/plain": [
       "<Figure size 432x288 with 1 Axes>"
      ]
     },
     "metadata": {
      "needs_background": "light"
     },
     "output_type": "display_data"
    },
    {
     "data": {
      "image/png": "[encoded data removed]",
      "text/plain": [
       "<Figure size 432x288 with 1 Axes>"
      ]
     },
     "metadata": {
      "needs_background": "light"
     },
     "output_type": "display_data"
    },
    {
     "name": "stdout",
     "output_type": "stream",
     "text": [
      "datapoint 2 test error tensor(1.5805e-05)\n"
     ]
    },
    {
     "data": {
      "image/png": "[encoded data removed]",
      "text/plain": [
       "<Figure size 432x288 with 1 Axes>"
      ]
     },
     "metadata": {
      "needs_background": "light"
     },
     "output_type": "display_data"
    },
    {
     "data": {
      "image/png": "[encoded data removed]",
      "text/plain": [
       "<Figure size 432x288 with 1 Axes>"
      ]
     },
     "metadata": {
      "needs_background": "light"
     },
     "output_type": "display_data"
    },
    {
     "name": "stdout",
     "output_type": "stream",
     "text": [
      "datapoint 3 test error tensor(1.1305e-05)\n"
     ]
    },
    {
     "data": {
      "image/png": "[encoded data removed]",
      "text/plain": [
       "<Figure size 432x288 with 1 Axes>"
      ]
     },
     "metadata": {
      "needs_background": "light"
     },
     "output_type": "display_data"
    },
    {
     "data": {
      "image/png": "[encoded data removed]",
      "text/plain": [
       "<Figure size 432x288 with 1 Axes>"
      ]
     },
     "metadata": {
      "needs_background": "light"
     },
     "output_type": "display_data"
    },
    {
     "name": "stdout",
     "output_type": "stream",
     "text": [
      "datapoint 4 test error tensor(1.3016e-05)\n"
     ]
    },
    {
     "data": {
      "image/png": "[encoded data removed]",
      "text/plain": [
       "<Figure size 432x288 with 1 Axes>"
      ]
     },
     "metadata": {
      "needs_background": "light"
     },
     "output_type": "display_data"
    },
    {
     "data": {
      "image/png": "[encoded data removed]",
      "text/plain": [
       "<Figure size 432x288 with 1 Axes>"
      ]
     },
     "metadata": {
      "needs_background": "light"
     },
     "output_type": "display_data"
    }
   ],
   "source": [
    "rr.show_test_samples(test_data_float,\n",
    "                  rootdir='runs/03-28/03-28-14-10-20-DemoPl-V2-ComposedAutoEncoderWithMaxPool-SmoothL1-')"
   ]
  },
  {
   "cell_type": "code",
   "execution_count": null,
   "metadata": {},
   "outputs": [],
   "source": [
    "np.set_printoptions(**opt)"
   ]
  },
  {
   "cell_type": "code",
   "execution_count": 97,
   "metadata": {},
   "outputs": [
    {
     "name": "stdout",
     "output_type": "stream",
     "text": [
      "tensor([[ 0.,  1.],\n",
      "        [-1.,  1.],\n",
      "        [-1.,  1.],\n",
      "        [-1.,  1.],\n",
      "        [ 0., -1.],\n",
      "        [ 0., -1.],\n",
      "        [ 0., -1.],\n",
      "        [ 0., -1.],\n",
      "        [ 0., -1.],\n",
      "        [ 1., -1.]])\n",
      "tensor([[0.5000, 1.0000],\n",
      "        [0.0000, 1.0000],\n",
      "        [0.0000, 1.0000],\n",
      "        [0.0000, 1.0000],\n",
      "        [0.5000, 0.0000],\n",
      "        [0.5000, 0.0000],\n",
      "        [0.5000, 0.0000],\n",
      "        [0.5000, 0.0000],\n",
      "        [0.5000, 0.0000],\n",
      "        [1.0000, 0.0000]])\n"
     ]
    }
   ],
   "source": [
    "input = test_data_float[10:20, 1028:1030]\n",
    "print (input)\n",
    "print ((input + 1.0) / 2)"
   ]
  }
 ],
 "metadata": {
  "kernelspec": {
   "display_name": "demopl",
   "language": "python",
   "name": "demopl"
  },
  "language_info": {
   "codemirror_mode": {
    "name": "ipython",
    "version": 3
   },
   "file_extension": ".py",
   "mimetype": "text/x-python",
   "name": "python",
   "nbconvert_exporter": "python",
   "pygments_lexer": "ipython3",
   "version": "3.6.8"
  }
 },
 "nbformat": 4,
 "nbformat_minor": 4
}
