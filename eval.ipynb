{
 "cells": [
  {
   "cell_type": "code",
   "execution_count": 1,
   "metadata": {},
   "outputs": [],
   "source": [
    "%load_ext autoreload\n",
    "%autoreload 2"
   ]
  },
  {
   "cell_type": "code",
   "execution_count": 63,
   "metadata": {},
   "outputs": [],
   "source": [
    "import numpy as np\n",
    "import matplotlib.pyplot as plt\n",
    "import time\n",
    "import os\n",
    "import glob\n",
    "from collections import OrderedDict\n",
    "\n",
    "import torch\n",
    "import torch.nn as nn\n",
    "import torch.nn.functional as F\n",
    "from torch.utils.data import DataLoader\n",
    "\n",
    "from adapters import *\n",
    "from dataset import NumpyCsvDataSet\n",
    "from runner import ExptRunner\n",
    "from networks.autoencoder import AutoEncoder\n",
    "from networks.composedautoencoder import ComposedAutoEncoder\n",
    "from networks.DenseAutoEncoder import DenseAutoEncoder\n",
    "from networks.ConvVae import ConvVae\n",
    "from networks.vae import VAE\n",
    "from networks.etpr.autoencoder import autoencoder as etprautoenc\n",
    "from networks.dense import Dense\n",
    "from networks.dense import DenseForPolicy\n",
    "from networks.imageencoder import ImageEncoder\n",
    "from networks.multinet import *\n",
    "from networks.lossfunctions import *\n",
    "from helpers import ReportResults\n",
    "from policyeval import PolicyEvaluator\n",
    "from policyeval import eval_policy_accuracy\n",
    "import utils"
   ]
  },
  {
   "cell_type": "code",
   "execution_count": 5,
   "metadata": {},
   "outputs": [],
   "source": [
    "opt = np.get_printoptions()\n",
    "np.set_printoptions(threshold=np.inf)"
   ]
  },
  {
   "cell_type": "code",
   "execution_count": 6,
   "metadata": {},
   "outputs": [
    {
     "name": "stdout",
     "output_type": "stream",
     "text": [
      "cpu\n"
     ]
    }
   ],
   "source": [
    "device = torch.device(\"cuda:2\" if torch.cuda.is_available() else \"cpu\")\n",
    "print (device)"
   ]
  },
  {
   "cell_type": "code",
   "execution_count": 7,
   "metadata": {},
   "outputs": [
    {
     "name": "stdout",
     "output_type": "stream",
     "text": [
      "Time Taken: 2.2414872646331787 sec\n"
     ]
    }
   ],
   "source": [
    "start = time.time()\n",
    "data_folder = 'data/demoplanner/version1'\n",
    "# v1_train_data = NumpyCsvDataSet(data_folder + '/train.csv', device=device)\n",
    "v1_test_data = NumpyCsvDataSet(data_folder + '/test.csv', device=device)\n",
    "print (\"Time Taken: {} sec\".format(time.time() - start))"
   ]
  },
  {
   "cell_type": "code",
   "execution_count": 8,
   "metadata": {},
   "outputs": [
    {
     "name": "stdout",
     "output_type": "stream",
     "text": [
      "Time Taken: 11.483969688415527 sec\n"
     ]
    }
   ],
   "source": [
    "start = time.time()\n",
    "data_folder = 'data/demoplanner/version2'\n",
    "# v2_train_data = NumpyCsvDataSet(data_folder + '/train.csv', device=device)\n",
    "v2_test_data = NumpyCsvDataSet(data_folder + '/test.csv', device=device)\n",
    "print (\"Time Taken: {} sec\".format(time.time() - start))"
   ]
  },
  {
   "cell_type": "code",
   "execution_count": 9,
   "metadata": {},
   "outputs": [],
   "source": [
    "test_data = v2_test_data.data\n",
    "# train_data = v2_train_data.data"
   ]
  },
  {
   "cell_type": "code",
   "execution_count": 10,
   "metadata": {},
   "outputs": [
    {
     "name": "stdout",
     "output_type": "stream",
     "text": [
      "torch.Size([6648, 2058])\n",
      "cpu\n"
     ]
    }
   ],
   "source": [
    "# print (train_data.shape)\n",
    "# print (train_data.device)\n",
    "\n",
    "print (test_data.shape)\n",
    "print (test_data.device)"
   ]
  },
  {
   "cell_type": "code",
   "execution_count": 11,
   "metadata": {},
   "outputs": [
    {
     "name": "stdout",
     "output_type": "stream",
     "text": [
      "[0, 22, 31, 34, 43, 50, 70, 86, 90, 106, 114, 122, 138, 152, 157, 173, 184, 191, 211, 219, 224, 226, 249, 260, 269, 279, 290, 307, 324, 340, 355, 367, 376, 400, 412, 426, 436, 453, 474, 485, 489, 509, 530, 536, 545, 554, 579, 597, 608, 621, 643, 651, 656, 664, 676, 683, 692, 706, 713, 740, 759, 774, 792, 802, 819, 841, 853, 878, 898, 905, 914, 925, 934, 944, 954, 974, 984, 998, 1007, 1008, 1015, 1025, 1043, 1061, 1065, 1089, 1094, 1103, 1114, 1126, 1129, 1152, 1160, 1177, 1183, 1196, 1207, 1232, 1243, 1265, 1274, 1293, 1302, 1316, 1328, 1350, 1358, 1371, 1375, 1397, 1402, 1422, 1439, 1442, 1454, 1461, 1481, 1500, 1516, 1536, 1550, 1559, 1565, 1577, 1601, 1626, 1645, 1669, 1681, 1694, 1702, 1720, 1729, 1738, 1753, 1777, 1792, 1793, 1794, 1802, 1814, 1818, 1836, 1842, 1865, 1887, 1909, 1915, 1925, 1931, 1941, 1963, 1979, 1998, 2023, 2042, 2068, 2093, 2096, 2106, 2124, 2136, 2149, 2160, 2180, 2194, 2206, 2213, 2236, 2242, 2248, 2260, 2269, 2291, 2304, 2312, 2322, 2336, 2350, 2360, 2380, 2392, 2399, 2412, 2414, 2427, 2440, 2459, 2475, 2489, 2493, 2509, 2523, 2533, 2548, 2561, 2583, 2588, 2604, 2616, 2635, 2660, 2672, 2679, 2687, 2692, 2704, 2718, 2725, 2734, 2758, 2768, 2780, 2795, 2807, 2817, 2821, 2836, 2847, 2860, 2878, 2893, 2915, 2931, 2944, 2948, 2962, 2980, 2989, 3013, 3022, 3025, 3031, 3034, 3047, 3061, 3084, 3095, 3108, 3120, 3126, 3149, 3168, 3176, 3200, 3223, 3231, 3248, 3252, 3267, 3281, 3306, 3329, 3352, 3369, 3384, 3400, 3415, 3438, 3457, 3466, 3471, 3484, 3493, 3500, 3512, 3523, 3526, 3534, 3554, 3555, 3563, 3570, 3577, 3593, 3609, 3619, 3639, 3647, 3657, 3675, 3688, 3706, 3731, 3743, 3764, 3774, 3793, 3810, 3834, 3846, 3862, 3875, 3878, 3883, 3887, 3894, 3897, 3910, 3927, 3944, 3947, 3968, 3993, 4015, 4021, 4031, 4044, 4063, 4072, 4080, 4086, 4104, 4123, 4147, 4166, 4180, 4192, 4216, 4234, 4250, 4266, 4285, 4300, 4319, 4339, 4354, 4355, 4363, 4374, 4396, 4400, 4414, 4421, 4435, 4457, 4482, 4492, 4497, 4501, 4513, 4525, 4540, 4553, 4567, 4577, 4586, 4601, 4608, 4616, 4625, 4635, 4640, 4646, 4667, 4675, 4680, 4695, 4704, 4727, 4742, 4756, 4777, 4793, 4801, 4803, 4816, 4820, 4838, 4849, 4867, 4882, 4902, 4920, 4935, 4948, 4969, 4995, 5004, 5012, 5037, 5059, 5083, 5105, 5125, 5133, 5146, 5171, 5184, 5206, 5215, 5233, 5247, 5253, 5274, 5285, 5302, 5319, 5329, 5347, 5363, 5365, 5382, 5400, 5410, 5432, 5446, 5464, 5472, 5481, 5503, 5508, 5521, 5531, 5553, 5558, 5571, 5583, 5590, 5612, 5621, 5636, 5646, 5650, 5658, 5677, 5692, 5708, 5729, 5739, 5746, 5760, 5768, 5789, 5805, 5828, 5853, 5860, 5875, 5882, 5893, 5919, 5931, 5952, 5958, 5964, 5978, 5989, 6008, 6030, 6050, 6070, 6076, 6079, 6089, 6100, 6114, 6135, 6144, 6153, 6161, 6163, 6187, 6197, 6209, 6219, 6228, 6236, 6253, 6265, 6280, 6288, 6303, 6314, 6327, 6336, 6339, 6342, 6358, 6363, 6371, 6389, 6403, 6415, 6437, 6450, 6462, 6485, 6504, 6519, 6520, 6534, 6551, 6564, 6580, 6586, 6596, 6602, 6624, 6635]\n",
      "500\n"
     ]
    }
   ],
   "source": [
    "t_cpu = test_data.data.cpu()\n",
    "start_indices = []\n",
    "index = 0\n",
    "while index < len(t_cpu):\n",
    "    start_indices.append(index)\n",
    "    start, goal = t_cpu[index, :2], t_cpu[index, 2:4]\n",
    "    index += int(max(np.abs(goal - start)))\n",
    "print (start_indices)\n",
    "print (len(start_indices))"
   ]
  },
  {
   "cell_type": "code",
   "execution_count": null,
   "metadata": {},
   "outputs": [],
   "source": [
    "pretrain_policy = Dense([4, 16, 16, 6], use_last_act=False, prefix='enc')\n",
    "pretrain_policy.load_state_dict(torch.load('runs/pretrained/04-08-10-24-50-Policy-V2-Dense-CE/autoenc.pth', \n",
    "                                  map_location=device))\n",
    "\n",
    "pretrain_dynamics = Dense([4, 16, 2], prefix='enc')\n",
    "pretrain_dynamics.load_state_dict(torch.load('runs/pretrained/03-31-18-02-52-Dynamics-V1-Dense-SmoothL1/autoenc.pth', \n",
    "                                    map_location=device))\n",
    "\n",
    "pretrain_imgEncDec = ComposedAutoEncoder(layers_channels=[16,16,16,16], useMaxPool=True, device=device).to(device)\n",
    "pretrain_imgEncDec.load_state_dict(torch.load('runs/pretrained/03-28-14-10-20-DemoPl-V2-ComposedAutoEncoderWithMaxPool-SmoothL1-/autoenc.pth',\n",
    "                               map_location=device))\n",
    "\n",
    "pretrain_envEncDec_chkpt = torch.load(\n",
    "    'runs/pretrained/04-20-11-03-59-EnvAutoEnc-V2-DenseAutoEncoder-MSE/train_checkpoint.tar',map_location=device)\n",
    "pretrain_envEncDec = pretrain_envEncDec_chkpt['model']\n",
    "\n",
    "pretrain_ImgToEnvBaseLine_chkpt = torch.load(\n",
    "    'runs/pretrained/04-21-12-51-48-ImageToEnvFunctionBaseLine-V2-3Conv2Dense-MSE/train_checkpoint.tar',map_location=device)\n",
    "pretrain_ImgToEnvBaseLine = pretrain_ImgToEnvBaseLine_chkpt['model']"
   ]
  },
  {
   "cell_type": "code",
   "execution_count": 39,
   "metadata": {},
   "outputs": [
    {
     "data": {
      "text/plain": [
       "<All keys matched successfully>"
      ]
     },
     "execution_count": 39,
     "metadata": {},
     "output_type": "execute_result"
    }
   ],
   "source": [
    "adjusted_ImgToEnv_BaseLine = nn.Sequential(OrderedDict([\n",
    "    ('Conv', ImageEncoder(1, [16,16,16], 'imgenc', useMaxPool=True, addFlatten=True)),\n",
    "    ('Dense', Dense([256, 4]))\n",
    "]))\n",
    "adjusted_ImgToEnv_BaseLine.load_state_dict(pretrain_ImgToEnvBaseLine.state_dict())"
   ]
  },
  {
   "cell_type": "code",
   "execution_count": 62,
   "metadata": {},
   "outputs": [
    {
     "data": {
      "text/plain": [
       "Dense(\n",
       "  (net): Sequential(\n",
       "    (enc_fc0): Linear(in_features=4, out_features=16, bias=True)\n",
       "    (enc_relu0): ReLU()\n",
       "    (enc_fc1): Linear(in_features=16, out_features=2, bias=True)\n",
       "    (enc_sig1): Sigmoid()\n",
       "  )\n",
       ")"
      ]
     },
     "execution_count": 62,
     "metadata": {},
     "output_type": "execute_result"
    }
   ],
   "source": [
    "pretrain_dynamics"
   ]
  },
  {
   "cell_type": "code",
   "execution_count": 64,
   "metadata": {},
   "outputs": [],
   "source": [
    "net = ImageToEnvAndMultiNet(adjusted_ImgToEnv_BaseLine, pretrain_policy, pretrain_dynamics)\n",
    "label_adapter = lambda data: torch.cat((data[:, 2:4], data[:, 1028:1032], data[:, 1034:]), dim=1)\n",
    "e = PolicyEvaluator(net, distance_func=F.l1_loss, label_adapter=label_adapter)"
   ]
  },
  {
   "cell_type": "code",
   "execution_count": 65,
   "metadata": {},
   "outputs": [],
   "source": [
    "def get_trajectories(start_indices):\n",
    "    for i in range(len(start_indices)):\n",
    "            rstart = start_indices[i]\n",
    "            rend = start_indices[i+1] if i < len(start_indices)-1 else len(t_cpu)\n",
    "            yield t_cpu[rstart:rend, :]"
   ]
  },
  {
   "cell_type": "code",
   "execution_count": 68,
   "metadata": {},
   "outputs": [],
   "source": [
    "traj = next(get_trajectories(start_indices))\n",
    "goal_err, step_err, labels, predictions = e.eval_single_trajectory(traj)"
   ]
  },
  {
   "cell_type": "code",
   "execution_count": 69,
   "metadata": {},
   "outputs": [
    {
     "name": "stdout",
     "output_type": "stream",
     "text": [
      "22\n",
      "tensor(15.5028)\n",
      "tensor(14.8810)\n"
     ]
    }
   ],
   "source": [
    "print (len(traj))\n",
    "print (goal_err)\n",
    "print (step_err)"
   ]
  },
  {
   "cell_type": "code",
   "execution_count": 73,
   "metadata": {},
   "outputs": [
    {
     "name": "stdout",
     "output_type": "stream",
     "text": [
      "tensor([[25.0000,  7.0000, 24.9426,  7.1467],\n",
      "        [25.0000,  7.0000, 23.9348,  7.0788],\n",
      "        [25.0000,  7.0000, 22.9179,  7.0234],\n",
      "        [25.0000,  7.0000, 21.8703,  7.0900],\n",
      "        [25.0000,  7.0000, 20.9352,  7.0136],\n",
      "        [25.0000,  7.0000, 19.9309,  6.9747],\n",
      "        [25.0000,  7.0000, 18.8997,  6.0413],\n",
      "        [25.0000,  7.0000, 17.9696,  6.0028],\n",
      "        [25.0000,  7.0000, 16.9224,  6.1278],\n",
      "        [25.0000,  7.0000, 15.9966,  6.0466],\n",
      "        [25.0000,  7.0000, 14.9468,  6.0360],\n",
      "        [25.0000,  7.0000, 14.0352,  6.0125],\n",
      "        [25.0000,  7.0000, 14.0444,  6.0059],\n",
      "        [25.0000,  7.0000, 14.0546,  5.9986],\n",
      "        [25.0000,  7.0000, 14.0801,  5.1079],\n",
      "        [25.0000,  7.0000, 14.0622,  5.1513],\n",
      "        [25.0000,  7.0000, 14.0436,  5.1408],\n",
      "        [25.0000,  7.0000, 14.1351,  5.1605],\n",
      "        [25.0000,  7.0000, 14.0717,  5.1189],\n",
      "        [25.0000,  7.0000, 14.1344,  5.1694],\n",
      "        [25.0000,  7.0000, 14.0591,  5.1355],\n",
      "        [25.0000,  7.0000, 14.1098,  5.1442]])\n",
      "tensor([[ 0.0000, -1.0000,  6.0000, 28.0000,  0.0000, -1.0000,  6.0000, 28.0082],\n",
      "        [ 0.0000, -1.0000,  6.0000, 27.0000,  0.0000, -1.0000,  6.0001, 27.0163],\n",
      "        [ 0.0000, -1.0000,  6.0000, 26.0000,  0.0000, -1.0000,  6.0002, 26.0245],\n",
      "        [ 1.0000, -1.0000,  7.0000, 25.0000,  0.0000, -1.0000,  6.0003, 25.0326],\n",
      "        [ 1.0000, -1.0000,  8.0000, 24.0000,  0.0000, -1.0000,  6.0003, 24.0408],\n",
      "        [ 1.0000, -1.0000,  9.0000, 23.0000,  0.0000, -1.0000,  6.0004, 23.0489],\n",
      "        [ 1.0000, -1.0000, 10.0000, 22.0000,  0.0000, -1.0000,  6.0006, 22.0571],\n",
      "        [ 1.0000, -1.0000, 11.0000, 21.0000,  0.0000, -1.0000,  6.0007, 21.0652],\n",
      "        [ 1.0000, -1.0000, 12.0000, 20.0000,  0.0000, -1.0000,  6.0008, 20.0734],\n",
      "        [ 1.0000, -1.0000, 13.0000, 19.0000,  0.0000, -1.0000,  6.0009, 19.0815],\n",
      "        [ 1.0000, -1.0000, 14.0000, 18.0000,  0.0000, -1.0000,  6.0010, 18.0897],\n",
      "        [ 1.0000, -1.0000, 15.0000, 17.0000,  0.0000, -1.0000,  6.0011, 17.0978],\n",
      "        [ 1.0000, -1.0000, 16.0000, 16.0000,  0.0000, -1.0000,  6.0013, 16.1060],\n",
      "        [ 1.0000, -1.0000, 17.0000, 15.0000,  0.0000, -1.0000,  6.0014, 15.1141],\n",
      "        [ 1.0000, -1.0000, 18.0000, 14.0000,  0.0000, -1.0000,  6.0015, 14.1223],\n",
      "        [ 1.0000, -1.0000, 19.0000, 13.0000,  0.0000, -1.0000,  6.0017, 13.1304],\n",
      "        [ 1.0000, -1.0000, 20.0000, 12.0000,  0.0000, -1.0000,  6.0018, 12.1386],\n",
      "        [ 1.0000, -1.0000, 21.0000, 11.0000,  0.0000, -1.0000,  6.0020, 11.1467],\n",
      "        [ 1.0000, -1.0000, 22.0000, 10.0000, -1.0000,  0.0000,  5.0108, 11.1466],\n",
      "        [ 1.0000, -1.0000, 23.0000,  9.0000, -1.0000,  0.0000,  4.0196, 11.1465],\n",
      "        [ 1.0000, -1.0000, 24.0000,  8.0000, -1.0000,  0.0000,  3.0284, 11.1462],\n",
      "        [ 1.0000, -1.0000, 25.0000,  7.0000, -1.0000,  0.0000,  2.0372, 11.1460]])\n"
     ]
    }
   ],
   "source": [
    "print (torch.cat((labels[:, :2], predictions[:, :2]), dim=1))\n",
    "print (torch.cat((labels[:, 2:6], predictions[:, 2:6]), dim=1))"
   ]
  },
  {
   "cell_type": "code",
   "execution_count": 71,
   "metadata": {},
   "outputs": [
    {
     "data": {
      "image/png": "[encoded data removed]",
      "text/plain": [
       "<Figure size 432x288 with 2 Axes>"
      ]
     },
     "metadata": {
      "needs_background": "light"
     },
     "output_type": "display_data"
    },
    {
     "data": {
      "image/png": "[encoded data removed]",
      "text/plain": [
       "<Figure size 432x288 with 2 Axes>"
      ]
     },
     "metadata": {
      "needs_background": "light"
     },
     "output_type": "display_data"
    },
    {
     "data": {
      "image/png": "[encoded data removed]",
      "text/plain": [
       "<Figure size 432x288 with 2 Axes>"
      ]
     },
     "metadata": {
      "needs_background": "light"
     },
     "output_type": "display_data"
    },
    {
     "data": {
      "image/png": "[encoded data removed]",
      "text/plain": [
       "<Figure size 432x288 with 2 Axes>"
      ]
     },
     "metadata": {
      "needs_background": "light"
     },
     "output_type": "display_data"
    },
    {
     "data": {
      "image/png": "[encoded data removed]",
      "text/plain": [
       "<Figure size 432x288 with 2 Axes>"
      ]
     },
     "metadata": {
      "needs_background": "light"
     },
     "output_type": "display_data"
    },
    {
     "data": {
      "image/png": "[encoded data removed]",
      "text/plain": [
       "<Figure size 432x288 with 2 Axes>"
      ]
     },
     "metadata": {
      "needs_background": "light"
     },
     "output_type": "display_data"
    },
    {
     "data": {
      "image/png": "[encoded data removed]",
      "text/plain": [
       "<Figure size 432x288 with 2 Axes>"
      ]
     },
     "metadata": {
      "needs_background": "light"
     },
     "output_type": "display_data"
    },
    {
     "data": {
      "image/png": "[encoded data removed]",
      "text/plain": [
       "<Figure size 432x288 with 2 Axes>"
      ]
     },
     "metadata": {
      "needs_background": "light"
     },
     "output_type": "display_data"
    },
    {
     "data": {
      "image/png": "[encoded data removed]",
      "text/plain": [
       "<Figure size 432x288 with 2 Axes>"
      ]
     },
     "metadata": {
      "needs_background": "light"
     },
     "output_type": "display_data"
    },
    {
     "data": {
      "image/png": "[encoded data removed]",
      "text/plain": [
       "<Figure size 432x288 with 2 Axes>"
      ]
     },
     "metadata": {
      "needs_background": "light"
     },
     "output_type": "display_data"
    },
    {
     "data": {
      "image/png": "[encoded data removed]",
      "text/plain": [
       "<Figure size 432x288 with 2 Axes>"
      ]
     },
     "metadata": {
      "needs_background": "light"
     },
     "output_type": "display_data"
    },
    {
     "data": {
      "image/png": "[encoded data removed]",
      "text/plain": [
       "<Figure size 432x288 with 2 Axes>"
      ]
     },
     "metadata": {
      "needs_background": "light"
     },
     "output_type": "display_data"
    },
    {
     "data": {
      "image/png": "[encoded data removed]",
      "text/plain": [
       "<Figure size 432x288 with 2 Axes>"
      ]
     },
     "metadata": {
      "needs_background": "light"
     },
     "output_type": "display_data"
    },
    {
     "data": {
      "image/png": "[encoded data removed]",
      "text/plain": [
       "<Figure size 432x288 with 2 Axes>"
      ]
     },
     "metadata": {
      "needs_background": "light"
     },
     "output_type": "display_data"
    },
    {
     "data": {
      "image/png": "[encoded data removed]",
      "text/plain": [
       "<Figure size 432x288 with 2 Axes>"
      ]
     },
     "metadata": {
      "needs_background": "light"
     },
     "output_type": "display_data"
    },
    {
     "data": {
      "image/png": "[encoded data removed]",
      "text/plain": [
       "<Figure size 432x288 with 2 Axes>"
      ]
     },
     "metadata": {
      "needs_background": "light"
     },
     "output_type": "display_data"
    },
    {
     "data": {
      "image/png": "[encoded data removed]",
      "text/plain": [
       "<Figure size 432x288 with 2 Axes>"
      ]
     },
     "metadata": {
      "needs_background": "light"
     },
     "output_type": "display_data"
    },
    {
     "data": {
      "image/png": "[encoded data removed]",
      "text/plain": [
       "<Figure size 432x288 with 2 Axes>"
      ]
     },
     "metadata": {
      "needs_background": "light"
     },
     "output_type": "display_data"
    },
    {
     "data": {
      "image/png": "[encoded data removed]",
      "text/plain": [
       "<Figure size 432x288 with 2 Axes>"
      ]
     },
     "metadata": {
      "needs_background": "light"
     },
     "output_type": "display_data"
    },
    {
     "data": {
      "image/png": "[encoded data removed]",
      "text/plain": [
       "<Figure size 432x288 with 2 Axes>"
      ]
     },
     "metadata": {
      "needs_background": "light"
     },
     "output_type": "display_data"
    },
    {
     "data": {
      "image/png": "[encoded data removed]",
      "text/plain": [
       "<Figure size 432x288 with 2 Axes>"
      ]
     },
     "metadata": {
      "needs_background": "light"
     },
     "output_type": "display_data"
    },
    {
     "data": {
      "image/png": "[encoded data removed]",
      "text/plain": [
       "<Figure size 432x288 with 2 Axes>"
      ]
     },
     "metadata": {
      "needs_background": "light"
     },
     "output_type": "display_data"
    }
   ],
   "source": [
    "for i in range(len(traj)):\n",
    "    plt.subplot(1,2,1)\n",
    "    plt.imshow(labels[i, 6:].reshape(32,32), cmap=plt.get_cmap(\"gray\"))\n",
    "    plt.subplot(1,2,2)\n",
    "    plt.imshow(predictions[i, 6:].reshape(32,32), cmap=plt.get_cmap(\"gray\"))\n",
    "    plt.show()"
   ]
  },
  {
   "cell_type": "code",
   "execution_count": 26,
   "metadata": {},
   "outputs": [],
   "source": [
    "errors = torch.zeros((len(start_indices), 3))\n",
    "for trajectory in get_trajectories(start_indices):\n",
    "    goal_err, step_err, labels, predictions = e.eval_single_trajectory(trajectory)\n",
    "    errors[i][0] = len(trajectory)\n",
    "    errors[i][1] = goal_err\n",
    "    errors[i][2] = step_err"
   ]
  },
  {
   "cell_type": "code",
   "execution_count": 27,
   "metadata": {},
   "outputs": [
    {
     "name": "stdout",
     "output_type": "stream",
     "text": [
      "Trajectory with highest goal error = 386\n",
      "Trajectory with highest average step error = 386\n",
      "Trajectory Length, Goal Error, Average Error\n",
      "22.0,12.960399627685547,4.884669780731201\n",
      "9.0,4.852686882019043,2.695817708969116\n",
      "3.0,1.595874309539795,1.0638898611068726\n",
      "9.0,5.459317684173584,2.786447286605835\n",
      "7.0,6.841001033782959,3.9084365367889404\n",
      "20.0,14.134435653686523,6.362017631530762\n",
      "16.0,13.942781448364258,6.975234508514404\n",
      "4.0,2.437255382537842,1.3359044790267944\n",
      "16.0,9.144655227661133,4.250625133514404\n",
      "8.0,5.237362861633301,2.5759902000427246\n",
      "8.0,6.318533897399902,3.088604688644409\n",
      "16.0,9.571662902832031,3.9311604499816895\n",
      "14.0,10.939911842346191,4.983663082122803\n",
      "5.0,4.435301780700684,2.461456537246704\n",
      "16.0,9.867547988891602,4.4905571937561035\n",
      "11.0,10.018267631530762,5.24059534072876\n",
      "7.0,4.5808610916137695,2.244675636291504\n",
      "20.0,16.234203338623047,7.611097812652588\n",
      "8.0,4.736490249633789,2.309919834136963\n",
      "5.0,4.173446178436279,2.204035520553589\n",
      "2.0,1.3381853103637695,0.913787841796875\n",
      "23.0,19.645652770996094,9.103287696838379\n",
      "11.0,10.396389961242676,5.666691303253174\n",
      "9.0,4.530180931091309,2.327486515045166\n",
      "10.0,6.3526201248168945,2.970165729522705\n",
      "11.0,9.91037368774414,4.859549522399902\n",
      "17.0,15.20724868774414,7.815211772918701\n",
      "17.0,10.708444595336914,4.514896392822266\n",
      "16.0,15.127379417419434,7.805591583251953\n",
      "15.0,9.517064094543457,4.3680219650268555\n",
      "12.0,6.357091426849365,3.476809501647949\n",
      "9.0,7.214228630065918,3.519923210144043\n",
      "24.0,12.223079681396484,4.837944507598877\n",
      "12.0,10.074516296386719,4.891705513000488\n",
      "14.0,9.112059593200684,4.209921836853027\n",
      "10.0,7.376552581787109,3.5300965309143066\n",
      "17.0,8.986209869384766,4.755064010620117\n",
      "21.0,13.167560577392578,5.8303046226501465\n",
      "11.0,10.52314567565918,5.516326427459717\n",
      "4.0,3.092751979827881,1.6828619241714478\n",
      "20.0,10.157240867614746,4.987745761871338\n",
      "21.0,10.724813461303711,5.354295253753662\n",
      "6.0,4.054795265197754,2.0472283363342285\n",
      "9.0,6.9631171226501465,3.313046932220459\n",
      "9.0,5.17346715927124,2.6512861251831055\n",
      "25.0,12.366405487060547,5.426027297973633\n",
      "18.0,11.395820617675781,5.075078964233398\n",
      "11.0,7.098417282104492,3.4630043506622314\n",
      "13.0,8.08610725402832,3.9003376960754395\n",
      "22.0,16.721664428710938,7.5923662185668945\n",
      "8.0,4.297175407409668,2.270514965057373\n",
      "5.0,4.706950664520264,2.624725103378296\n",
      "8.0,7.1050825119018555,3.7794132232666016\n",
      "12.0,9.587532997131348,4.540253162384033\n",
      "7.0,4.670589923858643,2.239078998565674\n",
      "9.0,7.585503578186035,3.824575185775757\n",
      "14.0,7.802787780761719,4.056565761566162\n",
      "7.0,5.3488593101501465,2.6546859741210938\n",
      "27.0,21.05960464477539,9.373537063598633\n",
      "19.0,14.264467239379883,6.459430694580078\n",
      "15.0,13.195531845092773,6.4601054191589355\n",
      "18.0,10.462152481079102,4.83989143371582\n",
      "10.0,4.986299514770508,2.861003875732422\n",
      "17.0,7.974823951721191,3.855041980743408\n",
      "22.0,15.024125099182129,6.30565071105957\n",
      "12.0,9.182479858398438,4.242671489715576\n",
      "25.0,17.572649002075195,7.603132724761963\n",
      "20.0,7.973026275634766,3.758692979812622\n",
      "7.0,4.599053859710693,2.3451178073883057\n",
      "9.0,4.870121955871582,2.3589935302734375\n",
      "11.0,8.037778854370117,3.7028396129608154\n",
      "9.0,5.429381847381592,2.755056381225586\n",
      "10.0,8.242857933044434,4.036813259124756\n",
      "10.0,5.567193031311035,2.9674015045166016\n",
      "20.0,13.974403381347656,6.179859161376953\n",
      "10.0,5.193594455718994,2.828627109527588\n",
      "14.0,9.459223747253418,3.8717329502105713\n",
      "9.0,7.384878158569336,3.7267091274261475\n",
      "1.0,0.5605254173278809,0.5605254173278809\n",
      "7.0,6.351707458496094,3.4250619411468506\n",
      "10.0,6.335381507873535,3.0838794708251953\n",
      "18.0,8.843904495239258,4.666275978088379\n",
      "18.0,14.478720664978027,6.6360344886779785\n",
      "4.0,2.8689069747924805,1.56417977809906\n",
      "24.0,12.823554992675781,6.269264221191406\n",
      "5.0,3.5374667644500732,1.8637853860855103\n",
      "9.0,4.258054256439209,2.3644204139709473\n",
      "11.0,8.077805519104004,3.8299155235290527\n",
      "12.0,9.180496215820312,4.241540908813477\n",
      "3.0,2.626230239868164,1.5843620300292969\n",
      "23.0,10.165895462036133,5.047311305999756\n",
      "8.0,4.744759559631348,2.450035572052002\n",
      "17.0,10.130640029907227,4.8967084884643555\n",
      "6.0,4.228848457336426,2.1754112243652344\n",
      "13.0,11.751676559448242,5.9152936935424805\n",
      "11.0,11.426841735839844,6.2322235107421875\n",
      "25.0,14.989853858947754,6.946619033813477\n",
      "11.0,6.292226314544678,3.021840810775757\n",
      "22.0,9.994518280029297,4.82088565826416\n",
      "9.0,5.153945446014404,2.6449880599975586\n",
      "19.0,10.692736625671387,4.896387577056885\n",
      "9.0,8.397340774536133,4.442546844482422\n",
      "14.0,12.0443754196167,5.878016471862793\n",
      "12.0,8.100906372070312,3.755011558532715\n",
      "22.0,17.304426193237305,7.764354228973389\n",
      "8.0,6.013090133666992,3.00028657913208\n",
      "13.0,6.10682487487793,3.2900149822235107\n",
      "4.0,3.6641745567321777,2.1026015281677246\n",
      "22.0,12.456827163696289,6.1609649658203125\n",
      "5.0,3.6112709045410156,1.9085309505462646\n",
      "20.0,17.907344818115234,9.143204689025879\n",
      "17.0,12.196508407592773,5.514835834503174\n",
      "3.0,1.5848851203918457,1.056572675704956\n",
      "12.0,7.3713836669921875,3.6520493030548096\n",
      "7.0,4.216935157775879,2.2429933547973633\n",
      "20.0,11.73475170135498,5.731077194213867\n",
      "19.0,15.577264785766602,7.180683135986328\n",
      "16.0,10.779096603393555,4.824013710021973\n",
      "20.0,11.062973976135254,5.215529441833496\n",
      "14.0,10.6903657913208,4.8715901374816895\n",
      "9.0,6.06700325012207,2.8146731853485107\n",
      "6.0,5.399360179901123,2.940993309020996\n",
      "12.0,7.9437761306762695,3.739957809448242\n",
      "24.0,8.757596969604492,4.972838401794434\n",
      "25.0,13.492254257202148,6.8658647537231445\n",
      "19.0,15.59762954711914,7.18508768081665\n",
      "24.0,11.956140518188477,5.9804816246032715\n",
      "12.0,6.668148040771484,3.3828094005584717\n",
      "13.0,12.475996017456055,6.7140703201293945\n",
      "8.0,5.412123680114746,2.706085205078125\n",
      "18.0,14.047142028808594,6.448295593261719\n",
      "9.0,7.255338668823242,3.5378947257995605\n",
      "9.0,6.731748104095459,3.203645706176758\n",
      "15.0,10.52530288696289,4.6949543952941895\n",
      "24.0,12.545602798461914,5.895203113555908\n",
      "15.0,8.535049438476562,4.119273662567139\n",
      "1.0,0.5384941101074219,0.5384941101074219\n",
      "1.0,0.9784688949584961,0.9784688949584961\n",
      "8.0,5.926345348358154,2.8333077430725098\n",
      "12.0,7.168849945068359,3.321941614151001\n",
      "4.0,3.3411612510681152,1.9085674285888672\n",
      "18.0,12.682859420776367,5.579634666442871\n",
      "6.0,4.300052642822266,2.1396877765655518\n",
      "23.0,15.609167098999023,6.778900623321533\n",
      "22.0,14.339749336242676,6.335497856140137\n",
      "22.0,19.305625915527344,9.163398742675781\n",
      "6.0,4.219368934631348,2.184293270111084\n",
      "10.0,7.71972131729126,3.664890766143799\n",
      "6.0,3.9954833984375,2.0236685276031494\n",
      "10.0,8.50787353515625,4.179626941680908\n",
      "22.0,16.476463317871094,7.3389811515808105\n",
      "16.0,13.565815925598145,6.604045391082764\n",
      "19.0,8.534784317016602,3.5585856437683105\n",
      "25.0,20.805789947509766,10.10566520690918\n",
      "19.0,12.077264785766602,5.363309383392334\n",
      "26.0,13.27248477935791,6.31791353225708\n",
      "25.0,12.853476524353027,6.312117099761963\n",
      "3.0,1.5925254821777344,1.0616573095321655\n",
      "10.0,5.1149091720581055,2.5860610008239746\n",
      "18.0,15.094650268554688,7.05996561050415\n",
      "12.0,6.595264434814453,3.3584301471710205\n",
      "13.0,11.114487648010254,5.573817729949951\n",
      "11.0,7.70046329498291,3.565345048904419\n",
      "20.0,16.312103271484375,7.675882816314697\n",
      "14.0,12.696624755859375,6.3704328536987305\n",
      "12.0,9.284608840942383,4.366013050079346\n",
      "7.0,4.226121425628662,2.1330771446228027\n",
      "23.0,19.069440841674805,9.140244483947754\n",
      "6.0,3.314596176147461,1.8087190389633179\n",
      "6.0,5.3655853271484375,2.9335737228393555\n",
      "12.0,7.263705730438232,3.5821828842163086\n",
      "9.0,4.868781089782715,2.5877981185913086\n",
      "22.0,13.20970630645752,6.252697944641113\n",
      "13.0,8.999824523925781,4.086032867431641\n",
      "8.0,5.161853790283203,2.602674961090088\n",
      "10.0,5.449161052703857,2.77164363861084\n",
      "14.0,9.071985244750977,4.272725582122803\n",
      "14.0,9.747861862182617,4.487679481506348\n",
      "10.0,8.16904067993164,4.099879264831543\n",
      "20.0,9.943811416625977,4.80167293548584\n",
      "12.0,5.581809997558594,3.0207436084747314\n",
      "7.0,3.6473493576049805,1.8697177171707153\n",
      "13.0,11.383584976196289,5.447789192199707\n",
      "2.0,1.4470996856689453,0.9603466987609863\n",
      "13.0,12.049262046813965,6.258456230163574\n",
      "13.0,10.452926635742188,5.087292194366455\n",
      "19.0,11.458685874938965,5.197383880615234\n",
      "16.0,8.500941276550293,4.625105857849121\n",
      "14.0,9.693026542663574,3.9341282844543457\n",
      "4.0,2.9110188484191895,1.5954430103302002\n",
      "16.0,10.752130508422852,4.241377353668213\n",
      "14.0,11.959980964660645,5.9840545654296875\n",
      "10.0,5.905566215515137,3.04428768157959\n",
      "15.0,10.268247604370117,4.574636459350586\n",
      "13.0,9.6552095413208,4.429167747497559\n",
      "22.0,11.763971328735352,5.018852710723877\n",
      "5.0,4.155233383178711,2.1936163902282715\n",
      "16.0,8.942781448364258,4.403252124786377\n",
      "12.0,7.002604961395264,3.178182363510132\n",
      "19.0,10.433439254760742,5.2503533363342285\n",
      "25.0,21.5311279296875,10.324214935302734\n",
      "12.0,8.00150203704834,3.7706339359283447\n",
      "7.0,4.715081214904785,2.2853891849517822\n",
      "8.0,6.4042158126831055,3.1344313621520996\n",
      "5.0,4.92557430267334,2.9551005363464355\n",
      "12.0,7.059474468231201,3.5108659267425537\n",
      "14.0,8.340620040893555,4.037269115447998\n",
      "7.0,4.791909217834473,2.4212048053741455\n",
      "9.0,5.6547746658325195,2.7026424407958984\n",
      "24.0,12.164839744567871,5.727926731109619\n",
      "10.0,9.932088851928711,5.236991882324219\n",
      "12.0,7.14838981628418,3.643082857131958\n",
      "15.0,10.876363754272461,4.911438465118408\n",
      "12.0,9.645698547363281,4.588329792022705\n",
      "10.0,8.10441780090332,3.951930284500122\n",
      "4.0,4.15079927444458,2.5942435264587402\n",
      "15.0,10.007058143615723,4.567673206329346\n",
      "11.0,9.220962524414062,4.485445022583008\n",
      "13.0,9.542668342590332,4.227485179901123\n",
      "18.0,9.247760772705078,4.64234733581543\n",
      "15.0,7.549868583679199,3.78959321975708\n",
      "22.0,10.106316566467285,5.528012752532959\n",
      "16.0,9.809066772460938,4.761420726776123\n",
      "13.0,8.688701629638672,4.052077293395996\n",
      "4.0,2.809292793273926,1.5572097301483154\n",
      "14.0,12.842464447021484,6.461822032928467\n",
      "18.0,11.468061447143555,5.312780380249023\n",
      "9.0,8.694650650024414,4.83066987991333\n",
      "24.0,15.82813835144043,6.794826507568359\n",
      "9.0,5.107147693634033,2.536616802215576\n",
      "3.0,2.554579734802246,1.5382314920425415\n",
      "6.0,4.617854118347168,2.319209575653076\n",
      "3.0,2.9118049144744873,1.9410737752914429\n",
      "13.0,10.352686882019043,4.931858539581299\n",
      "14.0,11.309669494628906,5.247008323669434\n",
      "23.0,11.042010307312012,4.817275524139404\n",
      "11.0,9.902752876281738,5.173823356628418\n",
      "13.0,8.709711074829102,3.9780397415161133\n",
      "12.0,6.585963726043701,3.5676965713500977\n",
      "6.0,4.163087844848633,2.136115074157715\n",
      "23.0,10.172039031982422,4.178572654724121\n",
      "19.0,10.781518936157227,5.015097618103027\n",
      "8.0,5.333773136138916,2.624990463256836\n",
      "24.0,15.49489688873291,6.7942328453063965\n",
      "23.0,17.75865364074707,8.118636131286621\n",
      "8.0,4.830679893493652,2.4982190132141113\n",
      "17.0,10.058881759643555,4.591746807098389\n",
      "4.0,2.329371929168701,1.3166097402572632\n",
      "15.0,10.522680282592773,4.428811073303223\n",
      "14.0,9.883098602294922,4.470506191253662\n",
      "25.0,12.583658218383789,6.070712089538574\n",
      "23.0,15.057300567626953,6.772241115570068\n",
      "23.0,11.469962120056152,6.093485355377197\n",
      "17.0,8.34900951385498,4.612769603729248\n",
      "15.0,11.033845901489258,4.9701151847839355\n",
      "16.0,8.65738582611084,4.599076747894287\n",
      "15.0,12.383328437805176,5.813827991485596\n",
      "23.0,14.734246253967285,6.451208591461182\n",
      "19.0,10.580390930175781,5.277326583862305\n",
      "9.0,7.369540214538574,3.5385894775390625\n",
      "5.0,4.980885028839111,2.988518476486206\n",
      "13.0,6.588177680969238,3.31376314163208\n",
      "9.0,5.2046613693237305,2.5265960693359375\n",
      "7.0,3.7534890174865723,2.1459288597106934\n",
      "12.0,11.438741683959961,5.778182506561279\n",
      "11.0,7.495303630828857,3.464454412460327\n",
      "3.0,1.6116671562194824,1.0744253396987915\n",
      "8.0,5.4347357749938965,2.572458505630493\n",
      "20.0,16.3564510345459,7.498383522033691\n",
      "1.0,0.5023859739303589,0.5023859739303589\n",
      "8.0,4.198868274688721,2.274106025695801\n",
      "7.0,3.661746025085449,2.0918631553649902\n",
      "7.0,5.173439025878906,2.5396857261657715\n",
      "16.0,14.317306518554688,7.162473678588867\n",
      "16.0,13.240011215209961,6.228979587554932\n",
      "10.0,8.311145782470703,4.078277587890625\n",
      "20.0,18.017471313476562,9.208410263061523\n",
      "8.0,4.914261817932129,2.3985979557037354\n",
      "10.0,6.746375560760498,3.193952798843384\n",
      "18.0,12.161253929138184,5.391267776489258\n",
      "13.0,11.497871398925781,5.630910396575928\n",
      "18.0,10.561678886413574,5.217317581176758\n",
      "25.0,16.45086669921875,7.2845892906188965\n",
      "12.0,7.810504913330078,3.750089645385742\n",
      "21.0,7.418383598327637,3.748385190963745\n",
      "10.0,5.950613021850586,2.9458727836608887\n",
      "19.0,10.150857925415039,5.307682991027832\n",
      "17.0,10.329978942871094,4.702718257904053\n",
      "24.0,18.55579948425293,8.21084213256836\n",
      "12.0,10.566070556640625,5.325743198394775\n",
      "16.0,10.872638702392578,4.837543487548828\n",
      "13.0,6.6735639572143555,3.574509859085083\n",
      "3.0,2.0867629051208496,1.2244747877120972\n",
      "5.0,3.434619903564453,1.7605502605438232\n",
      "4.0,3.144176483154297,1.715051293373108\n",
      "7.0,3.9730424880981445,2.1030869483947754\n",
      "3.0,1.8900415897369385,1.101392388343811\n",
      "13.0,11.337074279785156,5.343014240264893\n",
      "17.0,10.333806991577148,5.016244411468506\n",
      "17.0,9.929755210876465,4.81258487701416\n",
      "3.0,2.040924072265625,1.2150765657424927\n",
      "21.0,11.10743522644043,5.361591339111328\n",
      "25.0,18.634864807128906,8.136630058288574\n",
      "22.0,15.064130783081055,6.5479350090026855\n",
      "6.0,3.243978500366211,1.8922853469848633\n",
      "10.0,7.470113754272461,3.508538007736206\n",
      "13.0,10.143601417541504,4.690222263336182\n",
      "19.0,13.770903587341309,6.1402482986450195\n",
      "9.0,7.591129302978516,3.8263752460479736\n",
      "8.0,6.44046688079834,3.265106201171875\n",
      "6.0,5.7250566482543945,3.3386287689208984\n",
      "18.0,11.25679874420166,5.313816070556641\n",
      "19.0,10.118324279785156,4.537672519683838\n",
      "24.0,12.0220365524292,6.493526935577393\n",
      "19.0,12.61301040649414,5.471615791320801\n",
      "14.0,8.89162540435791,4.177523612976074\n",
      "12.0,10.162978172302246,4.855967998504639\n",
      "24.0,15.098487854003906,6.649522304534912\n",
      "18.0,14.277165412902832,6.539200305938721\n",
      "16.0,9.097776412963867,4.009283065795898\n",
      "16.0,8.825532913208008,4.147414684295654\n",
      "19.0,12.840903282165527,5.863195419311523\n",
      "15.0,9.031249046325684,3.874267101287842\n",
      "19.0,15.99215316772461,7.507320404052734\n",
      "20.0,12.178781509399414,5.72843074798584\n",
      "15.0,7.289325714111328,3.7827017307281494\n",
      "1.0,0.9646682739257812,0.9646682739257812\n",
      "8.0,6.683517932891846,3.4057364463806152\n",
      "11.0,6.708047866821289,3.183300256729126\n",
      "22.0,14.612524032592773,6.706329345703125\n",
      "4.0,2.365086078643799,1.3200678825378418\n",
      "14.0,8.883529663085938,4.006959915161133\n",
      "7.0,6.702040672302246,3.6163368225097656\n",
      "14.0,12.735527038574219,6.391605377197266\n",
      "22.0,13.542771339416504,6.057352066040039\n",
      "25.0,12.856057167053223,5.496644496917725\n",
      "10.0,9.706690788269043,5.1150336265563965\n",
      "5.0,4.729661464691162,2.637829065322876\n",
      "4.0,3.892308235168457,2.4324307441711426\n",
      "12.0,5.78989315032959,3.134873151779175\n",
      "12.0,10.151514053344727,5.090848445892334\n",
      "15.0,7.714963436126709,3.6801490783691406\n",
      "13.0,7.553613662719727,3.8355374336242676\n",
      "14.0,8.523563385009766,4.136853218078613\n",
      "10.0,5.6153364181518555,2.9540412425994873\n",
      "9.0,6.391885757446289,2.995022773742676\n",
      "15.0,11.204212188720703,5.1358795166015625\n",
      "7.0,4.7702956199646,2.350828170776367\n",
      "8.0,8.031549453735352,4.517979621887207\n",
      "9.0,7.1002607345581055,3.4530086517333984\n",
      "10.0,5.025264739990234,2.9892845153808594\n",
      "5.0,5.11456298828125,3.0685904026031494\n",
      "6.0,4.764045715332031,2.4039878845214844\n",
      "21.0,9.448554039001465,4.8721513748168945\n",
      "8.0,4.7132158279418945,2.4318833351135254\n",
      "5.0,4.692728042602539,2.615478992462158\n",
      "15.0,12.039244651794434,5.486276626586914\n",
      "9.0,6.571455001831055,3.095712661743164\n",
      "23.0,13.056544303894043,6.349630832672119\n",
      "15.0,8.309938430786133,4.339691638946533\n",
      "14.0,8.942451477050781,4.075632095336914\n",
      "21.0,11.21356201171875,5.913909912109375\n",
      "16.0,8.288073539733887,4.637311935424805\n",
      "8.0,3.8515825271606445,2.166891098022461\n",
      "2.0,1.4582533836364746,0.9686484336853027\n",
      "13.0,7.946535110473633,3.682802438735962\n",
      "4.0,4.178592205047607,2.611572742462158\n",
      "18.0,13.524602890014648,6.029472827911377\n",
      "11.0,7.665614604949951,3.4974324703216553\n",
      "18.0,9.729567527770996,4.89442777633667\n",
      "15.0,13.79149341583252,7.117190361022949\n",
      "20.0,13.798222541809082,6.0420050621032715\n",
      "18.0,8.258211135864258,4.051462173461914\n",
      "15.0,9.056805610656738,4.171240329742432\n",
      "13.0,8.791707038879395,3.9330694675445557\n",
      "21.0,10.268519401550293,5.323846340179443\n",
      "26.0,14.115608215332031,6.3867034912109375\n",
      "9.0,7.274011611938477,3.5820465087890625\n",
      "8.0,6.682782173156738,3.3826661109924316\n",
      "25.0,19.597900390625,9.0949125289917\n",
      "22.0,11.438131332397461,5.337223529815674\n",
      "24.0,13.82603931427002,6.306465148925781\n",
      "22.0,12.805253028869629,5.457430839538574\n",
      "20.0,12.068158149719238,5.143337249755859\n",
      "8.0,4.264892101287842,2.227844715118408\n",
      "13.0,13.002128601074219,7.001398086547852\n",
      "25.0,21.83930206298828,10.87393569946289\n",
      "13.0,7.684356689453125,3.562584400177002\n",
      "22.0,12.524113655090332,5.731542587280273\n",
      "9.0,7.3150634765625,3.5079362392425537\n",
      "18.0,10.983285903930664,5.288280010223389\n",
      "14.0,9.175477981567383,3.509453535079956\n",
      "6.0,4.142228126525879,2.0834999084472656\n",
      "21.0,14.162361145019531,6.130164623260498\n",
      "11.0,7.3359832763671875,3.468099355697632\n",
      "17.0,15.939764976501465,8.205729484558105\n",
      "17.0,9.159736633300781,4.410219669342041\n",
      "10.0,8.917191505432129,4.677108287811279\n",
      "18.0,14.992037773132324,7.018226146697998\n",
      "16.0,10.14437198638916,4.526794910430908\n",
      "2.0,2.0653159618377686,1.54904043674469\n",
      "17.0,11.919894218444824,5.351709842681885\n",
      "18.0,10.364068031311035,4.6602349281311035\n",
      "10.0,6.347584247589111,2.965400218963623\n",
      "22.0,7.727025508880615,4.305492877960205\n",
      "14.0,9.967061042785645,4.733287334442139\n",
      "18.0,13.440932273864746,6.081621170043945\n",
      "8.0,4.764892101287842,2.3408632278442383\n",
      "9.0,8.688055038452148,4.827049255371094\n",
      "22.0,13.675162315368652,6.093772888183594\n",
      "5.0,2.706604480743408,1.6238895654678345\n",
      "13.0,8.812687873840332,3.974400043487549\n",
      "10.0,9.944000244140625,5.243987083435059\n",
      "22.0,13.489646911621094,6.0379414558410645\n",
      "5.0,2.794790267944336,1.6777467727661133\n",
      "13.0,8.432952880859375,3.847787618637085\n",
      "12.0,8.12666130065918,3.839308738708496\n",
      "7.0,4.596095085144043,2.2685513496398926\n",
      "22.0,12.475296020507812,4.952721118927002\n",
      "9.0,8.218994140625,4.34477424621582\n",
      "15.0,13.806020736694336,7.1309404373168945\n",
      "10.0,7.164196968078613,3.441591262817383\n",
      "4.0,3.362581729888916,1.9181742668151855\n",
      "8.0,6.2318620681762695,3.0560622215270996\n",
      "19.0,11.54275894165039,5.3028998374938965\n",
      "15.0,12.544648170471191,5.965850353240967\n",
      "16.0,12.662317276000977,5.791629314422607\n",
      "21.0,16.559932708740234,7.4395976066589355\n",
      "10.0,8.136040687561035,4.000479698181152\n",
      "7.0,6.699977874755859,3.828683614730835\n",
      "14.0,11.268590927124023,5.2346014976501465\n",
      "8.0,4.159366130828857,2.1207127571105957\n",
      "21.0,13.68435287475586,5.920382499694824\n",
      "16.0,10.914338111877441,4.995700836181641\n",
      "23.0,12.86205768585205,5.568429470062256\n",
      "25.0,16.009140014648438,7.176332950592041\n",
      "7.0,4.390592575073242,2.1523678302764893\n",
      "15.0,8.206537246704102,3.9462544918060303\n",
      "7.0,6.223409652709961,3.348755121231079\n",
      "11.0,7.342574119567871,3.4913573265075684\n",
      "26.0,11.686278343200684,5.474362850189209\n",
      "12.0,9.372970581054688,4.34712553024292\n",
      "21.0,11.13677978515625,5.409458160400391\n",
      "6.0,5.267370223999023,2.8725359439849854\n",
      "6.0,4.733910083770752,2.444061279296875\n",
      "14.0,8.190265655517578,4.1548542976379395\n",
      "11.0,9.794046401977539,4.813077926635742\n",
      "19.0,10.708312034606934,5.0081963539123535\n",
      "22.0,13.154345512390137,5.865857124328613\n",
      "20.0,16.054485321044922,7.301619052886963\n",
      "20.0,11.729230880737305,5.790972709655762\n",
      "6.0,4.15375280380249,2.1235289573669434\n",
      "3.0,2.0152344703674316,1.1768370866775513\n",
      "10.0,6.625667572021484,3.1823315620422363\n",
      "11.0,10.885769844055176,5.936784744262695\n",
      "14.0,10.560197830200195,4.798835754394531\n",
      "21.0,10.884618759155273,5.514393329620361\n",
      "9.0,4.853207588195801,2.6866214275360107\n",
      "9.0,4.065708160400391,2.257615089416504\n",
      "8.0,7.396481513977051,3.9413719177246094\n",
      "2.0,0.947563648223877,0.7106211185455322\n",
      "24.0,13.76821517944336,6.230583667755127\n",
      "10.0,8.547038078308105,4.319408416748047\n",
      "12.0,5.8015313148498535,3.1409692764282227\n",
      "10.0,5.695341110229492,2.9060981273651123\n",
      "9.0,4.774445533752441,2.6519253253936768\n",
      "8.0,5.579441070556641,2.6393914222717285\n",
      "17.0,13.409915924072266,6.218257427215576\n",
      "12.0,8.796455383300781,4.115013599395752\n",
      "15.0,9.028351783752441,4.216517448425293\n",
      "8.0,4.189635753631592,2.309342861175537\n",
      "15.0,12.187469482421875,5.664213180541992\n",
      "11.0,7.160544395446777,3.4517405033111572\n",
      "13.0,10.266745567321777,4.760928153991699\n",
      "9.0,7.82545804977417,3.8471624851226807\n",
      "3.0,2.124797821044922,1.2498326301574707\n",
      "3.0,2.613266944885254,1.5754631757736206\n",
      "16.0,12.84426498413086,5.964848518371582\n",
      "5.0,4.442193508148193,2.4738330841064453\n",
      "8.0,5.218998908996582,2.486574649810791\n",
      "18.0,10.209405899047852,5.150259017944336\n",
      "14.0,13.112669944763184,6.79315710067749\n",
      "12.0,9.036824226379395,4.145008563995361\n",
      "22.0,15.685944557189941,6.832333564758301\n",
      "13.0,8.845258712768555,4.117612361907959\n",
      "12.0,9.791786193847656,4.68561315536499\n",
      "23.0,14.531086921691895,6.357108116149902\n",
      "19.0,10.56147289276123,4.8714728355407715\n",
      "15.0,14.586573600769043,7.775537490844727\n",
      "1.0,0.522059440612793,0.522059440612793\n",
      "14.0,11.326735496520996,5.135502338409424\n",
      "17.0,12.83545970916748,5.789824485778809\n",
      "13.0,7.2322187423706055,3.6254401206970215\n",
      "16.0,10.085723876953125,4.560993194580078\n",
      "6.0,3.3157169818878174,1.9294403791427612\n",
      "10.0,8.09910774230957,3.9831295013427734\n",
      "6.0,3.7503252029418945,1.8907567262649536\n",
      "22.0,13.879596710205078,6.2187724113464355\n",
      "11.0,6.998776912689209,3.4197592735290527\n",
      "13.0,5.964381217956543,3.373810291290283\n"
     ]
    }
   ],
   "source": [
    "print ('Trajectory with highest goal error = {}'.format(torch.argmax(errors[:, 1])))\n",
    "print ('Trajectory with highest average step error = {}'.format(torch.argmax(errors[:, 2])))\n",
    "print ('Trajectory Length, Goal Error, Average Error')\n",
    "for i in range(len(errors)):\n",
    "    print('{},{},{}'.format(*errors[i]))"
   ]
  },
  {
   "cell_type": "code",
   "execution_count": 23,
   "metadata": {},
   "outputs": [
    {
     "name": "stdout",
     "output_type": "stream",
     "text": [
      "25\n",
      "tensor([[28., 27.,  3.,  4., -1.,  0.],\n",
      "        [27., 27.,  3.,  4., -1.,  0.],\n",
      "        [26., 27.,  3.,  4., -1., -1.],\n",
      "        [25., 26.,  3.,  4., -1., -1.],\n",
      "        [24., 25.,  3.,  4., -1., -1.],\n",
      "        [23., 24.,  3.,  4., -1., -1.],\n",
      "        [22., 23.,  3.,  4., -1., -1.],\n",
      "        [21., 22.,  3.,  4., -1., -1.],\n",
      "        [20., 21.,  3.,  4., -1., -1.],\n",
      "        [19., 20.,  3.,  4., -1., -1.],\n",
      "        [18., 19.,  3.,  4., -1., -1.],\n",
      "        [17., 18.,  3.,  4., -1., -1.],\n",
      "        [16., 17.,  3.,  4., -1., -1.],\n",
      "        [15., 16.,  3.,  4., -1., -1.],\n",
      "        [14., 15.,  3.,  4., -1., -1.],\n",
      "        [13., 14.,  3.,  4., -1., -1.],\n",
      "        [12., 13.,  3.,  4., -1., -1.],\n",
      "        [11., 12.,  3.,  4., -1., -1.],\n",
      "        [10., 11.,  3.,  4., -1., -1.],\n",
      "        [ 9., 10.,  3.,  4., -1., -1.],\n",
      "        [ 8.,  9.,  3.,  4., -1., -1.],\n",
      "        [ 7.,  8.,  3.,  4., -1., -1.],\n",
      "        [ 6.,  7.,  3.,  4., -1., -1.],\n",
      "        [ 5.,  6.,  3.,  4., -1., -1.],\n",
      "        [ 4.,  5.,  3.,  4., -1., -1.]])\n"
     ]
    }
   ],
   "source": [
    "traj_no = 386 \n",
    "rstart = start_indices[traj_no]\n",
    "rend = start_indices[traj_no+1] if traj_no < len(start_indices) else len(test_data)\n",
    "trajectory = t_cpu[rstart:rend, :]\n",
    "f = torch.cat((trajectory[:, :4], trajectory[:, 1028:1030]), dim=1)\n",
    "print (len(f))\n",
    "print (f)"
   ]
  },
  {
   "cell_type": "code",
   "execution_count": 24,
   "metadata": {},
   "outputs": [
    {
     "name": "stdout",
     "output_type": "stream",
     "text": [
      "Last step error = 21.83930206298828\n",
      "Average error over all steps = 10.87393569946289\n",
      "Original Trajectory and Predicted Trajectory:\n",
      "tensor([[27.0000, 27.0000, 27.8958, 26.9159],\n",
      "        [26.0000, 27.0000, 27.7920, 26.8327],\n",
      "        [25.0000, 26.0000, 27.6888, 26.7504],\n",
      "        [24.0000, 25.0000, 27.5860, 26.6689],\n",
      "        [23.0000, 24.0000, 27.4837, 26.5883],\n",
      "        [22.0000, 23.0000, 27.3819, 26.5085],\n",
      "        [21.0000, 22.0000, 27.2805, 26.4296],\n",
      "        [20.0000, 21.0000, 27.1796, 26.3515],\n",
      "        [19.0000, 20.0000, 27.0792, 26.2743],\n",
      "        [18.0000, 19.0000, 26.9792, 26.1978],\n",
      "        [17.0000, 18.0000, 26.8797, 26.1222],\n",
      "        [16.0000, 17.0000, 26.7806, 26.0474],\n",
      "        [15.0000, 16.0000, 26.6819, 25.9734],\n",
      "        [14.0000, 15.0000, 26.5837, 25.9002],\n",
      "        [13.0000, 14.0000, 26.4860, 25.8278],\n",
      "        [12.0000, 13.0000, 26.3887, 25.7562],\n",
      "        [11.0000, 12.0000, 26.2918, 25.6854],\n",
      "        [10.0000, 11.0000, 26.1953, 25.6154],\n",
      "        [ 9.0000, 10.0000, 26.0993, 25.5461],\n",
      "        [ 8.0000,  9.0000, 26.0037, 25.4777],\n",
      "        [ 7.0000,  8.0000, 25.9085, 25.4099],\n",
      "        [ 6.0000,  7.0000, 25.8138, 25.3430],\n",
      "        [ 5.0000,  6.0000, 25.7194, 25.2768],\n",
      "        [ 4.0000,  5.0000, 25.6255, 25.2114],\n",
      "        [ 3.0000,  4.0000, 25.5319, 25.1467]], grad_fn=<CatBackward>)\n",
      "Stepwise deviation from original trajectory:\n",
      "tensor([[ 0.8958,  0.0841],\n",
      "        [ 1.7920,  0.1673],\n",
      "        [ 2.6888,  0.7504],\n",
      "        [ 3.5860,  1.6689],\n",
      "        [ 4.4837,  2.5883],\n",
      "        [ 5.3819,  3.5085],\n",
      "        [ 6.2805,  4.4296],\n",
      "        [ 7.1796,  5.3515],\n",
      "        [ 8.0792,  6.2743],\n",
      "        [ 8.9792,  7.1978],\n",
      "        [ 9.8797,  8.1222],\n",
      "        [10.7806,  9.0474],\n",
      "        [11.6819,  9.9734],\n",
      "        [12.5837, 10.9002],\n",
      "        [13.4860, 11.8278],\n",
      "        [14.3887, 12.7562],\n",
      "        [15.2918, 13.6854],\n",
      "        [16.1953, 14.6154],\n",
      "        [17.0993, 15.5461],\n",
      "        [18.0037, 16.4777],\n",
      "        [18.9085, 17.4099],\n",
      "        [19.8138, 18.3430],\n",
      "        [20.7194, 19.2768],\n",
      "        [21.6255, 20.2114],\n",
      "        [22.5319, 21.1467]], grad_fn=<AbsBackward>)\n",
      "Prediction from Policy:\n",
      "tensor([[-1., -1.],\n",
      "        [-1., -1.],\n",
      "        [-1., -1.],\n",
      "        [-1., -1.],\n",
      "        [-1., -1.],\n",
      "        [-1., -1.],\n",
      "        [-1., -1.],\n",
      "        [-1., -1.],\n",
      "        [-1., -1.],\n",
      "        [-1., -1.],\n",
      "        [-1., -1.],\n",
      "        [-1., -1.],\n",
      "        [-1., -1.],\n",
      "        [-1., -1.],\n",
      "        [-1., -1.],\n",
      "        [-1., -1.],\n",
      "        [-1., -1.],\n",
      "        [-1., -1.],\n",
      "        [-1., -1.],\n",
      "        [-1., -1.],\n",
      "        [-1., -1.],\n",
      "        [-1., -1.],\n",
      "        [-1., -1.],\n",
      "        [-1., -1.],\n",
      "        [-1., -1.]])\n",
      "Prediction from Dynamics:\n",
      "tensor([[-0.1042, -0.0841],\n",
      "        [-0.1037, -0.0832],\n",
      "        [-0.1033, -0.0823],\n",
      "        [-0.1028, -0.0815],\n",
      "        [-0.1023, -0.0806],\n",
      "        [-0.1018, -0.0798],\n",
      "        [-0.1014, -0.0789],\n",
      "        [-0.1009, -0.0781],\n",
      "        [-0.1004, -0.0773],\n",
      "        [-0.1000, -0.0764],\n",
      "        [-0.0995, -0.0756],\n",
      "        [-0.0991, -0.0748],\n",
      "        [-0.0986, -0.0740],\n",
      "        [-0.0982, -0.0732],\n",
      "        [-0.0978, -0.0724],\n",
      "        [-0.0973, -0.0716],\n",
      "        [-0.0969, -0.0708],\n",
      "        [-0.0965, -0.0700],\n",
      "        [-0.0960, -0.0692],\n",
      "        [-0.0956, -0.0685],\n",
      "        [-0.0952, -0.0677],\n",
      "        [-0.0948, -0.0669],\n",
      "        [-0.0944, -0.0662],\n",
      "        [-0.0939, -0.0654],\n",
      "        [-0.0935, -0.0647]], grad_fn=<SubBackward0>)\n"
     ]
    }
   ],
   "source": [
    "goal_err, step_err, pred_traj, orig_traj, policy_pred, dyn_pred = e.eval_single_trajectory(trajectory)\n",
    "\n",
    "print ('Last step error = {}'.format(goal_err))\n",
    "print ('Average error over all steps = {}'.format(step_err))\n",
    "print ('Original Trajectory and Predicted Trajectory:')\n",
    "print (torch.cat((orig_traj, pred_traj), dim=1))\n",
    "print ('Stepwise deviation from original trajectory:')\n",
    "print (torch.abs(orig_traj-pred_traj))\n",
    "print ('Prediction from Policy:')\n",
    "print (policy_pred - 1.0) # Using minus to bring the policy output to the values we expect\n",
    "print ('Prediction from Dynamics:')\n",
    "print (dyn_pred * 2.0 - 1.0)  # Again bringing the dynamics prediction to the expected range"
   ]
  },
  {
   "cell_type": "code",
   "execution_count": 8,
   "metadata": {},
   "outputs": [],
   "source": [
    "map_netname_net = {\n",
    "    'ComposedAutoEncoderWithMaxPool': lambda: ComposedAutoEncoder(useMaxPool=True),\n",
    "    'DenseAutoEncoder3': lambda: DenseAutoEncoder(enc_layer_dims=[1024, 128, 16]),\n",
    "    'ComposedAutoEncoderNoMaxPool': lambda: ComposedAutoEncoder(useMaxPool=False),\n",
    "    'VAE': VAE,\n",
    "    'ConvVAE': ConvVae,\n",
    "    'EtprEncoder': etprautoenc,\n",
    "    '03-31-18-02-15-Dynamics-V1-Dense-SmoothL1': lambda: Dense([4, 2]),\n",
    "    '03-31-18-02-32-Dynamics-V1-Dense-SmoothL1': lambda: Dense([4, 8, 2]),\n",
    "    '03-31-18-02-52-Dynamics-V1-Dense-SmoothL1': lambda: Dense([4, 16, 2]),\n",
    "    '03-31-18-01-03-Dynamics-V1-Dense-MSE': lambda: Dense([4, 2]),\n",
    "    '03-31-18-01-22-Dynamics-V1-Dense-MSE': lambda: Dense([4, 8, 2]),\n",
    "    '03-31-18-01-50-Dynamics-V1-Dense-MSE': lambda: Dense([4, 16, 2]),\n",
    "}     "
   ]
  },
  {
   "cell_type": "code",
   "execution_count": 11,
   "metadata": {},
   "outputs": [],
   "source": [
    "rr = ReportResults(map_netname_net, device, \n",
    "                   dynamics_input_adapter, dynamics_gradient_ground_truth_adapter,\n",
    "                   loss_adapter_func = l1_loss_adapter)"
   ]
  },
  {
   "cell_type": "code",
   "execution_count": 12,
   "metadata": {},
   "outputs": [
    {
     "name": "stdout",
     "output_type": "stream",
     "text": [
      "Time,Goal,DataSet,Network,Loss(Training),TestLoss,TrainLoss\n",
      "03:31:18:01:03,Dynamics,V1,Dense,MSE,0.0821070447564125,0.08388315141201019\n",
      "03:31:18:01:22,Dynamics,V1,Dense,MSE,0.003344212891533971,0.0034352901857346296\n",
      "03:31:18:01:50,Dynamics,V1,Dense,MSE,0.003786794375628233,0.003730030497536063\n",
      "03:31:18:02:15,Dynamics,V1,Dense,SmoothL1,0.07136806100606918,0.07271932810544968\n",
      "03:31:18:02:32,Dynamics,V1,Dense,SmoothL1,0.005948166828602552,0.006144481245428324\n",
      "03:31:18:02:52,Dynamics,V1,Dense,SmoothL1,0.0032131331972777843,0.0033073569647967815\n"
     ]
    }
   ],
   "source": [
    "rr.generate_csv_comparison_report(test_data_float, train_data_float,\n",
    "                   rootdir='runs/03-31')"
   ]
  },
  {
   "cell_type": "code",
   "execution_count": 13,
   "metadata": {},
   "outputs": [
    {
     "name": "stdout",
     "output_type": "stream",
     "text": [
      "Folder: 03-31-18-01-03-Dynamics-V1-Dense-MSE\n",
      "tensor([[0.0000, 0.5000],\n",
      "        [0.0000, 0.0000],\n",
      "        [0.0000, 0.5000],\n",
      "        [0.0000, 0.5000],\n",
      "        [0.0000, 0.5000],\n",
      "        [1.0000, 0.0000],\n",
      "        [1.0000, 0.0000],\n",
      "        [1.0000, 0.0000],\n",
      "        [1.0000, 0.0000],\n",
      "        [1.0000, 0.5000]])\n",
      "tensor([[0.1214, 0.5738],\n",
      "        [0.1264, 0.1509],\n",
      "        [0.0993, 0.4931],\n",
      "        [0.1002, 0.4953],\n",
      "        [0.1011, 0.4974],\n",
      "        [0.9014, 0.1185],\n",
      "        [0.9010, 0.1189],\n",
      "        [0.9006, 0.1193],\n",
      "        [0.9003, 0.1197],\n",
      "        [0.9171, 0.5654]], grad_fn=<SigmoidBackward>)\n",
      "tensor(0.0904, grad_fn=<MeanBackward0>)\n",
      "-----------------------------------------\n",
      "Folder: 03-31-18-01-22-Dynamics-V1-Dense-MSE\n",
      "tensor([[0.0000, 0.5000],\n",
      "        [0.0000, 0.0000],\n",
      "        [0.0000, 0.5000],\n",
      "        [0.0000, 0.5000],\n",
      "        [0.0000, 0.5000],\n",
      "        [1.0000, 0.0000],\n",
      "        [1.0000, 0.0000],\n",
      "        [1.0000, 0.0000],\n",
      "        [1.0000, 0.0000],\n",
      "        [1.0000, 0.5000]])\n",
      "tensor([[0.0047, 0.5010],\n",
      "        [0.0065, 0.0061],\n",
      "        [0.0047, 0.4995],\n",
      "        [0.0047, 0.4996],\n",
      "        [0.0047, 0.4997],\n",
      "        [0.9954, 0.0038],\n",
      "        [0.9954, 0.0038],\n",
      "        [0.9954, 0.0038],\n",
      "        [0.9954, 0.0038],\n",
      "        [0.9940, 0.4610]], grad_fn=<SigmoidBackward>)\n",
      "tensor(0.0056, grad_fn=<MeanBackward0>)\n",
      "-----------------------------------------\n",
      "Folder: 03-31-18-01-50-Dynamics-V1-Dense-MSE\n",
      "tensor([[0.0000, 0.5000],\n",
      "        [0.0000, 0.0000],\n",
      "        [0.0000, 0.5000],\n",
      "        [0.0000, 0.5000],\n",
      "        [0.0000, 0.5000],\n",
      "        [1.0000, 0.0000],\n",
      "        [1.0000, 0.0000],\n",
      "        [1.0000, 0.0000],\n",
      "        [1.0000, 0.0000],\n",
      "        [1.0000, 0.5000]])\n",
      "tensor([[0.0045, 0.5012],\n",
      "        [0.0100, 0.0091],\n",
      "        [0.0045, 0.5002],\n",
      "        [0.0045, 0.5002],\n",
      "        [0.0045, 0.5002],\n",
      "        [0.9939, 0.0056],\n",
      "        [0.9939, 0.0057],\n",
      "        [0.9938, 0.0057],\n",
      "        [0.9938, 0.0058],\n",
      "        [0.9949, 0.4757]], grad_fn=<SigmoidBackward>)\n",
      "tensor(0.0058, grad_fn=<MeanBackward0>)\n",
      "-----------------------------------------\n",
      "Folder: 03-31-18-02-15-Dynamics-V1-Dense-SmoothL1\n",
      "tensor([[0.0000, 0.5000],\n",
      "        [0.0000, 0.0000],\n",
      "        [0.0000, 0.5000],\n",
      "        [0.0000, 0.5000],\n",
      "        [0.0000, 0.5000],\n",
      "        [1.0000, 0.0000],\n",
      "        [1.0000, 0.0000],\n",
      "        [1.0000, 0.0000],\n",
      "        [1.0000, 0.0000],\n",
      "        [1.0000, 0.5000]])\n",
      "tensor([[0.0968, 0.5800],\n",
      "        [0.1004, 0.1400],\n",
      "        [0.0808, 0.4938],\n",
      "        [0.0814, 0.4963],\n",
      "        [0.0820, 0.4988],\n",
      "        [0.9207, 0.1062],\n",
      "        [0.9205, 0.1065],\n",
      "        [0.9204, 0.1067],\n",
      "        [0.9202, 0.1070],\n",
      "        [0.9312, 0.5708]], grad_fn=<SigmoidBackward>)\n",
      "tensor(0.0778, grad_fn=<MeanBackward0>)\n",
      "-----------------------------------------\n",
      "Folder: 03-31-18-02-32-Dynamics-V1-Dense-SmoothL1\n",
      "tensor([[0.0000, 0.5000],\n",
      "        [0.0000, 0.0000],\n",
      "        [0.0000, 0.5000],\n",
      "        [0.0000, 0.5000],\n",
      "        [0.0000, 0.5000],\n",
      "        [1.0000, 0.0000],\n",
      "        [1.0000, 0.0000],\n",
      "        [1.0000, 0.0000],\n",
      "        [1.0000, 0.0000],\n",
      "        [1.0000, 0.5000]])\n",
      "tensor([[0.0102, 0.4820],\n",
      "        [0.0077, 0.0079],\n",
      "        [0.0076, 0.5004],\n",
      "        [0.0076, 0.5005],\n",
      "        [0.0076, 0.5007],\n",
      "        [0.9924, 0.0078],\n",
      "        [0.9924, 0.0078],\n",
      "        [0.9924, 0.0078],\n",
      "        [0.9924, 0.0078],\n",
      "        [0.9897, 0.4659]], grad_fn=<SigmoidBackward>)\n",
      "tensor(0.0087, grad_fn=<MeanBackward0>)\n",
      "-----------------------------------------\n",
      "Folder: 03-31-18-02-52-Dynamics-V1-Dense-SmoothL1\n",
      "tensor([[0.0000, 0.5000],\n",
      "        [0.0000, 0.0000],\n",
      "        [0.0000, 0.5000],\n",
      "        [0.0000, 0.5000],\n",
      "        [0.0000, 0.5000],\n",
      "        [1.0000, 0.0000],\n",
      "        [1.0000, 0.0000],\n",
      "        [1.0000, 0.0000],\n",
      "        [1.0000, 0.0000],\n",
      "        [1.0000, 0.5000]])\n",
      "tensor([[0.0047, 0.5115],\n",
      "        [0.0111, 0.0126],\n",
      "        [0.0044, 0.5000],\n",
      "        [0.0044, 0.5000],\n",
      "        [0.0044, 0.5001],\n",
      "        [0.9956, 0.0041],\n",
      "        [0.9956, 0.0041],\n",
      "        [0.9956, 0.0041],\n",
      "        [0.9956, 0.0041],\n",
      "        [0.9946, 0.4576]], grad_fn=<SigmoidBackward>)\n",
      "tensor(0.0067, grad_fn=<MeanBackward0>)\n",
      "-----------------------------------------\n"
     ]
    }
   ],
   "source": [
    "sample = torch.cat((test_data_float[1055:1060], test_data_float[1230:1235]), axis=0)\n",
    "ground_truth = dynamics_gradient_ground_truth_adapter(sample).to(device)\n",
    "for folder, net in rr.build_net(rootdir='runs/03-31/'):\n",
    "    print ('Folder: ' + folder)\n",
    "    op_batch, loss = rr.run_mini_batch(net, sample)\n",
    "    print (ground_truth)\n",
    "    print (op_batch)\n",
    "    print (loss)\n",
    "    print ('-----------------------------------------')"
   ]
  },
  {
   "cell_type": "code",
   "execution_count": 19,
   "metadata": {},
   "outputs": [],
   "source": [
    "rr = ReportResults(map_netname_net, device, \n",
    "                   policy_input_adapter, policy_groud_truth_adapter,\n",
    "                   loss_adapter_func = l1_loss_adapter)"
   ]
  },
  {
   "cell_type": "code",
   "execution_count": 21,
   "metadata": {},
   "outputs": [
    {
     "name": "stdout",
     "output_type": "stream",
     "text": [
      "Folder: 04-08-07-35-53-Policy-V2-Dense-MSE\n",
      "tensor([[-1.,  0.],\n",
      "        [-1., -1.],\n",
      "        [-1.,  0.],\n",
      "        [-1.,  0.],\n",
      "        [-1.,  0.],\n",
      "        [ 1., -1.],\n",
      "        [ 1., -1.],\n",
      "        [ 1., -1.],\n",
      "        [ 1., -1.],\n",
      "        [ 1.,  0.]])\n",
      "tensor([[-1.0000e+00, -5.9831e-04],\n",
      "        [-9.9837e-01, -9.9866e-01],\n",
      "        [-1.0000e+00, -2.0846e-03],\n",
      "        [-1.0000e+00, -2.0014e-03],\n",
      "        [-1.0000e+00, -1.9175e-03],\n",
      "        [ 9.9764e-01, -9.9867e-01],\n",
      "        [ 9.9765e-01, -9.9868e-01],\n",
      "        [ 9.9766e-01, -9.9868e-01],\n",
      "        [ 9.9767e-01, -9.9868e-01],\n",
      "        [ 1.0000e+00,  7.1299e-04]], grad_fn=<TanhBackward>)\n",
      "tensor(0.0012, grad_fn=<MeanBackward0>)\n",
      "Folder: 04-08-07-29-36-Policy-V2-Dense-MSE\n",
      "tensor([[-1.,  0.],\n",
      "        [-1., -1.],\n",
      "        [-1.,  0.],\n",
      "        [-1.,  0.],\n",
      "        [-1.,  0.],\n",
      "        [ 1., -1.],\n",
      "        [ 1., -1.],\n",
      "        [ 1., -1.],\n",
      "        [ 1., -1.],\n",
      "        [ 1.,  0.]])\n",
      "tensor([[-0.9994, -0.0311],\n",
      "        [-0.9682, -0.9674],\n",
      "        [-0.9995,  0.0176],\n",
      "        [-0.9995,  0.0170],\n",
      "        [-0.9995,  0.0165],\n",
      "        [ 0.9690, -0.9672],\n",
      "        [ 0.9690, -0.9673],\n",
      "        [ 0.9690, -0.9673],\n",
      "        [ 0.9690, -0.9674],\n",
      "        [ 0.9995,  0.0200]], grad_fn=<TanhBackward>)\n",
      "tensor(0.0212, grad_fn=<MeanBackward0>)\n"
     ]
    }
   ],
   "source": [
    "sample = torch.cat((test_data_float[1055:1060], test_data_float[1230:1235]), axis=0)\n",
    "ground_truth = policy_groud_truth_adapter(sample).to(device)\n",
    "for folder, net in rr.build_net(rootdir='runs/04-08/'):\n",
    "    print ('Folder: ' + folder)\n",
    "    op_batch, loss = rr.run_mini_batch(net, sample)\n",
    "    print (ground_truth)\n",
    "    print (op_batch)\n",
    "    print (loss)"
   ]
  },
  {
   "cell_type": "code",
   "execution_count": null,
   "metadata": {},
   "outputs": [],
   "source": [
    "np.set_printoptions(**opt)"
   ]
  }
 ],
 "metadata": {
  "kernelspec": {
   "display_name": "demopl",
   "language": "python",
   "name": "demopl"
  },
  "language_info": {
   "codemirror_mode": {
    "name": "ipython",
    "version": 3
   },
   "file_extension": ".py",
   "mimetype": "text/x-python",
   "name": "python",
   "nbconvert_exporter": "python",
   "pygments_lexer": "ipython3",
   "version": "3.6.8"
  }
 },
 "nbformat": 4,
 "nbformat_minor": 4
}
