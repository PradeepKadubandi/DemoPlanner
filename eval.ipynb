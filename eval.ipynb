{
 "cells": [
  {
   "cell_type": "code",
   "execution_count": 1,
   "metadata": {},
   "outputs": [],
   "source": [
    "%load_ext autoreload\n",
    "%autoreload 2"
   ]
  },
  {
   "cell_type": "code",
   "execution_count": 10,
   "metadata": {},
   "outputs": [],
   "source": [
    "import numpy as np\n",
    "import matplotlib.pyplot as plt\n",
    "import time\n",
    "import os\n",
    "import glob\n",
    "\n",
    "import torch\n",
    "import torch.nn as nn\n",
    "import torch.nn.functional as F\n",
    "from torch.utils.data import DataLoader\n",
    "\n",
    "from adapters import *\n",
    "from dataset import NumpyCsvDataSet\n",
    "from runner import ExptRunner\n",
    "from networks.autoencoder import AutoEncoder\n",
    "from networks.composedautoencoder import ComposedAutoEncoder\n",
    "from networks.DenseAutoEncoder import DenseAutoEncoder\n",
    "from networks.ConvVae import ConvVae\n",
    "from networks.vae import VAE\n",
    "from networks.etpr.autoencoder import autoencoder as etprautoenc\n",
    "from networks.dense import Dense\n",
    "from networks.dense import DenseForPolicy\n",
    "from networks.lossfunctions import *\n",
    "from helpers import ReportResults"
   ]
  },
  {
   "cell_type": "code",
   "execution_count": 3,
   "metadata": {},
   "outputs": [],
   "source": [
    "opt = np.get_printoptions()\n",
    "np.set_printoptions(threshold=np.inf)"
   ]
  },
  {
   "cell_type": "code",
   "execution_count": 4,
   "metadata": {},
   "outputs": [
    {
     "name": "stdout",
     "output_type": "stream",
     "text": [
      "cpu\n"
     ]
    }
   ],
   "source": [
    "device = torch.device(\"cuda:2\" if torch.cuda.is_available() else \"cpu\")\n",
    "print (device)"
   ]
  },
  {
   "cell_type": "code",
   "execution_count": 5,
   "metadata": {},
   "outputs": [
    {
     "name": "stdout",
     "output_type": "stream",
     "text": [
      "Time Taken: 31.081373929977417 sec\n"
     ]
    }
   ],
   "source": [
    "start = time.time()\n",
    "data_folder = 'data/demoplanner/version1'\n",
    "v1_train_data = NumpyCsvDataSet(data_folder + '/train.csv', device=device)\n",
    "v1_test_data = NumpyCsvDataSet(data_folder + '/test.csv', device=device)\n",
    "print (\"Time Taken: {} sec\".format(time.time() - start))"
   ]
  },
  {
   "cell_type": "code",
   "execution_count": 6,
   "metadata": {},
   "outputs": [],
   "source": [
    "test_data_float = v1_test_data.data\n",
    "train_data_float = v1_train_data.data"
   ]
  },
  {
   "cell_type": "code",
   "execution_count": 7,
   "metadata": {},
   "outputs": [
    {
     "name": "stdout",
     "output_type": "stream",
     "text": [
      "torch.Size([13280, 2058])\n",
      "torch.Size([1341, 2058])\n",
      "cpu\n",
      "cpu\n"
     ]
    }
   ],
   "source": [
    "print (train_data_float.shape)\n",
    "print (test_data_float.shape)\n",
    "\n",
    "print (train_data_float.device)\n",
    "print (test_data_float.device)"
   ]
  },
  {
   "cell_type": "code",
   "execution_count": 8,
   "metadata": {},
   "outputs": [],
   "source": [
    "map_netname_net = {\n",
    "    'ComposedAutoEncoderWithMaxPool': lambda: ComposedAutoEncoder(useMaxPool=True),\n",
    "    'DenseAutoEncoder3': lambda: DenseAutoEncoder(enc_layer_dims=[1024, 128, 16]),\n",
    "    'ComposedAutoEncoderNoMaxPool': lambda: ComposedAutoEncoder(useMaxPool=False),\n",
    "    'VAE': VAE,\n",
    "    'ConvVAE': ConvVae,\n",
    "    'EtprEncoder': etprautoenc,\n",
    "    '03-31-18-02-15-Dynamics-V1-Dense-SmoothL1': lambda: Dense([4, 2]),\n",
    "    '03-31-18-02-32-Dynamics-V1-Dense-SmoothL1': lambda: Dense([4, 8, 2]),\n",
    "    '03-31-18-02-52-Dynamics-V1-Dense-SmoothL1': lambda: Dense([4, 16, 2]),\n",
    "    '03-31-18-01-03-Dynamics-V1-Dense-MSE': lambda: Dense([4, 2]),\n",
    "    '03-31-18-01-22-Dynamics-V1-Dense-MSE': lambda: Dense([4, 8, 2]),\n",
    "    '03-31-18-01-50-Dynamics-V1-Dense-MSE': lambda: Dense([4, 16, 2]),\n",
    "}     "
   ]
  },
  {
   "cell_type": "code",
   "execution_count": 11,
   "metadata": {},
   "outputs": [],
   "source": [
    "rr = ReportResults(map_netname_net, device, \n",
    "                   dynamics_input_adapter, dynamics_gradient_ground_truth_adapter,\n",
    "                   loss_adapter_func = l1_loss_adapter)"
   ]
  },
  {
   "cell_type": "code",
   "execution_count": 12,
   "metadata": {},
   "outputs": [
    {
     "name": "stdout",
     "output_type": "stream",
     "text": [
      "Time,Goal,DataSet,Network,Loss(Training),TestLoss,TrainLoss\n",
      "03:31:18:01:03,Dynamics,V1,Dense,MSE,0.0821070447564125,0.08388315141201019\n",
      "03:31:18:01:22,Dynamics,V1,Dense,MSE,0.003344212891533971,0.0034352901857346296\n",
      "03:31:18:01:50,Dynamics,V1,Dense,MSE,0.003786794375628233,0.003730030497536063\n",
      "03:31:18:02:15,Dynamics,V1,Dense,SmoothL1,0.07136806100606918,0.07271932810544968\n",
      "03:31:18:02:32,Dynamics,V1,Dense,SmoothL1,0.005948166828602552,0.006144481245428324\n",
      "03:31:18:02:52,Dynamics,V1,Dense,SmoothL1,0.0032131331972777843,0.0033073569647967815\n"
     ]
    }
   ],
   "source": [
    "rr.generate_csv_comparison_report(test_data_float, train_data_float,\n",
    "                   rootdir='runs/03-31')"
   ]
  },
  {
   "cell_type": "code",
   "execution_count": 13,
   "metadata": {},
   "outputs": [
    {
     "name": "stdout",
     "output_type": "stream",
     "text": [
      "Folder: 03-31-18-01-03-Dynamics-V1-Dense-MSE\n",
      "tensor([[0.0000, 0.5000],\n",
      "        [0.0000, 0.0000],\n",
      "        [0.0000, 0.5000],\n",
      "        [0.0000, 0.5000],\n",
      "        [0.0000, 0.5000],\n",
      "        [1.0000, 0.0000],\n",
      "        [1.0000, 0.0000],\n",
      "        [1.0000, 0.0000],\n",
      "        [1.0000, 0.0000],\n",
      "        [1.0000, 0.5000]])\n",
      "tensor([[0.1214, 0.5738],\n",
      "        [0.1264, 0.1509],\n",
      "        [0.0993, 0.4931],\n",
      "        [0.1002, 0.4953],\n",
      "        [0.1011, 0.4974],\n",
      "        [0.9014, 0.1185],\n",
      "        [0.9010, 0.1189],\n",
      "        [0.9006, 0.1193],\n",
      "        [0.9003, 0.1197],\n",
      "        [0.9171, 0.5654]], grad_fn=<SigmoidBackward>)\n",
      "tensor(0.0904, grad_fn=<MeanBackward0>)\n",
      "-----------------------------------------\n",
      "Folder: 03-31-18-01-22-Dynamics-V1-Dense-MSE\n",
      "tensor([[0.0000, 0.5000],\n",
      "        [0.0000, 0.0000],\n",
      "        [0.0000, 0.5000],\n",
      "        [0.0000, 0.5000],\n",
      "        [0.0000, 0.5000],\n",
      "        [1.0000, 0.0000],\n",
      "        [1.0000, 0.0000],\n",
      "        [1.0000, 0.0000],\n",
      "        [1.0000, 0.0000],\n",
      "        [1.0000, 0.5000]])\n",
      "tensor([[0.0047, 0.5010],\n",
      "        [0.0065, 0.0061],\n",
      "        [0.0047, 0.4995],\n",
      "        [0.0047, 0.4996],\n",
      "        [0.0047, 0.4997],\n",
      "        [0.9954, 0.0038],\n",
      "        [0.9954, 0.0038],\n",
      "        [0.9954, 0.0038],\n",
      "        [0.9954, 0.0038],\n",
      "        [0.9940, 0.4610]], grad_fn=<SigmoidBackward>)\n",
      "tensor(0.0056, grad_fn=<MeanBackward0>)\n",
      "-----------------------------------------\n",
      "Folder: 03-31-18-01-50-Dynamics-V1-Dense-MSE\n",
      "tensor([[0.0000, 0.5000],\n",
      "        [0.0000, 0.0000],\n",
      "        [0.0000, 0.5000],\n",
      "        [0.0000, 0.5000],\n",
      "        [0.0000, 0.5000],\n",
      "        [1.0000, 0.0000],\n",
      "        [1.0000, 0.0000],\n",
      "        [1.0000, 0.0000],\n",
      "        [1.0000, 0.0000],\n",
      "        [1.0000, 0.5000]])\n",
      "tensor([[0.0045, 0.5012],\n",
      "        [0.0100, 0.0091],\n",
      "        [0.0045, 0.5002],\n",
      "        [0.0045, 0.5002],\n",
      "        [0.0045, 0.5002],\n",
      "        [0.9939, 0.0056],\n",
      "        [0.9939, 0.0057],\n",
      "        [0.9938, 0.0057],\n",
      "        [0.9938, 0.0058],\n",
      "        [0.9949, 0.4757]], grad_fn=<SigmoidBackward>)\n",
      "tensor(0.0058, grad_fn=<MeanBackward0>)\n",
      "-----------------------------------------\n",
      "Folder: 03-31-18-02-15-Dynamics-V1-Dense-SmoothL1\n",
      "tensor([[0.0000, 0.5000],\n",
      "        [0.0000, 0.0000],\n",
      "        [0.0000, 0.5000],\n",
      "        [0.0000, 0.5000],\n",
      "        [0.0000, 0.5000],\n",
      "        [1.0000, 0.0000],\n",
      "        [1.0000, 0.0000],\n",
      "        [1.0000, 0.0000],\n",
      "        [1.0000, 0.0000],\n",
      "        [1.0000, 0.5000]])\n",
      "tensor([[0.0968, 0.5800],\n",
      "        [0.1004, 0.1400],\n",
      "        [0.0808, 0.4938],\n",
      "        [0.0814, 0.4963],\n",
      "        [0.0820, 0.4988],\n",
      "        [0.9207, 0.1062],\n",
      "        [0.9205, 0.1065],\n",
      "        [0.9204, 0.1067],\n",
      "        [0.9202, 0.1070],\n",
      "        [0.9312, 0.5708]], grad_fn=<SigmoidBackward>)\n",
      "tensor(0.0778, grad_fn=<MeanBackward0>)\n",
      "-----------------------------------------\n",
      "Folder: 03-31-18-02-32-Dynamics-V1-Dense-SmoothL1\n",
      "tensor([[0.0000, 0.5000],\n",
      "        [0.0000, 0.0000],\n",
      "        [0.0000, 0.5000],\n",
      "        [0.0000, 0.5000],\n",
      "        [0.0000, 0.5000],\n",
      "        [1.0000, 0.0000],\n",
      "        [1.0000, 0.0000],\n",
      "        [1.0000, 0.0000],\n",
      "        [1.0000, 0.0000],\n",
      "        [1.0000, 0.5000]])\n",
      "tensor([[0.0102, 0.4820],\n",
      "        [0.0077, 0.0079],\n",
      "        [0.0076, 0.5004],\n",
      "        [0.0076, 0.5005],\n",
      "        [0.0076, 0.5007],\n",
      "        [0.9924, 0.0078],\n",
      "        [0.9924, 0.0078],\n",
      "        [0.9924, 0.0078],\n",
      "        [0.9924, 0.0078],\n",
      "        [0.9897, 0.4659]], grad_fn=<SigmoidBackward>)\n",
      "tensor(0.0087, grad_fn=<MeanBackward0>)\n",
      "-----------------------------------------\n",
      "Folder: 03-31-18-02-52-Dynamics-V1-Dense-SmoothL1\n",
      "tensor([[0.0000, 0.5000],\n",
      "        [0.0000, 0.0000],\n",
      "        [0.0000, 0.5000],\n",
      "        [0.0000, 0.5000],\n",
      "        [0.0000, 0.5000],\n",
      "        [1.0000, 0.0000],\n",
      "        [1.0000, 0.0000],\n",
      "        [1.0000, 0.0000],\n",
      "        [1.0000, 0.0000],\n",
      "        [1.0000, 0.5000]])\n",
      "tensor([[0.0047, 0.5115],\n",
      "        [0.0111, 0.0126],\n",
      "        [0.0044, 0.5000],\n",
      "        [0.0044, 0.5000],\n",
      "        [0.0044, 0.5001],\n",
      "        [0.9956, 0.0041],\n",
      "        [0.9956, 0.0041],\n",
      "        [0.9956, 0.0041],\n",
      "        [0.9956, 0.0041],\n",
      "        [0.9946, 0.4576]], grad_fn=<SigmoidBackward>)\n",
      "tensor(0.0067, grad_fn=<MeanBackward0>)\n",
      "-----------------------------------------\n"
     ]
    }
   ],
   "source": [
    "sample = torch.cat((test_data_float[1055:1060], test_data_float[1230:1235]), axis=0)\n",
    "ground_truth = dynamics_gradient_ground_truth_adapter(sample).to(device)\n",
    "for folder, net in rr.build_net(rootdir='runs/03-31/'):\n",
    "    print ('Folder: ' + folder)\n",
    "    op_batch, loss = rr.run_mini_batch(net, sample)\n",
    "    print (ground_truth)\n",
    "    print (op_batch)\n",
    "    print (loss)\n",
    "    print ('-----------------------------------------')"
   ]
  },
  {
   "cell_type": "code",
   "execution_count": 19,
   "metadata": {},
   "outputs": [],
   "source": [
    "rr = ReportResults(map_netname_net, device, \n",
    "                   policy_input_adapter, policy_groud_truth_adapter,\n",
    "                   loss_adapter_func = l1_loss_adapter)"
   ]
  },
  {
   "cell_type": "code",
   "execution_count": 20,
   "metadata": {},
   "outputs": [
    {
     "name": "stdout",
     "output_type": "stream",
     "text": [
      "Time,Goal,DataSet,Network,Loss(Training),TestLoss,TrainLoss\n",
      "04:08:07:35:53,Policy,V2,Dense,MSE,0.0009246765985153615,0.0009788279421627522\n",
      "04:08:07:29:36,Policy,V2,Dense,MSE,0.015583701431751251,0.016864705830812454\n"
     ]
    }
   ],
   "source": [
    "rr.generate_csv_comparison_report(test_data_float, train_data_float,\n",
    "                   rootdir='runs/04-08')"
   ]
  },
  {
   "cell_type": "code",
   "execution_count": 21,
   "metadata": {},
   "outputs": [
    {
     "name": "stdout",
     "output_type": "stream",
     "text": [
      "Folder: 04-08-07-35-53-Policy-V2-Dense-MSE\n",
      "tensor([[-1.,  0.],\n",
      "        [-1., -1.],\n",
      "        [-1.,  0.],\n",
      "        [-1.,  0.],\n",
      "        [-1.,  0.],\n",
      "        [ 1., -1.],\n",
      "        [ 1., -1.],\n",
      "        [ 1., -1.],\n",
      "        [ 1., -1.],\n",
      "        [ 1.,  0.]])\n",
      "tensor([[-1.0000e+00, -5.9831e-04],\n",
      "        [-9.9837e-01, -9.9866e-01],\n",
      "        [-1.0000e+00, -2.0846e-03],\n",
      "        [-1.0000e+00, -2.0014e-03],\n",
      "        [-1.0000e+00, -1.9175e-03],\n",
      "        [ 9.9764e-01, -9.9867e-01],\n",
      "        [ 9.9765e-01, -9.9868e-01],\n",
      "        [ 9.9766e-01, -9.9868e-01],\n",
      "        [ 9.9767e-01, -9.9868e-01],\n",
      "        [ 1.0000e+00,  7.1299e-04]], grad_fn=<TanhBackward>)\n",
      "tensor(0.0012, grad_fn=<MeanBackward0>)\n",
      "Folder: 04-08-07-29-36-Policy-V2-Dense-MSE\n",
      "tensor([[-1.,  0.],\n",
      "        [-1., -1.],\n",
      "        [-1.,  0.],\n",
      "        [-1.,  0.],\n",
      "        [-1.,  0.],\n",
      "        [ 1., -1.],\n",
      "        [ 1., -1.],\n",
      "        [ 1., -1.],\n",
      "        [ 1., -1.],\n",
      "        [ 1.,  0.]])\n",
      "tensor([[-0.9994, -0.0311],\n",
      "        [-0.9682, -0.9674],\n",
      "        [-0.9995,  0.0176],\n",
      "        [-0.9995,  0.0170],\n",
      "        [-0.9995,  0.0165],\n",
      "        [ 0.9690, -0.9672],\n",
      "        [ 0.9690, -0.9673],\n",
      "        [ 0.9690, -0.9673],\n",
      "        [ 0.9690, -0.9674],\n",
      "        [ 0.9995,  0.0200]], grad_fn=<TanhBackward>)\n",
      "tensor(0.0212, grad_fn=<MeanBackward0>)\n"
     ]
    }
   ],
   "source": [
    "sample = torch.cat((test_data_float[1055:1060], test_data_float[1230:1235]), axis=0)\n",
    "ground_truth = policy_groud_truth_adapter(sample).to(device)\n",
    "for folder, net in rr.build_net(rootdir='runs/04-08/'):\n",
    "    print ('Folder: ' + folder)\n",
    "    op_batch, loss = rr.run_mini_batch(net, sample)\n",
    "    print (ground_truth)\n",
    "    print (op_batch)\n",
    "    print (loss)"
   ]
  },
  {
   "cell_type": "code",
   "execution_count": 16,
   "metadata": {},
   "outputs": [
    {
     "name": "stdout",
     "output_type": "stream",
     "text": [
      "datapoint 0 test error tensor(9.2288e-06)\n"
     ]
    },
    {
     "data": {
      "image/png": "[encoded data removed]",
      "text/plain": [
       "<Figure size 432x288 with 1 Axes>"
      ]
     },
     "metadata": {
      "needs_background": "light"
     },
     "output_type": "display_data"
    },
    {
     "data": {
      "image/png": "[encoded data removed]",
      "text/plain": [
       "<Figure size 432x288 with 1 Axes>"
      ]
     },
     "metadata": {
      "needs_background": "light"
     },
     "output_type": "display_data"
    },
    {
     "name": "stdout",
     "output_type": "stream",
     "text": [
      "datapoint 1 test error tensor(9.4870e-06)\n"
     ]
    },
    {
     "data": {
      "image/png": "[encoded data removed]",
      "text/plain": [
       "<Figure size 432x288 with 1 Axes>"
      ]
     },
     "metadata": {
      "needs_background": "light"
     },
     "output_type": "display_data"
    },
    {
     "data": {
      "image/png": "[encoded data removed]",
      "text/plain": [
       "<Figure size 432x288 with 1 Axes>"
      ]
     },
     "metadata": {
      "needs_background": "light"
     },
     "output_type": "display_data"
    },
    {
     "name": "stdout",
     "output_type": "stream",
     "text": [
      "datapoint 2 test error tensor(1.5805e-05)\n"
     ]
    },
    {
     "data": {
      "image/png": "[encoded data removed]",
      "text/plain": [
       "<Figure size 432x288 with 1 Axes>"
      ]
     },
     "metadata": {
      "needs_background": "light"
     },
     "output_type": "display_data"
    },
    {
     "data": {
      "image/png": "[encoded data removed]",
      "text/plain": [
       "<Figure size 432x288 with 1 Axes>"
      ]
     },
     "metadata": {
      "needs_background": "light"
     },
     "output_type": "display_data"
    },
    {
     "name": "stdout",
     "output_type": "stream",
     "text": [
      "datapoint 3 test error tensor(1.1305e-05)\n"
     ]
    },
    {
     "data": {
      "image/png": "[encoded data removed]",
      "text/plain": [
       "<Figure size 432x288 with 1 Axes>"
      ]
     },
     "metadata": {
      "needs_background": "light"
     },
     "output_type": "display_data"
    },
    {
     "data": {
      "image/png": "[encoded data removed]",
      "text/plain": [
       "<Figure size 432x288 with 1 Axes>"
      ]
     },
     "metadata": {
      "needs_background": "light"
     },
     "output_type": "display_data"
    },
    {
     "name": "stdout",
     "output_type": "stream",
     "text": [
      "datapoint 4 test error tensor(1.3016e-05)\n"
     ]
    },
    {
     "data": {
      "image/png": "[encoded data removed]",
      "text/plain": [
       "<Figure size 432x288 with 1 Axes>"
      ]
     },
     "metadata": {
      "needs_background": "light"
     },
     "output_type": "display_data"
    },
    {
     "data": {
      "image/png": "[encoded data removed]",
      "text/plain": [
       "<Figure size 432x288 with 1 Axes>"
      ]
     },
     "metadata": {
      "needs_background": "light"
     },
     "output_type": "display_data"
    }
   ],
   "source": [
    "rr.show_test_samples(test_data_float,\n",
    "                  rootdir='runs/03-28/03-28-14-10-20-DemoPl-V2-ComposedAutoEncoderWithMaxPool-SmoothL1-')"
   ]
  },
  {
   "cell_type": "code",
   "execution_count": null,
   "metadata": {},
   "outputs": [],
   "source": [
    "np.set_printoptions(**opt)"
   ]
  }
 ],
 "metadata": {
  "kernelspec": {
   "display_name": "demopl",
   "language": "python",
   "name": "demopl"
  },
  "language_info": {
   "codemirror_mode": {
    "name": "ipython",
    "version": 3
   },
   "file_extension": ".py",
   "mimetype": "text/x-python",
   "name": "python",
   "nbconvert_exporter": "python",
   "pygments_lexer": "ipython3",
   "version": "3.6.8"
  }
 },
 "nbformat": 4,
 "nbformat_minor": 4
}
