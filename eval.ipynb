{
 "cells": [
  {
   "cell_type": "code",
   "execution_count": 1,
   "metadata": {},
   "outputs": [],
   "source": [
    "%load_ext autoreload\n",
    "%autoreload 2"
   ]
  },
  {
   "cell_type": "code",
   "execution_count": 33,
   "metadata": {},
   "outputs": [],
   "source": [
    "import numpy as np\n",
    "import matplotlib.pyplot as plt\n",
    "import time\n",
    "import os\n",
    "import glob\n",
    "\n",
    "import torch\n",
    "import torch.nn as nn\n",
    "import torch.nn.functional as F\n",
    "from torch.utils.data import DataLoader\n",
    "\n",
    "from adapters import *\n",
    "from dataset import NumpyCsvDataSet\n",
    "from runner import ExptRunner\n",
    "from networks.autoencoder import AutoEncoder\n",
    "from networks.composedautoencoder import ComposedAutoEncoder\n",
    "from networks.DenseAutoEncoder import DenseAutoEncoder\n",
    "from networks.ConvVae import ConvVae\n",
    "from networks.vae import VAE\n",
    "from networks.etpr.autoencoder import autoencoder as etprautoenc\n",
    "from networks.dense import Dense\n",
    "from networks.dense import DenseForPolicy\n",
    "from networks.lossfunctions import *\n",
    "from helpers import ReportResults\n",
    "from policyeval import PolicyEvaluator"
   ]
  },
  {
   "cell_type": "code",
   "execution_count": 3,
   "metadata": {},
   "outputs": [],
   "source": [
    "opt = np.get_printoptions()\n",
    "np.set_printoptions(threshold=np.inf)"
   ]
  },
  {
   "cell_type": "code",
   "execution_count": 4,
   "metadata": {},
   "outputs": [
    {
     "name": "stdout",
     "output_type": "stream",
     "text": [
      "cpu\n"
     ]
    }
   ],
   "source": [
    "device = torch.device(\"cuda:2\" if torch.cuda.is_available() else \"cpu\")\n",
    "print (device)"
   ]
  },
  {
   "cell_type": "code",
   "execution_count": 5,
   "metadata": {},
   "outputs": [
    {
     "name": "stdout",
     "output_type": "stream",
     "text": [
      "Time Taken: 25.255686044692993 sec\n"
     ]
    }
   ],
   "source": [
    "start = time.time()\n",
    "data_folder = 'data/demoplanner/version1'\n",
    "v1_train_data = NumpyCsvDataSet(data_folder + '/train.csv', device=device)\n",
    "v1_test_data = NumpyCsvDataSet(data_folder + '/test.csv', device=device)\n",
    "print (\"Time Taken: {} sec\".format(time.time() - start))"
   ]
  },
  {
   "cell_type": "code",
   "execution_count": 6,
   "metadata": {},
   "outputs": [
    {
     "name": "stdout",
     "output_type": "stream",
     "text": [
      "Time Taken: 299.4014210700989 sec\n"
     ]
    }
   ],
   "source": [
    "start = time.time()\n",
    "data_folder = 'data/demoplanner/version2'\n",
    "v2_train_data = NumpyCsvDataSet(data_folder + '/train.csv', device=device)\n",
    "v2_test_data = NumpyCsvDataSet(data_folder + '/test.csv', device=device)\n",
    "print (\"Time Taken: {} sec\".format(time.time() - start))"
   ]
  },
  {
   "cell_type": "code",
   "execution_count": 7,
   "metadata": {},
   "outputs": [],
   "source": [
    "test_data = v2_test_data.data\n",
    "train_data = v2_train_data.data"
   ]
  },
  {
   "cell_type": "code",
   "execution_count": 8,
   "metadata": {},
   "outputs": [
    {
     "name": "stdout",
     "output_type": "stream",
     "text": [
      "torch.Size([129779, 2058])\n",
      "torch.Size([6648, 2058])\n",
      "cpu\n",
      "cpu\n"
     ]
    }
   ],
   "source": [
    "print (train_data.shape)\n",
    "print (test_data.shape)\n",
    "\n",
    "print (train_data.device)\n",
    "print (test_data.device)"
   ]
  },
  {
   "cell_type": "code",
   "execution_count": 9,
   "metadata": {},
   "outputs": [
    {
     "name": "stdout",
     "output_type": "stream",
     "text": [
      "[0, 22, 31, 34, 43, 50, 70, 86, 90, 106, 114, 122, 138, 152, 157, 173, 184, 191, 211, 219, 224, 226, 249, 260, 269, 279, 290, 307, 324, 340, 355, 367, 376, 400, 412, 426, 436, 453, 474, 485, 489, 509, 530, 536, 545, 554, 579, 597, 608, 621, 643, 651, 656, 664, 676, 683, 692, 706, 713, 740, 759, 774, 792, 802, 819, 841, 853, 878, 898, 905, 914, 925, 934, 944, 954, 974, 984, 998, 1007, 1008, 1015, 1025, 1043, 1061, 1065, 1089, 1094, 1103, 1114, 1126, 1129, 1152, 1160, 1177, 1183, 1196, 1207, 1232, 1243, 1265, 1274, 1293, 1302, 1316, 1328, 1350, 1358, 1371, 1375, 1397, 1402, 1422, 1439, 1442, 1454, 1461, 1481, 1500, 1516, 1536, 1550, 1559, 1565, 1577, 1601, 1626, 1645, 1669, 1681, 1694, 1702, 1720, 1729, 1738, 1753, 1777, 1792, 1793, 1794, 1802, 1814, 1818, 1836, 1842, 1865, 1887, 1909, 1915, 1925, 1931, 1941, 1963, 1979, 1998, 2023, 2042, 2068, 2093, 2096, 2106, 2124, 2136, 2149, 2160, 2180, 2194, 2206, 2213, 2236, 2242, 2248, 2260, 2269, 2291, 2304, 2312, 2322, 2336, 2350, 2360, 2380, 2392, 2399, 2412, 2414, 2427, 2440, 2459, 2475, 2489, 2493, 2509, 2523, 2533, 2548, 2561, 2583, 2588, 2604, 2616, 2635, 2660, 2672, 2679, 2687, 2692, 2704, 2718, 2725, 2734, 2758, 2768, 2780, 2795, 2807, 2817, 2821, 2836, 2847, 2860, 2878, 2893, 2915, 2931, 2944, 2948, 2962, 2980, 2989, 3013, 3022, 3025, 3031, 3034, 3047, 3061, 3084, 3095, 3108, 3120, 3126, 3149, 3168, 3176, 3200, 3223, 3231, 3248, 3252, 3267, 3281, 3306, 3329, 3352, 3369, 3384, 3400, 3415, 3438, 3457, 3466, 3471, 3484, 3493, 3500, 3512, 3523, 3526, 3534, 3554, 3555, 3563, 3570, 3577, 3593, 3609, 3619, 3639, 3647, 3657, 3675, 3688, 3706, 3731, 3743, 3764, 3774, 3793, 3810, 3834, 3846, 3862, 3875, 3878, 3883, 3887, 3894, 3897, 3910, 3927, 3944, 3947, 3968, 3993, 4015, 4021, 4031, 4044, 4063, 4072, 4080, 4086, 4104, 4123, 4147, 4166, 4180, 4192, 4216, 4234, 4250, 4266, 4285, 4300, 4319, 4339, 4354, 4355, 4363, 4374, 4396, 4400, 4414, 4421, 4435, 4457, 4482, 4492, 4497, 4501, 4513, 4525, 4540, 4553, 4567, 4577, 4586, 4601, 4608, 4616, 4625, 4635, 4640, 4646, 4667, 4675, 4680, 4695, 4704, 4727, 4742, 4756, 4777, 4793, 4801, 4803, 4816, 4820, 4838, 4849, 4867, 4882, 4902, 4920, 4935, 4948, 4969, 4995, 5004, 5012, 5037, 5059, 5083, 5105, 5125, 5133, 5146, 5171, 5184, 5206, 5215, 5233, 5247, 5253, 5274, 5285, 5302, 5319, 5329, 5347, 5363, 5365, 5382, 5400, 5410, 5432, 5446, 5464, 5472, 5481, 5503, 5508, 5521, 5531, 5553, 5558, 5571, 5583, 5590, 5612, 5621, 5636, 5646, 5650, 5658, 5677, 5692, 5708, 5729, 5739, 5746, 5760, 5768, 5789, 5805, 5828, 5853, 5860, 5875, 5882, 5893, 5919, 5931, 5952, 5958, 5964, 5978, 5989, 6008, 6030, 6050, 6070, 6076, 6079, 6089, 6100, 6114, 6135, 6144, 6153, 6161, 6163, 6187, 6197, 6209, 6219, 6228, 6236, 6253, 6265, 6280, 6288, 6303, 6314, 6327, 6336, 6339, 6342, 6358, 6363, 6371, 6389, 6403, 6415, 6437, 6450, 6462, 6485, 6504, 6519, 6520, 6534, 6551, 6564, 6580, 6586, 6596, 6602, 6624, 6635]\n",
      "500\n"
     ]
    }
   ],
   "source": [
    "t_cpu = test_data.data.cpu()\n",
    "start_indices = []\n",
    "index = 0\n",
    "while index < len(t_cpu):\n",
    "    start_indices.append(index)\n",
    "    start, goal = t_cpu[index, :2], t_cpu[index, 2:4]\n",
    "    index += int(max(np.abs(goal - start)))\n",
    "print (start_indices)\n",
    "print (len(start_indices))"
   ]
  },
  {
   "cell_type": "code",
   "execution_count": 11,
   "metadata": {},
   "outputs": [
    {
     "data": {
      "text/plain": [
       "<All keys matched successfully>"
      ]
     },
     "execution_count": 11,
     "metadata": {},
     "output_type": "execute_result"
    }
   ],
   "source": [
    "policy = Dense([4, 16, 16, 6], use_last_act=False)\n",
    "policy.load_state_dict(torch.load('runs/04-08-10-24-50-Policy-V2-Dense-CE/autoenc.pth', map_location=device))\n",
    "\n",
    "dynamics = Dense([4, 16, 2])\n",
    "dynamics.load_state_dict(torch.load('runs/03-31-18-02-52-Dynamics-V1-Dense-SmoothL1/autoenc.pth', map_location=device))"
   ]
  },
  {
   "cell_type": "code",
   "execution_count": 40,
   "metadata": {},
   "outputs": [
    {
     "name": "stdout",
     "output_type": "stream",
     "text": [
      "Tajectory 0: goal error = 0.17319869995117188, average error = 0.08483083546161652, length = 22\n",
      "Tajectory 1: goal error = 0.04053640365600586, average error = 0.022297488525509834, length = 9\n",
      "Tajectory 2: goal error = 0.012553215026855469, average error = 0.00836197566241026, length = 3\n",
      "Tajectory 3: goal error = 0.049368858337402344, average error = 0.022742006927728653, length = 9\n",
      "Tajectory 4: goal error = 0.06147050857543945, average error = 0.03434460610151291, length = 7\n",
      "Tajectory 5: goal error = 0.13530957698822021, average error = 0.057687193155288696, length = 20\n",
      "Tajectory 6: goal error = 0.13261890411376953, average error = 0.06405003368854523, length = 16\n",
      "Tajectory 7: goal error = 0.022810935974121094, average error = 0.012806415557861328, length = 4\n",
      "Tajectory 8: goal error = 0.09192895889282227, average error = 0.040435582399368286, length = 16\n",
      "Tajectory 9: goal error = 0.04153919219970703, average error = 0.0216066837310791, length = 8\n",
      "Tajectory 10: goal error = 0.06362724304199219, average error = 0.030710220336914062, length = 8\n",
      "Tajectory 11: goal error = 0.1049356460571289, average error = 0.04818134009838104, length = 16\n",
      "Tajectory 12: goal error = 0.08794689178466797, average error = 0.03945916146039963, length = 14\n",
      "Tajectory 13: goal error = 0.0387725830078125, average error = 0.021807480603456497, length = 5\n",
      "Tajectory 14: goal error = 0.11370706558227539, average error = 0.04496648907661438, length = 16\n",
      "Tajectory 15: goal error = 0.09136533737182617, average error = 0.046775903552770615, length = 11\n",
      "Tajectory 16: goal error = 0.042319297790527344, average error = 0.02108110673725605, length = 7\n",
      "Tajectory 17: goal error = 0.17018663883209229, average error = 0.07253747433423996, length = 20\n",
      "Tajectory 18: goal error = 0.043271541595458984, average error = 0.021460235118865967, length = 8\n",
      "Tajectory 19: goal error = 0.03407621383666992, average error = 0.018044758588075638, length = 5\n",
      "Tajectory 20: goal error = 0.012373924255371094, average error = 0.008636951446533203, length = 2\n",
      "Tajectory 21: goal error = 0.2235393524169922, average error = 0.11502833664417267, length = 23\n",
      "Tajectory 22: goal error = 0.09412860870361328, average error = 0.05095594748854637, length = 11\n",
      "Tajectory 23: goal error = 0.04479336738586426, average error = 0.021615266799926758, length = 9\n",
      "Tajectory 24: goal error = 0.05826854705810547, average error = 0.0281811710447073, length = 10\n",
      "Tajectory 25: goal error = 0.07985544204711914, average error = 0.03875732421875, length = 11\n",
      "Tajectory 26: goal error = 0.19664764404296875, average error = 0.12214980274438858, length = 17\n",
      "Tajectory 27: goal error = 0.10851383209228516, average error = 0.04922172427177429, length = 17\n",
      "Tajectory 28: goal error = 0.1396646499633789, average error = 0.07215312123298645, length = 16\n",
      "Tajectory 29: goal error = 0.08297586441040039, average error = 0.03698581084609032, length = 15\n",
      "Tajectory 30: goal error = 0.05939769744873047, average error = 0.030041178688406944, length = 12\n",
      "Tajectory 31: goal error = 0.0791473388671875, average error = 0.03705228865146637, length = 9\n",
      "Tajectory 32: goal error = 0.1627974510192871, average error = 0.07310544699430466, length = 24\n",
      "Tajectory 33: goal error = 0.08912849426269531, average error = 0.043484609574079514, length = 12\n",
      "Tajectory 34: goal error = 0.07877540588378906, average error = 0.03525063022971153, length = 14\n",
      "Tajectory 35: goal error = 0.06699681282043457, average error = 0.031582094728946686, length = 10\n",
      "Tajectory 36: goal error = 0.07061123847961426, average error = 0.037143539637327194, length = 17\n",
      "Tajectory 37: goal error = 0.12835335731506348, average error = 0.05579988285899162, length = 21\n",
      "Tajectory 38: goal error = 0.08918094635009766, average error = 0.04676628112792969, length = 11\n",
      "Tajectory 39: goal error = 0.025007247924804688, average error = 0.013465166091918945, length = 4\n",
      "Tajectory 40: goal error = 0.09061050415039062, average error = 0.04385821893811226, length = 20\n",
      "Tajectory 41: goal error = 0.10559630393981934, average error = 0.051900897175073624, length = 21\n",
      "Tajectory 42: goal error = 0.03771781921386719, average error = 0.01934131048619747, length = 6\n",
      "Tajectory 43: goal error = 0.055737853050231934, average error = 0.025878628715872765, length = 9\n",
      "Tajectory 44: goal error = 0.040585994720458984, average error = 0.02095196023583412, length = 9\n",
      "Tajectory 45: goal error = 0.1382431983947754, average error = 0.0706065371632576, length = 25\n",
      "Tajectory 46: goal error = 0.1212153434753418, average error = 0.05463545769453049, length = 18\n",
      "Tajectory 47: goal error = 0.054230451583862305, average error = 0.026547105982899666, length = 11\n",
      "Tajectory 48: goal error = 0.07169437408447266, average error = 0.03389270603656769, length = 13\n",
      "Tajectory 49: goal error = 0.1788480281829834, average error = 0.07124041765928268, length = 22\n",
      "Tajectory 50: goal error = 0.044013261795043945, average error = 0.021027952432632446, length = 8\n",
      "Tajectory 51: goal error = 0.0727391242980957, average error = 0.03692774847149849, length = 5\n",
      "Tajectory 52: goal error = 0.06358051300048828, average error = 0.0339432954788208, length = 8\n",
      "Tajectory 53: goal error = 0.10492134094238281, average error = 0.047732532024383545, length = 12\n",
      "Tajectory 54: goal error = 0.046142578125, average error = 0.021629879251122475, length = 7\n",
      "Tajectory 55: goal error = 0.0714874267578125, average error = 0.03689771145582199, length = 9\n",
      "Tajectory 56: goal error = 0.07305669784545898, average error = 0.03524548560380936, length = 14\n",
      "Tajectory 57: goal error = 0.049074649810791016, average error = 0.023704886436462402, length = 7\n",
      "Tajectory 58: goal error = 0.27548301219940186, average error = 0.12676073610782623, length = 27\n",
      "Tajectory 59: goal error = 0.12398147583007812, average error = 0.055841218680143356, length = 19\n",
      "Tajectory 60: goal error = 0.11385822296142578, average error = 0.05543107911944389, length = 15\n",
      "Tajectory 61: goal error = 0.10027599334716797, average error = 0.04699055477976799, length = 18\n",
      "Tajectory 62: goal error = 0.045065879821777344, average error = 0.022907067090272903, length = 10\n",
      "Tajectory 63: goal error = 0.08167219161987305, average error = 0.04219333454966545, length = 17\n",
      "Tajectory 64: goal error = 0.15426039695739746, average error = 0.0676446482539177, length = 22\n",
      "Tajectory 65: goal error = 0.07959747314453125, average error = 0.03674793243408203, length = 12\n",
      "Tajectory 66: goal error = 0.18225467205047607, average error = 0.07571225613355637, length = 25\n",
      "Tajectory 67: goal error = 0.12384700775146484, average error = 0.05617322772741318, length = 20\n",
      "Tajectory 68: goal error = 0.04449605941772461, average error = 0.019938094541430473, length = 7\n",
      "Tajectory 69: goal error = 0.05133056640625, average error = 0.023304633796215057, length = 9\n",
      "Tajectory 70: goal error = 0.06694221496582031, average error = 0.03050643764436245, length = 11\n",
      "Tajectory 71: goal error = 0.04929161071777344, average error = 0.02425191178917885, length = 9\n",
      "Tajectory 72: goal error = 0.07151460647583008, average error = 0.03471417352557182, length = 10\n",
      "Tajectory 73: goal error = 0.04991436004638672, average error = 0.025467300787568092, length = 10\n",
      "Tajectory 74: goal error = 0.12129545211791992, average error = 0.05286918208003044, length = 20\n",
      "Tajectory 75: goal error = 0.0548548698425293, average error = 0.025991450995206833, length = 10\n",
      "Tajectory 76: goal error = 0.10349369049072266, average error = 0.050034694373607635, length = 14\n",
      "Tajectory 77: goal error = 0.06775283813476562, average error = 0.034446556121110916, length = 9\n",
      "Tajectory 78: goal error = 0.00501704216003418, average error = 0.00501704216003418, length = 1\n",
      "Tajectory 79: goal error = 0.055899620056152344, average error = 0.030404534190893173, length = 7\n",
      "Tajectory 80: goal error = 0.04891014099121094, average error = 0.023847293108701706, length = 10\n",
      "Tajectory 81: goal error = 0.07347965240478516, average error = 0.0389554426074028, length = 18\n",
      "Tajectory 82: goal error = 0.12456703186035156, average error = 0.05707494542002678, length = 18\n",
      "Tajectory 83: goal error = 0.028888702392578125, average error = 0.014954328536987305, length = 4\n",
      "Tajectory 84: goal error = 0.1181340217590332, average error = 0.05384393408894539, length = 24\n",
      "Tajectory 85: goal error = 0.029938697814941406, average error = 0.015674401074647903, length = 5\n",
      "Tajectory 86: goal error = 0.03713226318359375, average error = 0.020692506805062294, length = 9\n",
      "Tajectory 87: goal error = 0.07281756401062012, average error = 0.03421187400817871, length = 11\n",
      "Tajectory 88: goal error = 0.07933902740478516, average error = 0.03662717342376709, length = 12\n",
      "Tajectory 89: goal error = 0.021837234497070312, average error = 0.013349215500056744, length = 3\n",
      "Tajectory 90: goal error = 0.10149025917053223, average error = 0.050632692873477936, length = 23\n",
      "Tajectory 91: goal error = 0.03731989860534668, average error = 0.020925074815750122, length = 8\n",
      "Tajectory 92: goal error = 0.08141279220581055, average error = 0.038922183215618134, length = 17\n",
      "Tajectory 93: goal error = 0.0622708797454834, average error = 0.027599573135375977, length = 6\n",
      "Tajectory 94: goal error = 0.13028883934020996, average error = 0.057192783802747726, length = 13\n",
      "Tajectory 95: goal error = 0.09322977066040039, average error = 0.050857629626989365, length = 11\n",
      "Tajectory 96: goal error = 0.1192786693572998, average error = 0.05492259934544563, length = 25\n",
      "Tajectory 97: goal error = 0.053236961364746094, average error = 0.025792034342885017, length = 11\n",
      "Tajectory 98: goal error = 0.11697959899902344, average error = 0.05401800945401192, length = 22\n",
      "Tajectory 99: goal error = 0.059546470642089844, average error = 0.026209911331534386, length = 9\n",
      "Tajectory 100: goal error = 0.09734010696411133, average error = 0.043815977871418, length = 19\n",
      "Tajectory 101: goal error = 0.0718698501586914, average error = 0.037953272461891174, length = 9\n",
      "Tajectory 102: goal error = 0.14194226264953613, average error = 0.0675721988081932, length = 14\n",
      "Tajectory 103: goal error = 0.10221004486083984, average error = 0.04117286205291748, length = 12\n"
     ]
    },
    {
     "name": "stdout",
     "output_type": "stream",
     "text": [
      "Tajectory 104: goal error = 0.1506967544555664, average error = 0.06760384887456894, length = 22\n",
      "Tajectory 105: goal error = 0.0660853385925293, average error = 0.0323907732963562, length = 8\n",
      "Tajectory 106: goal error = 0.06023883819580078, average error = 0.03188140690326691, length = 13\n",
      "Tajectory 107: goal error = 0.029360532760620117, average error = 0.016719043254852295, length = 4\n",
      "Tajectory 108: goal error = 0.13202905654907227, average error = 0.05197051912546158, length = 22\n",
      "Tajectory 109: goal error = 0.028837203979492188, average error = 0.01564178429543972, length = 5\n",
      "Tajectory 110: goal error = 0.1988544464111328, average error = 0.11251430213451385, length = 20\n",
      "Tajectory 111: goal error = 0.10505485534667969, average error = 0.04733756184577942, length = 17\n",
      "Tajectory 112: goal error = 0.013987302780151367, average error = 0.009298483841121197, length = 3\n",
      "Tajectory 113: goal error = 0.06390619277954102, average error = 0.03106015920639038, length = 12\n",
      "Tajectory 114: goal error = 0.03323554992675781, average error = 0.01870652660727501, length = 7\n",
      "Tajectory 115: goal error = 0.09749603271484375, average error = 0.047728680074214935, length = 20\n",
      "Tajectory 116: goal error = 0.17531085014343262, average error = 0.07837491482496262, length = 19\n",
      "Tajectory 117: goal error = 0.1029970645904541, average error = 0.04512976109981537, length = 16\n",
      "Tajectory 118: goal error = 0.10638284683227539, average error = 0.05020100995898247, length = 20\n",
      "Tajectory 119: goal error = 0.09662532806396484, average error = 0.04459759220480919, length = 14\n",
      "Tajectory 120: goal error = 0.08162784576416016, average error = 0.03323952481150627, length = 9\n",
      "Tajectory 121: goal error = 0.046398162841796875, average error = 0.02522134780883789, length = 6\n",
      "Tajectory 122: goal error = 0.06357860565185547, average error = 0.03070700168609619, length = 12\n",
      "Tajectory 123: goal error = 0.12311410903930664, average error = 0.05853318050503731, length = 24\n",
      "Tajectory 124: goal error = 0.1379944086074829, average error = 0.05670063570141792, length = 25\n",
      "Tajectory 125: goal error = 0.16002774238586426, average error = 0.07282416522502899, length = 19\n",
      "Tajectory 126: goal error = 0.10217952728271484, average error = 0.05154407396912575, length = 24\n",
      "Tajectory 127: goal error = 0.05733680725097656, average error = 0.02764713764190674, length = 12\n",
      "Tajectory 128: goal error = 0.11600112915039062, average error = 0.06472528725862503, length = 13\n",
      "Tajectory 129: goal error = 0.07877254486083984, average error = 0.042905181646347046, length = 8\n",
      "Tajectory 130: goal error = 0.14275574684143066, average error = 0.06094155088067055, length = 18\n",
      "Tajectory 131: goal error = 0.07263851165771484, average error = 0.03494347631931305, length = 9\n",
      "Tajectory 132: goal error = 0.07025480270385742, average error = 0.032250192016363144, length = 9\n",
      "Tajectory 133: goal error = 0.10453605651855469, average error = 0.047084029763936996, length = 15\n",
      "Tajectory 134: goal error = 0.11183595657348633, average error = 0.052830617874860764, length = 24\n",
      "Tajectory 135: goal error = 0.07032585144042969, average error = 0.033628273755311966, length = 15\n",
      "Tajectory 136: goal error = 0.00424957275390625, average error = 0.00424957275390625, length = 1\n",
      "Tajectory 137: goal error = 0.008481025695800781, average error = 0.008481025695800781, length = 1\n",
      "Tajectory 138: goal error = 0.050065040588378906, average error = 0.02381420135498047, length = 8\n",
      "Tajectory 139: goal error = 0.06637954711914062, average error = 0.030997535213828087, length = 12\n",
      "Tajectory 140: goal error = 0.03240013122558594, average error = 0.01839214563369751, length = 4\n",
      "Tajectory 141: goal error = 0.10820388793945312, average error = 0.04750523343682289, length = 18\n",
      "Tajectory 142: goal error = 0.03949260711669922, average error = 0.019816160202026367, length = 6\n",
      "Tajectory 143: goal error = 0.16080069541931152, average error = 0.06691353023052216, length = 23\n",
      "Tajectory 144: goal error = 0.12489700317382812, average error = 0.05418499931693077, length = 22\n",
      "Tajectory 145: goal error = 0.1854233741760254, average error = 0.09259381145238876, length = 22\n",
      "Tajectory 146: goal error = 0.04189872741699219, average error = 0.02100050449371338, length = 6\n",
      "Tajectory 147: goal error = 0.0790095329284668, average error = 0.03598114103078842, length = 10\n",
      "Tajectory 148: goal error = 0.03760814666748047, average error = 0.019321918487548828, length = 6\n",
      "Tajectory 149: goal error = 0.0722818374633789, average error = 0.03549332544207573, length = 10\n",
      "Tajectory 150: goal error = 0.14232254028320312, average error = 0.06242232024669647, length = 22\n",
      "Tajectory 151: goal error = 0.1311330795288086, average error = 0.06115660071372986, length = 16\n",
      "Tajectory 152: goal error = 0.12297868728637695, average error = 0.05588794872164726, length = 19\n",
      "Tajectory 153: goal error = 0.19903850555419922, average error = 0.09680043905973434, length = 25\n",
      "Tajectory 154: goal error = 0.1443490982055664, average error = 0.05544297397136688, length = 19\n",
      "Tajectory 155: goal error = 0.12545394897460938, average error = 0.06124736741185188, length = 26\n",
      "Tajectory 156: goal error = 0.1373610496520996, average error = 0.06034119054675102, length = 25\n",
      "Tajectory 157: goal error = 0.013804912567138672, average error = 0.009176571853458881, length = 3\n",
      "Tajectory 158: goal error = 0.04421186447143555, average error = 0.02325277402997017, length = 10\n",
      "Tajectory 159: goal error = 0.13031387329101562, average error = 0.06079292297363281, length = 18\n",
      "Tajectory 160: goal error = 0.06144237518310547, average error = 0.028789440169930458, length = 12\n",
      "Tajectory 161: goal error = 0.1015939712524414, average error = 0.05078638345003128, length = 13\n",
      "Tajectory 162: goal error = 0.06282711029052734, average error = 0.028694413602352142, length = 11\n",
      "Tajectory 163: goal error = 0.17076754570007324, average error = 0.0721219927072525, length = 20\n",
      "Tajectory 164: goal error = 0.14871811866760254, average error = 0.06398139894008636, length = 14\n",
      "Tajectory 165: goal error = 0.08196115493774414, average error = 0.03856887295842171, length = 12\n",
      "Tajectory 166: goal error = 0.03837776184082031, average error = 0.01842900738120079, length = 7\n",
      "Tajectory 167: goal error = 0.19950103759765625, average error = 0.08743111789226532, length = 23\n",
      "Tajectory 168: goal error = 0.029242515563964844, average error = 0.015103657729923725, length = 6\n",
      "Tajectory 169: goal error = 0.04638385772705078, average error = 0.025216897949576378, length = 6\n",
      "Tajectory 170: goal error = 0.06323623657226562, average error = 0.030761441215872765, length = 12\n",
      "Tajectory 171: goal error = 0.04504203796386719, average error = 0.021918190643191338, length = 9\n",
      "Tajectory 172: goal error = 0.10184383392333984, average error = 0.04815554618835449, length = 22\n",
      "Tajectory 173: goal error = 0.08561944961547852, average error = 0.03749260678887367, length = 13\n",
      "Tajectory 174: goal error = 0.05262959003448486, average error = 0.02244339883327484, length = 8\n",
      "Tajectory 175: goal error = 0.05140089988708496, average error = 0.025140786543488503, length = 10\n",
      "Tajectory 176: goal error = 0.08317923545837402, average error = 0.035858478397130966, length = 14\n",
      "Tajectory 177: goal error = 0.09997296333312988, average error = 0.04025614261627197, length = 14\n",
      "Tajectory 178: goal error = 0.11567878723144531, average error = 0.06020427867770195, length = 10\n",
      "Tajectory 179: goal error = 0.0887150764465332, average error = 0.04415784031152725, length = 20\n",
      "Tajectory 180: goal error = 0.04944324493408203, average error = 0.026896119117736816, length = 12\n",
      "Tajectory 181: goal error = 0.03980135917663574, average error = 0.01832270622253418, length = 7\n",
      "Tajectory 182: goal error = 0.09272956848144531, average error = 0.04433257877826691, length = 13\n",
      "Tajectory 183: goal error = 0.01296234130859375, average error = 0.008723258972167969, length = 2\n",
      "Tajectory 184: goal error = 0.12210750579833984, average error = 0.05789338797330856, length = 13\n",
      "Tajectory 185: goal error = 0.09666204452514648, average error = 0.04693218320608139, length = 13\n",
      "Tajectory 186: goal error = 0.10959076881408691, average error = 0.05026602745056152, length = 19\n",
      "Tajectory 187: goal error = 0.07882213592529297, average error = 0.040353283286094666, length = 16\n",
      "Tajectory 188: goal error = 0.11419034004211426, average error = 0.05909740924835205, length = 14\n",
      "Tajectory 189: goal error = 0.02657175064086914, average error = 0.014067411422729492, length = 4\n",
      "Tajectory 190: goal error = 0.11935067176818848, average error = 0.05734045058488846, length = 16\n"
     ]
    },
    {
     "name": "stdout",
     "output_type": "stream",
     "text": [
      "Tajectory 191: goal error = 0.10987091064453125, average error = 0.05503099411725998, length = 14\n",
      "Tajectory 192: goal error = 0.051670074462890625, average error = 0.02574305608868599, length = 10\n",
      "Tajectory 193: goal error = 0.0872650146484375, average error = 0.038773439824581146, length = 15\n",
      "Tajectory 194: goal error = 0.07918787002563477, average error = 0.03680197894573212, length = 13\n",
      "Tajectory 195: goal error = 0.1374073028564453, average error = 0.060967303812503815, length = 22\n",
      "Tajectory 196: goal error = 0.03466320037841797, average error = 0.018464088439941406, length = 5\n",
      "Tajectory 197: goal error = 0.08252859115600586, average error = 0.037439361214637756, length = 16\n",
      "Tajectory 198: goal error = 0.06383323669433594, average error = 0.03169097378849983, length = 12\n",
      "Tajectory 199: goal error = 0.08132266998291016, average error = 0.041065264493227005, length = 19\n",
      "Tajectory 200: goal error = 0.2129659652709961, average error = 0.10927080363035202, length = 25\n",
      "Tajectory 201: goal error = 0.064544677734375, average error = 0.030678769573569298, length = 12\n",
      "Tajectory 202: goal error = 0.05205106735229492, average error = 0.023190906271338463, length = 7\n",
      "Tajectory 203: goal error = 0.05691719055175781, average error = 0.028610944747924805, length = 8\n",
      "Tajectory 204: goal error = 0.0431981086730957, average error = 0.025628279894590378, length = 5\n",
      "Tajectory 205: goal error = 0.06247091293334961, average error = 0.028808197006583214, length = 12\n",
      "Tajectory 206: goal error = 0.06603479385375977, average error = 0.03171682357788086, length = 14\n",
      "Tajectory 207: goal error = 0.042224884033203125, average error = 0.021129028871655464, length = 7\n",
      "Tajectory 208: goal error = 0.05671262741088867, average error = 0.026281794533133507, length = 9\n",
      "Tajectory 209: goal error = 0.10929441452026367, average error = 0.0527779646217823, length = 24\n",
      "Tajectory 210: goal error = 0.0803675651550293, average error = 0.04222087934613228, length = 10\n",
      "Tajectory 211: goal error = 0.0596928596496582, average error = 0.030943790450692177, length = 12\n",
      "Tajectory 212: goal error = 0.10502290725708008, average error = 0.04567820206284523, length = 15\n",
      "Tajectory 213: goal error = 0.08676624298095703, average error = 0.040705520659685135, length = 12\n",
      "Tajectory 214: goal error = 0.08060789108276367, average error = 0.03844962269067764, length = 10\n",
      "Tajectory 215: goal error = 0.03390216827392578, average error = 0.021189451217651367, length = 4\n",
      "Tajectory 216: goal error = 0.09539270401000977, average error = 0.04420115053653717, length = 15\n",
      "Tajectory 217: goal error = 0.08700418472290039, average error = 0.042401790618896484, length = 11\n",
      "Tajectory 218: goal error = 0.09875297546386719, average error = 0.04877842217683792, length = 13\n",
      "Tajectory 219: goal error = 0.07776737213134766, average error = 0.03916794806718826, length = 18\n",
      "Tajectory 220: goal error = 0.06492996215820312, average error = 0.03323567658662796, length = 15\n",
      "Tajectory 221: goal error = 0.1018059253692627, average error = 0.05194054916501045, length = 22\n",
      "Tajectory 222: goal error = 0.11864125728607178, average error = 0.04214479774236679, length = 16\n",
      "Tajectory 223: goal error = 0.07451152801513672, average error = 0.033575937151908875, length = 13\n",
      "Tajectory 224: goal error = 0.02506542205810547, average error = 0.013474702835083008, length = 4\n",
      "Tajectory 225: goal error = 0.11038398742675781, average error = 0.0555790476500988, length = 14\n",
      "Tajectory 226: goal error = 0.11638855934143066, average error = 0.04631439968943596, length = 18\n",
      "Tajectory 227: goal error = 0.08837366104125977, average error = 0.049252986907958984, length = 9\n",
      "Tajectory 228: goal error = 0.14872217178344727, average error = 0.06462988257408142, length = 24\n",
      "Tajectory 229: goal error = 0.04701042175292969, average error = 0.02217472903430462, length = 9\n",
      "Tajectory 230: goal error = 0.021721839904785156, average error = 0.013236205093562603, length = 3\n",
      "Tajectory 231: goal error = 0.03782081604003906, average error = 0.01879032514989376, length = 6\n",
      "Tajectory 232: goal error = 0.02669692039489746, average error = 0.01812060736119747, length = 3\n",
      "Tajectory 233: goal error = 0.09448432922363281, average error = 0.04393496736884117, length = 13\n",
      "Tajectory 234: goal error = 0.1027231216430664, average error = 0.04935547336935997, length = 14\n",
      "Tajectory 235: goal error = 0.14213800430297852, average error = 0.06301011890172958, length = 23\n",
      "Tajectory 236: goal error = 0.08949518203735352, average error = 0.04658937454223633, length = 11\n",
      "Tajectory 237: goal error = 0.07985830307006836, average error = 0.037209656089544296, length = 13\n",
      "Tajectory 238: goal error = 0.054071903228759766, average error = 0.02975938655436039, length = 12\n",
      "Tajectory 239: goal error = 0.03322601318359375, average error = 0.017534255981445312, length = 6\n",
      "Tajectory 240: goal error = 0.15163969993591309, average error = 0.06802646815776825, length = 23\n",
      "Tajectory 241: goal error = 0.10939574241638184, average error = 0.04799430072307587, length = 19\n",
      "Tajectory 242: goal error = 0.04084348678588867, average error = 0.020086348056793213, length = 8\n",
      "Tajectory 243: goal error = 0.14300060272216797, average error = 0.06438731402158737, length = 24\n",
      "Tajectory 244: goal error = 0.16138839721679688, average error = 0.07395190000534058, length = 23\n",
      "Tajectory 245: goal error = 0.039185523986816406, average error = 0.020422041416168213, length = 8\n",
      "Tajectory 246: goal error = 0.1094045639038086, average error = 0.04497264325618744, length = 17\n",
      "Tajectory 247: goal error = 0.02182900905609131, average error = 0.012606412172317505, length = 4\n",
      "Tajectory 248: goal error = 0.12715625762939453, average error = 0.0678257942199707, length = 15\n",
      "Tajectory 249: goal error = 0.09503161907196045, average error = 0.041474614292383194, length = 14\n",
      "Tajectory 250: goal error = 0.10988903045654297, average error = 0.05415927991271019, length = 25\n",
      "Tajectory 251: goal error = 0.15001440048217773, average error = 0.0606033094227314, length = 23\n",
      "Tajectory 252: goal error = 0.09676074981689453, average error = 0.04948442801833153, length = 23\n",
      "Tajectory 253: goal error = 0.07773113250732422, average error = 0.037641189992427826, length = 17\n",
      "Tajectory 254: goal error = 0.11361873149871826, average error = 0.04730580002069473, length = 15\n",
      "Tajectory 255: goal error = 0.07345914840698242, average error = 0.038295239210128784, length = 16\n",
      "Tajectory 256: goal error = 0.1060028076171875, average error = 0.049782656133174896, length = 15\n",
      "Tajectory 257: goal error = 0.18384885787963867, average error = 0.06664830446243286, length = 23\n",
      "Tajectory 258: goal error = 0.09736871719360352, average error = 0.04334703087806702, length = 19\n",
      "Tajectory 259: goal error = 0.05804455280303955, average error = 0.027533940970897675, length = 9\n",
      "Tajectory 260: goal error = 0.042383670806884766, average error = 0.025428105145692825, length = 5\n",
      "Tajectory 261: goal error = 0.05654573440551758, average error = 0.029285522177815437, length = 13\n",
      "Tajectory 262: goal error = 0.047795772552490234, average error = 0.023507488891482353, length = 9\n",
      "Tajectory 263: goal error = 0.029047012329101562, average error = 0.01655864715576172, length = 7\n",
      "Tajectory 264: goal error = 0.09290122985839844, average error = 0.04665696620941162, length = 12\n",
      "Tajectory 265: goal error = 0.0673065185546875, average error = 0.03183070197701454, length = 11\n",
      "Tajectory 266: goal error = 0.012592792510986328, average error = 0.008388519287109375, length = 3\n",
      "Tajectory 267: goal error = 0.06526350975036621, average error = 0.029185548424720764, length = 8\n",
      "Tajectory 268: goal error = 0.1591644287109375, average error = 0.07421259582042694, length = 20\n",
      "Tajectory 269: goal error = 0.004132986068725586, average error = 0.004132986068725586, length = 1\n",
      "Tajectory 270: goal error = 0.0370182991027832, average error = 0.01890707015991211, length = 8\n",
      "Tajectory 271: goal error = 0.028717994689941406, average error = 0.016448428854346275, length = 7\n",
      "Tajectory 272: goal error = 0.06266474723815918, average error = 0.02863420732319355, length = 7\n",
      "Tajectory 273: goal error = 0.1306896209716797, average error = 0.06672677397727966, length = 16\n",
      "Tajectory 274: goal error = 0.11336898803710938, average error = 0.05267271399497986, length = 16\n",
      "Tajectory 275: goal error = 0.07864260673522949, average error = 0.03615427017211914, length = 10\n",
      "Tajectory 276: goal error = 0.18819546699523926, average error = 0.08751827478408813, length = 20\n",
      "Tajectory 277: goal error = 0.046259403228759766, average error = 0.022916972637176514, length = 8\n",
      "Tajectory 278: goal error = 0.05829334259033203, average error = 0.026810264214873314, length = 10\n",
      "Tajectory 279: goal error = 0.12114334106445312, average error = 0.051204126328229904, length = 18\n",
      "Tajectory 280: goal error = 0.15508294105529785, average error = 0.06259294599294662, length = 13\n",
      "Tajectory 281: goal error = 0.09334087371826172, average error = 0.04395046457648277, length = 18\n"
     ]
    },
    {
     "name": "stdout",
     "output_type": "stream",
     "text": [
      "Tajectory 282: goal error = 0.14103031158447266, average error = 0.06085686385631561, length = 25\n",
      "Tajectory 283: goal error = 0.07345771789550781, average error = 0.03439708426594734, length = 12\n",
      "Tajectory 284: goal error = 0.1248009204864502, average error = 0.05694127827882767, length = 21\n",
      "Tajectory 285: goal error = 0.05390787124633789, average error = 0.02504110336303711, length = 10\n",
      "Tajectory 286: goal error = 0.08563649654388428, average error = 0.04267002269625664, length = 19\n",
      "Tajectory 287: goal error = 0.08675289154052734, average error = 0.03940638527274132, length = 17\n",
      "Tajectory 288: goal error = 0.18218004703521729, average error = 0.0799320787191391, length = 24\n",
      "Tajectory 289: goal error = 0.095794677734375, average error = 0.04909129813313484, length = 12\n",
      "Tajectory 290: goal error = 0.10339951515197754, average error = 0.044464364647865295, length = 16\n",
      "Tajectory 291: goal error = 0.06157493591308594, average error = 0.02960370108485222, length = 13\n",
      "Tajectory 292: goal error = 0.01643657684326172, average error = 0.009639739990234375, length = 3\n",
      "Tajectory 293: goal error = 0.03079843521118164, average error = 0.016138171777129173, length = 5\n",
      "Tajectory 294: goal error = 0.025660991668701172, average error = 0.014046192169189453, length = 4\n",
      "Tajectory 295: goal error = 0.03693580627441406, average error = 0.01821245439350605, length = 7\n",
      "Tajectory 296: goal error = 0.02170538902282715, average error = 0.011418421752750874, length = 3\n",
      "Tajectory 297: goal error = 0.0978243350982666, average error = 0.047968294471502304, length = 13\n",
      "Tajectory 298: goal error = 0.0931253433227539, average error = 0.043743934482336044, length = 17\n",
      "Tajectory 299: goal error = 0.07780313491821289, average error = 0.0374966524541378, length = 17\n",
      "Tajectory 300: goal error = 0.017457008361816406, average error = 0.010300477035343647, length = 3\n",
      "Tajectory 301: goal error = 0.11903262138366699, average error = 0.05104443058371544, length = 21\n",
      "Tajectory 302: goal error = 0.17237210273742676, average error = 0.07607033103704453, length = 25\n",
      "Tajectory 303: goal error = 0.17099308967590332, average error = 0.06808734685182571, length = 22\n",
      "Tajectory 304: goal error = 0.0254366397857666, average error = 0.014809131622314453, length = 6\n",
      "Tajectory 305: goal error = 0.0573728084564209, average error = 0.0267716646194458, length = 10\n",
      "Tajectory 306: goal error = 0.08783340454101562, average error = 0.04056739807128906, length = 13\n",
      "Tajectory 307: goal error = 0.12131237983703613, average error = 0.053450144827365875, length = 19\n",
      "Tajectory 308: goal error = 0.073272705078125, average error = 0.03800741955637932, length = 9\n",
      "Tajectory 309: goal error = 0.05909442901611328, average error = 0.030185341835021973, length = 8\n",
      "Tajectory 310: goal error = 0.05085611343383789, average error = 0.029662927612662315, length = 6\n",
      "Tajectory 311: goal error = 0.08545589447021484, average error = 0.04037683457136154, length = 18\n",
      "Tajectory 312: goal error = 0.10795879364013672, average error = 0.048841942101716995, length = 19\n",
      "Tajectory 313: goal error = 0.10245800018310547, average error = 0.05140490457415581, length = 24\n",
      "Tajectory 314: goal error = 0.11164140701293945, average error = 0.049028221517801285, length = 19\n",
      "Tajectory 315: goal error = 0.07115364074707031, average error = 0.03292730823159218, length = 14\n",
      "Tajectory 316: goal error = 0.08612442016601562, average error = 0.04138815402984619, length = 12\n",
      "Tajectory 317: goal error = 0.18667340278625488, average error = 0.06830883771181107, length = 24\n",
      "Tajectory 318: goal error = 0.19623839855194092, average error = 0.07039322704076767, length = 18\n",
      "Tajectory 319: goal error = 0.13566350936889648, average error = 0.07208147644996643, length = 16\n",
      "Tajectory 320: goal error = 0.08055305480957031, average error = 0.036931008100509644, length = 16\n",
      "Tajectory 321: goal error = 0.11311149597167969, average error = 0.050568532198667526, length = 19\n",
      "Tajectory 322: goal error = 0.10043811798095703, average error = 0.04651821404695511, length = 15\n",
      "Tajectory 323: goal error = 0.17475450038909912, average error = 0.08032242208719254, length = 19\n",
      "Tajectory 324: goal error = 0.1188802719116211, average error = 0.04868970066308975, length = 20\n",
      "Tajectory 325: goal error = 0.0660862922668457, average error = 0.033173006027936935, length = 15\n",
      "Tajectory 326: goal error = 0.008483409881591797, average error = 0.008483409881591797, length = 1\n",
      "Tajectory 327: goal error = 0.08661675453186035, average error = 0.042291611433029175, length = 8\n",
      "Tajectory 328: goal error = 0.05962419509887695, average error = 0.027334636077284813, length = 11\n",
      "Tajectory 329: goal error = 0.13495874404907227, average error = 0.06070993095636368, length = 22\n",
      "Tajectory 330: goal error = 0.022579193115234375, average error = 0.012455344200134277, length = 4\n",
      "Tajectory 331: goal error = 0.08585166931152344, average error = 0.03699479624629021, length = 14\n",
      "Tajectory 332: goal error = 0.05504417419433594, average error = 0.02958175167441368, length = 7\n",
      "Tajectory 333: goal error = 0.15425240993499756, average error = 0.06550301611423492, length = 14\n",
      "Tajectory 334: goal error = 0.17447257041931152, average error = 0.06330644339323044, length = 22\n",
      "Tajectory 335: goal error = 0.16458797454833984, average error = 0.09355621039867401, length = 25\n",
      "Tajectory 336: goal error = 0.08048629760742188, average error = 0.04229145124554634, length = 10\n",
      "Tajectory 337: goal error = 0.03781270980834961, average error = 0.020928477868437767, length = 5\n",
      "Tajectory 338: goal error = 0.03392791748046875, average error = 0.02120339870452881, length = 4\n",
      "Tajectory 339: goal error = 0.049289703369140625, average error = 0.02681257389485836, length = 12\n",
      "Tajectory 340: goal error = 0.09278106689453125, average error = 0.04672320559620857, length = 12\n",
      "Tajectory 341: goal error = 0.07967805862426758, average error = 0.03536747395992279, length = 15\n",
      "Tajectory 342: goal error = 0.060199737548828125, average error = 0.031385328620672226, length = 13\n",
      "Tajectory 343: goal error = 0.06425929069519043, average error = 0.03193146735429764, length = 14\n",
      "Tajectory 344: goal error = 0.06915009021759033, average error = 0.029348909854888916, length = 10\n",
      "Tajectory 345: goal error = 0.05407142639160156, average error = 0.025248579680919647, length = 9\n",
      "Tajectory 346: goal error = 0.10710954666137695, average error = 0.05048217624425888, length = 15\n",
      "Tajectory 347: goal error = 0.0551600456237793, average error = 0.024683816358447075, length = 7\n",
      "Tajectory 348: goal error = 0.06786441802978516, average error = 0.038167357444763184, length = 8\n",
      "Tajectory 349: goal error = 0.08796095848083496, average error = 0.04050397872924805, length = 9\n",
      "Tajectory 350: goal error = 0.04624319076538086, average error = 0.025867128744721413, length = 10\n",
      "Tajectory 351: goal error = 0.04235506057739258, average error = 0.025413990020751953, length = 5\n",
      "Tajectory 352: goal error = 0.03906965255737305, average error = 0.019856294617056847, length = 6\n",
      "Tajectory 353: goal error = 0.08793973922729492, average error = 0.04631510376930237, length = 21\n",
      "Tajectory 354: goal error = 0.036803245544433594, average error = 0.018901050090789795, length = 8\n",
      "Tajectory 355: goal error = 0.03833961486816406, average error = 0.021385574713349342, length = 5\n",
      "Tajectory 356: goal error = 0.09744930267333984, average error = 0.04461844637989998, length = 15\n",
      "Tajectory 357: goal error = 0.054276466369628906, average error = 0.02529030293226242, length = 9\n",
      "Tajectory 358: goal error = 0.10168981552124023, average error = 0.049567628651857376, length = 23\n",
      "Tajectory 359: goal error = 0.07746100425720215, average error = 0.03465045243501663, length = 15\n",
      "Tajectory 360: goal error = 0.1022801399230957, average error = 0.0401001051068306, length = 14\n",
      "Tajectory 361: goal error = 0.11144900321960449, average error = 0.047535885125398636, length = 21\n",
      "Tajectory 362: goal error = 0.07390880584716797, average error = 0.038655295968055725, length = 16\n",
      "Tajectory 363: goal error = 0.03639411926269531, average error = 0.020678818225860596, length = 8\n",
      "Tajectory 364: goal error = 0.012970924377441406, average error = 0.008730173110961914, length = 2\n",
      "Tajectory 365: goal error = 0.07247018814086914, average error = 0.0323416069149971, length = 13\n",
      "Tajectory 366: goal error = 0.033916473388671875, average error = 0.021198511123657227, length = 4\n",
      "Tajectory 367: goal error = 0.1293191909790039, average error = 0.057080455124378204, length = 18\n"
     ]
    },
    {
     "name": "stdout",
     "output_type": "stream",
     "text": [
      "Tajectory 368: goal error = 0.0663442611694336, average error = 0.030380595475435257, length = 11\n",
      "Tajectory 369: goal error = 0.07803201675415039, average error = 0.03933323919773102, length = 18\n",
      "Tajectory 370: goal error = 0.13968515396118164, average error = 0.06632253527641296, length = 15\n",
      "Tajectory 371: goal error = 0.12830734252929688, average error = 0.05490676313638687, length = 20\n",
      "Tajectory 372: goal error = 0.08032941818237305, average error = 0.044272568076848984, length = 18\n",
      "Tajectory 373: goal error = 0.07976055145263672, average error = 0.03599216043949127, length = 15\n",
      "Tajectory 374: goal error = 0.08218669891357422, average error = 0.03703572228550911, length = 13\n",
      "Tajectory 375: goal error = 0.1015009880065918, average error = 0.04991545155644417, length = 21\n",
      "Tajectory 376: goal error = 0.13173675537109375, average error = 0.06222166493535042, length = 26\n",
      "Tajectory 377: goal error = 0.06415510177612305, average error = 0.03157522901892662, length = 9\n",
      "Tajectory 378: goal error = 0.061222076416015625, average error = 0.03145626187324524, length = 8\n",
      "Tajectory 379: goal error = 0.2008953094482422, average error = 0.0879831314086914, length = 25\n",
      "Tajectory 380: goal error = 0.10530447959899902, average error = 0.04901106655597687, length = 22\n",
      "Tajectory 381: goal error = 0.1412060260772705, average error = 0.060865286737680435, length = 24\n",
      "Tajectory 382: goal error = 0.1552562713623047, average error = 0.07066194713115692, length = 22\n",
      "Tajectory 383: goal error = 0.12369441986083984, average error = 0.055121421813964844, length = 20\n",
      "Tajectory 384: goal error = 0.041387081146240234, average error = 0.020855605602264404, length = 8\n",
      "Tajectory 385: goal error = 0.11030864715576172, average error = 0.05938137322664261, length = 13\n",
      "Tajectory 386: goal error = 0.2523576021194458, average error = 0.1078391820192337, length = 25\n",
      "Tajectory 387: goal error = 0.0705716609954834, average error = 0.03306489810347557, length = 13\n",
      "Tajectory 388: goal error = 0.14170050621032715, average error = 0.056187715381383896, length = 22\n",
      "Tajectory 389: goal error = 0.0594935417175293, average error = 0.028646521270275116, length = 9\n",
      "Tajectory 390: goal error = 0.09881973266601562, average error = 0.0457262322306633, length = 18\n",
      "Tajectory 391: goal error = 0.11118018627166748, average error = 0.056351277977228165, length = 14\n",
      "Tajectory 392: goal error = 0.033431053161621094, average error = 0.016578754410147667, length = 6\n",
      "Tajectory 393: goal error = 0.13201189041137695, average error = 0.05782708525657654, length = 21\n",
      "Tajectory 394: goal error = 0.058028221130371094, average error = 0.028860265389084816, length = 11\n",
      "Tajectory 395: goal error = 0.17267537117004395, average error = 0.08889714628458023, length = 17\n",
      "Tajectory 396: goal error = 0.09103584289550781, average error = 0.04163144528865814, length = 17\n",
      "Tajectory 397: goal error = 0.09461450576782227, average error = 0.052848029881715775, length = 10\n",
      "Tajectory 398: goal error = 0.1531810760498047, average error = 0.07077281177043915, length = 18\n",
      "Tajectory 399: goal error = 0.08676433563232422, average error = 0.03883883357048035, length = 16\n",
      "Tajectory 400: goal error = 0.024585723876953125, average error = 0.018128156661987305, length = 2\n",
      "Tajectory 401: goal error = 0.11139392852783203, average error = 0.05009261146187782, length = 17\n",
      "Tajectory 402: goal error = 0.09919023513793945, average error = 0.045409783720970154, length = 18\n",
      "Tajectory 403: goal error = 0.05364704132080078, average error = 0.025103140622377396, length = 10\n",
      "Tajectory 404: goal error = 0.1161508560180664, average error = 0.05519862100481987, length = 22\n",
      "Tajectory 405: goal error = 0.08233165740966797, average error = 0.03703447803854942, length = 14\n",
      "Tajectory 406: goal error = 0.13103365898132324, average error = 0.05718235298991203, length = 18\n",
      "Tajectory 407: goal error = 0.04777669906616211, average error = 0.022303521633148193, length = 8\n",
      "Tajectory 408: goal error = 0.08511734008789062, average error = 0.047383785247802734, length = 9\n",
      "Tajectory 409: goal error = 0.1325521469116211, average error = 0.059162043035030365, length = 22\n",
      "Tajectory 410: goal error = 0.020953655242919922, average error = 0.012552166357636452, length = 5\n",
      "Tajectory 411: goal error = 0.09298133850097656, average error = 0.03890055790543556, length = 13\n",
      "Tajectory 412: goal error = 0.08088541030883789, average error = 0.04274110868573189, length = 10\n",
      "Tajectory 413: goal error = 0.13180875778198242, average error = 0.05804675444960594, length = 22\n",
      "Tajectory 414: goal error = 0.024214744567871094, average error = 0.014449691399931908, length = 5\n",
      "Tajectory 415: goal error = 0.09337735176086426, average error = 0.038070276379585266, length = 13\n",
      "Tajectory 416: goal error = 0.06151604652404785, average error = 0.029074639081954956, length = 12\n",
      "Tajectory 417: goal error = 0.037601470947265625, average error = 0.0184031892567873, length = 7\n",
      "Tajectory 418: goal error = 0.16872262954711914, average error = 0.0809771791100502, length = 22\n",
      "Tajectory 419: goal error = 0.07327651977539062, average error = 0.03874100744724274, length = 9\n",
      "Tajectory 420: goal error = 0.13195323944091797, average error = 0.07129869610071182, length = 15\n",
      "Tajectory 421: goal error = 0.06321001052856445, average error = 0.030208658427000046, length = 10\n",
      "Tajectory 422: goal error = 0.0413365364074707, average error = 0.022762715816497803, length = 4\n",
      "Tajectory 423: goal error = 0.06544828414916992, average error = 0.031172752380371094, length = 8\n",
      "Tajectory 424: goal error = 0.0979762077331543, average error = 0.0443500354886055, length = 19\n",
      "Tajectory 425: goal error = 0.12464487552642822, average error = 0.05871835723519325, length = 15\n",
      "Tajectory 426: goal error = 0.11417531967163086, average error = 0.05282440781593323, length = 16\n",
      "Tajectory 427: goal error = 0.1590113639831543, average error = 0.07121183723211288, length = 21\n",
      "Tajectory 428: goal error = 0.07338190078735352, average error = 0.03634679317474365, length = 10\n",
      "Tajectory 429: goal error = 0.07566094398498535, average error = 0.04333622008562088, length = 7\n",
      "Tajectory 430: goal error = 0.10482931137084961, average error = 0.049240317195653915, length = 14\n",
      "Tajectory 431: goal error = 0.04206085205078125, average error = 0.019942820072174072, length = 8\n",
      "Tajectory 432: goal error = 0.11981391906738281, average error = 0.05236641690135002, length = 21\n",
      "Tajectory 433: goal error = 0.10447144508361816, average error = 0.043479904532432556, length = 16\n",
      "Tajectory 434: goal error = 0.13064074516296387, average error = 0.05599360913038254, length = 23\n",
      "Tajectory 435: goal error = 0.12850189208984375, average error = 0.05704622343182564, length = 25\n",
      "Tajectory 436: goal error = 0.04046630859375, average error = 0.020481517538428307, length = 7\n",
      "Tajectory 437: goal error = 0.0754861831665039, average error = 0.03700828552246094, length = 15\n",
      "Tajectory 438: goal error = 0.07180285453796387, average error = 0.038113661110401154, length = 7\n",
      "Tajectory 439: goal error = 0.06609678268432617, average error = 0.03099820762872696, length = 11\n",
      "Tajectory 440: goal error = 0.11197590827941895, average error = 0.05682775750756264, length = 26\n",
      "Tajectory 441: goal error = 0.07951164245605469, average error = 0.036694884300231934, length = 12\n",
      "Tajectory 442: goal error = 0.13273191452026367, average error = 0.058322973549366, length = 21\n",
      "Tajectory 443: goal error = 0.0628659725189209, average error = 0.033640265464782715, length = 6\n",
      "Tajectory 444: goal error = 0.04994487762451172, average error = 0.02493254281580448, length = 6\n",
      "Tajectory 445: goal error = 0.06662464141845703, average error = 0.03434717655181885, length = 14\n",
      "Tajectory 446: goal error = 0.0799713134765625, average error = 0.039181187748909, length = 11\n",
      "Tajectory 447: goal error = 0.1024465560913086, average error = 0.047546159476041794, length = 19\n",
      "Tajectory 448: goal error = 0.11658573150634766, average error = 0.051485028117895126, length = 22\n",
      "Tajectory 449: goal error = 0.18482112884521484, average error = 0.08066679537296295, length = 20\n",
      "Tajectory 450: goal error = 0.09317779541015625, average error = 0.044430412352085114, length = 20\n",
      "Tajectory 451: goal error = 0.04413032531738281, average error = 0.019394317641854286, length = 6\n",
      "Tajectory 452: goal error = 0.018163204193115234, average error = 0.0105959577485919, length = 3\n",
      "Tajectory 453: goal error = 0.05844831466674805, average error = 0.026858950033783913, length = 10\n",
      "Tajectory 454: goal error = 0.12650465965270996, average error = 0.05967634543776512, length = 11\n",
      "Tajectory 455: goal error = 0.08302545547485352, average error = 0.037099700421094894, length = 14\n",
      "Tajectory 456: goal error = 0.09359550476074219, average error = 0.04560093581676483, length = 21\n",
      "Tajectory 457: goal error = 0.040566444396972656, average error = 0.0210723876953125, length = 9\n",
      "Tajectory 458: goal error = 0.03755998611450195, average error = 0.02093023806810379, length = 9\n",
      "Tajectory 459: goal error = 0.06337833404541016, average error = 0.03370600938796997, length = 8\n",
      "Tajectory 460: goal error = 0.009142398834228516, average error = 0.00684666633605957, length = 2\n",
      "Tajectory 461: goal error = 0.12323212623596191, average error = 0.05472930893301964, length = 24\n",
      "Tajectory 462: goal error = 0.07625865936279297, average error = 0.03826642036437988, length = 10\n",
      "Tajectory 463: goal error = 0.05356955528259277, average error = 0.02948760986328125, length = 12\n",
      "Tajectory 464: goal error = 0.04561042785644531, average error = 0.02318754233419895, length = 10\n",
      "Tajectory 465: goal error = 0.03727912902832031, average error = 0.020644135773181915, length = 9\n",
      "Tajectory 466: goal error = 0.0562129020690918, average error = 0.026237547397613525, length = 8\n",
      "Tajectory 467: goal error = 0.13335895538330078, average error = 0.06396549940109253, length = 17\n",
      "Tajectory 468: goal error = 0.08507013320922852, average error = 0.036049287766218185, length = 12\n"
     ]
    },
    {
     "name": "stdout",
     "output_type": "stream",
     "text": [
      "Tajectory 469: goal error = 0.0786433219909668, average error = 0.03556254878640175, length = 15\n",
      "Tajectory 470: goal error = 0.04276609420776367, average error = 0.02191072702407837, length = 8\n",
      "Tajectory 471: goal error = 0.10491180419921875, average error = 0.04861701279878616, length = 15\n",
      "Tajectory 472: goal error = 0.07915806770324707, average error = 0.030999334529042244, length = 11\n",
      "Tajectory 473: goal error = 0.09106826782226562, average error = 0.04318083077669144, length = 13\n",
      "Tajectory 474: goal error = 0.06384944915771484, average error = 0.031417686492204666, length = 9\n",
      "Tajectory 475: goal error = 0.017471790313720703, average error = 0.01032749842852354, length = 3\n",
      "Tajectory 476: goal error = 0.02136850357055664, average error = 0.012891292572021484, length = 3\n",
      "Tajectory 477: goal error = 0.16514194011688232, average error = 0.0726119801402092, length = 16\n",
      "Tajectory 478: goal error = 0.03882741928100586, average error = 0.02128582075238228, length = 5\n",
      "Tajectory 479: goal error = 0.05538368225097656, average error = 0.024265915155410767, length = 8\n",
      "Tajectory 480: goal error = 0.07587575912475586, average error = 0.03960739076137543, length = 18\n",
      "Tajectory 481: goal error = 0.14713001251220703, average error = 0.06598634272813797, length = 14\n",
      "Tajectory 482: goal error = 0.11119520664215088, average error = 0.04437495395541191, length = 12\n",
      "Tajectory 483: goal error = 0.1335010528564453, average error = 0.0578998327255249, length = 22\n",
      "Tajectory 484: goal error = 0.07936811447143555, average error = 0.035628870129585266, length = 13\n",
      "Tajectory 485: goal error = 0.0852041244506836, average error = 0.04074827954173088, length = 12\n",
      "Tajectory 486: goal error = 0.19902098178863525, average error = 0.0680966004729271, length = 23\n",
      "Tajectory 487: goal error = 0.09459114074707031, average error = 0.04557737708091736, length = 19\n",
      "Tajectory 488: goal error = 0.1777818202972412, average error = 0.07894255220890045, length = 15\n",
      "Tajectory 489: goal error = 0.004135608673095703, average error = 0.004135608673095703, length = 1\n",
      "Tajectory 490: goal error = 0.10081624984741211, average error = 0.04772325977683067, length = 14\n",
      "Tajectory 491: goal error = 0.13483667373657227, average error = 0.05559462681412697, length = 17\n",
      "Tajectory 492: goal error = 0.06174039840698242, average error = 0.02961605414748192, length = 13\n",
      "Tajectory 493: goal error = 0.11769795417785645, average error = 0.04641328752040863, length = 16\n",
      "Tajectory 494: goal error = 0.029094219207763672, average error = 0.016622742637991905, length = 6\n",
      "Tajectory 495: goal error = 0.07436704635620117, average error = 0.03696649149060249, length = 10\n",
      "Tajectory 496: goal error = 0.03378725051879883, average error = 0.017550230026245117, length = 6\n",
      "Tajectory 497: goal error = 0.1201777458190918, average error = 0.05246342346072197, length = 22\n",
      "Tajectory 498: goal error = 0.060212135314941406, average error = 0.028867267072200775, length = 11\n",
      "Tajectory 499: goal error = 0.058835506439208984, average error = 0.03261580690741539, length = 13\n"
     ]
    }
   ],
   "source": [
    "e = PolicyEvaluator(distance_func=F.l1_loss, policy=policy, dynamics=dynamics, \n",
    "                    using_grad_dynamics=True)\n",
    "\n",
    "for i in range(len(start_indices)):\n",
    "    rstart = start_indices[i]\n",
    "    rend = start_indices[i+1] if i < len(start_indices)-1 else len(t_cpu)\n",
    "    trajectory = t_cpu[rstart:rend, :]\n",
    "    goal_err, step_err, _, _, _, _ = e.eval_single_trajectory(trajectory)\n",
    "    print ('Tajectory {}: goal error = {}, average error = {}, length = {}'\n",
    "           .format(i, goal_err, step_err, len(trajectory)))"
   ]
  },
  {
   "cell_type": "code",
   "execution_count": 41,
   "metadata": {},
   "outputs": [
    {
     "name": "stdout",
     "output_type": "stream",
     "text": [
      "27\n",
      "tensor([[29.,  2.,  2., 23., -1.,  0.],\n",
      "        [28.,  2.,  2., 23., -1.,  0.],\n",
      "        [27.,  2.,  2., 23., -1.,  0.],\n",
      "        [26.,  2.,  2., 23., -1.,  0.],\n",
      "        [25.,  2.,  2., 23., -1.,  0.],\n",
      "        [24.,  2.,  2., 23., -1.,  0.],\n",
      "        [23.,  2.,  2., 23., -1.,  1.],\n",
      "        [22.,  3.,  2., 23., -1.,  1.],\n",
      "        [21.,  4.,  2., 23., -1.,  1.],\n",
      "        [20.,  5.,  2., 23., -1.,  1.],\n",
      "        [19.,  6.,  2., 23., -1.,  1.],\n",
      "        [18.,  7.,  2., 23., -1.,  1.],\n",
      "        [17.,  8.,  2., 23., -1.,  1.],\n",
      "        [16.,  9.,  2., 23., -1.,  1.],\n",
      "        [15., 10.,  2., 23., -1.,  1.],\n",
      "        [14., 11.,  2., 23., -1.,  1.],\n",
      "        [13., 12.,  2., 23., -1.,  1.],\n",
      "        [12., 13.,  2., 23., -1.,  1.],\n",
      "        [11., 14.,  2., 23., -1.,  1.],\n",
      "        [10., 15.,  2., 23., -1.,  1.],\n",
      "        [ 9., 16.,  2., 23., -1.,  1.],\n",
      "        [ 8., 17.,  2., 23., -1.,  1.],\n",
      "        [ 7., 18.,  2., 23., -1.,  1.],\n",
      "        [ 6., 19.,  2., 23., -1.,  1.],\n",
      "        [ 5., 20.,  2., 23., -1.,  1.],\n",
      "        [ 4., 21.,  2., 23., -1.,  1.],\n",
      "        [ 3., 22.,  2., 23., -1.,  1.]])\n"
     ]
    }
   ],
   "source": [
    "traj_no = 58\n",
    "rstart = start_indices[traj_no]\n",
    "rend = start_indices[traj_no+1] if traj_no < len(start_indices) else len(test_data)\n",
    "trajectory = t_cpu[rstart:rend, :]\n",
    "f = torch.cat((trajectory[:, :4], trajectory[:, 1028:1030]), dim=1)\n",
    "print (len(f))\n",
    "print (f)"
   ]
  },
  {
   "cell_type": "code",
   "execution_count": 48,
   "metadata": {},
   "outputs": [
    {
     "name": "stdout",
     "output_type": "stream",
     "text": [
      "Last step error = 0.27548301219940186\n",
      "Average error over all steps = 0.12676073610782623\n",
      "Original Trajectory and Predicted Trajectory:\n",
      "tensor([[28.0000,  2.0000, 28.0088,  1.9995],\n",
      "        [27.0000,  2.0000, 27.0176,  1.9990],\n",
      "        [26.0000,  2.0000, 26.0264,  1.9987],\n",
      "        [25.0000,  2.0000, 25.0352,  1.9984],\n",
      "        [24.0000,  2.0000, 24.0441,  1.9982],\n",
      "        [23.0000,  2.0000, 23.0529,  1.9980],\n",
      "        [22.0000,  3.0000, 22.0651,  2.9860],\n",
      "        [21.0000,  4.0000, 21.0772,  3.9740],\n",
      "        [20.0000,  5.0000, 20.0893,  4.9621],\n",
      "        [19.0000,  6.0000, 19.1013,  5.9501],\n",
      "        [18.0000,  7.0000, 18.1134,  6.9382],\n",
      "        [17.0000,  8.0000, 17.1253,  7.9262],\n",
      "        [16.0000,  9.0000, 16.1372,  8.9143],\n",
      "        [15.0000, 10.0000, 15.1491,  9.9024],\n",
      "        [14.0000, 11.0000, 14.1609, 10.8905],\n",
      "        [13.0000, 12.0000, 13.1727, 11.8786],\n",
      "        [12.0000, 13.0000, 12.1845, 12.8667],\n",
      "        [11.0000, 14.0000, 11.1961, 13.8548],\n",
      "        [10.0000, 15.0000, 10.2078, 14.8430],\n",
      "        [ 9.0000, 16.0000,  9.2194, 15.8311],\n",
      "        [ 8.0000, 17.0000,  8.2310, 16.8193],\n",
      "        [ 7.0000, 18.0000,  7.2425, 17.8075],\n",
      "        [ 6.0000, 19.0000,  6.2540, 18.7956],\n",
      "        [ 5.0000, 20.0000,  5.2654, 19.7838],\n",
      "        [ 4.0000, 21.0000,  4.2768, 20.7720],\n",
      "        [ 3.0000, 22.0000,  3.2882, 21.7603],\n",
      "        [ 2.0000, 23.0000,  2.2995, 22.7485]], grad_fn=<CatBackward>)\n",
      "Stepwise deviation from original trajectory:\n",
      "tensor([[0.0088, 0.0005],\n",
      "        [0.0176, 0.0010],\n",
      "        [0.0264, 0.0013],\n",
      "        [0.0352, 0.0016],\n",
      "        [0.0441, 0.0018],\n",
      "        [0.0529, 0.0020],\n",
      "        [0.0651, 0.0140],\n",
      "        [0.0772, 0.0260],\n",
      "        [0.0893, 0.0379],\n",
      "        [0.1013, 0.0499],\n",
      "        [0.1134, 0.0618],\n",
      "        [0.1253, 0.0738],\n",
      "        [0.1372, 0.0857],\n",
      "        [0.1491, 0.0976],\n",
      "        [0.1609, 0.1095],\n",
      "        [0.1727, 0.1214],\n",
      "        [0.1845, 0.1333],\n",
      "        [0.1961, 0.1452],\n",
      "        [0.2078, 0.1570],\n",
      "        [0.2194, 0.1689],\n",
      "        [0.2310, 0.1807],\n",
      "        [0.2425, 0.1925],\n",
      "        [0.2540, 0.2044],\n",
      "        [0.2654, 0.2162],\n",
      "        [0.2768, 0.2280],\n",
      "        [0.2882, 0.2397],\n",
      "        [0.2995, 0.2515]], grad_fn=<AbsBackward>)\n",
      "Prediction from Policy:\n",
      "tensor([[-1.,  0.],\n",
      "        [-1.,  0.],\n",
      "        [-1.,  0.],\n",
      "        [-1.,  0.],\n",
      "        [-1.,  0.],\n",
      "        [-1.,  0.],\n",
      "        [-1.,  1.],\n",
      "        [-1.,  1.],\n",
      "        [-1.,  1.],\n",
      "        [-1.,  1.],\n",
      "        [-1.,  1.],\n",
      "        [-1.,  1.],\n",
      "        [-1.,  1.],\n",
      "        [-1.,  1.],\n",
      "        [-1.,  1.],\n",
      "        [-1.,  1.],\n",
      "        [-1.,  1.],\n",
      "        [-1.,  1.],\n",
      "        [-1.,  1.],\n",
      "        [-1.,  1.],\n",
      "        [-1.,  1.],\n",
      "        [-1.,  1.],\n",
      "        [-1.,  1.],\n",
      "        [-1.,  1.],\n",
      "        [-1.,  1.],\n",
      "        [-1.,  1.],\n",
      "        [-1.,  1.]])\n",
      "Prediction from Dynamics:\n",
      "tensor([[-9.9119e-01, -5.2780e-04],\n",
      "        [-9.9119e-01, -4.4852e-04],\n",
      "        [-9.9119e-01, -3.6943e-04],\n",
      "        [-9.9119e-01, -2.9022e-04],\n",
      "        [-9.9119e-01, -2.1094e-04],\n",
      "        [-9.9119e-01, -1.3185e-04],\n",
      "        [-9.8781e-01,  9.8800e-01],\n",
      "        [-9.8786e-01,  9.8801e-01],\n",
      "        [-9.8790e-01,  9.8803e-01],\n",
      "        [-9.8795e-01,  9.8804e-01],\n",
      "        [-9.8799e-01,  9.8805e-01],\n",
      "        [-9.8804e-01,  9.8806e-01],\n",
      "        [-9.8808e-01,  9.8807e-01],\n",
      "        [-9.8813e-01,  9.8808e-01],\n",
      "        [-9.8817e-01,  9.8810e-01],\n",
      "        [-9.8822e-01,  9.8811e-01],\n",
      "        [-9.8826e-01,  9.8812e-01],\n",
      "        [-9.8830e-01,  9.8813e-01],\n",
      "        [-9.8835e-01,  9.8814e-01],\n",
      "        [-9.8839e-01,  9.8815e-01],\n",
      "        [-9.8844e-01,  9.8816e-01],\n",
      "        [-9.8848e-01,  9.8817e-01],\n",
      "        [-9.8852e-01,  9.8819e-01],\n",
      "        [-9.8856e-01,  9.8820e-01],\n",
      "        [-9.8861e-01,  9.8821e-01],\n",
      "        [-9.8865e-01,  9.8822e-01],\n",
      "        [-9.8869e-01,  9.8823e-01]], grad_fn=<SubBackward0>)\n"
     ]
    }
   ],
   "source": [
    "goal_err, step_err, pred_traj, orig_traj, policy_pred, dyn_pred = e.eval_single_trajectory(trajectory)\n",
    "\n",
    "print ('Last step error = {}'.format(goal_err))\n",
    "print ('Average error over all steps = {}'.format(step_err))\n",
    "print ('Original Trajectory and Predicted Trajectory:')\n",
    "print (torch.cat((orig_traj, pred_traj), dim=1))\n",
    "print ('Stepwise deviation from original trajectory:')\n",
    "print (torch.abs(orig_traj-pred_traj))\n",
    "print ('Prediction from Policy:')\n",
    "print (policy_pred - 1.0) # Using minus to bring the policy output to the values we expect\n",
    "print ('Prediction from Dynamics:')\n",
    "print (dyn_pred * 2.0 - 1.0)  # Again bringing the dynamics prediction to the expected range"
   ]
  },
  {
   "cell_type": "code",
   "execution_count": 8,
   "metadata": {},
   "outputs": [],
   "source": [
    "map_netname_net = {\n",
    "    'ComposedAutoEncoderWithMaxPool': lambda: ComposedAutoEncoder(useMaxPool=True),\n",
    "    'DenseAutoEncoder3': lambda: DenseAutoEncoder(enc_layer_dims=[1024, 128, 16]),\n",
    "    'ComposedAutoEncoderNoMaxPool': lambda: ComposedAutoEncoder(useMaxPool=False),\n",
    "    'VAE': VAE,\n",
    "    'ConvVAE': ConvVae,\n",
    "    'EtprEncoder': etprautoenc,\n",
    "    '03-31-18-02-15-Dynamics-V1-Dense-SmoothL1': lambda: Dense([4, 2]),\n",
    "    '03-31-18-02-32-Dynamics-V1-Dense-SmoothL1': lambda: Dense([4, 8, 2]),\n",
    "    '03-31-18-02-52-Dynamics-V1-Dense-SmoothL1': lambda: Dense([4, 16, 2]),\n",
    "    '03-31-18-01-03-Dynamics-V1-Dense-MSE': lambda: Dense([4, 2]),\n",
    "    '03-31-18-01-22-Dynamics-V1-Dense-MSE': lambda: Dense([4, 8, 2]),\n",
    "    '03-31-18-01-50-Dynamics-V1-Dense-MSE': lambda: Dense([4, 16, 2]),\n",
    "}     "
   ]
  },
  {
   "cell_type": "code",
   "execution_count": 11,
   "metadata": {},
   "outputs": [],
   "source": [
    "rr = ReportResults(map_netname_net, device, \n",
    "                   dynamics_input_adapter, dynamics_gradient_ground_truth_adapter,\n",
    "                   loss_adapter_func = l1_loss_adapter)"
   ]
  },
  {
   "cell_type": "code",
   "execution_count": 12,
   "metadata": {},
   "outputs": [
    {
     "name": "stdout",
     "output_type": "stream",
     "text": [
      "Time,Goal,DataSet,Network,Loss(Training),TestLoss,TrainLoss\n",
      "03:31:18:01:03,Dynamics,V1,Dense,MSE,0.0821070447564125,0.08388315141201019\n",
      "03:31:18:01:22,Dynamics,V1,Dense,MSE,0.003344212891533971,0.0034352901857346296\n",
      "03:31:18:01:50,Dynamics,V1,Dense,MSE,0.003786794375628233,0.003730030497536063\n",
      "03:31:18:02:15,Dynamics,V1,Dense,SmoothL1,0.07136806100606918,0.07271932810544968\n",
      "03:31:18:02:32,Dynamics,V1,Dense,SmoothL1,0.005948166828602552,0.006144481245428324\n",
      "03:31:18:02:52,Dynamics,V1,Dense,SmoothL1,0.0032131331972777843,0.0033073569647967815\n"
     ]
    }
   ],
   "source": [
    "rr.generate_csv_comparison_report(test_data_float, train_data_float,\n",
    "                   rootdir='runs/03-31')"
   ]
  },
  {
   "cell_type": "code",
   "execution_count": 13,
   "metadata": {},
   "outputs": [
    {
     "name": "stdout",
     "output_type": "stream",
     "text": [
      "Folder: 03-31-18-01-03-Dynamics-V1-Dense-MSE\n",
      "tensor([[0.0000, 0.5000],\n",
      "        [0.0000, 0.0000],\n",
      "        [0.0000, 0.5000],\n",
      "        [0.0000, 0.5000],\n",
      "        [0.0000, 0.5000],\n",
      "        [1.0000, 0.0000],\n",
      "        [1.0000, 0.0000],\n",
      "        [1.0000, 0.0000],\n",
      "        [1.0000, 0.0000],\n",
      "        [1.0000, 0.5000]])\n",
      "tensor([[0.1214, 0.5738],\n",
      "        [0.1264, 0.1509],\n",
      "        [0.0993, 0.4931],\n",
      "        [0.1002, 0.4953],\n",
      "        [0.1011, 0.4974],\n",
      "        [0.9014, 0.1185],\n",
      "        [0.9010, 0.1189],\n",
      "        [0.9006, 0.1193],\n",
      "        [0.9003, 0.1197],\n",
      "        [0.9171, 0.5654]], grad_fn=<SigmoidBackward>)\n",
      "tensor(0.0904, grad_fn=<MeanBackward0>)\n",
      "-----------------------------------------\n",
      "Folder: 03-31-18-01-22-Dynamics-V1-Dense-MSE\n",
      "tensor([[0.0000, 0.5000],\n",
      "        [0.0000, 0.0000],\n",
      "        [0.0000, 0.5000],\n",
      "        [0.0000, 0.5000],\n",
      "        [0.0000, 0.5000],\n",
      "        [1.0000, 0.0000],\n",
      "        [1.0000, 0.0000],\n",
      "        [1.0000, 0.0000],\n",
      "        [1.0000, 0.0000],\n",
      "        [1.0000, 0.5000]])\n",
      "tensor([[0.0047, 0.5010],\n",
      "        [0.0065, 0.0061],\n",
      "        [0.0047, 0.4995],\n",
      "        [0.0047, 0.4996],\n",
      "        [0.0047, 0.4997],\n",
      "        [0.9954, 0.0038],\n",
      "        [0.9954, 0.0038],\n",
      "        [0.9954, 0.0038],\n",
      "        [0.9954, 0.0038],\n",
      "        [0.9940, 0.4610]], grad_fn=<SigmoidBackward>)\n",
      "tensor(0.0056, grad_fn=<MeanBackward0>)\n",
      "-----------------------------------------\n",
      "Folder: 03-31-18-01-50-Dynamics-V1-Dense-MSE\n",
      "tensor([[0.0000, 0.5000],\n",
      "        [0.0000, 0.0000],\n",
      "        [0.0000, 0.5000],\n",
      "        [0.0000, 0.5000],\n",
      "        [0.0000, 0.5000],\n",
      "        [1.0000, 0.0000],\n",
      "        [1.0000, 0.0000],\n",
      "        [1.0000, 0.0000],\n",
      "        [1.0000, 0.0000],\n",
      "        [1.0000, 0.5000]])\n",
      "tensor([[0.0045, 0.5012],\n",
      "        [0.0100, 0.0091],\n",
      "        [0.0045, 0.5002],\n",
      "        [0.0045, 0.5002],\n",
      "        [0.0045, 0.5002],\n",
      "        [0.9939, 0.0056],\n",
      "        [0.9939, 0.0057],\n",
      "        [0.9938, 0.0057],\n",
      "        [0.9938, 0.0058],\n",
      "        [0.9949, 0.4757]], grad_fn=<SigmoidBackward>)\n",
      "tensor(0.0058, grad_fn=<MeanBackward0>)\n",
      "-----------------------------------------\n",
      "Folder: 03-31-18-02-15-Dynamics-V1-Dense-SmoothL1\n",
      "tensor([[0.0000, 0.5000],\n",
      "        [0.0000, 0.0000],\n",
      "        [0.0000, 0.5000],\n",
      "        [0.0000, 0.5000],\n",
      "        [0.0000, 0.5000],\n",
      "        [1.0000, 0.0000],\n",
      "        [1.0000, 0.0000],\n",
      "        [1.0000, 0.0000],\n",
      "        [1.0000, 0.0000],\n",
      "        [1.0000, 0.5000]])\n",
      "tensor([[0.0968, 0.5800],\n",
      "        [0.1004, 0.1400],\n",
      "        [0.0808, 0.4938],\n",
      "        [0.0814, 0.4963],\n",
      "        [0.0820, 0.4988],\n",
      "        [0.9207, 0.1062],\n",
      "        [0.9205, 0.1065],\n",
      "        [0.9204, 0.1067],\n",
      "        [0.9202, 0.1070],\n",
      "        [0.9312, 0.5708]], grad_fn=<SigmoidBackward>)\n",
      "tensor(0.0778, grad_fn=<MeanBackward0>)\n",
      "-----------------------------------------\n",
      "Folder: 03-31-18-02-32-Dynamics-V1-Dense-SmoothL1\n",
      "tensor([[0.0000, 0.5000],\n",
      "        [0.0000, 0.0000],\n",
      "        [0.0000, 0.5000],\n",
      "        [0.0000, 0.5000],\n",
      "        [0.0000, 0.5000],\n",
      "        [1.0000, 0.0000],\n",
      "        [1.0000, 0.0000],\n",
      "        [1.0000, 0.0000],\n",
      "        [1.0000, 0.0000],\n",
      "        [1.0000, 0.5000]])\n",
      "tensor([[0.0102, 0.4820],\n",
      "        [0.0077, 0.0079],\n",
      "        [0.0076, 0.5004],\n",
      "        [0.0076, 0.5005],\n",
      "        [0.0076, 0.5007],\n",
      "        [0.9924, 0.0078],\n",
      "        [0.9924, 0.0078],\n",
      "        [0.9924, 0.0078],\n",
      "        [0.9924, 0.0078],\n",
      "        [0.9897, 0.4659]], grad_fn=<SigmoidBackward>)\n",
      "tensor(0.0087, grad_fn=<MeanBackward0>)\n",
      "-----------------------------------------\n",
      "Folder: 03-31-18-02-52-Dynamics-V1-Dense-SmoothL1\n",
      "tensor([[0.0000, 0.5000],\n",
      "        [0.0000, 0.0000],\n",
      "        [0.0000, 0.5000],\n",
      "        [0.0000, 0.5000],\n",
      "        [0.0000, 0.5000],\n",
      "        [1.0000, 0.0000],\n",
      "        [1.0000, 0.0000],\n",
      "        [1.0000, 0.0000],\n",
      "        [1.0000, 0.0000],\n",
      "        [1.0000, 0.5000]])\n",
      "tensor([[0.0047, 0.5115],\n",
      "        [0.0111, 0.0126],\n",
      "        [0.0044, 0.5000],\n",
      "        [0.0044, 0.5000],\n",
      "        [0.0044, 0.5001],\n",
      "        [0.9956, 0.0041],\n",
      "        [0.9956, 0.0041],\n",
      "        [0.9956, 0.0041],\n",
      "        [0.9956, 0.0041],\n",
      "        [0.9946, 0.4576]], grad_fn=<SigmoidBackward>)\n",
      "tensor(0.0067, grad_fn=<MeanBackward0>)\n",
      "-----------------------------------------\n"
     ]
    }
   ],
   "source": [
    "sample = torch.cat((test_data_float[1055:1060], test_data_float[1230:1235]), axis=0)\n",
    "ground_truth = dynamics_gradient_ground_truth_adapter(sample).to(device)\n",
    "for folder, net in rr.build_net(rootdir='runs/03-31/'):\n",
    "    print ('Folder: ' + folder)\n",
    "    op_batch, loss = rr.run_mini_batch(net, sample)\n",
    "    print (ground_truth)\n",
    "    print (op_batch)\n",
    "    print (loss)\n",
    "    print ('-----------------------------------------')"
   ]
  },
  {
   "cell_type": "code",
   "execution_count": 19,
   "metadata": {},
   "outputs": [],
   "source": [
    "rr = ReportResults(map_netname_net, device, \n",
    "                   policy_input_adapter, policy_groud_truth_adapter,\n",
    "                   loss_adapter_func = l1_loss_adapter)"
   ]
  },
  {
   "cell_type": "code",
   "execution_count": 20,
   "metadata": {},
   "outputs": [
    {
     "name": "stdout",
     "output_type": "stream",
     "text": [
      "Time,Goal,DataSet,Network,Loss(Training),TestLoss,TrainLoss\n",
      "04:08:07:35:53,Policy,V2,Dense,MSE,0.0009246765985153615,0.0009788279421627522\n",
      "04:08:07:29:36,Policy,V2,Dense,MSE,0.015583701431751251,0.016864705830812454\n"
     ]
    }
   ],
   "source": [
    "rr.generate_csv_comparison_report(test_data_float, train_data_float,\n",
    "                   rootdir='runs/04-08')"
   ]
  },
  {
   "cell_type": "code",
   "execution_count": 21,
   "metadata": {},
   "outputs": [
    {
     "name": "stdout",
     "output_type": "stream",
     "text": [
      "Folder: 04-08-07-35-53-Policy-V2-Dense-MSE\n",
      "tensor([[-1.,  0.],\n",
      "        [-1., -1.],\n",
      "        [-1.,  0.],\n",
      "        [-1.,  0.],\n",
      "        [-1.,  0.],\n",
      "        [ 1., -1.],\n",
      "        [ 1., -1.],\n",
      "        [ 1., -1.],\n",
      "        [ 1., -1.],\n",
      "        [ 1.,  0.]])\n",
      "tensor([[-1.0000e+00, -5.9831e-04],\n",
      "        [-9.9837e-01, -9.9866e-01],\n",
      "        [-1.0000e+00, -2.0846e-03],\n",
      "        [-1.0000e+00, -2.0014e-03],\n",
      "        [-1.0000e+00, -1.9175e-03],\n",
      "        [ 9.9764e-01, -9.9867e-01],\n",
      "        [ 9.9765e-01, -9.9868e-01],\n",
      "        [ 9.9766e-01, -9.9868e-01],\n",
      "        [ 9.9767e-01, -9.9868e-01],\n",
      "        [ 1.0000e+00,  7.1299e-04]], grad_fn=<TanhBackward>)\n",
      "tensor(0.0012, grad_fn=<MeanBackward0>)\n",
      "Folder: 04-08-07-29-36-Policy-V2-Dense-MSE\n",
      "tensor([[-1.,  0.],\n",
      "        [-1., -1.],\n",
      "        [-1.,  0.],\n",
      "        [-1.,  0.],\n",
      "        [-1.,  0.],\n",
      "        [ 1., -1.],\n",
      "        [ 1., -1.],\n",
      "        [ 1., -1.],\n",
      "        [ 1., -1.],\n",
      "        [ 1.,  0.]])\n",
      "tensor([[-0.9994, -0.0311],\n",
      "        [-0.9682, -0.9674],\n",
      "        [-0.9995,  0.0176],\n",
      "        [-0.9995,  0.0170],\n",
      "        [-0.9995,  0.0165],\n",
      "        [ 0.9690, -0.9672],\n",
      "        [ 0.9690, -0.9673],\n",
      "        [ 0.9690, -0.9673],\n",
      "        [ 0.9690, -0.9674],\n",
      "        [ 0.9995,  0.0200]], grad_fn=<TanhBackward>)\n",
      "tensor(0.0212, grad_fn=<MeanBackward0>)\n"
     ]
    }
   ],
   "source": [
    "sample = torch.cat((test_data_float[1055:1060], test_data_float[1230:1235]), axis=0)\n",
    "ground_truth = policy_groud_truth_adapter(sample).to(device)\n",
    "for folder, net in rr.build_net(rootdir='runs/04-08/'):\n",
    "    print ('Folder: ' + folder)\n",
    "    op_batch, loss = rr.run_mini_batch(net, sample)\n",
    "    print (ground_truth)\n",
    "    print (op_batch)\n",
    "    print (loss)"
   ]
  },
  {
   "cell_type": "code",
   "execution_count": 16,
   "metadata": {},
   "outputs": [
    {
     "name": "stdout",
     "output_type": "stream",
     "text": [
      "datapoint 0 test error tensor(9.2288e-06)\n"
     ]
    },
    {
     "data": {
      "image/png": "[encoded data removed]",
      "text/plain": [
       "<Figure size 432x288 with 1 Axes>"
      ]
     },
     "metadata": {
      "needs_background": "light"
     },
     "output_type": "display_data"
    },
    {
     "data": {
      "image/png": "[encoded data removed]",
      "text/plain": [
       "<Figure size 432x288 with 1 Axes>"
      ]
     },
     "metadata": {
      "needs_background": "light"
     },
     "output_type": "display_data"
    },
    {
     "name": "stdout",
     "output_type": "stream",
     "text": [
      "datapoint 1 test error tensor(9.4870e-06)\n"
     ]
    },
    {
     "data": {
      "image/png": "[encoded data removed]",
      "text/plain": [
       "<Figure size 432x288 with 1 Axes>"
      ]
     },
     "metadata": {
      "needs_background": "light"
     },
     "output_type": "display_data"
    },
    {
     "data": {
      "image/png": "[encoded data removed]",
      "text/plain": [
       "<Figure size 432x288 with 1 Axes>"
      ]
     },
     "metadata": {
      "needs_background": "light"
     },
     "output_type": "display_data"
    },
    {
     "name": "stdout",
     "output_type": "stream",
     "text": [
      "datapoint 2 test error tensor(1.5805e-05)\n"
     ]
    },
    {
     "data": {
      "image/png": "[encoded data removed]",
      "text/plain": [
       "<Figure size 432x288 with 1 Axes>"
      ]
     },
     "metadata": {
      "needs_background": "light"
     },
     "output_type": "display_data"
    },
    {
     "data": {
      "image/png": "[encoded data removed]",
      "text/plain": [
       "<Figure size 432x288 with 1 Axes>"
      ]
     },
     "metadata": {
      "needs_background": "light"
     },
     "output_type": "display_data"
    },
    {
     "name": "stdout",
     "output_type": "stream",
     "text": [
      "datapoint 3 test error tensor(1.1305e-05)\n"
     ]
    },
    {
     "data": {
      "image/png": "[encoded data removed]",
      "text/plain": [
       "<Figure size 432x288 with 1 Axes>"
      ]
     },
     "metadata": {
      "needs_background": "light"
     },
     "output_type": "display_data"
    },
    {
     "data": {
      "image/png": "[encoded data removed]",
      "text/plain": [
       "<Figure size 432x288 with 1 Axes>"
      ]
     },
     "metadata": {
      "needs_background": "light"
     },
     "output_type": "display_data"
    },
    {
     "name": "stdout",
     "output_type": "stream",
     "text": [
      "datapoint 4 test error tensor(1.3016e-05)\n"
     ]
    },
    {
     "data": {
      "image/png": "[encoded data removed]",
      "text/plain": [
       "<Figure size 432x288 with 1 Axes>"
      ]
     },
     "metadata": {
      "needs_background": "light"
     },
     "output_type": "display_data"
    },
    {
     "data": {
      "image/png": "[encoded data removed]",
      "text/plain": [
       "<Figure size 432x288 with 1 Axes>"
      ]
     },
     "metadata": {
      "needs_background": "light"
     },
     "output_type": "display_data"
    }
   ],
   "source": [
    "rr.show_test_samples(test_data_float,\n",
    "                  rootdir='runs/03-28/03-28-14-10-20-DemoPl-V2-ComposedAutoEncoderWithMaxPool-SmoothL1-')"
   ]
  },
  {
   "cell_type": "code",
   "execution_count": null,
   "metadata": {},
   "outputs": [],
   "source": [
    "np.set_printoptions(**opt)"
   ]
  }
 ],
 "metadata": {
  "kernelspec": {
   "display_name": "demopl",
   "language": "python",
   "name": "demopl"
  },
  "language_info": {
   "codemirror_mode": {
    "name": "ipython",
    "version": 3
   },
   "file_extension": ".py",
   "mimetype": "text/x-python",
   "name": "python",
   "nbconvert_exporter": "python",
   "pygments_lexer": "ipython3",
   "version": "3.6.8"
  }
 },
 "nbformat": 4,
 "nbformat_minor": 4
}
