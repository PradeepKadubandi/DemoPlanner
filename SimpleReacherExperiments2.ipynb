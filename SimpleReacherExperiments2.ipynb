{
 "cells": [
  {
   "cell_type": "code",
   "execution_count": null,
   "metadata": {},
   "outputs": [],
   "source": [
    "%load_ext autoreload\n",
    "%autoreload 2"
   ]
  },
  {
   "cell_type": "code",
   "execution_count": 2,
   "metadata": {},
   "outputs": [],
   "source": [
    "import numpy as np\n",
    "import matplotlib.pyplot as plt\n",
    "import time\n",
    "import os\n",
    "import glob\n",
    "import pprint\n",
    "import copy\n",
    "import shutil\n",
    "\n",
    "import torch\n",
    "import torch.nn as nn\n",
    "import torch.nn.functional as F\n",
    "from torch.utils.data import DataLoader\n",
    "import torch.optim as optim\n",
    "from collections import OrderedDict\n",
    "\n",
    "from dataset import *\n",
    "from runner import ExptRunner\n",
    "from runner import ExptEvaluator\n",
    "from networks.imageencoder import *\n",
    "from networks.imagedecoder import *\n",
    "from networks.DenseAutoEncoder import DenseAutoEncoder\n",
    "from networks.composedautoencoder import *\n",
    "from networks.ConvVae import ConvVae\n",
    "from networks.vae import VAE\n",
    "from networks.dense import *\n",
    "from networks.lossfunctions import *\n",
    "from networks.reacherspecial import *\n",
    "from helpers import *\n",
    "import utils\n",
    "import plottinghelpers\n",
    "import simplereacherdimensions\n",
    "import simplereacheradapters\n",
    "from env.simulator import simulator, evaluator\n",
    "\n",
    "from networks.nvidia import Nvidia"
   ]
  },
  {
   "cell_type": "code",
   "execution_count": 3,
   "metadata": {},
   "outputs": [],
   "source": [
    "import warnings\n",
    "warnings.filterwarnings(\"ignore\", category=torch.serialization.SourceChangeWarning)"
   ]
  },
  {
   "cell_type": "code",
   "execution_count": 4,
   "metadata": {},
   "outputs": [],
   "source": [
    "opt = np.get_printoptions()\n",
    "np.set_printoptions(threshold=np.inf)"
   ]
  },
  {
   "cell_type": "code",
   "execution_count": 5,
   "metadata": {},
   "outputs": [],
   "source": [
    "torch.set_printoptions(sci_mode=False)"
   ]
  },
  {
   "cell_type": "code",
   "execution_count": 6,
   "metadata": {},
   "outputs": [],
   "source": [
    "device = torch.device(\"cuda:2\" if torch.cuda.is_available() else \"cpu\")"
   ]
  },
  {
   "cell_type": "code",
   "execution_count": 7,
   "metadata": {},
   "outputs": [
    {
     "name": "stdout",
     "output_type": "stream",
     "text": [
      "cuda:2\n"
     ]
    }
   ],
   "source": [
    "print (device)"
   ]
  },
  {
   "cell_type": "code",
   "execution_count": 8,
   "metadata": {},
   "outputs": [],
   "source": [
    "# if torch.cuda.is_available():\n",
    "#     print (torch.cuda.current_device())\n",
    "#     torch.cuda.set_device(device)\n",
    "#     print (torch.cuda.current_device())"
   ]
  },
  {
   "cell_type": "code",
   "execution_count": 9,
   "metadata": {},
   "outputs": [
    {
     "data": {
      "text/plain": [
       "64"
      ]
     },
     "execution_count": 9,
     "metadata": {},
     "output_type": "execute_result"
    }
   ],
   "source": [
    "img_res"
   ]
  },
  {
   "cell_type": "code",
   "execution_count": 10,
   "metadata": {},
   "outputs": [],
   "source": [
    "root_folder = 'data/simple_reacher/FixedGoal_Larger'\n",
    "# number_of_trajectories = 10\n",
    "number_of_trajectories = 5000"
   ]
  },
  {
   "cell_type": "code",
   "execution_count": 11,
   "metadata": {},
   "outputs": [
    {
     "name": "stdout",
     "output_type": "stream",
     "text": [
      "Time Taken: 4.910621643066406 sec\n"
     ]
    }
   ],
   "source": [
    "start = time.time()\n",
    "train_data = SimpleReacherOnDemandDataset(root_folder, range(4500), device=device)\n",
    "test_data = SimpleReacherOnDemandDataset(root_folder, range(4500, 5000), device=device)\n",
    "print (\"Time Taken: {} sec\".format(time.time() - start))"
   ]
  },
  {
   "cell_type": "code",
   "execution_count": 12,
   "metadata": {},
   "outputs": [],
   "source": [
    "# Use reduced training data\n",
    "# start = time.time()\n",
    "# train_data = SimpleReacherOnDemandDataset(root_folder, range(900), device=device)\n",
    "# test_data = SimpleReacherOnDemandDataset(root_folder, range(900, 1000), device=device)\n",
    "# print (\"Time Taken: {} sec\".format(time.time() - start))"
   ]
  },
  {
   "cell_type": "code",
   "execution_count": 13,
   "metadata": {},
   "outputs": [
    {
     "name": "stdout",
     "output_type": "stream",
     "text": [
      "140933\n",
      "15986\n",
      "cuda:2\n",
      "cuda:2\n"
     ]
    }
   ],
   "source": [
    "print (len(train_data))\n",
    "print (len(test_data))\n",
    "print (train_data.trajectory_data.device)\n",
    "print (test_data.trajectory_data.device)"
   ]
  },
  {
   "cell_type": "code",
   "execution_count": 14,
   "metadata": {},
   "outputs": [],
   "source": [
    "def run_expts(train_epochs):\n",
    "    for i in range(len(expts)):\n",
    "        arg_lists = expts[i]\n",
    "        cons_args = arg_lists[0]\n",
    "        train_args = {}\n",
    "        if (len(arg_lists)) > 1:\n",
    "            train_args = arg_lists[1]\n",
    "        test_args = {}\n",
    "        if (len(arg_lists)) > 2:\n",
    "            test_args = arg_lists[2]\n",
    "        \n",
    "        runner = ExptRunner(train_data=train_data, test_data=test_data, device=device, **cons_args)\n",
    "        print (\"Experiment logs folder: {}\".format(runner.log_folder))\n",
    "        with open(runner.log_folder + '/expt.txt', 'w') as f:\n",
    "            f.write(pprint.pformat(arg_lists))\n",
    "        runner.train(train_epochs, **train_args)"
   ]
  },
  {
   "cell_type": "code",
   "execution_count": 41,
   "metadata": {},
   "outputs": [],
   "source": [
    "# First number represents the number of layers, second : channels per each layer, third : kernel size\n",
    "# Name on this one should have been 1_2_3 (only 1 hidden layer) but the name was kept for not confusing the run\n",
    "img_auto_encoder_2_2_3 = lambda: ComposedAutoEncoder(x_dim=simplereacherdimensions.x_dim,\n",
    "                                               img_res=simplereacherdimensions.img_res,\n",
    "                                               layers_channels=[2],\n",
    "                                               useMaxPool=True,\n",
    "                                               device=device)\n",
    "\n",
    "img_auto_encoder_2_16_3 = lambda: ComposedAutoEncoder(x_dim=simplereacherdimensions.x_dim,\n",
    "                                               img_res=simplereacherdimensions.img_res,\n",
    "                                               layers_channels=[16, 16],\n",
    "                                               useMaxPool=True,\n",
    "                                               device=device)\n",
    "\n",
    "img_auto_encoder_4_16_3 = lambda: ComposedAutoEncoder(x_dim=simplereacherdimensions.x_dim,\n",
    "                                               img_res=simplereacherdimensions.img_res,\n",
    "                                               layers_channels=[16, 16, 16, 16],\n",
    "                                               useMaxPool=True,\n",
    "                                               device=device)\n",
    "\n",
    "img_auto_encoder_3_16_3 = lambda: ComposedAutoEncoder(x_dim=simplereacherdimensions.x_dim,\n",
    "                                               img_res=simplereacherdimensions.img_res,\n",
    "                                               layers_channels=[16, 16, 16],\n",
    "                                               useMaxPool=True,\n",
    "                                               device=device)\n",
    "\n",
    "img_auto_encoder_4_32_3 = lambda: ComposedAutoEncoder(x_dim=simplereacherdimensions.x_dim,\n",
    "                                               img_res=simplereacherdimensions.img_res,\n",
    "                                               layers_channels=[32, 32, 32, 32],\n",
    "                                               useMaxPool=True,\n",
    "                                               device=device)\n",
    "\n",
    "img_auto_encoder_3_64_1_256_3 = lambda: ComposedAutoEncoder(x_dim=simplereacherdimensions.x_dim,\n",
    "                                               img_res=simplereacherdimensions.img_res,\n",
    "                                               layers_channels=[64, 64, 64, 256],\n",
    "                                               useMaxPool=True,\n",
    "                                               device=device)\n",
    "\n",
    "img_auto_encoder_5_16_3 = lambda: ComposedAutoEncoder(x_dim=simplereacherdimensions.x_dim,\n",
    "                                               img_res=simplereacherdimensions.img_res,\n",
    "                                               layers_channels=[16, 16, 16, 16, 16],\n",
    "                                               useMaxPool=True,\n",
    "                                               device=device)\n",
    "\n",
    "img_auto_encoder_5_16_7 = lambda: ComposedAutoEncoder(x_dim=simplereacherdimensions.x_dim,\n",
    "                                               img_res=simplereacherdimensions.img_res,\n",
    "                                               layers_channels=[16, 16, 16, 16, 16],\n",
    "                                               useMaxPool=True,\n",
    "                                               device=device,\n",
    "                                               kernel_size=7)\n",
    "\n",
    "img_auto_encoder_5_32_7 = lambda: ComposedAutoEncoder(x_dim=simplereacherdimensions.x_dim,\n",
    "                                               img_res=simplereacherdimensions.img_res,\n",
    "                                               layers_channels=[32, 32, 32, 32, 32],\n",
    "                                               useMaxPool=True,\n",
    "                                               device=device,\n",
    "                                               kernel_size=7)\n",
    "img_auto_encoder_5_16_5 = lambda: ComposedAutoEncoder(x_dim=simplereacherdimensions.x_dim,\n",
    "                                               img_res=simplereacherdimensions.img_res,\n",
    "                                               layers_channels=[16, 16, 16, 16, 16],\n",
    "                                               useMaxPool=True,\n",
    "                                               device=device,\n",
    "                                               kernel_size=5)\n",
    "\n",
    "img_auto_encoder_5_32_5 = lambda: ComposedAutoEncoder(x_dim=simplereacherdimensions.x_dim,\n",
    "                                               img_res=simplereacherdimensions.img_res,\n",
    "                                               layers_channels=[32, 32, 32, 32, 32],\n",
    "                                               useMaxPool=True,\n",
    "                                               device=device,\n",
    "                                               kernel_size=5)\n",
    "img_encoder_4_16_3 = lambda: ImageEncoderFlatInput(img_res=simplereacherdimensions.img_res,\n",
    "                                               input_channels=1,\n",
    "                                               layers_channels=[16, 16, 16, 16],\n",
    "                                               prefix='enc',\n",
    "                                               useMaxPool=True,\n",
    "                                               addFlatten=True,\n",
    "                                               kernel_size=3)\n",
    "img_encoder_5_32_5 = lambda: ImageEncoderFlatInput(img_res=simplereacherdimensions.img_res,\n",
    "                                               input_channels=1,\n",
    "                                               layers_channels=[32, 32, 32, 32, 32],\n",
    "                                               prefix='enc',\n",
    "                                               useMaxPool=True,\n",
    "                                               addFlatten=True,\n",
    "                                               kernel_size=5)\n",
    "img_encoder_5_32_7 = lambda: ImageEncoderFlatInput(img_res=simplereacherdimensions.img_res,\n",
    "                                               input_channels=1,\n",
    "                                               layers_channels=[32, 32, 32, 32, 32],\n",
    "                                               prefix='enc',\n",
    "                                               useMaxPool=True,\n",
    "                                               addFlatten=True,\n",
    "                                               kernel_size=7)"
   ]
  },
  {
   "cell_type": "code",
   "execution_count": 16,
   "metadata": {},
   "outputs": [],
   "source": [
    "def load_pretrained(folder):\n",
    "    chkptFile = os.path.join('runs', folder, 'train_checkpoint.tar')\n",
    "    return torch.load(chkptFile, map_location=device)['model']\n",
    "\n",
    "def finetune_pretrained_end_to_end(net):\n",
    "    c = copy.deepcopy(net)\n",
    "    configure_net_training(c, True)\n",
    "    return c"
   ]
  },
  {
   "cell_type": "code",
   "execution_count": 17,
   "metadata": {},
   "outputs": [],
   "source": [
    "pretrain_image_auto_enc = load_pretrained('AutoEncoders/09-03/09-03-11-00-53-ImageAutoEncoder-Reacher-ComposedAutoEncoder4-L1')\n",
    "pretrain_policy = load_pretrained('Policies/11-16/11-16-16-08-36-FixedGoalClearBGImageSize64_ImageToPolicy-Reacher-Nvidia-L1')\n",
    "# pretrain_img_to_env = load_pretrained('AutoEncoders/08-12/run1-img-to-env/08-12-18-44-36-ImageToEnv-Reacher-Conv4Dense3-MSE/')\n",
    "# pretrain_pol_augmented = load_pretrained('Policies/08-24/08-24-20-45-40-Policy_Augmented-Reacher-Dense4WithTanh-L1')\n",
    "# pretrain_pol_trig = load_pretrained('Policies/08-25/run1-ld-policy/08-25-10-34-36-Policy_TrigAugmented-Reacher-Dense4WithTanh-L1')"
   ]
  },
  {
   "cell_type": "code",
   "execution_count": 18,
   "metadata": {},
   "outputs": [],
   "source": [
    "img_layers = [16,16,16,16]\n",
    "# z_dim = 4096 # 16 * 16 * 16 , This should be set based on above img_layers\n",
    "# z_dim = 2048\n",
    "z_dim = 256 # 16 * 4 * 4 , For 64 x 64 image\n",
    "# z_dim = 1024 # 16 * 8 * 8 , For 128 x 128 image\n",
    "# env_layers = [6, 512, z_dim]\n",
    "env_layers = [6, 64, z_dim]\n",
    "in_channels = 1\n",
    "img_encoder = lambda: ImageEncoderFlatInput(in_channels, img_layers, 'imgenc', useMaxPool=True, addFlatten=True, img_res=simplereacheradapters.img_res)\n",
    "# img_decoder = lambda: ImageDecoderFlatInput(z_dim, list(reversed(img_layers)), in_channels, 'imgdec', useSigmoid=True)\n",
    "# env_encoder = lambda: Dense(env_layers, use_last_act=False, prefix='envenc')\n",
    "env_decoder = lambda: Dense(list(reversed(env_layers)), last_act='sigmoid', prefix='envdec')\n",
    "combined = lambda l1, l2: nn.Sequential(OrderedDict([\n",
    "                              ('EncNet', l1()),\n",
    "                              ('DecNet', l2()),\n",
    "                            ]))"
   ]
  },
  {
   "cell_type": "code",
   "execution_count": 19,
   "metadata": {},
   "outputs": [],
   "source": [
    "def env_enc_pretrained_img_dec():\n",
    "    net = combined(env_encoder, img_decoder).to(device)\n",
    "    load_mapped_state_dict(net, pretrain_imgEncDec, 'DecNet.net.imgdec', 'decoder.net.dec')\n",
    "    return net\n",
    "\n",
    "def pretrained_img_enc_env_dec(i_encoder, e_decoder):\n",
    "    net = combined(i_encoder, e_decoder).to(device)\n",
    "    load_mapped_state_dict(net, pretrain_image_auto_enc, 'EncNet.net.imgenc', 'encoder.net.enc')\n",
    "    return net\n",
    "\n",
    "def img_enc_env_dec_from_pretrained():\n",
    "    net = combined(img_encoder, env_decoder).to(device)\n",
    "    load_mapped_state_dict(net, pretrain_imgEncDec, 'EncNet.net.imgenc', 'encoder.net.enc')\n",
    "    load_mapped_state_dict(net, pretrain_envEncDec, 'DecNet.net.envdec_fc0', 'decoder.dec_fc1') # Hacky\n",
    "    return net\n",
    "\n",
    "def latent_policy_from_latent(latentReference, policy=None, fix_indices=[0]):\n",
    "    latent = copy.deepcopy(latentReference)\n",
    "    if not policy:\n",
    "        policy = Dense(layer_dims=[6, 16, 16, 3], last_act='tanh', prefix='pol')\n",
    "    configure_net_training(latent, False)\n",
    "    net = LatentPolicyNet(latent=latent, policy=policy).to(device)\n",
    "    return net\n",
    "\n",
    "def latent_policy_fixed_img_enc_pol_train_env_dec(policy=pretrain_policy, e_decoder=env_decoder, i_encoder=img_encoder):\n",
    "    latent = pretrained_img_enc_env_dec(i_encoder, e_decoder)\n",
    "    policy = copy.deepcopy(policy)\n",
    "    configure_net_training(policy, False)\n",
    "    configure_net_training(latent[0], False)\n",
    "    return LatentPolicyNet(latent=latent, policy=policy).to(device)\n",
    "\n",
    "def latent_policy_pretrained_img_enc_pol_train_end_to_end(policy=pretrain_policy, e_decoder=env_decoder, i_encoder=img_encoder):\n",
    "    latent = pretrained_img_enc_env_dec(i_encoder, e_decoder)\n",
    "    policy = copy.deepcopy(policy)\n",
    "    return LatentPolicyNet(latent=latent, policy=policy).to(device)\n",
    "\n",
    "def latentFilter_gt_x_latent_y(data, latent_output):\n",
    "    return torch.cat((Xt_scaled_adapter(data), latent_output[:, 2:]), dim=1)\n",
    "\n",
    "def image_to_env(conv, dense):\n",
    "    return combined(conv, dense)\n",
    "\n",
    "def LPGTX_fixed_img_enc_pol_train_env_dec(policy=pretrain_policy, e_decoder=env_decoder, i_encoder=img_encoder):\n",
    "    latent = pretrained_img_enc_env_dec(i_encoder, e_decoder)\n",
    "    policy = copy.deepcopy(policy)\n",
    "    configure_net_training(policy, False)\n",
    "    configure_net_training(latent[0], False)\n",
    "    return LatentPolicyWithGroundTruthXNet(latent=latent, policy=policy).to(device)\n",
    "\n",
    "def LPGTX_fixed_img_enc_pol_train_env_dec_end_to_end(policy=pretrain_policy, e_decoder=env_decoder, i_encoder=img_encoder):\n",
    "    latent = pretrained_img_enc_env_dec(i_encoder, e_decoder)\n",
    "    policy = copy.deepcopy(policy)\n",
    "    return LatentPolicyWithGroundTruthXNet(latent=latent, policy=policy).to(device)\n",
    "\n",
    "def LPGTX_Fresh(policy, e_decoder=env_decoder, i_encoder=img_encoder_4_16_3):\n",
    "    latent = combined(i_encoder, e_decoder)\n",
    "    return LatentPolicyWithGroundTruthXNet(latent=latent, policy=policy).to(device)"
   ]
  },
  {
   "cell_type": "code",
   "execution_count": 20,
   "metadata": {},
   "outputs": [],
   "source": [
    "# ItoU_Baseline_func = lambda: combined(img_encoder_4_16_3, lambda: Dense(layer_dims=[4096, 512, 3], last_act='tanh', prefix='pol'))\n",
    "# ItoU_ours_untrained_func = lambda: LPGTX_Fresh(\n",
    "#     policy = Dense(layer_dims=[6, 16, 16, 3], last_act='tanh', prefix='pol'),\n",
    "#     e_decoder = lambda: Dense([4096, 512, 3], last_act='sigmoid', prefix='envdec'),\n",
    "#     i_encoder=img_encoder_4_16_3\n",
    "# )"
   ]
  },
  {
   "cell_type": "code",
   "execution_count": 21,
   "metadata": {},
   "outputs": [],
   "source": [
    "ItoU_Baseline_func = lambda: combined(img_encoder_4_16_3, lambda: Dense(layer_dims=[256, 64, 3], last_act='tanh', prefix='pol'))\n",
    "ItoU_ours_untrained_func = lambda: LPGTX_Fresh(\n",
    "    policy = Dense(layer_dims=[6, 16, 16, 3], last_act='tanh', prefix='pol'),\n",
    "    e_decoder = lambda: Dense([256, 64, 3], last_act='sigmoid', prefix='envdec'),\n",
    "    i_encoder=img_encoder_4_16_3\n",
    ")"
   ]
  },
  {
   "cell_type": "code",
   "execution_count": 22,
   "metadata": {},
   "outputs": [],
   "source": [
    "# ItoU_Baseline_func = lambda: combined(img_encoder_4_16_3, lambda: Dense(layer_dims=[1024, 128, 3], last_act='tanh', prefix='pol'))\n",
    "# ItoU_ours_untrained_func = lambda: LPGTX_Fresh(\n",
    "#     policy = Dense(layer_dims=[6, 16, 16, 3], last_act='tanh', prefix='pol'),\n",
    "#     e_decoder = lambda: Dense([1024, 128, 3], last_act='sigmoid', prefix='envdec'),\n",
    "#     i_encoder=img_encoder_4_16_3\n",
    "# )"
   ]
  },
  {
   "cell_type": "code",
   "execution_count": 43,
   "metadata": {},
   "outputs": [],
   "source": [
    "expts = [\n",
    "#   Image to Policy: Use pretrained image encoder, policy, train decoder/end-to-end \n",
    "#     [{\n",
    "#         \"expt_prefix\":'Finetune_LowLR_FixImageEncoderTrigPolicy_TrainDecoder-Reacher-Conv5Dense4-L1',\n",
    "#         \"net_func\": lambda: finetune_pretrained('Policies/08-19/08-19-20-24-49-FixImageEncoderPolicy_TrainDecoder-Reacher-Conv5Dense4-L1'),\n",
    "#         \"data_adapter_func\": simplereacheradapters.It_scaled_adapter,\n",
    "#         \"data_to_label_adapter\": simplereacheradapters.Ut_scaled_adapter_zero_center,\n",
    "#         \"loss_adapter_func\": l1_loss_adapter,\n",
    "#      },\n",
    "#     {\n",
    "#         \"optimizer_func\": lambda net: optim.Adam(net.parameters(), lr=1e-4)\n",
    "#     },\n",
    "#     {\n",
    "#         \"loss_adapter\": l1_loss_adapter\n",
    "#     }],\n",
    "#     [{\n",
    "#         \"expt_prefix\":'LPGTX_FixImageEncoderPolicy_TrainDecoderToY-Reacher-Conv4Dense3-L1',\n",
    "#         \"net_func\": lambda: LPGTX_fixed_img_enc_pol_train_env_dec(\n",
    "#             i_encoder=img_encoder_4_16_3,\n",
    "#             e_decoder=lambda: Dense([4096, 512, 3], last_act='sigmoid', prefix='envdec'),\n",
    "#             policy=pretrain_policy\n",
    "#         ),\n",
    "#         \"data_adapter_func\": simplereacheradapters.XtIt_scaled_adapter,\n",
    "#         \"data_to_label_adapter\": simplereacheradapters.Ut_scaled_adapter_zero_center,\n",
    "#         \"loss_adapter_func\": l1_loss_adapter,\n",
    "#      },\n",
    "#     {\n",
    "#     },\n",
    "#     {\n",
    "#     }],\n",
    "#     [{\n",
    "#         \"expt_prefix\":'LPGTX_FixImageEncoderAugmentedPolicy_TrainDecoderToY-Reacher-Conv4Dense3-L1',\n",
    "#         \"net_func\": lambda: LPGTX_fixed_img_enc_pol_train_env_dec(\n",
    "#             i_encoder=img_encoder_4_16_3,\n",
    "#             e_decoder=lambda: Dense([4096, 512, 6], last_act='sigmoid', prefix='envdec'),\n",
    "#             policy=pretrain_pol_augmented\n",
    "#         ),\n",
    "#         \"data_adapter_func\": simplereacheradapters.XtIt_scaled_adapter,\n",
    "#         \"data_to_label_adapter\": simplereacheradapters.Ut_scaled_adapter_zero_center,\n",
    "#         \"loss_adapter_func\": l1_loss_adapter,\n",
    "#      },\n",
    "#     {\n",
    "#     },\n",
    "#     {\n",
    "#     }],\n",
    "#     [{\n",
    "#         \"expt_prefix\":'LPGTX_FreshWithoutPreTraining_TrainEndToEnd-Reacher-Conv4Dense3-L1',\n",
    "#         \"net_func\": ItoU_ours_untrained_func,\n",
    "#         \"data_adapter_func\": simplereacheradapters.XtIt_scaled_adapter,\n",
    "#         \"data_to_label_adapter\": simplereacheradapters.Ut_scaled_adapter_zero_center,\n",
    "#         \"loss_adapter_func\": l1_loss_adapter,\n",
    "#      },\n",
    "#     {\n",
    "#     },\n",
    "#     {\n",
    "#     }],\n",
    "#     [{\n",
    "#         \"expt_prefix\":'LPGTX_FreshWithoutPreTraining_AugmentedPolicy_TrainEndToEnd-Reacher-Conv4Dense3-L1',\n",
    "#         \"net_func\": lambda: LPGTX_Fresh(\n",
    "#             policy = Dense(layer_dims=[9, 16, 16, 3], last_act='tanh', prefix='pol'),\n",
    "#             e_decoder = lambda: Dense([4096, 512, 6], last_act='sigmoid', prefix='envdec'),\n",
    "#             i_encoder=img_encoder_4_16_3\n",
    "#         ),\n",
    "#         \"data_adapter_func\": simplereacheradapters.XtIt_scaled_adapter,\n",
    "#         \"data_to_label_adapter\": simplereacheradapters.Ut_scaled_adapter_zero_center,\n",
    "#         \"loss_adapter_func\": l1_loss_adapter,\n",
    "#      },\n",
    "#     {\n",
    "#     },\n",
    "#     {\n",
    "#     }],\n",
    "#     [{\n",
    "#         \"expt_prefix\":'LPGTX_PretrainedImageEncoderPolicy_TrainEndToEnd-Reacher-Conv4Dense3-L1',\n",
    "#         \"net_func\": lambda: LPGTX_fixed_img_enc_pol_train_env_dec_end_to_end(\n",
    "#             i_encoder=img_encoder_4_16_3,\n",
    "#             e_decoder=lambda: Dense([4096, 512, 3], last_act='sigmoid', prefix='envdec'),\n",
    "#             policy=pretrain_policy\n",
    "#         ),\n",
    "#         \"data_adapter_func\": simplereacheradapters.XtIt_scaled_adapter,\n",
    "#         \"data_to_label_adapter\": simplereacheradapters.Ut_scaled_adapter_zero_center,\n",
    "#         \"loss_adapter_func\": l1_loss_adapter,\n",
    "#      },\n",
    "#     {\n",
    "#     },\n",
    "#     {\n",
    "#     }],\n",
    "#     [{\n",
    "#         \"expt_prefix\":'LPGTX_PretrainedImageEncoderAugmentedPolicy_TrainEndToEnd-Reacher-Conv4Dense3-L1',\n",
    "#         \"net_func\": lambda: LPGTX_fixed_img_enc_pol_train_env_dec_end_to_end(\n",
    "#             i_encoder=img_encoder_4_16_3,\n",
    "#             e_decoder=lambda: Dense([4096, 512, 6], last_act='sigmoid', prefix='envdec'),\n",
    "#             policy=pretrain_pol_augmented\n",
    "#         ),\n",
    "#         \"data_adapter_func\": simplereacheradapters.XtIt_scaled_adapter,\n",
    "#         \"data_to_label_adapter\": simplereacheradapters.Ut_scaled_adapter_zero_center,\n",
    "#         \"loss_adapter_func\": l1_loss_adapter,\n",
    "#      },\n",
    "#     {\n",
    "#     },\n",
    "#     {\n",
    "#     }],\n",
    "#     [{\n",
    "#         \"expt_prefix\":'LPGTX_RegularPolicyFinetuneEndToEnd_AfterDecoder_LowLR-Reacher-Conv4Dense3-L1',\n",
    "#         \"net_func\": lambda: finetune_pretrained_end_to_end(\n",
    "#             load_pretrained('Policies/09-09/run2_100_epochs/09-09-21-22-50-LPGTX_FixImageEncoderPolicy_TrainDecoderToY-Reacher-Conv4Dense3-L1')\n",
    "#         ),\n",
    "#         \"data_adapter_func\": simplereacheradapters.XtIt_scaled_adapter,\n",
    "#         \"data_to_label_adapter\": simplereacheradapters.Ut_scaled_adapter_zero_center,\n",
    "#         \"loss_adapter_func\": l1_loss_adapter,\n",
    "#      },\n",
    "#     {\n",
    "#     },\n",
    "#     {\n",
    "#         \"optimizer_func\": lambda net: optim.Adam(net.parameters(), lr=1e-4)\n",
    "#     }],\n",
    "#     [{\n",
    "#         \"expt_prefix\":'LPGTX_AugmentedPolicyFinetuneEndToEnd_AfterDecoder_LowLR-Reacher-Conv4Dense3-L1',\n",
    "#         \"net_func\": lambda: finetune_pretrained_end_to_end(\n",
    "#             load_pretrained('Policies/09-28/run2-decoder-100-epochs/09-28-21-38-10-LPGTX_FixImageEncoderAugmentedPolicy_TrainDecoderToY-Reacher-Conv4Dense3-L1')\n",
    "#         ),\n",
    "#         \"data_adapter_func\": simplereacheradapters.XtIt_scaled_adapter,\n",
    "#         \"data_to_label_adapter\": simplereacheradapters.Ut_scaled_adapter_zero_center,\n",
    "#         \"loss_adapter_func\": l1_loss_adapter,\n",
    "#      },\n",
    "#     {\n",
    "#     },\n",
    "#     {\n",
    "#         \"optimizer_func\": lambda net: optim.Adam(net.parameters(), lr=1e-4)\n",
    "#     }],\n",
    "#     [{\n",
    "#         \"expt_prefix\":'LPGTX_RegularPolicyFinetuneEndToEnd_AfterDecoder_RegularLR-Reacher-Conv4Dense3-L1',\n",
    "#         \"net_func\": lambda: finetune_pretrained_end_to_end(\n",
    "#             load_pretrained('Policies/09-09/run2_100_epochs/09-09-21-22-50-LPGTX_FixImageEncoderPolicy_TrainDecoderToY-Reacher-Conv4Dense3-L1')\n",
    "#         ),\n",
    "#         \"data_adapter_func\": simplereacheradapters.XtIt_scaled_adapter,\n",
    "#         \"data_to_label_adapter\": simplereacheradapters.Ut_scaled_adapter_zero_center,\n",
    "#         \"loss_adapter_func\": l1_loss_adapter,\n",
    "#      },\n",
    "#     {\n",
    "#     },\n",
    "#     {\n",
    "#     }],\n",
    "#     [{\n",
    "#         \"expt_prefix\":'LPGTX_AugmentedPolicyFinetuneEndToEnd_AfterDecoder_RegularLR-Reacher-Conv4Dense3-L1',\n",
    "#         \"net_func\": lambda: finetune_pretrained_end_to_end(\n",
    "#             load_pretrained('Policies/09-09/run2_100_epochs/09-10-01-03-19-LPGTX_FixImageEncoderAugmentedPolicy_TrainDecoderToY-Reacher-Conv4Dense3-L1')\n",
    "#         ),\n",
    "#         \"data_adapter_func\": simplereacheradapters.XtIt_scaled_adapter,\n",
    "#         \"data_to_label_adapter\": simplereacheradapters.Ut_scaled_adapter_zero_center,\n",
    "#         \"loss_adapter_func\": l1_loss_adapter,\n",
    "#      },\n",
    "#     {\n",
    "#     },\n",
    "#     {\n",
    "#     }],\n",
    "#   Train policy using fixed Image To Env function\n",
    "#     [{\n",
    "#         \"expt_prefix\":'FixImageToEnv_TrainFreshPolicy-Reacher-Conv4Dense3-MSE',\n",
    "#         \"net_func\": lambda: latent_policy_from_latent(pretrain_img_to_env),\n",
    "#         \"data_adapter_func\": simplereacheradapters.It_scaled_adapter,\n",
    "#         \"data_to_label_adapter\": simplereacheradapters.Ut_scaled_adapter_zero_center,\n",
    "#         \"loss_adapter_func\": mse_loss_adapter,\n",
    "#      },\n",
    "#     {\n",
    "#     },\n",
    "#     {\n",
    "#         \"loss_adapter\": l1_loss_adapter\n",
    "#     }],\n",
    "#   Image To Env function\n",
    "#     [{\n",
    "#         \"expt_prefix\":'ImageToEnv-Reacher-Conv4Dense3-MSE',\n",
    "#         \"net_func\": lambda: image_to_env(img_encoder, env_decoder),\n",
    "#         \"data_adapter_func\": simplereacheradapters.It_scaled_adapter,\n",
    "#         \"data_to_label_adapter\": simplereacheradapters.XtYt_scaled_adapter,\n",
    "#         \"loss_adapter_func\": mse_loss_adapter,\n",
    "#      },\n",
    "#     {\n",
    "#     },\n",
    "#     {\n",
    "#         \"loss_adapter\": l1_loss_adapter\n",
    "#     }],\n",
    "#   Policy (Low-dimensional)\n",
    "#     [{\n",
    "#         \"expt_prefix\":'FixedGoalClearBGImageSize64-LowDimensionalPolicy_X_Y-Reacher-Dense4WithTanh-L1',\n",
    "#         \"net_func\": lambda: Dense(layer_dims=[6, 16, 16, 3], last_act='tanh', prefix='pol'),\n",
    "#         \"data_adapter_func\": simplereacheradapters.XtYt_scaled_adapter,\n",
    "#         \"data_to_label_adapter\": simplereacheradapters.Ut_scaled_adapter_zero_center,\n",
    "#         \"loss_adapter_func\": l1_loss_adapter,\n",
    "#      },\n",
    "#     {\n",
    "#     },\n",
    "#     {\n",
    "#         \"loss_adapter\": l1_loss_adapter\n",
    "#     }],\n",
    "#     [{\n",
    "#         \"expt_prefix\":'FixedGoalClearBGImageSize64-LowDimensionalPolicy_X_XY-Reacher-Dense4WithTanh-L1',\n",
    "#         \"net_func\": lambda: Dense(layer_dims=[9, 16, 16, 3], last_act='tanh', prefix='pol'),\n",
    "#         \"data_adapter_func\": simplereacheradapters.Xt_XtYt_scaled_adapter,\n",
    "#         \"data_to_label_adapter\": simplereacheradapters.Ut_scaled_adapter_zero_center,\n",
    "#         \"loss_adapter_func\": l1_loss_adapter,\n",
    "#      },\n",
    "#     {\n",
    "#     },\n",
    "#     {\n",
    "#         \"loss_adapter\": l1_loss_adapter\n",
    "#     }],\n",
    "#   Image to policy : Direct\n",
    "#     [{\n",
    "#         \"expt_prefix\":'FixedGoalClearBGImageSize64_ImageToPolicy-Reacher-Nvidia-L1',\n",
    "#         \"net_func\": lambda : Nvidia(in_channels=1), \n",
    "#         \"data_adapter_func\": simplereacheradapters.It_scaled_HW_adapter,\n",
    "#         \"data_to_label_adapter\": simplereacheradapters.Ut_scaled_adapter_zero_center,\n",
    "#         \"loss_adapter_func\": l1_loss_adapter,\n",
    "#      },\n",
    "#     {\n",
    "#     },\n",
    "#     {\n",
    "#         \"loss_adapter\": l1_loss_adapter\n",
    "#     }],\n",
    "#     [{\n",
    "#         \"expt_prefix\":'FixedGoalClearBGImageSize64_ImageToPolicy-Reacher-Conv4Dense3-L1',\n",
    "#         \"net_func\": ItoU_Baseline_func, \n",
    "#         \"data_adapter_func\": simplereacheradapters.It_scaled_adapter,\n",
    "#         \"data_to_label_adapter\": simplereacheradapters.Ut_scaled_adapter_zero_center,\n",
    "#         \"loss_adapter_func\": l1_loss_adapter,\n",
    "#      },\n",
    "#     {\n",
    "#     },\n",
    "#     {\n",
    "#         \"loss_adapter\": l1_loss_adapter\n",
    "#     }],\n",
    "#   Image autoencoder\n",
    "#     [{\n",
    "#         \"expt_prefix\":'FixedGoalClearBGImageSize64-ImageAutoEncoder-Reacher-ComposedAutoEncoder3_16_3-L1',\n",
    "#         \"net_func\": img_auto_encoder_3_16_3,\n",
    "#         \"data_adapter_func\": simplereacheradapters.It_scaled_adapter,\n",
    "#         \"loss_adapter_func\": l1_loss_adapter,\n",
    "#      },\n",
    "#     {\n",
    "#     },\n",
    "#     {\n",
    "#         \"loss_adapter\": l1_loss_adapter\n",
    "#     }],\n",
    "#     [{\n",
    "#         \"expt_prefix\":'FixedGoalDataset-ImageAutoEncoder-Reacher-ComposedAutoEncoder4_16_3-L1-LowLRAdam',\n",
    "#         \"net_func\": img_auto_encoder_4_16_3,\n",
    "#         \"data_adapter_func\": simplereacheradapters.It_scaled_adapter,\n",
    "#         \"loss_adapter_func\": l1_loss_adapter,\n",
    "#      },\n",
    "#     {\n",
    "#         \"optimizer_func\": lambda net: optim.Adam(net.parameters(), lr=1e-4)\n",
    "#     },\n",
    "#     {\n",
    "#         \"loss_adapter\": l1_loss_adapter\n",
    "#     }],\n",
    "#     [{\n",
    "#         \"expt_prefix\":'FixedGoalLargerDataset-ImageAutoEncoder-Reacher-ComposedAutoEncoder4_16_3-L1',\n",
    "#         \"net_func\": img_auto_encoder_4_16_3,\n",
    "#         \"data_adapter_func\": simplereacheradapters.It_scaled_adapter,\n",
    "#         \"loss_adapter_func\": l1_loss_adapter,\n",
    "#      },\n",
    "#     {\n",
    "#     },\n",
    "#     {\n",
    "#         \"loss_adapter\": l1_loss_adapter\n",
    "#     }],\n",
    "#     [{\n",
    "#         \"expt_prefix\":'FixedGoalLargerDataset-ImageAutoEncoder-Reacher-CnnFcAutoEncoder_3_CNN_1_FC-L1',\n",
    "#         \"net_func\": lambda : CnnFcAutoEncoder(cnn_layer_channels=[16,16,16], fc_layer_channels=[1024,256]),\n",
    "#         \"data_adapter_func\": simplereacheradapters.It_scaled_adapter,\n",
    "#         \"loss_adapter_func\": l1_loss_adapter,\n",
    "#      },\n",
    "#     {\n",
    "#     },\n",
    "#     {\n",
    "#         \"loss_adapter\": l1_loss_adapter\n",
    "#     }],\n",
    "    [{\n",
    "        \"expt_prefix\":'FixedGoalLargerDataset-ImageAutoEncoder-Reacher-ComposedAutoEncoder_2_16_3-L1',\n",
    "        \"net_func\": img_auto_encoder_2_16_3,\n",
    "        \"data_adapter_func\": simplereacheradapters.It_scaled_adapter,\n",
    "        \"loss_adapter_func\": l1_loss_adapter,\n",
    "     },\n",
    "    {\n",
    "    },\n",
    "    {\n",
    "        \"loss_adapter\": l1_loss_adapter\n",
    "    }],\n",
    "]"
   ]
  },
  {
   "cell_type": "code",
   "execution_count": null,
   "metadata": {},
   "outputs": [
    {
     "name": "stdout",
     "output_type": "stream",
     "text": [
      "Experiment logs folder: runs/12-12-19-10-42-FixedGoalLargerDataset-ImageAutoEncoder-Reacher-ComposedAutoEncoder_2_16_3-L1\n"
     ]
    }
   ],
   "source": [
    "train_epochs = 100\n",
    "run_expts(train_epochs)"
   ]
  },
  {
   "cell_type": "code",
   "execution_count": null,
   "metadata": {},
   "outputs": [],
   "source": [
    "run_folder = 'runs/12-12-19-10-42-FixedGoalLargerDataset-ImageAutoEncoder-Reacher-ComposedAutoEncoder_2_16_3-L1'"
   ]
  },
  {
   "cell_type": "code",
   "execution_count": null,
   "metadata": {},
   "outputs": [],
   "source": [
    "start = time.time()\n",
    "\n",
    "for chkpt_file in utils.enumerate_files(rootdir=run_folder):\n",
    "    e = ExptEvaluator(chkpt_file, train_data, test_data, device)\n",
    "    e.test()\n",
    "    print ('Done with checkpoint file {}'.format(chkpt_file))\n",
    "\n",
    "print (\"Time Taken: {} sec\".format(time.time() - start))"
   ]
  },
  {
   "cell_type": "code",
   "execution_count": null,
   "metadata": {},
   "outputs": [],
   "source": [
    "plottinghelpers.save_all_plots_img_auto_encoder_run(rootdir=run_folder)"
   ]
  },
  {
   "cell_type": "code",
   "execution_count": null,
   "metadata": {},
   "outputs": [],
   "source": [
    "start = time.time()\n",
    "\n",
    "plottinghelpers.generate_img_reconstructions(\n",
    "    rootdir=run_folder,\n",
    "    device=device, train_data=train_data, test_data=test_data,\n",
    "    img_res=simplereacherdimensions.img_res)\n",
    "\n",
    "print (\"Time Taken: {} sec\".format(time.time() - start))"
   ]
  },
  {
   "cell_type": "code",
   "execution_count": 35,
   "metadata": {},
   "outputs": [
    {
     "data": {
      "text/plain": [
       "device(type='cpu')"
      ]
     },
     "execution_count": 35,
     "metadata": {},
     "output_type": "execute_result"
    }
   ],
   "source": [
    "cpu = torch.device('cpu')\n",
    "cpu"
   ]
  },
  {
   "cell_type": "code",
   "execution_count": 29,
   "metadata": {},
   "outputs": [
    {
     "data": {
      "text/plain": [
       "'data/simple_reacher/FixedGoal_ClearBG_Image64'"
      ]
     },
     "execution_count": 29,
     "metadata": {},
     "output_type": "execute_result"
    }
   ],
   "source": [
    "root_folder"
   ]
  },
  {
   "cell_type": "code",
   "execution_count": 30,
   "metadata": {},
   "outputs": [
    {
     "name": "stdout",
     "output_type": "stream",
     "text": [
      "Time Taken: 0.00011301040649414062 sec\n"
     ]
    }
   ],
   "source": [
    "start = time.time()\n",
    "train_traj_data = SimpleReacherTrajectoryDataset(root_folder, range(100), device=cpu) #only a subset of training_data\n",
    "test_traj_data = SimpleReacherTrajectoryDataset(root_folder, range(900, 1000), device=cpu)\n",
    "print (\"Time Taken: {} sec\".format(time.time() - start))"
   ]
  },
  {
   "cell_type": "code",
   "execution_count": 58,
   "metadata": {},
   "outputs": [],
   "source": [
    "pretrained_net = nn.Sequential(OrderedDict([\n",
    "                      ('ItoY', pretrain_img_to_env),\n",
    "                      ('pol', pretrain_policy),\n",
    "                    ])).to(cpu)\n",
    "pretrained_net = pretrained_net.eval()"
   ]
  },
  {
   "cell_type": "code",
   "execution_count": 37,
   "metadata": {},
   "outputs": [
    {
     "name": "stdout",
     "output_type": "stream",
     "text": [
      "Start processing checkpoint file runs/12-02-16-11-31-FixedGoalClearBGImageSize64-LowDimensionalPolicy_X_XY-Reacher-Dense4WithTanh-L1/train_checkpoint.tar\n",
      "-------------------------------------------------------------\n",
      "runs/12-02-16-11-31-FixedGoalClearBGImageSize64-LowDimensionalPolicy_X_XY-Reacher-Dense4WithTanh-L1\n",
      "-------------------------------------------------------------\n",
      "Number of Trajectories Ended up Within Goal Region (Goal Loss <= 0.10000000149011612): 100.0\n",
      "Average Policy L1 Loss: 0.00909535214304924\n",
      "Average Trajectory Loss: 0.05287719890475273\n",
      "Average Goal Loss: 0.006108595058321953\n",
      "Average Combined State Loss: 0.02839421108365059\n",
      "\n",
      "Least Policy L1 Error: Index = 42, Value = 0.003305479884147644\n",
      "Least Trajectory Error: Index = 42, Value = 0.019951289519667625\n",
      "Least Goal Error: Index = 79, Value = 0.0031661924440413713\n",
      "\n",
      "Highest Policy L1 Error: Index = 91, Value = 0.021842997521162033\n",
      "Highest Trajectory Error: Index = 4, Value = 0.12472083419561386\n",
      "Highest Goal Error: Index = 29, Value = 0.021558916196227074\n",
      "\n",
      "Time Taken: 261.2290139198303 sec\n"
     ]
    }
   ],
   "source": [
    "start = time.time()\n",
    "\n",
    "for chkpt_file in utils.enumerate_files(rootdir=run_folder):\n",
    "    print ('Start processing checkpoint file {}'.format(chkpt_file))\n",
    "    is_image_based_policy=False # DO NOT FORGET TO SET THESE TWO\n",
    "    policy_takes_robot_state=False\n",
    "    img_transform = None\n",
    "    # img_transform = lambda arr:np.where(np.bitwise_or(arr < 125, arr > 129), arr, np.zeros_like(arr)) #uncomment this for usual runs.\n",
    "    e = evaluator(chkpt_file, cpu, is_image_based_policy=is_image_based_policy, persist_to_disk=True, \n",
    "                  op_reverse_adapter=simplereacheradapters.Ut_scaled_adapter_zero_center_reverse,\n",
    "                  ip_adapter=simplereacheradapters.Xt_XtYt_scaled_adapter_eval,\n",
    "                  policy_takes_robot_state=policy_takes_robot_state,\n",
    "                  img_transform=img_transform\n",
    "                 )\n",
    "    e.evaluate(test_traj_data, target_folder='TestSet_Evaluations')\n",
    "    # e.evaluate(train_traj_data, target_folder='SmallTrainSet_Evaluations')\n",
    "    print ('')\n",
    "\n",
    "print (\"Time Taken: {} sec\".format(time.time() - start))"
   ]
  },
  {
   "cell_type": "code",
   "execution_count": 38,
   "metadata": {},
   "outputs": [
    {
     "name": "stdout",
     "output_type": "stream",
     "text": [
      "Processing folder : runs/12-02-16-11-31-FixedGoalClearBGImageSize64-LowDimensionalPolicy_X_XY-Reacher-Dense4WithTanh-L1\n",
      "Done\n"
     ]
    }
   ],
   "source": [
    "plottinghelpers.save_all_plots_policy_rollout_run(rootdir=run_folder)"
   ]
  },
  {
   "cell_type": "code",
   "execution_count": 33,
   "metadata": {},
   "outputs": [],
   "source": [
    "!mkdir 'runs/Policies/12-02'"
   ]
  },
  {
   "cell_type": "code",
   "execution_count": 39,
   "metadata": {},
   "outputs": [],
   "source": [
    "!mv $run_folder 'runs/Policies/12-02/'"
   ]
  },
  {
   "cell_type": "code",
   "execution_count": 49,
   "metadata": {},
   "outputs": [
    {
     "data": {
      "image/png": "[encoded data removed]",
      "text/plain": [
       "<Figure size 432x288 with 1 Axes>"
      ]
     },
     "metadata": {
      "needs_background": "light"
     },
     "output_type": "display_data"
    },
    {
     "name": "stdout",
     "output_type": "stream",
     "text": [
      "From left to right:\n",
      "09-01-13-50-28-ImageToPolicy-Reacher-ComposedAutoEncoder5Dense-L1\n",
      "09-01-20-46-16-Train_ImageEncoderAndPolicy_EndToEnd-Reacher-Conv5Dense4-L1\n",
      "09-01-21-40-35-Train_ImageEncoderAndAugmentedPolicy_EndToEnd-Reacher-Conv5Dense4-L1\n",
      "09-01-22-34-02-Train_ImageEncoderAndTrigPolicy_EndToEnd-Reacher-Conv5Dense4-L1\n",
      "09-02-10-06-01-ImageToPolicy-Reacher-ImageEncoder4_16_3Dense3-L1\n",
      "09-03-17-12-26-Train_PretrainedImageEncoderAndPolicy_EndToEnd-Reacher-Conv4Dense3-L1\n",
      "09-09-16-16-41-LPGTX_FixImageEncoderPolicy_TrainDecoderToY-Reacher-Conv4Dense3-L1\n",
      "09-09-21-22-50-LPGTX_FixImageEncoderPolicy_TrainDecoderToY-Reacher-Conv4Dense3-L1\n",
      "09-10-01-03-19-LPGTX_FixImageEncoderAugmentedPolicy_TrainDecoderToY-Reacher-Conv4Dense3-L1\n",
      "10-05-12-28-59-TrainOn500-Policy-Reacher-Dense4WithTanh-L1\n",
      "11-02-15-49-18-ImageSize64ClearBG_ImageToPolicy-Reacher-Conv4Dense3-L1\n",
      "11-02-16-25-33-ImageSize64_ImageToPolicy-Reacher-Conv4Dense3-L1\n",
      "11-02-17-10-37-ImageSize128_ImageToPolicy-Reacher-Conv4Dense3-L1\n",
      "11-04-12-57-12-ClearBGImageSize64_ImageToPolicy-Reacher-Conv4Dense3-L1\n",
      "11-04-13-58-16-ImageSize128_ImageToPolicy-Reacher-Conv4Dense3-L1\n",
      "11-04-14-26-18-ClearBGImageSize64_ImageToPolicy-Reacher-Conv4Dense3-L1\n",
      "11-04-16-52-56-FixedStartClearBGImage64_ImageToPolicy-Reacher-Conv4Dense3-L1\n",
      "11-05-17-57-31-ImageSize128_ImageToPolicy-Reacher-Conv4Dense3-L1\n",
      "11-05-20-39-07-ImageSize64_ImageToPolicy-Reacher-Conv4Dense3-L1\n",
      "11-16-14-05-36-ImageSize64_ImageToPolicy-Reacher-Nvidia-L1\n",
      "11-16-16-08-36-FixedGoalClearBGImageSize64_ImageToPolicy-Reacher-Nvidia-L1\n",
      "11-16-19-04-28-FixedGoalClearBGImageSize64_ImageToPolicy-Reacher-Conv4Dense3-L1\n"
     ]
    }
   ],
   "source": [
    "plottinghelpers.box_plot_across_runs(\n",
    "    rootdir='runs/Policies',\n",
    "    eval_folder_name='TestSet_Evaluations',\n",
    "    error_index=4,\n",
    "    metric_name='Goal Deviation'\n",
    ")"
   ]
  },
  {
   "cell_type": "code",
   "execution_count": 50,
   "metadata": {},
   "outputs": [
    {
     "data": {
      "image/png": "[encoded data removed]",
      "text/plain": [
       "<Figure size 432x288 with 1 Axes>"
      ]
     },
     "metadata": {
      "needs_background": "light"
     },
     "output_type": "display_data"
    },
    {
     "name": "stdout",
     "output_type": "stream",
     "text": [
      "From left to right:\n",
      "\n",
      "11-02-16-25-33-ImageSize64_ImageToPolicy-Reacher-Conv4Dense3-L1\n",
      "11-04-12-57-12-ClearBGImageSize64_ImageToPolicy-Reacher-Conv4Dense3-L1\n",
      "11-04-13-58-16-ImageSize128_ImageToPolicy-Reacher-Conv4Dense3-L1\n",
      "11-04-16-52-56-FixedStartClearBGImage64_ImageToPolicy-Reacher-Conv4Dense3-L1\n",
      "11-05-17-57-31-ImageSize128_ImageToPolicy-Reacher-Conv4Dense3-L1\n",
      "11-05-20-39-07-ImageSize64_ImageToPolicy-Reacher-Conv4Dense3-L1\n",
      "11-16-14-05-36-ImageSize64_ImageToPolicy-Reacher-Nvidia-L1\n",
      "11-16-16-08-36-FixedGoalClearBGImageSize64_ImageToPolicy-Reacher-Nvidia-L1\n",
      "11-16-19-04-28-FixedGoalClearBGImageSize64_ImageToPolicy-Reacher-Conv4Dense3-L1\n"
     ]
    }
   ],
   "source": [
    "plottinghelpers.box_plot_across_runs(\n",
    "    rootdir='runs/Policies/',\n",
    "    eval_folder_name='TestSet_Evaluations',\n",
    "    error_index=4,\n",
    "    metric_name='Goal Deviation',\n",
    "    include=[\n",
    "        '08-19-13-32-36-Policy-Reacher-Dense4WithTanh-L1',\n",
    "        '11-02-16-25-33-ImageSize64_ImageToPolicy-Reacher-Conv4Dense3-L1',\n",
    "        '11-04-12-57-12-ClearBGImageSize64_ImageToPolicy-Reacher-Conv4Dense3-L1',\n",
    "        '11-04-13-58-16-ImageSize128_ImageToPolicy-Reacher-Conv4Dense3-L1',\n",
    "        '11-04-16-52-56-FixedStartClearBGImage64_ImageToPolicy-Reacher-Conv4Dense3-L1',\n",
    "        '11-05-17-57-31-ImageSize128_ImageToPolicy-Reacher-Conv4Dense3-L1',\n",
    "        '11-05-20-39-07-ImageSize64_ImageToPolicy-Reacher-Conv4Dense3-L1',\n",
    "        '11-16-14-05-36-ImageSize64_ImageToPolicy-Reacher-Nvidia-L1',\n",
    "        '11-16-16-08-36-FixedGoalClearBGImageSize64_ImageToPolicy-Reacher-Nvidia-L1',\n",
    "        '11-16-19-04-28-FixedGoalClearBGImageSize64_ImageToPolicy-Reacher-Conv4Dense3-L1'\n",
    "    ]\n",
    ")"
   ]
  },
  {
   "cell_type": "code",
   "execution_count": 6,
   "metadata": {},
   "outputs": [
    {
     "data": {
      "image/png": "[encoded data removed]",
      "text/plain": [
       "<Figure size 432x288 with 1 Axes>"
      ]
     },
     "metadata": {
      "needs_background": "light"
     },
     "output_type": "display_data"
    },
    {
     "name": "stdout",
     "output_type": "stream",
     "text": [
      "From left to right:\n",
      "11-16-16-08-36-FixedGoalClearBGImageSize64_ImageToPolicy-Reacher-Nvidia-L1\n",
      "11-16-19-04-28-FixedGoalClearBGImageSize64_ImageToPolicy-Reacher-Conv4Dense3-L1\n"
     ]
    }
   ],
   "source": [
    "plottinghelpers.box_plot_across_runs(\n",
    "    rootdir='runs/Policies',\n",
    "    eval_folder_name='TestSet_Evaluations',\n",
    "    error_index=4,\n",
    "    metric_name='Goal Deviation',\n",
    "    include=[\n",
    "        '11-16-16-08-36-FixedGoalClearBGImageSize64_ImageToPolicy-Reacher-Nvidia-L1',\n",
    "        '11-16-19-04-28-FixedGoalClearBGImageSize64_ImageToPolicy-Reacher-Conv4Dense3-L1'\n",
    "    ]\n",
    ")"
   ]
  },
  {
   "cell_type": "code",
   "execution_count": 12,
   "metadata": {},
   "outputs": [
    {
     "data": {
      "image/png": "[encoded data removed]",
      "text/plain": [
       "<Figure size 432x288 with 1 Axes>"
      ]
     },
     "metadata": {
      "needs_background": "light"
     },
     "output_type": "display_data"
    },
    {
     "name": "stdout",
     "output_type": "stream",
     "text": [
      "From left to right:\n",
      "08-19-13-32-36-Policy-Reacher-Dense4WithTanh-L1\n",
      "09-02-10-06-01-ImageToPolicy-Reacher-ImageEncoder4_16_3Dense3-L1\n",
      "09-03-17-12-26-Train_PretrainedImageEncoderAndPolicy_EndToEnd-Reacher-Conv4Dense3-L1\n",
      "09-10-11-37-11-LPGTX_PretrainedImageEncoderAugmentedPolicy_TrainEndToEnd-Reacher-Conv4Dense3-L1\n",
      "09-10-13-25-59-LPGTX_AugmentedPolicyFinetuneEndToEnd_AfterDecoder_LowLR-Reacher-Conv4Dense3-L1\n"
     ]
    }
   ],
   "source": [
    "plottinghelpers.box_plot_across_runs(\n",
    "    rootdir='runs/Policies',\n",
    "    eval_folder_name='TestSet_Evaluations',\n",
    "    error_index=4,\n",
    "    metric_name='Goal Deviation',\n",
    "    include=[\n",
    "        '08-19-13-32-36-Policy-Reacher-Dense4WithTanh-L1',\n",
    "        '09-02-10-06-01-ImageToPolicy-Reacher-ImageEncoder4_16_3Dense3-L1',\n",
    "        '09-03-17-12-26-Train_PretrainedImageEncoderAndPolicy_EndToEnd-Reacher-Conv4Dense3-L1',\n",
    "        '09-10-11-37-11-LPGTX_PretrainedImageEncoderAugmentedPolicy_TrainEndToEnd-Reacher-Conv4Dense3-L1',\n",
    "        '09-10-13-25-59-LPGTX_AugmentedPolicyFinetuneEndToEnd_AfterDecoder_LowLR-Reacher-Conv4Dense3-L1'\n",
    "    ]\n",
    ")"
   ]
  },
  {
   "cell_type": "code",
   "execution_count": 30,
   "metadata": {},
   "outputs": [
    {
     "data": {
      "image/png": "[encoded data removed]",
      "text/plain": [
       "<Figure size 432x288 with 1 Axes>"
      ]
     },
     "metadata": {
      "needs_background": "light"
     },
     "output_type": "display_data"
    },
    {
     "name": "stdout",
     "output_type": "stream",
     "text": [
      "From left to right:\n",
      "09-02-10-06-01-ImageToPolicy-Reacher-ImageEncoder4_16_3Dense3-L1\n",
      "08-14-08-54-19-FixImageEncoderPolicy_TrainDecoder-Reacher-Conv5Dense3-MSE\n",
      "08-19-20-24-49-FixImageEncoderPolicy_TrainDecoder-Reacher-Conv5Dense4-L1\n",
      "08-25-14-03-35-FixImageEncoderAugmentedPolicy_TrainDecoder-Reacher-Conv5Dense4-L1\n",
      "08-25-20-26-27-FixImageEncoderTrigPolicy_TrainDecoder-Reacher-Conv5Dense4-L1\n"
     ]
    }
   ],
   "source": [
    "plottinghelpers.box_plot_across_runs(\n",
    "    rootdir='runs/Policies',\n",
    "    eval_folder_name='TestSet_Evaluations',\n",
    "    error_index=4,\n",
    "    metric_name='Goal Deviation',\n",
    "    include=[\n",
    "        '09-02-10-06-01-ImageToPolicy-Reacher-ImageEncoder4_16_3Dense3-L1',\n",
    "        '08-19-20-24-49-FixImageEncoderPolicy_TrainDecoder-Reacher-Conv5Dense4-L1',\n",
    "        '08-25-14-03-35-FixImageEncoderAugmentedPolicy_TrainDecoder-Reacher-Conv5Dense4-L1',\n",
    "        '08-25-20-26-27-FixImageEncoderTrigPolicy_TrainDecoder-Reacher-Conv5Dense4-L1'\n",
    "    ]\n",
    ")"
   ]
  },
  {
   "cell_type": "code",
   "execution_count": 31,
   "metadata": {},
   "outputs": [
    {
     "data": {
      "image/png": "[encoded data removed]",
      "text/plain": [
       "<Figure size 432x288 with 1 Axes>"
      ]
     },
     "metadata": {
      "needs_background": "light"
     },
     "output_type": "display_data"
    },
    {
     "name": "stdout",
     "output_type": "stream",
     "text": [
      "From left to right:\n",
      "08-19-13-32-36-Policy-Reacher-Dense4WithTanh-L1\n",
      "08-13-11-15-00-FixImageToEnv_TrainFreshPolicy-Reacher-Conv4Dense3-MSE\n",
      "\n",
      "09-02-10-06-01-ImageToPolicy-Reacher-ImageEncoder4_16_3Dense3-L1\n"
     ]
    }
   ],
   "source": [
    "plottinghelpers.box_plot_across_runs(\n",
    "    rootdir='runs/Policies',\n",
    "    eval_folder_name='TestSet_Evaluations',\n",
    "    error_index=4,\n",
    "    metric_name='Goal Deviation',\n",
    "    include=[\n",
    "        '08-19-13-32-36-Policy-Reacher-Dense4WithTanh-L1',\n",
    "        '08-13-11-15-00-FixImageToEnv_TrainFreshPolicy-Reacher-Conv4Dense3-MSE',\n",
    "        '08-14-08-54-19-FixImageEncoderPolicy_TrainDecoder-Reacher-Conv4Dense3-MSE',\n",
    "        '09-02-10-06-01-ImageToPolicy-Reacher-ImageEncoder4_16_3Dense3-L1'\n",
    "    ]\n",
    ")"
   ]
  },
  {
   "cell_type": "code",
   "execution_count": 31,
   "metadata": {},
   "outputs": [
    {
     "data": {
      "image/png": "[encoded data removed]",
      "text/plain": [
       "<Figure size 432x288 with 1 Axes>"
      ]
     },
     "metadata": {
      "needs_background": "light"
     },
     "output_type": "display_data"
    },
    {
     "name": "stdout",
     "output_type": "stream",
     "text": [
      "From left to right:\n",
      "08-19-13-32-36-Policy-Reacher-Dense4WithTanh-L1\n",
      "08-13-11-15-00-FixImageToEnv_TrainFreshPolicy-Reacher-Conv4Dense3-MSE\n"
     ]
    }
   ],
   "source": [
    "plottinghelpers.box_plot_across_runs(\n",
    "    rootdir='runs/Policies',\n",
    "    eval_folder_name='TestSet_Evaluations',\n",
    "    error_index=4,\n",
    "    metric_name='Goal Deviation',\n",
    "    include=[\n",
    "        '08-19-13-32-36-Policy-Reacher-Dense4WithTanh-L1',\n",
    "        '08-13-11-15-00-FixImageToEnv_TrainFreshPolicy-Reacher-Conv4Dense3-MSE',\n",
    "    ]\n",
    ")"
   ]
  },
  {
   "cell_type": "code",
   "execution_count": 32,
   "metadata": {},
   "outputs": [
    {
     "data": {
      "image/png": "[encoded data removed]",
      "text/plain": [
       "<Figure size 432x288 with 1 Axes>"
      ]
     },
     "metadata": {
      "needs_background": "light"
     },
     "output_type": "display_data"
    },
    {
     "name": "stdout",
     "output_type": "stream",
     "text": [
      "From left to right:\n",
      "08-19-13-32-36-Policy-Reacher-Dense4WithTanh-L1\n",
      "\n"
     ]
    }
   ],
   "source": [
    "plottinghelpers.box_plot_across_runs(\n",
    "    rootdir='runs/Policies',\n",
    "    eval_folder_name='TestSet_Evaluations',\n",
    "    error_index=4,\n",
    "    metric_name='Goal Deviation',\n",
    "    include=[\n",
    "    '08-19-13-32-36-Policy-Reacher-Dense4WithTanh-L1',\n",
    "    '08-14-08-54-19-FixImageEncoderPolicy_TrainDecoder-Reacher-Conv4Dense3-MSE',\n",
    "    ]\n",
    ")"
   ]
  },
  {
   "cell_type": "code",
   "execution_count": 12,
   "metadata": {},
   "outputs": [],
   "source": [
    "img_pol = load_pretrained('Policies/08-19/08-19-20-24-49-FixImageEncoderPolicy_TrainDecoder-Reacher-Conv5Dense4-L1')\n",
    "img_pol = img_pol.cpu()"
   ]
  },
  {
   "cell_type": "code",
   "execution_count": 16,
   "metadata": {},
   "outputs": [],
   "source": [
    "traj = test_traj_data[0]"
   ]
  },
  {
   "cell_type": "code",
   "execution_count": 17,
   "metadata": {},
   "outputs": [
    {
     "name": "stdout",
     "output_type": "stream",
     "text": [
      "torch.Size([25, 65536])\n",
      "torch.Size([25, 3])\n",
      "tensor([[-0.0185, -0.0049,  0.0049],\n",
      "        [-0.0185, -0.0049,  0.0049],\n",
      "        [-0.0185, -0.0049,  0.0049],\n",
      "        [-0.0185, -0.0049,  0.0049],\n",
      "        [-0.0185, -0.0049,  0.0049],\n",
      "        [-0.0185, -0.0049,  0.0049],\n",
      "        [-0.0185, -0.0049,  0.0049],\n",
      "        [-0.0185, -0.0049,  0.0049],\n",
      "        [-0.0185, -0.0049,  0.0049],\n",
      "        [-0.0185, -0.0049,  0.0049],\n",
      "        [-0.0185, -0.0049,  0.0049],\n",
      "        [-0.0185, -0.0049,  0.0049],\n",
      "        [-0.0185, -0.0049,  0.0049],\n",
      "        [-0.0185, -0.0049,  0.0049],\n",
      "        [-0.0185, -0.0049,  0.0049],\n",
      "        [-0.0185, -0.0049,  0.0049],\n",
      "        [-0.0185, -0.0049,  0.0049],\n",
      "        [-0.0185, -0.0049,  0.0049],\n",
      "        [-0.0185, -0.0049,  0.0049],\n",
      "        [-0.0185, -0.0049,  0.0049],\n",
      "        [-0.0185, -0.0049,  0.0049],\n",
      "        [-0.0185, -0.0049,  0.0049],\n",
      "        [-0.0185, -0.0049,  0.0049],\n",
      "        [-0.0185, -0.0049,  0.0049],\n",
      "        [-0.0185, -0.0049,  0.0049]], grad_fn=<TanhBackward>)\n",
      "tensor([[-0.0037, -0.0010,  0.0010],\n",
      "        [-0.0037, -0.0010,  0.0010],\n",
      "        [-0.0037, -0.0010,  0.0010],\n",
      "        [-0.0037, -0.0010,  0.0010],\n",
      "        [-0.0037, -0.0010,  0.0010],\n",
      "        [-0.0037, -0.0010,  0.0010],\n",
      "        [-0.0037, -0.0010,  0.0010],\n",
      "        [-0.0037, -0.0010,  0.0010],\n",
      "        [-0.0037, -0.0010,  0.0010],\n",
      "        [-0.0037, -0.0010,  0.0010],\n",
      "        [-0.0037, -0.0010,  0.0010],\n",
      "        [-0.0037, -0.0010,  0.0010],\n",
      "        [-0.0037, -0.0010,  0.0010],\n",
      "        [-0.0037, -0.0010,  0.0010],\n",
      "        [-0.0037, -0.0010,  0.0010],\n",
      "        [-0.0037, -0.0010,  0.0010],\n",
      "        [-0.0037, -0.0010,  0.0010],\n",
      "        [-0.0037, -0.0010,  0.0010],\n",
      "        [-0.0037, -0.0010,  0.0010],\n",
      "        [-0.0037, -0.0010,  0.0010],\n",
      "        [-0.0037, -0.0010,  0.0010],\n",
      "        [-0.0037, -0.0010,  0.0010],\n",
      "        [-0.0037, -0.0010,  0.0010],\n",
      "        [-0.0037, -0.0010,  0.0010],\n",
      "        [-0.0037, -0.0010,  0.0010]], grad_fn=<MulBackward0>)\n",
      "tensor([[ 0.0212, -0.0462, -0.0826],\n",
      "        [ 0.0072, -0.0191,  0.0033],\n",
      "        [ 0.0319, -0.0847,  0.0339],\n",
      "        [ 0.0324, -0.0886,  0.0345],\n",
      "        [ 0.0324, -0.0894,  0.0345],\n",
      "        [ 0.0324, -0.0896,  0.0345],\n",
      "        [ 0.0324, -0.0896,  0.0345],\n",
      "        [ 0.0324, -0.0896,  0.0345],\n",
      "        [ 0.0324, -0.0896,  0.0345],\n",
      "        [ 0.0324, -0.0896,  0.0345],\n",
      "        [ 0.0324, -0.0896,  0.0345],\n",
      "        [ 0.0324, -0.0896,  0.0345],\n",
      "        [ 0.0324, -0.0896,  0.0345],\n",
      "        [ 0.0324, -0.0896,  0.0345],\n",
      "        [ 0.0324, -0.0896,  0.0345],\n",
      "        [ 0.0324, -0.0896,  0.0345],\n",
      "        [ 0.0324, -0.0896,  0.0345],\n",
      "        [ 0.0324, -0.0896,  0.0345],\n",
      "        [ 0.0324, -0.0896,  0.0345],\n",
      "        [ 0.0324, -0.0896,  0.0345],\n",
      "        [ 0.0324, -0.0896,  0.0345],\n",
      "        [ 0.0324, -0.0896,  0.0345],\n",
      "        [ 0.0324, -0.0896,  0.0345],\n",
      "        [ 0.0324, -0.0896,  0.0345],\n",
      "        [ 0.0000,  0.0000,  0.0000]], dtype=torch.float64)\n",
      "tensor(0.0489, dtype=torch.float64, grad_fn=<MeanBackward0>)\n"
     ]
    }
   ],
   "source": [
    "ip_data = simplereacheradapters.It_scaled_adapter(traj).float()\n",
    "op_data = img_pol(ip_data)\n",
    "print (ip_data.shape)\n",
    "print (op_data.shape)\n",
    "print (op_data)\n",
    "print (simplereacheradapters.Ut_scaled_adapter_zero_center_reverse(op_data))\n",
    "print (traj['states'][:, 6:])\n",
    "print (F.l1_loss(traj['states'][:, 6:], simplereacheradapters.Ut_scaled_adapter_zero_center_reverse(op_data)))"
   ]
  },
  {
   "cell_type": "code",
   "execution_count": 18,
   "metadata": {},
   "outputs": [],
   "source": [
    "ld_pol = pretrain_policy.cpu()"
   ]
  },
  {
   "cell_type": "code",
   "execution_count": 19,
   "metadata": {},
   "outputs": [
    {
     "name": "stdout",
     "output_type": "stream",
     "text": [
      "torch.Size([25, 6])\n",
      "torch.Size([25, 3])\n",
      "tensor([[ 0.1406, -0.4868,  0.1918],\n",
      "        [ 0.1373, -0.4714,  0.2155],\n",
      "        [ 0.1382, -0.4705,  0.2142],\n",
      "        [ 0.1430, -0.4702,  0.2030],\n",
      "        [ 0.1481, -0.4697,  0.1914],\n",
      "        [ 0.1533, -0.4690,  0.1796],\n",
      "        [ 0.1549, -0.4687,  0.1721],\n",
      "        [ 0.1541, -0.4660,  0.1732],\n",
      "        [ 0.1533, -0.4633,  0.1742],\n",
      "        [ 0.1525, -0.4606,  0.1753],\n",
      "        [ 0.1516, -0.4579,  0.1764],\n",
      "        [ 0.1607, -0.4558,  0.1676],\n",
      "        [ 0.1697, -0.4542,  0.1603],\n",
      "        [ 0.1748, -0.4532,  0.1597],\n",
      "        [ 0.1799, -0.4522,  0.1592],\n",
      "        [ 0.1803, -0.4524,  0.1577],\n",
      "        [ 0.1779, -0.4534,  0.1556],\n",
      "        [ 0.1756, -0.4543,  0.1535],\n",
      "        [ 0.1709, -0.4546,  0.1537],\n",
      "        [ 0.1618, -0.4481,  0.1652],\n",
      "        [ 0.1701, -0.4174,  0.1800],\n",
      "        [ 0.1784, -0.3858,  0.1948],\n",
      "        [ 0.1780, -0.3510,  0.2002],\n",
      "        [ 0.1190, -0.2753,  0.1424],\n",
      "        [ 0.0181, -0.0299,  0.0081]], grad_fn=<TanhBackward>)\n",
      "tensor([[ 0.0281, -0.0974,  0.0384],\n",
      "        [ 0.0275, -0.0943,  0.0431],\n",
      "        [ 0.0276, -0.0941,  0.0428],\n",
      "        [ 0.0286, -0.0940,  0.0406],\n",
      "        [ 0.0296, -0.0939,  0.0383],\n",
      "        [ 0.0307, -0.0938,  0.0359],\n",
      "        [ 0.0310, -0.0937,  0.0344],\n",
      "        [ 0.0308, -0.0932,  0.0346],\n",
      "        [ 0.0307, -0.0927,  0.0348],\n",
      "        [ 0.0305, -0.0921,  0.0351],\n",
      "        [ 0.0303, -0.0916,  0.0353],\n",
      "        [ 0.0321, -0.0912,  0.0335],\n",
      "        [ 0.0339, -0.0908,  0.0321],\n",
      "        [ 0.0350, -0.0906,  0.0319],\n",
      "        [ 0.0360, -0.0904,  0.0318],\n",
      "        [ 0.0361, -0.0905,  0.0315],\n",
      "        [ 0.0356, -0.0907,  0.0311],\n",
      "        [ 0.0351, -0.0909,  0.0307],\n",
      "        [ 0.0342, -0.0909,  0.0307],\n",
      "        [ 0.0324, -0.0896,  0.0330],\n",
      "        [ 0.0340, -0.0835,  0.0360],\n",
      "        [ 0.0357, -0.0772,  0.0390],\n",
      "        [ 0.0356, -0.0702,  0.0400],\n",
      "        [ 0.0238, -0.0551,  0.0285],\n",
      "        [ 0.0036, -0.0060,  0.0016]], grad_fn=<MulBackward0>)\n",
      "tensor([[ 0.0212, -0.0462, -0.0826],\n",
      "        [ 0.0072, -0.0191,  0.0033],\n",
      "        [ 0.0319, -0.0847,  0.0339],\n",
      "        [ 0.0324, -0.0886,  0.0345],\n",
      "        [ 0.0324, -0.0894,  0.0345],\n",
      "        [ 0.0324, -0.0896,  0.0345],\n",
      "        [ 0.0324, -0.0896,  0.0345],\n",
      "        [ 0.0324, -0.0896,  0.0345],\n",
      "        [ 0.0324, -0.0896,  0.0345],\n",
      "        [ 0.0324, -0.0896,  0.0345],\n",
      "        [ 0.0324, -0.0896,  0.0345],\n",
      "        [ 0.0324, -0.0896,  0.0345],\n",
      "        [ 0.0324, -0.0896,  0.0345],\n",
      "        [ 0.0324, -0.0896,  0.0345],\n",
      "        [ 0.0324, -0.0896,  0.0345],\n",
      "        [ 0.0324, -0.0896,  0.0345],\n",
      "        [ 0.0324, -0.0896,  0.0345],\n",
      "        [ 0.0324, -0.0896,  0.0345],\n",
      "        [ 0.0324, -0.0896,  0.0345],\n",
      "        [ 0.0324, -0.0896,  0.0345],\n",
      "        [ 0.0324, -0.0896,  0.0345],\n",
      "        [ 0.0324, -0.0896,  0.0345],\n",
      "        [ 0.0324, -0.0896,  0.0345],\n",
      "        [ 0.0324, -0.0896,  0.0345],\n",
      "        [ 0.0000,  0.0000,  0.0000]], dtype=torch.float64)\n",
      "tensor(0.0076, dtype=torch.float64, grad_fn=<MeanBackward0>)\n"
     ]
    }
   ],
   "source": [
    "ip_data = simplereacheradapters.XtYt_scaled_adapter(traj).float()\n",
    "print (ip_data.shape)\n",
    "op_data = ld_pol(ip_data)\n",
    "print (op_data.shape)\n",
    "print (op_data)\n",
    "print (simplereacheradapters.Ut_scaled_adapter_zero_center_reverse(op_data))\n",
    "print (traj['states'][:, 6:])\n",
    "print (F.l1_loss(traj['states'][:, 6:], simplereacheradapters.Ut_scaled_adapter_zero_center_reverse(op_data)))"
   ]
  },
  {
   "cell_type": "code",
   "execution_count": 27,
   "metadata": {},
   "outputs": [
    {
     "name": "stdout",
     "output_type": "stream",
     "text": [
      "Total trajectories where there is goal deviation in ground truth : 229\n",
      "Maximum goal deviation in ground truth : 0.033625187543541234\n"
     ]
    }
   ],
   "source": [
    "traj_data = SimpleReacherTrajectoryDataset(root_folder, range(5000), device=cpu)\n",
    "count = 0\n",
    "max_dev = 0\n",
    "for tId in range(len(traj_data)):\n",
    "    last_row = traj_data[tId][states_key][-1, :]\n",
    "    goal_dev_gt = F.l1_loss(last_row[:3], last_row[3:6])\n",
    "    if goal_dev_gt > 0.01:\n",
    "        # print (goal_dev_gt)\n",
    "        max_dev = max(max_dev, goal_dev_gt)\n",
    "        count += 1\n",
    "print ('Total trajectories where there is goal deviation in ground truth : {}'.format(count))\n",
    "print ('Maximum goal deviation in ground truth : {}'.format(max_dev))"
   ]
  },
  {
   "cell_type": "code",
   "execution_count": 28,
   "metadata": {},
   "outputs": [
    {
     "name": "stdout",
     "output_type": "stream",
     "text": [
      "runs/Policies/09-10/run1-10-epochs/09-10-10-40-06-LPGTX_PretrainedImageEncoderPolicy_TrainEndToEnd-Reacher-Conv4Dense3-L1/train_checkpoint.tar\n",
      "Deleting folder : runs/Policies/09-10/run1-10-epochs/09-10-10-40-06-LPGTX_PretrainedImageEncoderPolicy_TrainEndToEnd-Reacher-Conv4Dense3-L1/SmallTrainSet_Evaluations\n",
      "runs/Policies/09-10/run1-10-epochs/09-10-11-37-11-LPGTX_PretrainedImageEncoderAugmentedPolicy_TrainEndToEnd-Reacher-Conv4Dense3-L1/train_checkpoint.tar\n",
      "Deleting folder : runs/Policies/09-10/run1-10-epochs/09-10-11-37-11-LPGTX_PretrainedImageEncoderAugmentedPolicy_TrainEndToEnd-Reacher-Conv4Dense3-L1/SmallTrainSet_Evaluations\n",
      "runs/Policies/09-10/run1-10-epochs/09-10-12-32-12-LPGTX_RegularPolicyFinetuneEndToEnd_AfterDecoder_LowLR-Reacher-Conv4Dense3-L1/train_checkpoint.tar\n",
      "Deleting folder : runs/Policies/09-10/run1-10-epochs/09-10-12-32-12-LPGTX_RegularPolicyFinetuneEndToEnd_AfterDecoder_LowLR-Reacher-Conv4Dense3-L1/SmallTrainSet_Evaluations\n",
      "runs/Policies/09-10/run1-10-epochs/09-10-13-25-59-LPGTX_AugmentedPolicyFinetuneEndToEnd_AfterDecoder_LowLR-Reacher-Conv4Dense3-L1/train_checkpoint.tar\n",
      "Deleting folder : runs/Policies/09-10/run1-10-epochs/09-10-13-25-59-LPGTX_AugmentedPolicyFinetuneEndToEnd_AfterDecoder_LowLR-Reacher-Conv4Dense3-L1/SmallTrainSet_Evaluations\n",
      "runs/Policies/09-10/run1-10-epochs/09-10-14-26-17-LPGTX_RegularPolicyFinetuneEndToEnd_AfterDecoder_RegularLR-Reacher-Conv4Dense3-L1/train_checkpoint.tar\n",
      "Deleting folder : runs/Policies/09-10/run1-10-epochs/09-10-14-26-17-LPGTX_RegularPolicyFinetuneEndToEnd_AfterDecoder_RegularLR-Reacher-Conv4Dense3-L1/SmallTrainSet_Evaluations\n",
      "runs/Policies/09-10/run1-10-epochs/09-10-15-26-59-LPGTX_AugmentedPolicyFinetuneEndToEnd_AfterDecoder_RegularLR-Reacher-Conv4Dense3-L1/train_checkpoint.tar\n",
      "Deleting folder : runs/Policies/09-10/run1-10-epochs/09-10-15-26-59-LPGTX_AugmentedPolicyFinetuneEndToEnd_AfterDecoder_RegularLR-Reacher-Conv4Dense3-L1/SmallTrainSet_Evaluations\n",
      "Time Taken: 0.013300418853759766 sec\n"
     ]
    }
   ],
   "source": [
    "start = time.time()\n",
    "\n",
    "for chkpt_file in utils.enumerate_files(rootdir='runs/Policies/11-02'):\n",
    "    print (chkpt_file)\n",
    "    folder = os.path.join(os.path.dirname(chkpt_file), 'TestSet_Evaluations')\n",
    "    if os.path.exists(folder):\n",
    "        print ('Deleting folder : {}'.format(folder))\n",
    "        shutil.rmtree(folder, ignore_errors=True)\n",
    "#     os.rename(chkpt_file, chkpt_file+'.bkp')\n",
    "\n",
    "print (\"Time Taken: {} sec\".format(time.time() - start))"
   ]
  },
  {
   "cell_type": "code",
   "execution_count": 18,
   "metadata": {},
   "outputs": [],
   "source": [
    "expts = [\n",
    "#   Image to Policy: Use pretrained image encoder, policy, train decoder/end-to-end \n",
    "#     [{\n",
    "#         \"expt_prefix\":'Finetune_LowLR_FixImageEncoderTrigPolicy_TrainDecoder-Reacher-Conv5Dense4-L1',\n",
    "#         \"net_func\": lambda: finetune_pretrained('Policies/08-19/08-19-20-24-49-FixImageEncoderPolicy_TrainDecoder-Reacher-Conv5Dense4-L1'),\n",
    "#         \"data_adapter_func\": simplereacheradapters.It_scaled_adapter,\n",
    "#         \"data_to_label_adapter\": simplereacheradapters.Ut_scaled_adapter_zero_center,\n",
    "#         \"loss_adapter_func\": l1_loss_adapter,\n",
    "#      },\n",
    "#     {\n",
    "#         \"optimizer_func\": lambda net: optim.Adam(net.parameters(), lr=1e-4)\n",
    "#     },\n",
    "#     {\n",
    "#         \"loss_adapter\": l1_loss_adapter\n",
    "#     }],\n",
    "#     [{\n",
    "#         \"expt_prefix\":'Finetune_RegularLR_FixImageEncoderTrigPolicy_TrainDecoder-Reacher-Conv5Dense4-L1',\n",
    "#         \"net_func\": lambda: finetune_pretrained('Policies/08-19/08-19-20-24-49-FixImageEncoderPolicy_TrainDecoder-Reacher-Conv5Dense4-L1'),\n",
    "#         \"data_adapter_func\": simplereacheradapters.It_scaled_adapter,\n",
    "#         \"data_to_label_adapter\": simplereacheradapters.Ut_scaled_adapter_zero_center,\n",
    "#         \"loss_adapter_func\": l1_loss_adapter,\n",
    "#      },\n",
    "#     {\n",
    "#     },\n",
    "#     {\n",
    "#         \"loss_adapter\": l1_loss_adapter\n",
    "#     }],\n",
    "#     [{\n",
    "#         \"expt_prefix\":'Train_PretrainedImageEncoderAndPolicy_EndToEnd-Reacher-Conv4Dense3-L1',\n",
    "#         \"net_func\": lambda: latent_policy_pretrained_img_enc_pol_train_end_to_end\n",
    "#             (i_encoder=img_encoder_4_16_3, \n",
    "#              e_decoder=lambda: Dense([4096, 512, 6], last_act='sigmoid', prefix='envdec'),\n",
    "#              policy=pretrain_policy\n",
    "#             ),\n",
    "#         \"data_adapter_func\": simplereacheradapters.It_scaled_adapter,\n",
    "#         \"data_to_label_adapter\": simplereacheradapters.Ut_scaled_adapter_zero_center,\n",
    "#         \"loss_adapter_func\": l1_loss_adapter,\n",
    "#      },\n",
    "#     {\n",
    "#     },\n",
    "#     {\n",
    "#         \"loss_adapter\": l1_loss_adapter\n",
    "#     }],\n",
    "#     [{\n",
    "#         \"expt_prefix\":'Train_PretrainedImageEncoderAndAugmentedPolicy_EndToEnd-Reacher-Conv4Dense3-L1',\n",
    "#         \"net_func\": lambda: latent_policy_pretrained_img_enc_pol_train_end_to_end\n",
    "#             (i_encoder=img_encoder_4_16_3, \n",
    "#              e_decoder=lambda: Dense([4096, 512, 9], last_act='sigmoid', prefix='envdec'),\n",
    "#              policy=pretrain_pol_augmented\n",
    "#             ),\n",
    "#         \"data_adapter_func\": simplereacheradapters.It_scaled_adapter,\n",
    "#         \"data_to_label_adapter\": simplereacheradapters.Ut_scaled_adapter_zero_center,\n",
    "#         \"loss_adapter_func\": l1_loss_adapter,\n",
    "#      },\n",
    "#     {\n",
    "#     },\n",
    "#     {\n",
    "#         \"loss_adapter\": l1_loss_adapter\n",
    "#     }],\n",
    "#     [{\n",
    "#         \"expt_prefix\":'Train_PretrainedImageEncoderAndTrigPolicy_EndToEnd-Reacher-Conv4Dense3-L1',\n",
    "#         \"net_func\": lambda: latent_policy_pretrained_img_enc_pol_train_end_to_end\n",
    "#             (i_encoder=img_encoder_4_16_3, \n",
    "#              e_decoder=lambda: Dense([4096, 512, 12], last_act='sigmoid', prefix='envdec'),\n",
    "#              policy=pretrain_pol_trig\n",
    "#             ),\n",
    "#         \"data_adapter_func\": simplereacheradapters.It_scaled_adapter,\n",
    "#         \"data_to_label_adapter\": simplereacheradapters.Ut_scaled_adapter_zero_center,\n",
    "#         \"loss_adapter_func\": l1_loss_adapter,\n",
    "#      },\n",
    "#     {\n",
    "#     },\n",
    "#     {\n",
    "#         \"loss_adapter\": l1_loss_adapter\n",
    "#     }],\n",
    "\n",
    "#     [{\n",
    "#         \"expt_prefix\":'FixImageEncoderPolicy_TrainDecoder-Reacher-Conv4Dense3-L1',\n",
    "#         \"net_func\": lambda: latent_policy_fixed_img_enc_pol_train_env_dec\n",
    "#             (i_encoder=img_encoder_4_16_3, \n",
    "#              e_decoder=lambda: Dense([4096, 512, 6], last_act='sigmoid', prefix='envdec'),\n",
    "#              policy=pretrain_policy\n",
    "#             ),\n",
    "#         \"data_adapter_func\": simplereacheradapters.It_scaled_adapter,\n",
    "#         \"data_to_label_adapter\": simplereacheradapters.Ut_scaled_adapter_zero_center,\n",
    "#         \"loss_adapter_func\": l1_loss_adapter,\n",
    "#      },\n",
    "#     {\n",
    "#     },\n",
    "#     {\n",
    "#         \"loss_adapter\": l1_loss_adapter\n",
    "#     }],\n",
    "#     [{\n",
    "#         \"expt_prefix\":'FixImageEncoderAugmentedPolicy_TrainDecoder-Reacher-Conv4Dense3-L1',\n",
    "#         \"net_func\": lambda: latent_policy_fixed_img_enc_pol_train_env_dec\n",
    "#             (i_encoder=img_encoder_4_16_3, \n",
    "#              e_decoder=lambda: Dense([4096, 512, 9], last_act='sigmoid', prefix='envdec'),\n",
    "#              policy=pretrain_pol_augmented\n",
    "#             ),\n",
    "#         \"data_adapter_func\": simplereacheradapters.It_scaled_adapter,\n",
    "#         \"data_to_label_adapter\": simplereacheradapters.Ut_scaled_adapter_zero_center,\n",
    "#         \"loss_adapter_func\": l1_loss_adapter,\n",
    "#      },\n",
    "#     {\n",
    "#     },\n",
    "#     {\n",
    "#         \"loss_adapter\": l1_loss_adapter\n",
    "#     }],\n",
    "#     [{\n",
    "#         \"expt_prefix\":'FixImageEncoderTrigPolicy_TrainDecoder-Reacher-Conv4Dense3-L1',\n",
    "#         \"net_func\": lambda: latent_policy_fixed_img_enc_pol_train_env_dec\n",
    "#             (i_encoder=img_encoder_4_16_3, \n",
    "#              e_decoder=lambda: Dense([4096, 512, 12], last_act='sigmoid', prefix='envdec'),\n",
    "#              policy=pretrain_pol_trig\n",
    "#             ),\n",
    "#         \"data_adapter_func\": simplereacheradapters.It_scaled_adapter,\n",
    "#         \"data_to_label_adapter\": simplereacheradapters.Ut_scaled_adapter_zero_center,\n",
    "#         \"loss_adapter_func\": l1_loss_adapter,\n",
    "#      },\n",
    "#     {\n",
    "#     },\n",
    "#     {\n",
    "#         \"loss_adapter\": l1_loss_adapter\n",
    "#     }],\n",
    "#   Train policy using fixed Image To Env function\n",
    "#     [{\n",
    "#         \"expt_prefix\":'FixImageToEnv_TrainFreshPolicy-Reacher-Conv4Dense3-MSE',\n",
    "#         \"net_func\": lambda: latent_policy_from_latent(pretrain_img_to_env),\n",
    "#         \"data_adapter_func\": simplereacheradapters.It_scaled_adapter,\n",
    "#         \"data_to_label_adapter\": simplereacheradapters.Ut_scaled_adapter_zero_center,\n",
    "#         \"loss_adapter_func\": mse_loss_adapter,\n",
    "#      },\n",
    "#     {\n",
    "#     },\n",
    "#     {\n",
    "#         \"loss_adapter\": l1_loss_adapter\n",
    "#     }],\n",
    "#   Image To Env function\n",
    "#     [{\n",
    "#         \"expt_prefix\":'ImageToEnv-Reacher-Conv4Dense3-MSE',\n",
    "#         \"net_func\": lambda: image_to_env(img_encoder, env_decoder),\n",
    "#         \"data_adapter_func\": simplereacheradapters.It_scaled_adapter,\n",
    "#         \"data_to_label_adapter\": simplereacheradapters.XtYt_scaled_adapter,\n",
    "#         \"loss_adapter_func\": mse_loss_adapter,\n",
    "#      },\n",
    "#     {\n",
    "#     },\n",
    "#     {\n",
    "#         \"loss_adapter\": l1_loss_adapter\n",
    "#     }],\n",
    "#   Policy\n",
    "#     [{\n",
    "#         \"expt_prefix\":'Policy-Reacher-Dense4WithTanh-L1',\n",
    "#         \"net_func\": lambda: Dense(layer_dims=[6, 16, 16, 3], last_act='tanh', prefix='pol'),\n",
    "#         \"data_adapter_func\": simplereacheradapters.XtYt_scaled_adapter,\n",
    "#         \"data_to_label_adapter\": simplereacheradapters.Ut_scaled_adapter_zero_center,\n",
    "#         \"loss_adapter_func\": l1_loss_adapter,\n",
    "#      },\n",
    "#     {\n",
    "#     },\n",
    "#     {\n",
    "#         \"loss_adapter\": l1_loss_adapter\n",
    "#     }],\n",
    "#     [{\n",
    "#         \"expt_prefix\":'Policy_Augmented-Reacher-Dense4WithTanh-L1',\n",
    "#         \"net_func\": lambda: Dense(layer_dims=[9, 16, 16, 3], last_act='tanh', prefix='pol'),\n",
    "#         \"data_adapter_func\": simplereacheradapters.Xt_XtYt_scaled_adapter,\n",
    "#         \"data_to_label_adapter\": simplereacheradapters.Ut_scaled_adapter_zero_center,\n",
    "#         \"loss_adapter_func\": l1_loss_adapter,\n",
    "#      },\n",
    "#     {\n",
    "#     },\n",
    "#     {\n",
    "#         \"loss_adapter\": l1_loss_adapter\n",
    "#     }],\n",
    "#     [{\n",
    "#         \"expt_prefix\":'Policy_TrigAugmented-Reacher-Dense4WithTanh-L1',\n",
    "#         \"net_func\": lambda: Dense(layer_dims=[12, 16, 16, 3], last_act='tanh', prefix='pol'),\n",
    "#         \"data_adapter_func\": simplereacheradapters.XtYt_trig_adapter,\n",
    "#         \"data_to_label_adapter\": simplereacheradapters.Ut_scaled_adapter_zero_center,\n",
    "#         \"loss_adapter_func\": l1_loss_adapter,\n",
    "#      },\n",
    "#     {\n",
    "#     },\n",
    "#     {\n",
    "#         \"loss_adapter\": l1_loss_adapter\n",
    "#     }],\n",
    "#   Image to policy : Direct\n",
    "#     [{\n",
    "#         \"expt_prefix\":'ImageToPolicy-Reacher-ComposedAutoEncoder5Dense-L1',\n",
    "#         \"net_func\": lambda: combined(img_encoder_5_32_5, lambda: Dense(layer_dims=[2048, 512, 128, 3], last_act='tanh', prefix='pol')), \n",
    "#         \"data_adapter_func\": simplereacheradapters.It_scaled_adapter,\n",
    "#         \"data_to_label_adapter\": simplereacheradapters.Ut_scaled_adapter_zero_center,\n",
    "#         \"loss_adapter_func\": l1_loss_adapter,\n",
    "#      },\n",
    "#     {\n",
    "#     },\n",
    "#     {\n",
    "#         \"loss_adapter\": l1_loss_adapter\n",
    "#     }],\n",
    "#     [{\n",
    "#         \"expt_prefix\":'ImageToPolicy-Reacher-ComposedAutoEncoder5Dense-L1',\n",
    "#         \"net_func\": lambda: combined(img_encoder_5_32_5, lambda: Dense(layer_dims=[2048, 512, 3], last_act='tanh', prefix='pol')), \n",
    "#         \"data_adapter_func\": simplereacheradapters.It_scaled_adapter,\n",
    "#         \"data_to_label_adapter\": simplereacheradapters.Ut_scaled_adapter_zero_center,\n",
    "#         \"loss_adapter_func\": l1_loss_adapter,\n",
    "#      },\n",
    "#     {\n",
    "#     },\n",
    "#     {\n",
    "#         \"loss_adapter\": l1_loss_adapter\n",
    "#     }],\n",
    "#     [{\n",
    "#         \"expt_prefix\":'ImageToPolicy-Reacher-ImageEncoder4_16_3Dense3-L1',\n",
    "#         \"net_func\": lambda: combined(img_encoder_4_16_3, lambda: Dense(layer_dims=[4096, 512, 3], last_act='tanh', prefix='pol')), \n",
    "#         \"data_adapter_func\": simplereacheradapters.It_scaled_adapter,\n",
    "#         \"data_to_label_adapter\": simplereacheradapters.Ut_scaled_adapter_zero_center,\n",
    "#         \"loss_adapter_func\": l1_loss_adapter,\n",
    "#      },\n",
    "#     {\n",
    "#     },\n",
    "#     {\n",
    "#         \"loss_adapter\": l1_loss_adapter\n",
    "#     }],\n",
    "#     [{\n",
    "#         \"expt_prefix\":'ImageToPolicy-Reacher-ComposedAutoEncoder5Dense-L1',\n",
    "#         \"net_func\": lambda: combined(img_encoder_5_32_7, lambda: Dense(layer_dims=[2048, 512, 3], last_act='tanh', prefix='pol')), \n",
    "#         \"data_adapter_func\": simplereacheradapters.It_scaled_adapter,\n",
    "#         \"data_to_label_adapter\": simplereacheradapters.Ut_scaled_adapter_zero_center,\n",
    "#         \"loss_adapter_func\": l1_loss_adapter,\n",
    "#      },\n",
    "#     {\n",
    "#     },\n",
    "#     {\n",
    "#         \"loss_adapter\": l1_loss_adapter\n",
    "#     }],\n",
    "#   Image autoencoder\n",
    "#     [{\n",
    "#         \"expt_prefix\":'ImageAutoEncoder-Reacher-ComposedAutoEncoder4-MSE',\n",
    "#         \"net_func\": img_auto_encoder,\n",
    "#         \"data_adapter_func\": simplereacheradapters.It_scaled_adapter,\n",
    "#         \"loss_adapter_func\": mse_loss_adapter,\n",
    "#      },\n",
    "#     {\n",
    "#     },\n",
    "#     {\n",
    "#         \"loss_adapter\": l1_loss_adapter\n",
    "#     }],\n",
    "#     [{\n",
    "#         \"expt_prefix\":'ImageAutoEncoder-Reacher-ComposedAutoEncoder4-L1',\n",
    "#         \"net_func\": img_auto_encoder_4_16_3,\n",
    "#         \"data_adapter_func\": simplereacheradapters.It_scaled_adapter,\n",
    "#         \"loss_adapter_func\": l1_loss_adapter,\n",
    "#      },\n",
    "#     {\n",
    "#     },\n",
    "#     {\n",
    "#         \"loss_adapter\": l1_loss_adapter\n",
    "#     }],\n",
    "#     [{\n",
    "#         \"expt_prefix\":'ImageAutoEncoder-Reacher-ComposedAutoEncoder_5_16_7-L1',\n",
    "#         \"net_func\": img_auto_encoder_5_16_7,\n",
    "#         \"data_adapter_func\": simplereacheradapters.It_scaled_adapter,\n",
    "#         \"loss_adapter_func\": l1_loss_adapter,\n",
    "#      },\n",
    "#     {\n",
    "#     },\n",
    "#     {\n",
    "#         \"loss_adapter\": l1_loss_adapter\n",
    "#     }],\n",
    "#     [{\n",
    "#         \"expt_prefix\":'ImageAutoEncoder-Reacher-ComposedAutoEncoder_5_32_7-L1',\n",
    "#         \"net_func\": img_auto_encoder_5_32_7,\n",
    "#         \"data_adapter_func\": simplereacheradapters.It_scaled_adapter,\n",
    "#         \"loss_adapter_func\": l1_loss_adapter,\n",
    "#      },\n",
    "#     {\n",
    "#     },\n",
    "#     {\n",
    "#         \"loss_adapter\": l1_loss_adapter\n",
    "#     }],\n",
    "#     [{\n",
    "#         \"expt_prefix\":'ImageAutoEncoder-Reacher-ComposedAutoEncoder_5_16_5-L1',\n",
    "#         \"net_func\": img_auto_encoder_5_16_5,\n",
    "#         \"data_adapter_func\": simplereacheradapters.It_scaled_adapter,\n",
    "#         \"loss_adapter_func\": l1_loss_adapter,\n",
    "#      },\n",
    "#     {\n",
    "#     },\n",
    "#     {\n",
    "#         \"loss_adapter\": l1_loss_adapter\n",
    "#     }],\n",
    "#     [{\n",
    "#         \"expt_prefix\":'ImageAutoEncoder-Reacher-ComposedAutoEncoder_5_32_5-L1',\n",
    "#         \"net_func\": img_auto_encoder_5_32_5,\n",
    "#         \"data_adapter_func\": simplereacheradapters.It_scaled_adapter,\n",
    "#         \"loss_adapter_func\": l1_loss_adapter,\n",
    "#      },\n",
    "#     {\n",
    "#     },\n",
    "#     {\n",
    "#         \"loss_adapter\": l1_loss_adapter\n",
    "#     }],\n",
    "]"
   ]
  }
 ],
 "metadata": {
  "kernelspec": {
   "display_name": "Python 3",
   "language": "python",
   "name": "python3"
  },
  "language_info": {
   "codemirror_mode": {
    "name": "ipython",
    "version": 3
   },
   "file_extension": ".py",
   "mimetype": "text/x-python",
   "name": "python",
   "nbconvert_exporter": "python",
   "pygments_lexer": "ipython3",
   "version": "3.6.9"
  }
 },
 "nbformat": 4,
 "nbformat_minor": 4
}
