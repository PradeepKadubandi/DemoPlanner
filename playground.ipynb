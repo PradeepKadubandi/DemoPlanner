{
 "cells": [
  {
   "cell_type": "code",
   "execution_count": 1,
   "metadata": {},
   "outputs": [],
   "source": [
    "import numpy as np\n",
    "import matplotlib.pyplot as plt\n",
    "import math\n",
    "\n",
    "import torch\n",
    "import torch.nn as nn\n",
    "import torch.nn.functional as F"
   ]
  },
  {
   "cell_type": "code",
   "execution_count": 4,
   "metadata": {},
   "outputs": [
    {
     "name": "stdout",
     "output_type": "stream",
     "text": [
      "[0 1 0 1 0 1 1 1 1 0 1 1 0 0 1 0 1 1 1 1 1 1 1 0 1 0 0 1 1 1 0 0 0 0 1 0 1\n",
      " 0 0 0 1 0 0 1 0 1 0 1 0 1 1 0 0 0 0 0 1 1 0 1 0 0 0 0 1 0 1 0 0 1 0 1 1 0\n",
      " 1 0 1 1 1 1 1 1 0 1 0 1 1 0 1 0 1 0 0 0 1 1 1 0 1 1]\n"
     ]
    }
   ],
   "source": [
    "Y_hat = np.linspace(-3, 3, 100)\n",
    "Y = np.random.randint(2, size=(100))"
   ]
  },
  {
   "cell_type": "code",
   "execution_count": 5,
   "metadata": {},
   "outputs": [
    {
     "name": "stdout",
     "output_type": "stream",
     "text": [
      "(100,)\n",
      "(100,)\n",
      "[-3.         -2.93939394 -2.87878788 -2.81818182 -2.75757576 -2.6969697\n",
      " -2.63636364 -2.57575758 -2.51515152 -2.45454545 -2.39393939 -2.33333333\n",
      " -2.27272727 -2.21212121 -2.15151515 -2.09090909 -2.03030303 -1.96969697\n",
      " -1.90909091 -1.84848485 -1.78787879 -1.72727273 -1.66666667 -1.60606061\n",
      " -1.54545455 -1.48484848 -1.42424242 -1.36363636 -1.3030303  -1.24242424\n",
      " -1.18181818 -1.12121212 -1.06060606 -1.         -0.93939394 -0.87878788\n",
      " -0.81818182 -0.75757576 -0.6969697  -0.63636364 -0.57575758 -0.51515152\n",
      " -0.45454545 -0.39393939 -0.33333333 -0.27272727 -0.21212121 -0.15151515\n",
      " -0.09090909 -0.03030303  0.03030303  0.09090909  0.15151515  0.21212121\n",
      "  0.27272727  0.33333333  0.39393939  0.45454545  0.51515152  0.57575758\n",
      "  0.63636364  0.6969697   0.75757576  0.81818182  0.87878788  0.93939394\n",
      "  1.          1.06060606  1.12121212  1.18181818  1.24242424  1.3030303\n",
      "  1.36363636  1.42424242  1.48484848  1.54545455  1.60606061  1.66666667\n",
      "  1.72727273  1.78787879  1.84848485  1.90909091  1.96969697  2.03030303\n",
      "  2.09090909  2.15151515  2.21212121  2.27272727  2.33333333  2.39393939\n",
      "  2.45454545  2.51515152  2.57575758  2.63636364  2.6969697   2.75757576\n",
      "  2.81818182  2.87878788  2.93939394  3.        ]\n",
      "[0 1 0 1 0 1 1 1 1 0 1 1 0 0 1 0 1 1 1 1 1 1 1 0 1 0 0 1 1 1 0 0 0 0 1 0 1\n",
      " 0 0 0 1 0 0 1 0 1 0 1 0 1 1 0 0 0 0 0 1 1 0 1 0 0 0 0 1 0 1 0 0 1 0 1 1 0\n",
      " 1 0 1 1 1 1 1 1 0 1 0 1 1 0 1 0 1 0 0 0 1 1 1 0 1 1]\n"
     ]
    }
   ],
   "source": [
    "print (Y_hat.shape)\n",
    "print (Y.shape)\n",
    "\n",
    "print (Y_hat)\n",
    "print (Y)"
   ]
  },
  {
   "cell_type": "code",
   "execution_count": 13,
   "metadata": {},
   "outputs": [],
   "source": [
    "TY_hat = torch.Tensor(Y_hat.reshape(-1, 1))\n",
    "TY = torch.Tensor(Y.reshape(-1, 1))"
   ]
  },
  {
   "cell_type": "code",
   "execution_count": 15,
   "metadata": {},
   "outputs": [
    {
     "name": "stdout",
     "output_type": "stream",
     "text": [
      "torch.Size([100, 1])\n",
      "torch.Size([100, 1])\n"
     ]
    }
   ],
   "source": [
    "print (TY_hat.size())\n",
    "print (TY.size())"
   ]
  },
  {
   "cell_type": "code",
   "execution_count": 14,
   "metadata": {},
   "outputs": [
    {
     "ename": "RuntimeError",
     "evalue": "1D target tensor expected, multi-target not supported",
     "output_type": "error",
     "traceback": [
      "\u001b[0;31m---------------------------------------------------------------\u001b[0m",
      "\u001b[0;31mRuntimeError\u001b[0m                  Traceback (most recent call last)",
      "\u001b[0;32m<ipython-input-14-d81481d6b533>\u001b[0m in \u001b[0;36m<module>\u001b[0;34m\u001b[0m\n\u001b[0;32m----> 1\u001b[0;31m \u001b[0mloss\u001b[0m \u001b[0;34m=\u001b[0m \u001b[0mF\u001b[0m\u001b[0;34m.\u001b[0m\u001b[0mnll_loss\u001b[0m\u001b[0;34m(\u001b[0m\u001b[0mTY\u001b[0m\u001b[0;34m,\u001b[0m \u001b[0mTY_hat\u001b[0m\u001b[0;34m)\u001b[0m\u001b[0;34m.\u001b[0m\u001b[0mnumpy\u001b[0m\u001b[0;34m(\u001b[0m\u001b[0;34m)\u001b[0m\u001b[0;34m\u001b[0m\u001b[0;34m\u001b[0m\u001b[0m\n\u001b[0m\u001b[1;32m      2\u001b[0m \u001b[0mplt\u001b[0m\u001b[0;34m.\u001b[0m\u001b[0mplot\u001b[0m\u001b[0;34m(\u001b[0m\u001b[0mY_hat\u001b[0m\u001b[0;34m,\u001b[0m \u001b[0mloss\u001b[0m\u001b[0;34m)\u001b[0m\u001b[0;34m\u001b[0m\u001b[0;34m\u001b[0m\u001b[0m\n\u001b[1;32m      3\u001b[0m \u001b[0mplt\u001b[0m\u001b[0;34m.\u001b[0m\u001b[0mshow\u001b[0m\u001b[0;34m(\u001b[0m\u001b[0;34m)\u001b[0m\u001b[0;34m\u001b[0m\u001b[0;34m\u001b[0m\u001b[0m\n",
      "\u001b[0;32m~/.local/share/virtualenvs/DemoPlanner--5SJrBy7/lib/python3.6/site-packages/torch/nn/functional.py\u001b[0m in \u001b[0;36mnll_loss\u001b[0;34m(input, target, weight, size_average, ignore_index, reduce, reduction)\u001b[0m\n\u001b[1;32m   1836\u001b[0m                          .format(input.size(0), target.size(0)))\n\u001b[1;32m   1837\u001b[0m     \u001b[0;32mif\u001b[0m \u001b[0mdim\u001b[0m \u001b[0;34m==\u001b[0m \u001b[0;36m2\u001b[0m\u001b[0;34m:\u001b[0m\u001b[0;34m\u001b[0m\u001b[0;34m\u001b[0m\u001b[0m\n\u001b[0;32m-> 1838\u001b[0;31m         \u001b[0mret\u001b[0m \u001b[0;34m=\u001b[0m \u001b[0mtorch\u001b[0m\u001b[0;34m.\u001b[0m\u001b[0m_C\u001b[0m\u001b[0;34m.\u001b[0m\u001b[0m_nn\u001b[0m\u001b[0;34m.\u001b[0m\u001b[0mnll_loss\u001b[0m\u001b[0;34m(\u001b[0m\u001b[0minput\u001b[0m\u001b[0;34m,\u001b[0m \u001b[0mtarget\u001b[0m\u001b[0;34m,\u001b[0m \u001b[0mweight\u001b[0m\u001b[0;34m,\u001b[0m \u001b[0m_Reduction\u001b[0m\u001b[0;34m.\u001b[0m\u001b[0mget_enum\u001b[0m\u001b[0;34m(\u001b[0m\u001b[0mreduction\u001b[0m\u001b[0;34m)\u001b[0m\u001b[0;34m,\u001b[0m \u001b[0mignore_index\u001b[0m\u001b[0;34m)\u001b[0m\u001b[0;34m\u001b[0m\u001b[0;34m\u001b[0m\u001b[0m\n\u001b[0m\u001b[1;32m   1839\u001b[0m     \u001b[0;32melif\u001b[0m \u001b[0mdim\u001b[0m \u001b[0;34m==\u001b[0m \u001b[0;36m4\u001b[0m\u001b[0;34m:\u001b[0m\u001b[0;34m\u001b[0m\u001b[0;34m\u001b[0m\u001b[0m\n\u001b[1;32m   1840\u001b[0m         \u001b[0mret\u001b[0m \u001b[0;34m=\u001b[0m \u001b[0mtorch\u001b[0m\u001b[0;34m.\u001b[0m\u001b[0m_C\u001b[0m\u001b[0;34m.\u001b[0m\u001b[0m_nn\u001b[0m\u001b[0;34m.\u001b[0m\u001b[0mnll_loss2d\u001b[0m\u001b[0;34m(\u001b[0m\u001b[0minput\u001b[0m\u001b[0;34m,\u001b[0m \u001b[0mtarget\u001b[0m\u001b[0;34m,\u001b[0m \u001b[0mweight\u001b[0m\u001b[0;34m,\u001b[0m \u001b[0m_Reduction\u001b[0m\u001b[0;34m.\u001b[0m\u001b[0mget_enum\u001b[0m\u001b[0;34m(\u001b[0m\u001b[0mreduction\u001b[0m\u001b[0;34m)\u001b[0m\u001b[0;34m,\u001b[0m \u001b[0mignore_index\u001b[0m\u001b[0;34m)\u001b[0m\u001b[0;34m\u001b[0m\u001b[0;34m\u001b[0m\u001b[0m\n",
      "\u001b[0;31mRuntimeError\u001b[0m: 1D target tensor expected, multi-target not supported"
     ]
    }
   ],
   "source": [
    "loss = F.nll_loss(TY, TY_hat).numpy()\n",
    "plt.plot(Y_hat, loss)\n",
    "plt.show()"
   ]
  },
  {
   "cell_type": "code",
   "execution_count": 37,
   "metadata": {},
   "outputs": [
    {
     "name": "stdout",
     "output_type": "stream",
     "text": [
      "[4 5 1 6 1 2 4]\n",
      "torch.Size([7, 6])\n",
      "tensor([[0., 1., 0., 0., 0., 1.],\n",
      "        [0., 0., 1., 1., 0., 0.],\n",
      "        [1., 0., 0., 0., 1., 0.],\n",
      "        [0., 0., 1., 0., 1., 0.],\n",
      "        [1., 0., 0., 0., 1., 0.],\n",
      "        [1., 0., 0., 0., 0., 1.],\n",
      "        [0., 1., 0., 0., 0., 1.]])\n",
      "[0 7 6 1 5 3 7]\n",
      "torch.Size([7, 6])\n",
      "tensor([[1., 0., 0., 1., 0., 0.],\n",
      "        [0., 0., 1., 0., 0., 1.],\n",
      "        [0., 0., 1., 0., 1., 0.],\n",
      "        [1., 0., 0., 0., 1., 0.],\n",
      "        [0., 0., 1., 1., 0., 0.],\n",
      "        [0., 1., 0., 1., 0., 0.],\n",
      "        [0., 0., 1., 0., 0., 1.]])\n"
     ]
    }
   ],
   "source": [
    "batch_size = 7\n",
    "ref=np.array([[0,1,0],[0,0,1],[1,0,0]])\n",
    "actions=np.array([[-1,-1],[-1,0],[-1,1],[0,-1],[0,1],[1,-1],[1,0],[1,1]])\n",
    "ip = np.random.randint(len(actions), size=(batch_size))\n",
    "print (ip)\n",
    "ip = torch.Tensor(ref[actions[ip]].reshape(-1, 6))\n",
    "print (ip.size())\n",
    "print (ip)\n",
    "\n",
    "op = np.random.randint(len(actions), size=(batch_size))\n",
    "print (op)\n",
    "op = torch.Tensor(ref[actions[op]].reshape(-1, 6))\n",
    "print (op.size())\n",
    "print (op)"
   ]
  },
  {
   "cell_type": "code",
   "execution_count": 21,
   "metadata": {},
   "outputs": [
    {
     "ename": "RuntimeError",
     "evalue": "1D target tensor expected, multi-target not supported",
     "output_type": "error",
     "traceback": [
      "\u001b[0;31m---------------------------------------------------------------------------\u001b[0m",
      "\u001b[0;31mRuntimeError\u001b[0m                              Traceback (most recent call last)",
      "\u001b[0;32m<ipython-input-21-d5cdab24b30c>\u001b[0m in \u001b[0;36m<module>\u001b[0;34m\u001b[0m\n\u001b[0;32m----> 1\u001b[0;31m \u001b[0mloss\u001b[0m \u001b[0;34m=\u001b[0m \u001b[0mF\u001b[0m\u001b[0;34m.\u001b[0m\u001b[0mnll_loss\u001b[0m\u001b[0;34m(\u001b[0m\u001b[0mip\u001b[0m\u001b[0;34m,\u001b[0m \u001b[0mop\u001b[0m\u001b[0;34m)\u001b[0m\u001b[0;34m\u001b[0m\u001b[0;34m\u001b[0m\u001b[0m\n\u001b[0m\u001b[1;32m      2\u001b[0m \u001b[0mprint\u001b[0m \u001b[0;34m(\u001b[0m\u001b[0mloss\u001b[0m\u001b[0;34m)\u001b[0m\u001b[0;34m\u001b[0m\u001b[0;34m\u001b[0m\u001b[0m\n",
      "\u001b[0;32m~/.local/share/virtualenvs/DemoPlanner--5SJrBy7/lib/python3.6/site-packages/torch/nn/functional.py\u001b[0m in \u001b[0;36mnll_loss\u001b[0;34m(input, target, weight, size_average, ignore_index, reduce, reduction)\u001b[0m\n\u001b[1;32m   1836\u001b[0m                          .format(input.size(0), target.size(0)))\n\u001b[1;32m   1837\u001b[0m     \u001b[0;32mif\u001b[0m \u001b[0mdim\u001b[0m \u001b[0;34m==\u001b[0m \u001b[0;36m2\u001b[0m\u001b[0;34m:\u001b[0m\u001b[0;34m\u001b[0m\u001b[0;34m\u001b[0m\u001b[0m\n\u001b[0;32m-> 1838\u001b[0;31m         \u001b[0mret\u001b[0m \u001b[0;34m=\u001b[0m \u001b[0mtorch\u001b[0m\u001b[0;34m.\u001b[0m\u001b[0m_C\u001b[0m\u001b[0;34m.\u001b[0m\u001b[0m_nn\u001b[0m\u001b[0;34m.\u001b[0m\u001b[0mnll_loss\u001b[0m\u001b[0;34m(\u001b[0m\u001b[0minput\u001b[0m\u001b[0;34m,\u001b[0m \u001b[0mtarget\u001b[0m\u001b[0;34m,\u001b[0m \u001b[0mweight\u001b[0m\u001b[0;34m,\u001b[0m \u001b[0m_Reduction\u001b[0m\u001b[0;34m.\u001b[0m\u001b[0mget_enum\u001b[0m\u001b[0;34m(\u001b[0m\u001b[0mreduction\u001b[0m\u001b[0;34m)\u001b[0m\u001b[0;34m,\u001b[0m \u001b[0mignore_index\u001b[0m\u001b[0;34m)\u001b[0m\u001b[0;34m\u001b[0m\u001b[0;34m\u001b[0m\u001b[0m\n\u001b[0m\u001b[1;32m   1839\u001b[0m     \u001b[0;32melif\u001b[0m \u001b[0mdim\u001b[0m \u001b[0;34m==\u001b[0m \u001b[0;36m4\u001b[0m\u001b[0;34m:\u001b[0m\u001b[0;34m\u001b[0m\u001b[0;34m\u001b[0m\u001b[0m\n\u001b[1;32m   1840\u001b[0m         \u001b[0mret\u001b[0m \u001b[0;34m=\u001b[0m \u001b[0mtorch\u001b[0m\u001b[0;34m.\u001b[0m\u001b[0m_C\u001b[0m\u001b[0;34m.\u001b[0m\u001b[0m_nn\u001b[0m\u001b[0;34m.\u001b[0m\u001b[0mnll_loss2d\u001b[0m\u001b[0;34m(\u001b[0m\u001b[0minput\u001b[0m\u001b[0;34m,\u001b[0m \u001b[0mtarget\u001b[0m\u001b[0;34m,\u001b[0m \u001b[0mweight\u001b[0m\u001b[0;34m,\u001b[0m \u001b[0m_Reduction\u001b[0m\u001b[0;34m.\u001b[0m\u001b[0mget_enum\u001b[0m\u001b[0;34m(\u001b[0m\u001b[0mreduction\u001b[0m\u001b[0;34m)\u001b[0m\u001b[0;34m,\u001b[0m \u001b[0mignore_index\u001b[0m\u001b[0;34m)\u001b[0m\u001b[0;34m\u001b[0m\u001b[0;34m\u001b[0m\u001b[0m\n",
      "\u001b[0;31mRuntimeError\u001b[0m: 1D target tensor expected, multi-target not supported"
     ]
    }
   ],
   "source": [
    "loss = F.nll_loss(ip, op)\n",
    "print (loss)"
   ]
  },
  {
   "cell_type": "code",
   "execution_count": 26,
   "metadata": {},
   "outputs": [
    {
     "name": "stdout",
     "output_type": "stream",
     "text": [
      "tensor([[-0.0000, -0.0000, -0.0000, 27.6310, -0.0000, 27.6310],\n",
      "        [27.6310, 27.6310, -0.0000, -0.0000, 27.6310, 27.6310],\n",
      "        [27.6310, -0.0000, 27.6310, 27.6310, 27.6310, -0.0000],\n",
      "        [-0.0000, -0.0000, -0.0000, -0.0000, -0.0000, -0.0000],\n",
      "        [-0.0000, -0.0000, -0.0000, -0.0000, -0.0000, -0.0000],\n",
      "        [27.6310, -0.0000, 27.6310, -0.0000, -0.0000, -0.0000],\n",
      "        [-0.0000, -0.0000, -0.0000, 27.6310, 27.6310, -0.0000]])\n",
      "tensor([[-0., -0., -0., -0., -0., -0.],\n",
      "        [-0., -0., -0., -0., -0., -0.],\n",
      "        [-0., -0., -0., -0., -0., -0.],\n",
      "        [-0., -0., -0., -0., -0., -0.],\n",
      "        [-0., -0., -0., -0., -0., -0.],\n",
      "        [-0., -0., -0., -0., -0., -0.],\n",
      "        [-0., -0., -0., -0., -0., -0.]])\n"
     ]
    }
   ],
   "source": [
    "loss = F.binary_cross_entropy(ip, op, reduction='none')\n",
    "print (loss)\n",
    "\n",
    "loss = F.binary_cross_entropy(ip, ip, reduction='none')\n",
    "print (loss)"
   ]
  },
  {
   "cell_type": "code",
   "execution_count": 35,
   "metadata": {},
   "outputs": [
    {
     "name": "stdout",
     "output_type": "stream",
     "text": [
      "[2 3 1 7 7 0 3]\n",
      "torch.Size([2, 3])\n",
      "tensor([[1., 0., 0.],\n",
      "        [0., 0., 1.]])\n"
     ]
    }
   ],
   "source": [
    "batch_size = 7\n",
    "ref=torch.FloatTensor([[0,1,0],[0,0,1],[1,0,0]])\n",
    "actions=np.array([[-1,-1],[-1,0],[-1,1],[0,-1],[0,1],[1,-1],[1,0],[1,1]])\n",
    "ip = np.random.randint(len(actions), size=(batch_size))\n",
    "print (ip)\n",
    "ip = torch.Tensor(ref[actions[ip][0]].reshape(-1, 3))\n",
    "print (ip.size())\n",
    "print (ip)"
   ]
  },
  {
   "cell_type": "code",
   "execution_count": 2,
   "metadata": {},
   "outputs": [
    {
     "name": "stdout",
     "output_type": "stream",
     "text": [
      "[[1. 0. 2.]\n",
      " [0. 1. 1.]\n",
      " [1. 2. 0.]\n",
      " [2. 0. 2.]\n",
      " [2. 2. 2.]\n",
      " [0. 1. 2.]\n",
      " [0. 2. 2.]]\n"
     ]
    }
   ],
   "source": [
    "u = np.random.randint(3, size=(7,3)).astype(float)\n",
    "print (u)"
   ]
  },
  {
   "cell_type": "code",
   "execution_count": 28,
   "metadata": {},
   "outputs": [
    {
     "ename": "RuntimeError",
     "evalue": "one_hot is only applicable to index tensor.",
     "output_type": "error",
     "traceback": [
      "\u001b[0;31m---------------------------------------------------------------\u001b[0m",
      "\u001b[0;31mRuntimeError\u001b[0m                  Traceback (most recent call last)",
      "\u001b[0;32m<ipython-input-28-377ae2ec454c>\u001b[0m in \u001b[0;36m<module>\u001b[0;34m\u001b[0m\n\u001b[0;32m----> 1\u001b[0;31m \u001b[0mF\u001b[0m\u001b[0;34m.\u001b[0m\u001b[0mone_hot\u001b[0m\u001b[0;34m(\u001b[0m\u001b[0mtorch\u001b[0m\u001b[0;34m.\u001b[0m\u001b[0mas_tensor\u001b[0m\u001b[0;34m(\u001b[0m\u001b[0mu\u001b[0m\u001b[0;34m)\u001b[0m\u001b[0;34m,\u001b[0m \u001b[0mnum_classes\u001b[0m\u001b[0;34m=\u001b[0m\u001b[0;36m3\u001b[0m\u001b[0;34m)\u001b[0m\u001b[0;34m\u001b[0m\u001b[0;34m\u001b[0m\u001b[0m\n\u001b[0m",
      "\u001b[0;31mRuntimeError\u001b[0m: one_hot is only applicable to index tensor."
     ]
    }
   ],
   "source": [
    "F.one_hot(torch.as_tensor(u), num_classes=3)"
   ]
  },
  {
   "cell_type": "code",
   "execution_count": 3,
   "metadata": {},
   "outputs": [
    {
     "data": {
      "text/plain": [
       "tensor([[0, 1],\n",
       "        [0, 0],\n",
       "        [0, 1],\n",
       "        [1, 0],\n",
       "        [2, 1],\n",
       "        [0, 2],\n",
       "        [2, 2]])"
      ]
     },
     "execution_count": 3,
     "metadata": {},
     "output_type": "execute_result"
    }
   ],
   "source": [
    "u = torch.randint(3, (7, 2))\n",
    "u"
   ]
  },
  {
   "cell_type": "code",
   "execution_count": 4,
   "metadata": {},
   "outputs": [
    {
     "data": {
      "text/plain": [
       "tensor([[0.6912, 0.7963, 0.2135, 0.0889, 0.6857, 0.7890],\n",
       "        [0.6778, 0.0267, 0.8479, 0.4313, 0.7546, 0.6323],\n",
       "        [0.2613, 0.5831, 0.9990, 0.0540, 0.6356, 0.9053],\n",
       "        [0.7254, 0.3476, 0.6796, 0.5114, 0.7360, 0.4318],\n",
       "        [0.7253, 0.6331, 0.8383, 0.8307, 0.7396, 0.8269],\n",
       "        [0.2946, 0.2983, 0.9700, 0.2741, 0.3861, 0.6752],\n",
       "        [0.5681, 0.4283, 0.5445, 0.1252, 0.7448, 0.1290]])"
      ]
     },
     "execution_count": 4,
     "metadata": {},
     "output_type": "execute_result"
    }
   ],
   "source": [
    "u_pred = torch.rand((7, 6))\n",
    "u_pred"
   ]
  },
  {
   "cell_type": "code",
   "execution_count": 5,
   "metadata": {},
   "outputs": [
    {
     "name": "stdout",
     "output_type": "stream",
     "text": [
      "tensor([1.0047, 0.9958, 1.4975, 1.3488, 0.9961, 1.3784, 1.0696])\n",
      "tensor([0.9781, 1.2821, 1.0538, 1.1554, 1.1589, 0.8832, 1.3474])\n"
     ]
    }
   ],
   "source": [
    "lx = F.cross_entropy(u_pred[:, :3], u[:, 0], reduction='none')\n",
    "ly = F.cross_entropy(u_pred[:, 3:], u[:, 1], reduction='none')\n",
    "print (lx)\n",
    "print (ly)"
   ]
  },
  {
   "cell_type": "code",
   "execution_count": 27,
   "metadata": {},
   "outputs": [
    {
     "name": "stdout",
     "output_type": "stream",
     "text": [
      "tensor([[2],\n",
      "        [1],\n",
      "        [2],\n",
      "        [1],\n",
      "        [0],\n",
      "        [2],\n",
      "        [1]])\n",
      "tensor([[1.],\n",
      "        [1.],\n",
      "        [1.],\n",
      "        [1.],\n",
      "        [1.],\n",
      "        [1.],\n",
      "        [1.]])\n",
      "tensor([[0., 0., 1.],\n",
      "        [0., 1., 0.],\n",
      "        [0., 0., 1.],\n",
      "        [0., 1., 0.],\n",
      "        [1., 0., 0.],\n",
      "        [0., 0., 1.],\n",
      "        [0., 1., 0.]])\n"
     ]
    },
    {
     "name": "stderr",
     "output_type": "stream",
     "text": [
      "/Users/pradeepkadubandi/.local/share/virtualenvs/DemoPlanner--5SJrBy7/lib/python3.6/site-packages/ipykernel_launcher.py:5: UserWarning: To copy construct from a tensor, it is recommended to use sourceTensor.clone().detach() or sourceTensor.clone().detach().requires_grad_(True), rather than torch.tensor(sourceTensor).\n",
      "  \"\"\"\n"
     ]
    }
   ],
   "source": [
    "ip = u_pred[:, 3:]\n",
    "argMax = torch.argmax(ip, dim=1, keepdims=True)\n",
    "print (argMax)\n",
    "op = torch.zeros_like(ip)\n",
    "src=torch.tensor(torch.ones_like(argMax), dtype=torch.float)\n",
    "print (src)\n",
    "op.scatter_(1, argMax, value=1.0)\n",
    "print (op)"
   ]
  },
  {
   "cell_type": "code",
   "execution_count": 17,
   "metadata": {},
   "outputs": [
    {
     "name": "stderr",
     "output_type": "stream",
     "text": [
      "/Users/pradeepkadubandi/.local/share/virtualenvs/DemoPlanner--5SJrBy7/lib/python3.6/site-packages/ipykernel_launcher.py:1: UserWarning: To copy construct from a tensor, it is recommended to use sourceTensor.clone().detach() or sourceTensor.clone().detach().requires_grad_(True), rather than torch.tensor(sourceTensor).\n",
      "  \"\"\"Entry point for launching an IPython kernel.\n",
      "/Users/pradeepkadubandi/.local/share/virtualenvs/DemoPlanner--5SJrBy7/lib/python3.6/site-packages/ipykernel_launcher.py:3: UserWarning: To copy construct from a tensor, it is recommended to use sourceTensor.clone().detach() or sourceTensor.clone().detach().requires_grad_(True), rather than torch.tensor(sourceTensor).\n",
      "  This is separate from the ipykernel package so we can avoid doing imports until\n"
     ]
    },
    {
     "data": {
      "text/plain": [
       "tensor([[-1.0000e-30,  1.0000e+00, -1.0000e-30,  1.0000e+00, -1.0000e-30,\n",
       "         -1.0000e-30],\n",
       "        [-1.0000e-30, -1.0000e-30,  1.0000e+00, -1.0000e-30,  1.0000e+00,\n",
       "         -1.0000e-30],\n",
       "        [-1.0000e-30, -1.0000e-30,  1.0000e+00, -1.0000e-30, -1.0000e-30,\n",
       "          1.0000e+00],\n",
       "        [-1.0000e-30, -1.0000e-30,  1.0000e+00, -1.0000e-30,  1.0000e+00,\n",
       "         -1.0000e-30],\n",
       "        [-1.0000e-30, -1.0000e-30,  1.0000e+00,  1.0000e+00, -1.0000e-30,\n",
       "         -1.0000e-30],\n",
       "        [-1.0000e-30, -1.0000e-30,  1.0000e+00, -1.0000e-30, -1.0000e-30,\n",
       "          1.0000e+00],\n",
       "        [-1.0000e-30,  1.0000e+00, -1.0000e-30,  1.0000e+00, -1.0000e-30,\n",
       "         -1.0000e-30]])"
      ]
     },
     "execution_count": 17,
     "metadata": {},
     "output_type": "execute_result"
    }
   ],
   "source": [
    "u_pred = F.one_hot(torch.tensor(u, dtype=torch.long))\n",
    "u_pred = torch.reshape(u_pred, (u_pred.size()[0], -1))\n",
    "u_pred = torch.tensor(u_pred, dtype=torch.float)\n",
    "u_pred = u_pred - math.pow(10, -30)\n",
    "u_pred"
   ]
  },
  {
   "cell_type": "code",
   "execution_count": 18,
   "metadata": {},
   "outputs": [
    {
     "name": "stdout",
     "output_type": "stream",
     "text": [
      "tensor([0.5514, 0.5514, 0.5514, 0.5514, 0.5514, 0.5514, 0.5514])\n",
      "tensor([0.5514, 0.5514, 0.5514, 0.5514, 0.5514, 0.5514, 0.5514])\n"
     ]
    }
   ],
   "source": [
    "lx = F.cross_entropy(u_pred[:, :3], u[:, 0], reduction='none')\n",
    "ly = F.cross_entropy(u_pred[:, 3:], u[:, 1], reduction='none')\n",
    "print (lx)\n",
    "print (ly)"
   ]
  },
  {
   "cell_type": "code",
   "execution_count": 27,
   "metadata": {},
   "outputs": [
    {
     "data": {
      "text/plain": [
       "tensor(0.5514)"
      ]
     },
     "execution_count": 27,
     "metadata": {},
     "output_type": "execute_result"
    }
   ],
   "source": [
    "F.cross_entropy(torch.Tensor([[0,0,1]]), torch.LongTensor([2]))"
   ]
  },
  {
   "cell_type": "code",
   "execution_count": 48,
   "metadata": {},
   "outputs": [
    {
     "data": {
      "text/plain": [
       "tensor([[0.7448, 0.5683],\n",
       "        [0.4792, 0.4464],\n",
       "        [0.1592, 0.3000],\n",
       "        [0.6917, 0.6731],\n",
       "        [0.9426, 0.9293],\n",
       "        [0.1921, 0.4872],\n",
       "        [0.6835, 0.6908]])"
      ]
     },
     "execution_count": 48,
     "metadata": {},
     "output_type": "execute_result"
    }
   ],
   "source": [
    "u_pred = torch.rand((7, 2))\n",
    "u_pred"
   ]
  },
  {
   "cell_type": "code",
   "execution_count": 52,
   "metadata": {},
   "outputs": [
    {
     "name": "stderr",
     "output_type": "stream",
     "text": [
      "/Users/pradeepkadubandi/.local/share/virtualenvs/DemoPlanner--5SJrBy7/lib/python3.6/site-packages/ipykernel_launcher.py:1: UserWarning: To copy construct from a tensor, it is recommended to use sourceTensor.clone().detach() or sourceTensor.clone().detach().requires_grad_(True), rather than torch.tensor(sourceTensor).\n",
      "  \"\"\"Entry point for launching an IPython kernel.\n"
     ]
    },
    {
     "data": {
      "text/plain": [
       "tensor(0.8587)"
      ]
     },
     "execution_count": 52,
     "metadata": {},
     "output_type": "execute_result"
    }
   ],
   "source": [
    "F.binary_cross_entropy(u_pred, torch.tensor(u, dtype=torch.float))"
   ]
  },
  {
   "cell_type": "code",
   "execution_count": 9,
   "metadata": {},
   "outputs": [
    {
     "name": "stdout",
     "output_type": "stream",
     "text": [
      "tensor([[0.0758, 0.1743],\n",
      "        [0.7820, 0.0297],\n",
      "        [0.0083, 0.0317]])\n",
      "tensor([[0.7893, 0.6317],\n",
      "        [0.2436, 0.9800],\n",
      "        [0.9898, 0.8833]])\n"
     ]
    }
   ],
   "source": [
    "x = torch.rand((3,2))\n",
    "y = torch.rand((3,2))\n",
    "print (x)\n",
    "print (y)"
   ]
  },
  {
   "cell_type": "code",
   "execution_count": 10,
   "metadata": {},
   "outputs": [
    {
     "name": "stdout",
     "output_type": "stream",
     "text": [
      "tensor(0.7488)\n",
      "tensor(2.2464)\n"
     ]
    }
   ],
   "source": [
    "print(F.l1_loss(x,y))\n",
    "print(torch.sum(torch.abs(x-y)) / len(x[0]))"
   ]
  },
  {
   "cell_type": "code",
   "execution_count": 44,
   "metadata": {},
   "outputs": [
    {
     "name": "stderr",
     "output_type": "stream",
     "text": [
      "/Users/pradeepkadubandi/.local/share/virtualenvs/DemoPlanner--5SJrBy7/lib/python3.6/site-packages/ipykernel_launcher.py:2: UserWarning: To copy construct from a tensor, it is recommended to use sourceTensor.clone().detach() or sourceTensor.clone().detach().requires_grad_(True), rather than torch.tensor(sourceTensor).\n",
      "  \n"
     ]
    },
    {
     "data": {
      "text/plain": [
       "tensor([[0, 0, 1, 1, 0, 0],\n",
       "        [1, 0, 0, 0, 0, 1],\n",
       "        [1, 0, 0, 0, 1, 0],\n",
       "        [0, 1, 0, 0, 0, 1],\n",
       "        [1, 0, 0, 0, 1, 0],\n",
       "        [1, 0, 0, 0, 1, 0],\n",
       "        [0, 1, 0, 1, 0, 0]])"
      ]
     },
     "execution_count": 44,
     "metadata": {},
     "output_type": "execute_result"
    }
   ],
   "source": [
    "labels = torch.Tensor(ref[u.numpy()].reshape(u.size()[0], -1))\n",
    "labels = torch.tensor(labels, dtype=torch.long).detach()\n",
    "labels"
   ]
  },
  {
   "cell_type": "code",
   "execution_count": 27,
   "metadata": {},
   "outputs": [
    {
     "name": "stdout",
     "output_type": "stream",
     "text": [
      "tensor([-600., -600.,    0.])\n"
     ]
    }
   ],
   "source": [
    "print (F.log_softmax(torch.Tensor([-300,-300,300]), dim=0))"
   ]
  },
  {
   "cell_type": "code",
   "execution_count": null,
   "metadata": {},
   "outputs": [],
   "source": [
    "n = MultiNet(policy, dynamics)\n",
    "labels = torch.tensor(torch.randint(2, size=(7, 2)), dtype=torch.float)\n",
    "ip = torch.rand((7, 4))\n",
    "op = n(ip)"
   ]
  },
  {
   "cell_type": "code",
   "execution_count": null,
   "metadata": {},
   "outputs": [],
   "source": [
    "# print (n.lsmax_x)\n",
    "# print (n.x.size())\n",
    "# print (n.dynamics_input)\n",
    "print (ip)\n",
    "print (op)\n",
    "print (labels)"
   ]
  },
  {
   "cell_type": "code",
   "execution_count": null,
   "metadata": {},
   "outputs": [],
   "source": [
    "pol_op = n.policy(ip)\n",
    "print (pol_op)"
   ]
  },
  {
   "cell_type": "code",
   "execution_count": null,
   "metadata": {},
   "outputs": [],
   "source": [
    "lsmax_x = F.log_softmax(pol_op[:, :3], dim=1)\n",
    "lsmax_y = F.log_softmax(pol_op[:, 3:], dim=1)\n",
    "print (lsmax_x)\n",
    "print (lsmax_y)"
   ]
  },
  {
   "cell_type": "code",
   "execution_count": null,
   "metadata": {},
   "outputs": [],
   "source": [
    "ux = ArgMaxFunction.apply(pol_op[:, :3])\n",
    "uy = ArgMaxFunction.apply(pol_op[:, 3:])\n",
    "print (ux)\n",
    "print (uy)"
   ]
  },
  {
   "cell_type": "code",
   "execution_count": null,
   "metadata": {},
   "outputs": [],
   "source": [
    "opt = torch.optim.Adam(n.parameters())\n",
    "opt.zero_grad()\n",
    "loss = F.mse_loss(op, labels)\n",
    "print (loss)\n",
    "loss.backward()"
   ]
  },
  {
   "cell_type": "code",
   "execution_count": null,
   "metadata": {},
   "outputs": [],
   "source": [
    "for p in n.dynamics.net[0].parameters():\n",
    "    print (p.grad)"
   ]
  },
  {
   "cell_type": "code",
   "execution_count": null,
   "metadata": {},
   "outputs": [],
   "source": [
    "for p in n.policy.net[4].parameters():\n",
    "    print (p.grad)"
   ]
  },
  {
   "cell_type": "code",
   "execution_count": 2,
   "metadata": {},
   "outputs": [
    {
     "name": "stdout",
     "output_type": "stream",
     "text": [
      "tensor([[0.3520, 0.0755, 0.2014, 0.6903],\n",
      "        [0.1428, 0.6354, 0.7112, 0.4009],\n",
      "        [0.2296, 0.1016, 0.5332, 0.6085],\n",
      "        [0.6748, 0.3949, 0.1802, 0.4519],\n",
      "        [0.8270, 0.0598, 0.1178, 0.8238],\n",
      "        [0.1448, 0.3695, 0.2893, 0.1801],\n",
      "        [0.1378, 0.9065, 0.5708, 0.4378]])\n",
      "tensor([[0.2261, 0.4202, 0.2911, 0.5113],\n",
      "        [0.9506, 0.4345, 0.0396, 0.6541],\n",
      "        [0.4150, 0.8787, 0.3546, 0.7274],\n",
      "        [0.6981, 0.1774, 0.3505, 0.5261],\n",
      "        [0.0616, 0.0096, 0.2349, 0.9663],\n",
      "        [0.2116, 0.3250, 0.2333, 0.5471],\n",
      "        [0.0988, 0.6595, 0.5047, 0.2442]])\n"
     ]
    }
   ],
   "source": [
    "op = torch.rand(7, 4)\n",
    "target = torch.rand(7, 4)\n",
    "print (op)\n",
    "print (target)"
   ]
  },
  {
   "cell_type": "code",
   "execution_count": 11,
   "metadata": {},
   "outputs": [
    {
     "name": "stdout",
     "output_type": "stream",
     "text": [
      "tensor(0.2348)\n"
     ]
    }
   ],
   "source": [
    "print (F.l1_loss(op, target))\n",
    "loss_unreduced = F.l1_loss(op, target, reduction='none')"
   ]
  },
  {
   "cell_type": "code",
   "execution_count": 14,
   "metadata": {},
   "outputs": [
    {
     "name": "stdout",
     "output_type": "stream",
     "text": [
      "tensor([0.1848, 0.4834, 0.3150, 0.1213, 0.2688, 0.1336, 0.1364])\n",
      "tensor(3)\n",
      "tensor(1)\n"
     ]
    }
   ],
   "source": [
    "loss_per_sample = torch.sum(loss_unreduced, dim=1) / loss_unreduced.size()[1]\n",
    "print (loss_per_sample)\n",
    "best = torch.argmin(loss_per_sample)\n",
    "worst = torch.argmax(loss_per_sample)\n",
    "print (best)\n",
    "print (worst)"
   ]
  },
  {
   "cell_type": "code",
   "execution_count": 2,
   "metadata": {},
   "outputs": [],
   "source": [
    "II = F.l1_loss(torch.rand(7, 13),torch.rand(7, 13), reduction='none')\n",
    "IY = F.l1_loss(torch.rand(7, 4),torch.rand(7, 4), reduction='none')"
   ]
  },
  {
   "cell_type": "code",
   "execution_count": 3,
   "metadata": {},
   "outputs": [
    {
     "name": "stdout",
     "output_type": "stream",
     "text": [
      "torch.Size([7, 13])\n",
      "torch.Size([7, 4])\n"
     ]
    }
   ],
   "source": [
    "print (II.size())\n",
    "print (IY.size())"
   ]
  },
  {
   "cell_type": "code",
   "execution_count": 4,
   "metadata": {},
   "outputs": [
    {
     "data": {
      "text/plain": [
       "torch.Size([7, 17])"
      ]
     },
     "execution_count": 4,
     "metadata": {},
     "output_type": "execute_result"
    }
   ],
   "source": [
    "l = torch.cat((II,IY), dim=1)\n",
    "l.size()"
   ]
  },
  {
   "cell_type": "code",
   "execution_count": 5,
   "metadata": {},
   "outputs": [
    {
     "data": {
      "text/plain": [
       "tensor([0.3268, 0.3816, 0.4310, 0.3497, 0.2632, 0.4270, 0.2615])"
      ]
     },
     "execution_count": 5,
     "metadata": {},
     "output_type": "execute_result"
    }
   ],
   "source": [
    "torch.sum(l, dim=1) / l.size()[1]"
   ]
  },
  {
   "cell_type": "code",
   "execution_count": 6,
   "metadata": {},
   "outputs": [
    {
     "data": {
      "text/plain": [
       "torch.Size([1, 1, 32, 32])"
      ]
     },
     "execution_count": 6,
     "metadata": {},
     "output_type": "execute_result"
    }
   ],
   "source": [
    "torch.rand(1024).view((-1,1,32,32)).size()"
   ]
  },
  {
   "cell_type": "code",
   "execution_count": 6,
   "metadata": {},
   "outputs": [
    {
     "name": "stdout",
     "output_type": "stream",
     "text": [
      "tensor([ 1.,  0.,  0., -0., -0., -1.])\n",
      "tensor([ 2., -2.,  2., -2.,  1.,  2.,  0.,  1.])\n"
     ]
    }
   ],
   "source": [
    "print (torch.round(torch.Tensor([.99, .5, .2, -0.2, -0.5, -0.99])))\n",
    "print (torch.round(torch.Tensor([1.5, -1.5, 1.7, -1.7, 1.4, 1.6, 0.5, 0.55])))"
   ]
  },
  {
   "cell_type": "code",
   "execution_count": 5,
   "metadata": {},
   "outputs": [
    {
     "data": {
      "text/plain": [
       "tensor([31., 31., 28., 31., 29.,  0.,  1.])"
      ]
     },
     "execution_count": 5,
     "metadata": {},
     "output_type": "execute_result"
    }
   ],
   "source": [
    "t = torch.Tensor([31,32,28,32,29,0,1])\n",
    "torch.where(t == 32, t-1, t)"
   ]
  }
 ],
 "metadata": {
  "kernelspec": {
   "display_name": "demopl",
   "language": "python",
   "name": "demopl"
  },
  "language_info": {
   "codemirror_mode": {
    "name": "ipython",
    "version": 3
   },
   "file_extension": ".py",
   "mimetype": "text/x-python",
   "name": "python",
   "nbconvert_exporter": "python",
   "pygments_lexer": "ipython3",
   "version": "3.6.8"
  }
 },
 "nbformat": 4,
 "nbformat_minor": 4
}
