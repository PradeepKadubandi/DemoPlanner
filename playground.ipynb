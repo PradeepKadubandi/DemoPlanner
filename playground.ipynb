{
 "cells": [
  {
   "cell_type": "code",
   "execution_count": 2,
   "metadata": {},
   "outputs": [],
   "source": [
    "%load_ext autoreload\n",
    "%autoreload 2"
   ]
  },
  {
   "cell_type": "code",
   "execution_count": 3,
   "metadata": {},
   "outputs": [],
   "source": [
    "import numpy as np\n",
    "import matplotlib.pyplot as plt\n",
    "import matplotlib.animation as animation\n",
    "from matplotlib.backends.backend_pdf import PdfPages\n",
    "import math\n",
    "import time\n",
    "from io import StringIO\n",
    "import sys\n",
    "\n",
    "import torch\n",
    "import torch.nn as nn\n",
    "import torch.nn.functional as F\n",
    "from dataset import *\n",
    "from torch.utils.data import DataLoader"
   ]
  },
  {
   "cell_type": "code",
   "execution_count": 13,
   "metadata": {},
   "outputs": [
    {
     "data": {
      "text/plain": [
       "'1.6.0+cu101'"
      ]
     },
     "execution_count": 13,
     "metadata": {},
     "output_type": "execute_result"
    }
   ],
   "source": [
    "torch.__version__"
   ]
  },
  {
   "cell_type": "code",
   "execution_count": 3,
   "metadata": {},
   "outputs": [
    {
     "name": "stdout",
     "output_type": "stream",
     "text": [
      "cuda:2\n"
     ]
    }
   ],
   "source": [
    "device = torch.device(\"cuda:2\" if torch.cuda.is_available() else \"cpu\")\n",
    "print (device)"
   ]
  },
  {
   "cell_type": "code",
   "execution_count": 4,
   "metadata": {},
   "outputs": [
    {
     "name": "stdout",
     "output_type": "stream",
     "text": [
      "0\n",
      "2\n"
     ]
    }
   ],
   "source": [
    "# if torch.cuda.is_available():\n",
    "#     print (torch.cuda.current_device())\n",
    "#     torch.cuda.set_device(device)\n",
    "#     print (torch.cuda.current_device())"
   ]
  },
  {
   "cell_type": "code",
   "execution_count": 4,
   "metadata": {},
   "outputs": [],
   "source": [
    "torch.set_printoptions(sci_mode=False)"
   ]
  },
  {
   "cell_type": "code",
   "execution_count": 5,
   "metadata": {},
   "outputs": [],
   "source": [
    "root_folder = 'data/simple_reacher/training'\n",
    "number_of_trajectories = 5000\n",
    "batch_size = 32"
   ]
  },
  {
   "cell_type": "code",
   "execution_count": 39,
   "metadata": {},
   "outputs": [],
   "source": [
    "root_folder = 'data/simple_reacher/sample_data_all_limited_joints'\n",
    "number_of_trajectories = 5"
   ]
  },
  {
   "cell_type": "code",
   "execution_count": 7,
   "metadata": {},
   "outputs": [
    {
     "name": "stdout",
     "output_type": "stream",
     "text": [
      "Time Taken: 4.342281341552734 sec\n"
     ]
    }
   ],
   "source": [
    "start = time.time()\n",
    "base = SimpleReacherBaseDataset(root_folder, number_of_trajectories, device)\n",
    "print (\"Time Taken: {} sec\".format(time.time() - start))"
   ]
  },
  {
   "cell_type": "code",
   "execution_count": 41,
   "metadata": {},
   "outputs": [
    {
     "name": "stdout",
     "output_type": "stream",
     "text": [
      "Time Taken: 0.07968378067016602 sec\n"
     ]
    }
   ],
   "source": [
    "start = time.time()\n",
    "ondemand = SimpleReacherOnDemandDataset(root_folder, number_of_trajectories)\n",
    "print (\"Time Taken: {} sec\".format(time.time() - start))"
   ]
  },
  {
   "cell_type": "code",
   "execution_count": 5,
   "metadata": {},
   "outputs": [
    {
     "name": "stdout",
     "output_type": "stream",
     "text": [
      "Time Taken: 10.221627950668335 sec\n"
     ]
    }
   ],
   "source": [
    "start = time.time()\n",
    "preloaded = SimpleReacherPreLoadedDataset(root_folder, number_of_trajectories)\n",
    "print (\"Time Taken: {} sec\".format(time.time() - start))"
   ]
  },
  {
   "cell_type": "code",
   "execution_count": 8,
   "metadata": {},
   "outputs": [
    {
     "data": {
      "text/plain": [
       "torch.Size([108673, 9])"
      ]
     },
     "execution_count": 8,
     "metadata": {},
     "output_type": "execute_result"
    }
   ],
   "source": [
    "base.trajectory_data.shape"
   ]
  },
  {
   "cell_type": "code",
   "execution_count": 7,
   "metadata": {},
   "outputs": [
    {
     "data": {
      "text/plain": [
       "2194"
      ]
     },
     "execution_count": 7,
     "metadata": {},
     "output_type": "execute_result"
    }
   ],
   "source": [
    "len(ondemand)"
   ]
  },
  {
   "cell_type": "code",
   "execution_count": 8,
   "metadata": {},
   "outputs": [
    {
     "name": "stdout",
     "output_type": "stream",
     "text": [
      "(2194, 9)\n",
      "(2194, 62500)\n"
     ]
    }
   ],
   "source": [
    "print(preloaded.trajectory_data.shape)\n",
    "print(preloaded.image_data.shape)"
   ]
  },
  {
   "cell_type": "code",
   "execution_count": 9,
   "metadata": {},
   "outputs": [],
   "source": [
    "idx = np.random.randint(len(ondemand.trajectory_data), size=(batch_size))"
   ]
  },
  {
   "cell_type": "code",
   "execution_count": 10,
   "metadata": {},
   "outputs": [
    {
     "data": {
      "text/plain": [
       "array([ 519, 1346,  545,  451,  926, 1596, 1284, 1450,  408,  921, 1548,\n",
       "       1210,  641,  618, 1954, 1747, 2140, 1758,  242, 1181,  180, 1143,\n",
       "        334, 1216, 1971, 2152, 2148,  542,   86, 1576,   22,  409])"
      ]
     },
     "execution_count": 10,
     "metadata": {},
     "output_type": "execute_result"
    }
   ],
   "source": [
    "idx"
   ]
  },
  {
   "cell_type": "code",
   "execution_count": 11,
   "metadata": {},
   "outputs": [
    {
     "name": "stdout",
     "output_type": "stream",
     "text": [
      "Time Taken: 0.10364007949829102 sec\n"
     ]
    }
   ],
   "source": [
    "start = time.time()\n",
    "ondemandBatch = ondemand[idx]\n",
    "print (\"Time Taken: {} sec\".format(time.time() - start))"
   ]
  },
  {
   "cell_type": "code",
   "execution_count": 12,
   "metadata": {},
   "outputs": [
    {
     "name": "stdout",
     "output_type": "stream",
     "text": [
      "Time Taken: 0.001249074935913086 sec\n"
     ]
    }
   ],
   "source": [
    "start = time.time()\n",
    "preloadedBatch = preloaded[idx]\n",
    "print (\"Time Taken: {} sec\".format(time.time() - start))"
   ]
  },
  {
   "cell_type": "code",
   "execution_count": 13,
   "metadata": {},
   "outputs": [
    {
     "data": {
      "text/plain": [
       "True"
      ]
     },
     "execution_count": 13,
     "metadata": {},
     "output_type": "execute_result"
    }
   ],
   "source": [
    "np.all(ondemandBatch['images'] == preloadedBatch['images'])"
   ]
  },
  {
   "cell_type": "code",
   "execution_count": 14,
   "metadata": {},
   "outputs": [],
   "source": [
    "onedemandLoader = DataLoader(ondemand, batch_size=batch_size, shuffle=True)\n",
    "preloadedLoader = DataLoader(preloaded, batch_size=batch_size, shuffle=True)"
   ]
  },
  {
   "cell_type": "code",
   "execution_count": 15,
   "metadata": {},
   "outputs": [],
   "source": [
    "epochs = 1"
   ]
  },
  {
   "cell_type": "code",
   "execution_count": 16,
   "metadata": {},
   "outputs": [],
   "source": [
    "def simulate_training(dataLoader):\n",
    "    start = time.time()\n",
    "    builder = StringIO()\n",
    "    for e in range(epochs):\n",
    "        for i, data in enumerate(dataLoader):\n",
    "            builder.write('Epoch {}: Running batch index = {} with data shape = {}'.format(e, i, data['images'].shape))\n",
    "            builder.write('\\n')\n",
    "            break\n",
    "    print (\"Time Taken: {} sec\".format(time.time() - start))\n",
    "    log = builder.getvalue()\n",
    "    builder.close()\n",
    "    return log"
   ]
  },
  {
   "cell_type": "code",
   "execution_count": 17,
   "metadata": {},
   "outputs": [
    {
     "name": "stdout",
     "output_type": "stream",
     "text": [
      "Time Taken: 0.2524890899658203 sec\n"
     ]
    }
   ],
   "source": [
    "log1 = simulate_training(onedemandLoader)"
   ]
  },
  {
   "cell_type": "code",
   "execution_count": 18,
   "metadata": {},
   "outputs": [
    {
     "data": {
      "text/plain": [
       "'Epoch 0: Running batch index = 0 with data shape = torch.Size([32, 62500])\\n'"
      ]
     },
     "execution_count": 18,
     "metadata": {},
     "output_type": "execute_result"
    }
   ],
   "source": [
    "log1"
   ]
  },
  {
   "cell_type": "code",
   "execution_count": 19,
   "metadata": {},
   "outputs": [
    {
     "name": "stdout",
     "output_type": "stream",
     "text": [
      "Time Taken: 0.005193948745727539 sec\n"
     ]
    }
   ],
   "source": [
    "log2 = simulate_training(preloadedLoader)"
   ]
  },
  {
   "cell_type": "code",
   "execution_count": 20,
   "metadata": {},
   "outputs": [
    {
     "data": {
      "text/plain": [
       "'Epoch 0: Running batch index = 0 with data shape = torch.Size([32, 62500])\\n'"
      ]
     },
     "execution_count": 20,
     "metadata": {},
     "output_type": "execute_result"
    }
   ],
   "source": [
    "log2"
   ]
  },
  {
   "cell_type": "code",
   "execution_count": 29,
   "metadata": {},
   "outputs": [
    {
     "data": {
      "text/plain": [
       "158080"
      ]
     },
     "execution_count": 29,
     "metadata": {},
     "output_type": "execute_result"
    }
   ],
   "source": [
    "sys.getsizeof(ondemand.trajectory_data)"
   ]
  },
  {
   "cell_type": "code",
   "execution_count": 27,
   "metadata": {},
   "outputs": [
    {
     "data": {
      "text/plain": [
       "137125112"
      ]
     },
     "execution_count": 27,
     "metadata": {},
     "output_type": "execute_result"
    }
   ],
   "source": [
    "sys.getsizeof(preloaded.image_data)"
   ]
  },
  {
   "cell_type": "code",
   "execution_count": 7,
   "metadata": {},
   "outputs": [
    {
     "name": "stdout",
     "output_type": "stream",
     "text": [
      "Time Taken: 21.97927212715149 sec\n"
     ]
    }
   ],
   "source": [
    "start = time.time()\n",
    "train_data = SimpleReacherOnDemandDataset(root_folder, range(4750), device=None)\n",
    "test_data = SimpleReacherOnDemandDataset(root_folder, range(4750, 5000), device=None)\n",
    "print (\"Time Taken: {} sec\".format(time.time() - start))"
   ]
  },
  {
   "cell_type": "code",
   "execution_count": 7,
   "metadata": {},
   "outputs": [],
   "source": [
    "train_data = SimpleReacherOnDemandDataset(root_folder, range(5000), device=device)"
   ]
  },
  {
   "cell_type": "code",
   "execution_count": 8,
   "metadata": {},
   "outputs": [
    {
     "name": "stdout",
     "output_type": "stream",
     "text": [
      "torch.Size([108673, 9])\n"
     ]
    }
   ],
   "source": [
    "print (train_data.trajectory_data.shape)"
   ]
  },
  {
   "cell_type": "code",
   "execution_count": 9,
   "metadata": {},
   "outputs": [
    {
     "name": "stdout",
     "output_type": "stream",
     "text": [
      "tensor(-3.1352, device='cuda:2', dtype=torch.float64)\n",
      "tensor(3.1405, device='cuda:2', dtype=torch.float64)\n",
      "tensor(-2.8946, device='cuda:2', dtype=torch.float64)\n",
      "tensor(2.8969, device='cuda:2', dtype=torch.float64)\n",
      "tensor(-3.1364, device='cuda:2', dtype=torch.float64)\n",
      "tensor(3.1412, device='cuda:2', dtype=torch.float64)\n",
      "tensor(-0.1990, device='cuda:2', dtype=torch.float64)\n",
      "tensor(0.1985, device='cuda:2', dtype=torch.float64)\n",
      "3.141592653589793\n"
     ]
    }
   ],
   "source": [
    "print (torch.min(train_data.trajectory_data[:, :1]))\n",
    "print (torch.max(train_data.trajectory_data[:, :1]))\n",
    "print (torch.min(train_data.trajectory_data[:, 1:3]))\n",
    "print (torch.max(train_data.trajectory_data[:, 1:3]))\n",
    "print (torch.min(train_data.trajectory_data[:, 3:6]))\n",
    "print (torch.max(train_data.trajectory_data[:, 3:6]))\n",
    "print (torch.min(train_data.trajectory_data[:, 6:]))\n",
    "print (torch.max(train_data.trajectory_data[:, 6:]))\n",
    "# print (torch.min(test_data.trajectory_data[:, :3]))\n",
    "# print (torch.max(test_data.trajectory_data[:, :3]))\n",
    "# print (torch.min(test_data.trajectory_data[:, 3:6]))\n",
    "# print (torch.max(test_data.trajectory_data[:, 3:6]))\n",
    "# print (torch.min(test_data.trajectory_data[:, 6:]))\n",
    "# print (torch.max(test_data.trajectory_data[:, 6:]))\n",
    "print (np.pi)"
   ]
  },
  {
   "cell_type": "code",
   "execution_count": 10,
   "metadata": {},
   "outputs": [
    {
     "name": "stdout",
     "output_type": "stream",
     "text": [
      "torch.Size([108673, 3])\n",
      "tensor(0.1985, device='cuda:2', dtype=torch.float64)\n",
      "tensor(-0.1990, device='cuda:2', dtype=torch.float64)\n",
      "torch.Size([325294])\n",
      "torch.Size([725])\n",
      "tensor([  3035,   3036,   3037,   3038,   3039,   3040,   3041,   3042,   4013,\n",
      "          4014,   4015,   7230,   7768,   7769,   7770,   8058,   8059,   8060,\n",
      "          8061,   8062,   8063,   8064,   8065,   8066,   8067,   8820,   8821,\n",
      "          8822,   8823,   8824,  10450,  10451,  10452,  10453,  10454,  10455,\n",
      "         10506,  10507,  10508,  10509,  10510,  10511,  10656,  10657,  10658,\n",
      "         10659,  10660,  10661,  10662,  10696,  10697,  10698,  10699,  10700,\n",
      "         12483,  12484,  12485,  12486,  13834,  13835,  14230,  14231,  14232,\n",
      "         15638,  15639,  15640,  15641,  15784,  15785,  15786,  15787,  18005,\n",
      "         18006,  18007,  18008,  18009,  18010,  18011,  19591,  19592,  19593,\n",
      "         19594,  19595,  19596,  19597,  20891,  20892,  20893,  20894,  20895,\n",
      "         20896,  20897,  20910,  20911,  20912,  20913,  20914,  20915,  22812,\n",
      "         22813,  22814,  22815,  26320,  26889,  26890,  26891,  26892,  26893,\n",
      "         26894,  26895,  26896,  26897,  27064,  27065,  27066,  27067,  27068,\n",
      "         29047,  29048,  29049,  29050,  29051,  29767,  29768,  29769,  29770,\n",
      "         29771,  29772,  29773,  29774,  30224,  30225,  30226,  30227,  30228,\n",
      "         30229,  31765,  31766,  32458,  32459,  33590,  37819,  37820,  37821,\n",
      "         37822,  39211,  39212,  39213,  39214,  39215,  39216,  39754,  39755,\n",
      "         39756,  43587,  43588,  43589,  43590,  43591,  43592,  43593,  43594,\n",
      "         44257,  44258,  44259,  44260,  44261,  44262,  44263,  44934,  45469,\n",
      "         45470,  46196,  46197,  46647,  46648,  46649,  46650,  46651,  46652,\n",
      "         46653,  47103,  47104,  47105,  47106,  47107,  47108,  51751,  51752,\n",
      "         51753,  51812,  51813,  53619,  53620,  53621,  53622,  54216,  54217,\n",
      "         54218,  57763,  57764,  58277,  58278,  58279,  58280,  58281,  59667,\n",
      "         64566,  64567,  65720,  65721,  65722,  65757,  65758,  65759,  65760,\n",
      "         65761,  65762,  65763,  65764,  65765,  66388,  67775,  67776,  67777,\n",
      "         67778,  67779,  67970,  67971,  67972,  67973,  67974,  67975,  69046,\n",
      "         69047,  69048,  69049,  69050,  69051,  69052,  69105,  69106,  69107,\n",
      "         69108,  69109,  69110,  69111,  69112,  69427,  69428,  69429,  69430,\n",
      "         69431,  69432,  69433,  69434,  69925,  72064,  72065,  72066,  72067,\n",
      "         72068,  72069,  72070,  72345,  72346,  72347,  72348,  73622,  73623,\n",
      "         73624,  73625,  73626,  73627,  73628,  73629,  75909,  75910,  75911,\n",
      "         75912,  75913,  75914,  75915,  77269,  77270,  77271,  77272,  77273,\n",
      "         77274,  77275,  77276,  78734,  78735,  78736,  78737,  79264,  80079,\n",
      "         80080,  80081,  80082,  80083,  80492,  80493,  80494,  80495,  80496,\n",
      "         80497,  80498,  83081,  83082,  83083,  83084,  83085,  83086,  83087,\n",
      "         83088,  91122,  91123,  91124,  91125,  91126,  91127,  92443,  92444,\n",
      "         92445,  92446,  97413,  97414,  97415,  97609,  97610,  97611,  97612,\n",
      "         97800,  97801,  97802,  97803,  98584,  98585,  98586,  98587, 100783,\n",
      "        100784, 100785, 100786, 100787, 102783, 102784, 102785, 102786, 102787,\n",
      "        103628, 103629, 104169, 104170, 104171, 104172, 104173, 104174, 105705,\n",
      "        105706, 105707, 105708, 107163, 107164, 107165, 107166, 108064, 108316,\n",
      "        108317, 108318, 108319], device='cuda:2')\n"
     ]
    }
   ],
   "source": [
    "actions = train_data.trajectory_data[:, 6:]\n",
    "print (actions.shape)\n",
    "print (torch.max(actions))\n",
    "print (torch.min(actions))\n",
    "print (torch.where(torch.abs(actions) <= 0.15)[0].shape)\n",
    "print (torch.where(torch.abs(actions) > 0.15)[0].shape)\n",
    "print (torch.unique(torch.where(actions > 0.15)[0]))"
   ]
  },
  {
   "cell_type": "code",
   "execution_count": 43,
   "metadata": {},
   "outputs": [
    {
     "data": {
      "text/plain": [
       "tensor([-1.9516, -1.8614, -1.2859, -1.5344, -2.5449, -1.3733,  0.0417, -0.0683,\n",
       "         0.2720], device='cuda:2', dtype=torch.float64)"
      ]
     },
     "execution_count": 43,
     "metadata": {},
     "output_type": "execute_result"
    }
   ],
   "source": [
    "train_data.trajectory_data[108616]"
   ]
  },
  {
   "cell_type": "code",
   "execution_count": 38,
   "metadata": {},
   "outputs": [
    {
     "data": {
      "text/plain": [
       "tensor([        0.,        24.,        51.,  ...,    108597.,    108627.,\n",
       "           108648.])"
      ]
     },
     "execution_count": 38,
     "metadata": {},
     "output_type": "execute_result"
    }
   ],
   "source": [
    "train_data.cumulative_index"
   ]
  },
  {
   "cell_type": "code",
   "execution_count": 40,
   "metadata": {},
   "outputs": [
    {
     "name": "stdout",
     "output_type": "stream",
     "text": [
      "Trajectory containing row index : 51 = 2\n"
     ]
    }
   ],
   "source": [
    "import bisect\n",
    "rowId = 51\n",
    "pos = bisect.bisect_left(train_data.cumulative_index.numpy(), rowId)\n",
    "if train_data.cumulative_index[pos] < rowId:\n",
    "    pos -= 1\n",
    "print ('Trajectory containing row index : {} = {}'.format(rowId, pos))"
   ]
  },
  {
   "cell_type": "code",
   "execution_count": 29,
   "metadata": {},
   "outputs": [],
   "source": [
    "def trajectory_goal_error(trajectory):\n",
    "    return torch.abs(trajectory[-1, :3]-trajectory[-1, 3:6])"
   ]
  },
  {
   "cell_type": "code",
   "execution_count": 30,
   "metadata": {},
   "outputs": [],
   "source": [
    "traj_errors = torch.zeros(5000, 3)\n",
    "for i in range(5000):\n",
    "    traj_errors[i] = trajectory_goal_error(train_data.trajectory_data[torch.where(train_data.trajectory_index[:, 0] == i)[0]])"
   ]
  },
  {
   "cell_type": "code",
   "execution_count": 16,
   "metadata": {},
   "outputs": [],
   "source": [
    "trajectory = train_data.trajectory_data[torch.where(train_data.trajectory_index == 0)[0]]"
   ]
  },
  {
   "cell_type": "code",
   "execution_count": 17,
   "metadata": {},
   "outputs": [
    {
     "name": "stdout",
     "output_type": "stream",
     "text": [
      "tensor([-2.9732, -1.6935, -1.9150], device='cuda:2', dtype=torch.float64)\n",
      "tensor([-1.0334,  0.0324, -2.4570], device='cuda:2', dtype=torch.float64)\n",
      "tensor([1.9398, 1.7259, 0.5420], device='cuda:2', dtype=torch.float64)\n"
     ]
    }
   ],
   "source": [
    "print (trajectory[-1, :3])\n",
    "print (trajectory[-1, 3:6])\n",
    "print (trajectory_goal_error(trajectory))"
   ]
  },
  {
   "cell_type": "code",
   "execution_count": 31,
   "metadata": {},
   "outputs": [
    {
     "name": "stdout",
     "output_type": "stream",
     "text": [
      "tensor(    0.0000)\n",
      "tensor(0.0995)\n",
      "tensor([], dtype=torch.int64)\n"
     ]
    }
   ],
   "source": [
    "print(torch.min(traj_errors))\n",
    "print(torch.max(traj_errors))\n",
    "print (torch.where(traj_errors > 0.1)[0])\n",
    "# print (traj_errors[torch.where(traj_errors > 0.15)[0]])"
   ]
  },
  {
   "cell_type": "code",
   "execution_count": 12,
   "metadata": {},
   "outputs": [],
   "source": [
    "traj_dataset = SimpleReacherTrajectoryDataset(root_folder, number_of_trajectories, include_images=False, device=device)"
   ]
  },
  {
   "cell_type": "code",
   "execution_count": 33,
   "metadata": {},
   "outputs": [
    {
     "name": "stdout",
     "output_type": "stream",
     "text": [
      "Done\n"
     ]
    }
   ],
   "source": [
    "for tId in range(5000):\n",
    "    tData = traj_dataset[tId]['states']\n",
    "    state_diff = (tData[1:, :3] - tData[:-1, :3])\n",
    "    if torch.any(torch.abs(state_diff) > 0.1):\n",
    "        print (tId)\n",
    "print ('Done')"
   ]
  },
  {
   "cell_type": "code",
   "execution_count": 31,
   "metadata": {},
   "outputs": [
    {
     "data": {
      "text/plain": [
       "tensor([[0.0519, 0.0637, 0.0305],\n",
       "        [0.0166, 0.0308, 0.0562],\n",
       "        [0.0227, 0.0423, 0.0815],\n",
       "        [0.0228, 0.0426, 0.0839],\n",
       "        [0.0228, 0.0427, 0.0844],\n",
       "        [0.0228, 0.0427, 0.0845],\n",
       "        [0.0228, 0.0427, 0.0846],\n",
       "        [0.0228, 0.0427, 0.0846],\n",
       "        [0.0228, 0.0427, 0.0846],\n",
       "        [0.0228, 0.0427, 0.0846],\n",
       "        [0.0228, 0.0427, 0.0846],\n",
       "        [0.0228, 0.0427, 0.0846],\n",
       "        [0.0228, 0.0427, 0.0846],\n",
       "        [0.0228, 0.0427, 0.0846],\n",
       "        [0.0228, 0.0427, 0.0846],\n",
       "        [0.0228, 0.0427, 0.0846],\n",
       "        [0.0228, 0.0427, 0.0846],\n",
       "        [0.0228, 0.0427, 0.0846],\n",
       "        [0.0228, 0.0427, 0.0846],\n",
       "        [0.0228, 0.0427, 0.0846],\n",
       "        [0.0228, 0.0427, 0.0846],\n",
       "        [0.0228, 0.0427, 0.0846],\n",
       "        [0.0228, 0.0427, 0.0846],\n",
       "        [0.0228, 0.0427, 0.0846]], device='cuda:2', dtype=torch.float64)"
      ]
     },
     "execution_count": 31,
     "metadata": {},
     "output_type": "execute_result"
    }
   ],
   "source": [
    "tData = traj_dataset[1]['states']\n",
    "state_diff = (tData[1:, :3] - tData[:-1, :3])\n",
    "torch.abs(state_diff)"
   ]
  },
  {
   "cell_type": "code",
   "execution_count": 6,
   "metadata": {},
   "outputs": [
    {
     "name": "stdout",
     "output_type": "stream",
     "text": [
      "Time Taken: 9.918212890625e-05 sec\n"
     ]
    }
   ],
   "source": [
    "start = time.time()\n",
    "train_traj_data = SimpleReacherTrajectoryDataset(root_folder, range(500), device=device) #only a subset of training_data\n",
    "test_traj_data = SimpleReacherTrajectoryDataset(root_folder, range(4750, 5000), device=device)\n",
    "print (\"Time Taken: {} sec\".format(time.time() - start))"
   ]
  },
  {
   "cell_type": "code",
   "execution_count": 20,
   "metadata": {},
   "outputs": [
    {
     "data": {
      "image/png": "[encoded data removed]",
      "text/plain": [
       "<Figure size 432x288 with 2 Axes>"
      ]
     },
     "metadata": {
      "needs_background": "light"
     },
     "output_type": "display_data"
    }
   ],
   "source": [
    "filename = 'dynamic_images'\n",
    "# ims is a list of lists, each row is a list of artists to draw in the\n",
    "# current frame; here we are just animating one artist, the image, in\n",
    "# each frame\n",
    "ims = []\n",
    "fig, ax = plt.subplots(1,2)\n",
    "for i in range(images):\n",
    "    im0 = ax[0].imshow(test_gt_images[i, :].reshape(img_res,img_res), cmap=plt.get_cmap(\"gray\"), vmin=0, vmax=1)\n",
    "    im1 = ax[1].imshow(test_rollout_images[i, :].reshape(img_res,img_res), cmap=plt.get_cmap(\"gray\"), vmin=0, vmax=1)\n",
    "    ims.append([im0, im1])\n",
    "    \n",
    "ani = animation.ArtistAnimation(fig, ims, interval=500, repeat=False)\n",
    "plt.show()\n",
    "ani.save(filename + '.mp4')\n",
    "plt.close('all')"
   ]
  },
  {
   "cell_type": "code",
   "execution_count": 20,
   "metadata": {},
   "outputs": [],
   "source": [
    "last_rows = torch.zeros((len(train_traj_data), 9))\n",
    "other_rows = None\n",
    "for i in range(len(train_traj_data)):\n",
    "    last_rows[i] = train_traj_data[i]['states'][-1]\n",
    "    if other_rows is not None:\n",
    "        other_rows = torch.cat((other_rows, train_traj_data[i]['states'][:-1, :]), dim=0)\n",
    "    else:\n",
    "        other_rows = train_traj_data[i]['states'][:-1, :]"
   ]
  },
  {
   "cell_type": "code",
   "execution_count": null,
   "metadata": {},
   "outputs": [],
   "source": [
    "last_rows_diff = (last_rows[:, 3:6] - last_rows[:, :3]).cpu()\n",
    "other_rows_diff = (other_rows[:, 3:6] - other_rows[:, :3]).cpu()"
   ]
  },
  {
   "cell_type": "code",
   "execution_count": 34,
   "metadata": {},
   "outputs": [
    {
     "data": {
      "text/plain": [
       "array([0.        , 0.16666667, 0.33333333, 0.5       , 0.66666667,\n",
       "       0.83333333, 1.        ])"
      ]
     },
     "execution_count": 34,
     "metadata": {},
     "output_type": "execute_result"
    }
   ],
   "source": [
    "np.linspace(0, 1, 7)"
   ]
  },
  {
   "cell_type": "code",
   "execution_count": 32,
   "metadata": {},
   "outputs": [],
   "source": [
    "images = 7\n",
    "test_gt_images = np.ones((images, 256*256))\n",
    "test_rollout_images = np.ones((images, 256*256))\n",
    "pixels = np.linspace(0, 1, images)\n",
    "for i in range(7):\n",
    "    test_gt_images[i] = pixels[i]\n",
    "    test_rollout_images[i] = pixels[i]"
   ]
  },
  {
   "cell_type": "code",
   "execution_count": 24,
   "metadata": {},
   "outputs": [
    {
     "data": {
      "text/plain": [
       "array([255., 255., 255., ..., 255., 255., 255.])"
      ]
     },
     "execution_count": 24,
     "metadata": {},
     "output_type": "execute_result"
    }
   ],
   "source": [
    "test_gt_images[6]"
   ]
  },
  {
   "cell_type": "code",
   "execution_count": 6,
   "metadata": {},
   "outputs": [],
   "source": [
    "img_res = 256"
   ]
  },
  {
   "cell_type": "code",
   "execution_count": null,
   "metadata": {},
   "outputs": [],
   "source": [
    "def update(frame):\n",
    "    im0.set_array(test_gt_images[frame])\n",
    "    im1.set_array(test_rollout_images[frame])\n",
    "    return [im0, im1]\n",
    "\n",
    "fig, ax = plt.subplots(1,2)\n",
    "im0 = ax[0].imshow(np.zeros((256,256)), cmap=plt.get_cmap(\"gray\"), vmin=0, vmax=1)\n",
    "im1 = ax[1].imshow(np.zeros((256,256)), cmap=plt.get_cmap(\"gray\"), vmin=0, vmax=1)\n",
    "\n",
    "ani = animation.FuncAnimation(fig, update, frames=images, init_func=lambda: [im0, im1], blit=True)\n",
    "ani.save('dynamic_images.mp4')\n",
    "plt.show()"
   ]
  },
  {
   "cell_type": "code",
   "execution_count": 55,
   "metadata": {},
   "outputs": [
    {
     "data": {
      "image/png": "[encoded data removed]",
      "text/plain": [
       "<Figure size 432x288 with 2 Axes>"
      ]
     },
     "metadata": {
      "needs_background": "light"
     },
     "output_type": "display_data"
    }
   ],
   "source": [
    "fit, ax = plt.subplots(1, 2)"
   ]
  },
  {
   "cell_type": "code",
   "execution_count": 58,
   "metadata": {},
   "outputs": [],
   "source": [
    "im0 = ax[0].imshow(test_gt_images[0, :].reshape(img_res,img_res))"
   ]
  },
  {
   "cell_type": "code",
   "execution_count": 59,
   "metadata": {},
   "outputs": [
    {
     "data": {
      "text/plain": [
       "<matplotlib.image.AxesImage at 0x1237d81d0>"
      ]
     },
     "execution_count": 59,
     "metadata": {},
     "output_type": "execute_result"
    }
   ],
   "source": [
    "im0"
   ]
  },
  {
   "cell_type": "code",
   "execution_count": 60,
   "metadata": {},
   "outputs": [],
   "source": [
    "im1 = ax[1].imshow(test_rollout_images[0, :].reshape(img_res,img_res))"
   ]
  },
  {
   "cell_type": "code",
   "execution_count": 61,
   "metadata": {},
   "outputs": [
    {
     "data": {
      "text/plain": [
       "<matplotlib.image.AxesImage at 0x123901e48>"
      ]
     },
     "execution_count": 61,
     "metadata": {},
     "output_type": "execute_result"
    }
   ],
   "source": [
    "im1"
   ]
  },
  {
   "cell_type": "code",
   "execution_count": 63,
   "metadata": {},
   "outputs": [
    {
     "name": "stderr",
     "output_type": "stream",
     "text": [
      "/Users/pradeepkadubandi/.local/share/virtualenvs/DemoPlanner--5SJrBy7/lib/python3.6/site-packages/ipykernel_launcher.py:1: UserWarning: Matplotlib is currently using module://ipykernel.pylab.backend_inline, which is a non-GUI backend, so cannot show the figure.\n",
      "  \"\"\"Entry point for launching an IPython kernel.\n"
     ]
    }
   ],
   "source": [
    "fit.show()"
   ]
  },
  {
   "cell_type": "code",
   "execution_count": 36,
   "metadata": {},
   "outputs": [
    {
     "data": {
      "image/png": "[encoded data removed]",
      "text/plain": [
       "<Figure size 432x288 with 2 Axes>"
      ]
     },
     "metadata": {
      "needs_background": "light"
     },
     "output_type": "display_data"
    },
    {
     "data": {
      "image/png": "[encoded data removed]",
      "text/plain": [
       "<Figure size 432x288 with 2 Axes>"
      ]
     },
     "metadata": {
      "needs_background": "light"
     },
     "output_type": "display_data"
    },
    {
     "data": {
      "image/png": "[encoded data removed]",
      "text/plain": [
       "<Figure size 432x288 with 2 Axes>"
      ]
     },
     "metadata": {
      "needs_background": "light"
     },
     "output_type": "display_data"
    },
    {
     "data": {
      "image/png": "[encoded data removed]",
      "text/plain": [
       "<Figure size 432x288 with 2 Axes>"
      ]
     },
     "metadata": {
      "needs_background": "light"
     },
     "output_type": "display_data"
    },
    {
     "data": {
      "image/png": "[encoded data removed]",
      "text/plain": [
       "<Figure size 432x288 with 2 Axes>"
      ]
     },
     "metadata": {
      "needs_background": "light"
     },
     "output_type": "display_data"
    },
    {
     "data": {
      "image/png": "[encoded data removed]",
      "text/plain": [
       "<Figure size 432x288 with 2 Axes>"
      ]
     },
     "metadata": {
      "needs_background": "light"
     },
     "output_type": "display_data"
    },
    {
     "data": {
      "image/png": "[encoded data removed]",
      "text/plain": [
       "<Figure size 432x288 with 2 Axes>"
      ]
     },
     "metadata": {
      "needs_background": "light"
     },
     "output_type": "display_data"
    }
   ],
   "source": [
    "for i in range(len(test_gt_images)):\n",
    "    fig = plt.figure()\n",
    "    plt.subplot(1,2,1)\n",
    "    plt.imshow(test_gt_images[i, :].reshape(img_res,img_res), cmap=plt.get_cmap(\"gray\"), vmin=0, vmax=1)\n",
    "    plt.subplot(1,2,2)\n",
    "    plt.imshow(test_rollout_images[i, :].reshape(img_res,img_res), cmap=plt.get_cmap(\"gray\"), vmin=0, vmax=1)\n",
    "    plt.show()\n",
    "    plt.close(fig)"
   ]
  },
  {
   "cell_type": "code",
   "execution_count": null,
   "metadata": {},
   "outputs": [],
   "source": [
    "fig = plt.figure()\n",
    "plt.boxplot(last_rows_diff)\n",
    "plt.show()\n",
    "plt.close()"
   ]
  },
  {
   "cell_type": "code",
   "execution_count": 24,
   "metadata": {},
   "outputs": [
    {
     "data": {
      "image/png": "[encoded data removed]",
      "text/plain": [
       "<Figure size 432x288 with 1 Axes>"
      ]
     },
     "metadata": {
      "needs_background": "light"
     },
     "output_type": "display_data"
    }
   ],
   "source": [
    "values = [last_rows_diff.reshape(-1), other_rows_diff.reshape(-1)]\n",
    "fig = plt.figure()\n",
    "plt.boxplot(values)\n",
    "plt.show()\n",
    "plt.close()"
   ]
  },
  {
   "cell_type": "code",
   "execution_count": null,
   "metadata": {},
   "outputs": [],
   "source": []
  }
 ],
 "metadata": {
  "kernelspec": {
   "display_name": "Python 3",
   "language": "python",
   "name": "python3"
  },
  "language_info": {
   "codemirror_mode": {
    "name": "ipython",
    "version": 3
   },
   "file_extension": ".py",
   "mimetype": "text/x-python",
   "name": "python",
   "nbconvert_exporter": "python",
   "pygments_lexer": "ipython3",
   "version": "3.6.8"
  }
 },
 "nbformat": 4,
 "nbformat_minor": 4
}
