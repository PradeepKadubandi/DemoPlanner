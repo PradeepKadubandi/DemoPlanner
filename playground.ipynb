{
 "cells": [
  {
   "cell_type": "code",
   "execution_count": 1,
   "metadata": {},
   "outputs": [],
   "source": [
    "%load_ext autoreload\n",
    "%autoreload 2"
   ]
  },
  {
   "cell_type": "code",
   "execution_count": 2,
   "metadata": {},
   "outputs": [],
   "source": [
    "import numpy as np\n",
    "import matplotlib.pyplot as plt\n",
    "import math\n",
    "import time\n",
    "from io import StringIO\n",
    "import sys\n",
    "\n",
    "import torch\n",
    "import torch.nn as nn\n",
    "import torch.nn.functional as F\n",
    "from dataset import *\n",
    "from torch.utils.data import DataLoader"
   ]
  },
  {
   "cell_type": "code",
   "execution_count": 3,
   "metadata": {},
   "outputs": [],
   "source": [
    "root_folder = 'data/simple_reacher/training'\n",
    "number_of_trajectories = 100\n",
    "batch_size = 32"
   ]
  },
  {
   "cell_type": "code",
   "execution_count": 39,
   "metadata": {},
   "outputs": [],
   "source": [
    "root_folder = 'data/simple_reacher/sample_data_all_limited_joints'\n",
    "number_of_trajectories = 5"
   ]
  },
  {
   "cell_type": "code",
   "execution_count": 41,
   "metadata": {},
   "outputs": [
    {
     "name": "stdout",
     "output_type": "stream",
     "text": [
      "Time Taken: 0.07968378067016602 sec\n"
     ]
    }
   ],
   "source": [
    "start = time.time()\n",
    "ondemand = SimpleReacherOnDemandDataset(root_folder, number_of_trajectories)\n",
    "print (\"Time Taken: {} sec\".format(time.time() - start))"
   ]
  },
  {
   "cell_type": "code",
   "execution_count": 5,
   "metadata": {},
   "outputs": [
    {
     "name": "stdout",
     "output_type": "stream",
     "text": [
      "Time Taken: 10.221627950668335 sec\n"
     ]
    }
   ],
   "source": [
    "start = time.time()\n",
    "preloaded = SimpleReacherPreLoadedDataset(root_folder, number_of_trajectories)\n",
    "print (\"Time Taken: {} sec\".format(time.time() - start))"
   ]
  },
  {
   "cell_type": "code",
   "execution_count": 6,
   "metadata": {},
   "outputs": [
    {
     "data": {
      "text/plain": [
       "(2194, 9)"
      ]
     },
     "execution_count": 6,
     "metadata": {},
     "output_type": "execute_result"
    }
   ],
   "source": [
    "ondemand.trajectory_data.shape"
   ]
  },
  {
   "cell_type": "code",
   "execution_count": 7,
   "metadata": {},
   "outputs": [
    {
     "data": {
      "text/plain": [
       "2194"
      ]
     },
     "execution_count": 7,
     "metadata": {},
     "output_type": "execute_result"
    }
   ],
   "source": [
    "len(ondemand)"
   ]
  },
  {
   "cell_type": "code",
   "execution_count": 8,
   "metadata": {},
   "outputs": [
    {
     "name": "stdout",
     "output_type": "stream",
     "text": [
      "(2194, 9)\n",
      "(2194, 62500)\n"
     ]
    }
   ],
   "source": [
    "print(preloaded.trajectory_data.shape)\n",
    "print(preloaded.image_data.shape)"
   ]
  },
  {
   "cell_type": "code",
   "execution_count": 9,
   "metadata": {},
   "outputs": [],
   "source": [
    "idx = np.random.randint(len(ondemand.trajectory_data), size=(batch_size))"
   ]
  },
  {
   "cell_type": "code",
   "execution_count": 10,
   "metadata": {},
   "outputs": [
    {
     "data": {
      "text/plain": [
       "array([ 519, 1346,  545,  451,  926, 1596, 1284, 1450,  408,  921, 1548,\n",
       "       1210,  641,  618, 1954, 1747, 2140, 1758,  242, 1181,  180, 1143,\n",
       "        334, 1216, 1971, 2152, 2148,  542,   86, 1576,   22,  409])"
      ]
     },
     "execution_count": 10,
     "metadata": {},
     "output_type": "execute_result"
    }
   ],
   "source": [
    "idx"
   ]
  },
  {
   "cell_type": "code",
   "execution_count": 11,
   "metadata": {},
   "outputs": [
    {
     "name": "stdout",
     "output_type": "stream",
     "text": [
      "Time Taken: 0.10364007949829102 sec\n"
     ]
    }
   ],
   "source": [
    "start = time.time()\n",
    "ondemandBatch = ondemand[idx]\n",
    "print (\"Time Taken: {} sec\".format(time.time() - start))"
   ]
  },
  {
   "cell_type": "code",
   "execution_count": 12,
   "metadata": {},
   "outputs": [
    {
     "name": "stdout",
     "output_type": "stream",
     "text": [
      "Time Taken: 0.001249074935913086 sec\n"
     ]
    }
   ],
   "source": [
    "start = time.time()\n",
    "preloadedBatch = preloaded[idx]\n",
    "print (\"Time Taken: {} sec\".format(time.time() - start))"
   ]
  },
  {
   "cell_type": "code",
   "execution_count": 13,
   "metadata": {},
   "outputs": [
    {
     "data": {
      "text/plain": [
       "True"
      ]
     },
     "execution_count": 13,
     "metadata": {},
     "output_type": "execute_result"
    }
   ],
   "source": [
    "np.all(ondemandBatch['images'] == preloadedBatch['images'])"
   ]
  },
  {
   "cell_type": "code",
   "execution_count": 14,
   "metadata": {},
   "outputs": [],
   "source": [
    "onedemandLoader = DataLoader(ondemand, batch_size=batch_size, shuffle=True)\n",
    "preloadedLoader = DataLoader(preloaded, batch_size=batch_size, shuffle=True)"
   ]
  },
  {
   "cell_type": "code",
   "execution_count": 15,
   "metadata": {},
   "outputs": [],
   "source": [
    "epochs = 1"
   ]
  },
  {
   "cell_type": "code",
   "execution_count": 16,
   "metadata": {},
   "outputs": [],
   "source": [
    "def simulate_training(dataLoader):\n",
    "    start = time.time()\n",
    "    builder = StringIO()\n",
    "    for e in range(epochs):\n",
    "        for i, data in enumerate(dataLoader):\n",
    "            builder.write('Epoch {}: Running batch index = {} with data shape = {}'.format(e, i, data['images'].shape))\n",
    "            builder.write('\\n')\n",
    "            break\n",
    "    print (\"Time Taken: {} sec\".format(time.time() - start))\n",
    "    log = builder.getvalue()\n",
    "    builder.close()\n",
    "    return log"
   ]
  },
  {
   "cell_type": "code",
   "execution_count": 17,
   "metadata": {},
   "outputs": [
    {
     "name": "stdout",
     "output_type": "stream",
     "text": [
      "Time Taken: 0.2524890899658203 sec\n"
     ]
    }
   ],
   "source": [
    "log1 = simulate_training(onedemandLoader)"
   ]
  },
  {
   "cell_type": "code",
   "execution_count": 18,
   "metadata": {},
   "outputs": [
    {
     "data": {
      "text/plain": [
       "'Epoch 0: Running batch index = 0 with data shape = torch.Size([32, 62500])\\n'"
      ]
     },
     "execution_count": 18,
     "metadata": {},
     "output_type": "execute_result"
    }
   ],
   "source": [
    "log1"
   ]
  },
  {
   "cell_type": "code",
   "execution_count": 19,
   "metadata": {},
   "outputs": [
    {
     "name": "stdout",
     "output_type": "stream",
     "text": [
      "Time Taken: 0.005193948745727539 sec\n"
     ]
    }
   ],
   "source": [
    "log2 = simulate_training(preloadedLoader)"
   ]
  },
  {
   "cell_type": "code",
   "execution_count": 20,
   "metadata": {},
   "outputs": [
    {
     "data": {
      "text/plain": [
       "'Epoch 0: Running batch index = 0 with data shape = torch.Size([32, 62500])\\n'"
      ]
     },
     "execution_count": 20,
     "metadata": {},
     "output_type": "execute_result"
    }
   ],
   "source": [
    "log2"
   ]
  },
  {
   "cell_type": "code",
   "execution_count": 29,
   "metadata": {},
   "outputs": [
    {
     "data": {
      "text/plain": [
       "158080"
      ]
     },
     "execution_count": 29,
     "metadata": {},
     "output_type": "execute_result"
    }
   ],
   "source": [
    "sys.getsizeof(ondemand.trajectory_data)"
   ]
  },
  {
   "cell_type": "code",
   "execution_count": 27,
   "metadata": {},
   "outputs": [
    {
     "data": {
      "text/plain": [
       "137125112"
      ]
     },
     "execution_count": 27,
     "metadata": {},
     "output_type": "execute_result"
    }
   ],
   "source": [
    "sys.getsizeof(preloaded.image_data)"
   ]
  },
  {
   "cell_type": "code",
   "execution_count": 7,
   "metadata": {},
   "outputs": [
    {
     "name": "stdout",
     "output_type": "stream",
     "text": [
      "Time Taken: 21.97927212715149 sec\n"
     ]
    }
   ],
   "source": [
    "start = time.time()\n",
    "train_data = SimpleReacherOnDemandDataset(root_folder, range(4750), device=None)\n",
    "test_data = SimpleReacherOnDemandDataset(root_folder, range(4750, 5000), device=None)\n",
    "print (\"Time Taken: {} sec\".format(time.time() - start))"
   ]
  },
  {
   "cell_type": "code",
   "execution_count": 8,
   "metadata": {},
   "outputs": [
    {
     "name": "stdout",
     "output_type": "stream",
     "text": [
      "(98892, 9)\n",
      "(5206, 9)\n"
     ]
    }
   ],
   "source": [
    "print (train_data.trajectory_data.shape)\n",
    "print (test_data.trajectory_data.shape)"
   ]
  },
  {
   "cell_type": "code",
   "execution_count": 9,
   "metadata": {},
   "outputs": [
    {
     "name": "stdout",
     "output_type": "stream",
     "text": [
      "-3.141592\n",
      "3.141592\n",
      "-2.9\n",
      "2.9\n",
      "-3.1412612750944597\n",
      "3.138749504393774\n",
      "-2.4523708495071115\n",
      "2.5556591643818747\n",
      "-3.129891384701949\n",
      "3.141592\n",
      "-3.129891384272161\n",
      "3.0907654726696845\n",
      "-1.9018395734261253\n",
      "1.971451623142999\n",
      "3.141592653589793\n"
     ]
    }
   ],
   "source": [
    "print (np.min(train_data.trajectory_data[:, :1]))\n",
    "print (np.max(train_data.trajectory_data[:, :1]))\n",
    "print (np.min(train_data.trajectory_data[:, 1:3]))\n",
    "print (np.max(train_data.trajectory_data[:, 1:3]))\n",
    "print (np.min(train_data.trajectory_data[:, 3:6]))\n",
    "print (np.max(train_data.trajectory_data[:, 3:6]))\n",
    "print (np.min(train_data.trajectory_data[:, 6:]))\n",
    "print (np.max(train_data.trajectory_data[:, 6:]))\n",
    "print (np.min(test_data.trajectory_data[:, :3]))\n",
    "print (np.max(test_data.trajectory_data[:, :3]))\n",
    "print (np.min(test_data.trajectory_data[:, 3:6]))\n",
    "print (np.max(test_data.trajectory_data[:, 3:6]))\n",
    "print (np.min(test_data.trajectory_data[:, 6:]))\n",
    "print (np.max(test_data.trajectory_data[:, 6:]))\n",
    "print (np.pi)"
   ]
  },
  {
   "cell_type": "code",
   "execution_count": 10,
   "metadata": {},
   "outputs": [
    {
     "name": "stdout",
     "output_type": "stream",
     "text": [
      "(98892, 1)\n",
      "(98892,)\n",
      "(0, 1)\n"
     ]
    },
    {
     "data": {
      "text/plain": [
       "array([], shape=(0, 1), dtype=float64)"
      ]
     },
     "execution_count": 10,
     "metadata": {},
     "output_type": "execute_result"
    }
   ],
   "source": [
    "actions = train_data.trajectory_data[:, :1]\n",
    "print (actions.shape)\n",
    "mask = np.any(actions > 20.0, axis=1)\n",
    "print (mask.shape)\n",
    "result = actions[mask]\n",
    "print (result.shape)\n",
    "result[:1]"
   ]
  },
  {
   "cell_type": "code",
   "execution_count": null,
   "metadata": {},
   "outputs": [],
   "source": []
  }
 ],
 "metadata": {
  "kernelspec": {
   "display_name": "demopl",
   "language": "python",
   "name": "demopl"
  },
  "language_info": {
   "codemirror_mode": {
    "name": "ipython",
    "version": 3
   },
   "file_extension": ".py",
   "mimetype": "text/x-python",
   "name": "python",
   "nbconvert_exporter": "python",
   "pygments_lexer": "ipython3",
   "version": "3.6.8"
  }
 },
 "nbformat": 4,
 "nbformat_minor": 4
}
