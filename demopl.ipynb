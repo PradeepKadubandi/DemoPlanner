{
 "cells": [
  {
   "cell_type": "code",
   "execution_count": 1,
   "metadata": {},
   "outputs": [],
   "source": [
    "%load_ext autoreload\n",
    "%autoreload 2"
   ]
  },
  {
   "cell_type": "code",
   "execution_count": 36,
   "metadata": {},
   "outputs": [],
   "source": [
    "from networks import AutoEncoder\n",
    "from networks import ComposedAutoEncoder\n",
    "from dataset import NumpyCsvDataSet\n",
    "\n",
    "import torch\n",
    "import torch.nn.functional as F\n",
    "from torch.utils.data import DataLoader\n",
    "import torch.optim as optim\n",
    "from torch.utils.tensorboard import SummaryWriter\n",
    "\n",
    "import numpy as np\n",
    "import matplotlib.pyplot as plt\n",
    "import time\n",
    "import os\n",
    "from io import StringIO"
   ]
  },
  {
   "cell_type": "code",
   "execution_count": 3,
   "metadata": {},
   "outputs": [],
   "source": [
    "opt = np.get_printoptions()\n",
    "np.set_printoptions(threshold=np.inf)"
   ]
  },
  {
   "cell_type": "code",
   "execution_count": 4,
   "metadata": {},
   "outputs": [],
   "source": [
    "data_folder = 'data/demoplanner/version1'\n",
    "train_data = NumpyCsvDataSet(data_folder + '/train.csv')\n",
    "test_data = NumpyCsvDataSet(data_folder + '/test.csv')\n",
    "training_loader = DataLoader(train_data, batch_size=50, shuffle=True)\n",
    "test_loader = DataLoader(test_data, batch_size=3, shuffle=True)"
   ]
  },
  {
   "cell_type": "code",
   "execution_count": 5,
   "metadata": {},
   "outputs": [
    {
     "name": "stdout",
     "output_type": "stream",
     "text": [
      "torch.Size([13280, 2058])\n",
      "torch.Size([1341, 2058])\n"
     ]
    }
   ],
   "source": [
    "print (train_data.data.shape)\n",
    "print (test_data.data.shape)"
   ]
  },
  {
   "cell_type": "code",
   "execution_count": 6,
   "metadata": {},
   "outputs": [],
   "source": [
    "x_dim = 2\n",
    "img_res = 32\n",
    "img_size = img_res * img_res"
   ]
  },
  {
   "cell_type": "code",
   "execution_count": 37,
   "metadata": {},
   "outputs": [
    {
     "name": "stdout",
     "output_type": "stream",
     "text": [
      "Don't know how to reset  autoencoder, please run `%reset?` for details\n",
      "Don't know how to reset  composedautoencoder, please run `%reset?` for details\n",
      "Don't know how to reset  net, please run `%reset?` for details\n"
     ]
    }
   ],
   "source": [
    "%reset -f AutoEncoder\n",
    "%reset -f ComposedAutoEncoder\n",
    "%reset -f net\n",
    "from networks import AutoEncoder"
   ]
  },
  {
   "cell_type": "code",
   "execution_count": 38,
   "metadata": {},
   "outputs": [
    {
     "data": {
      "text/plain": [
       "ComposedAutoEncoder(\n",
       "  (encoder): ImageEncoder(\n",
       "    (net): Sequential(\n",
       "      (enc_conv0): Conv2d(1, 4, kernel_size=(3, 3), stride=(2, 2), padding=(1, 1))\n",
       "      (enc_relu0): ReLU()\n",
       "      (enc_conv1): Conv2d(4, 8, kernel_size=(3, 3), stride=(2, 2), padding=(1, 1))\n",
       "      (enc_relu1): ReLU()\n",
       "      (enc_conv2): Conv2d(8, 16, kernel_size=(3, 3), stride=(2, 2), padding=(1, 1))\n",
       "      (enc_relu2): ReLU()\n",
       "    )\n",
       "  )\n",
       "  (decoder): ImageDecoder(\n",
       "    (net): Sequential(\n",
       "      (dec_convt0): ConvTranspose2d(16, 8, kernel_size=(3, 3), stride=(2, 2), padding=(1, 1), output_padding=(1, 1))\n",
       "      (dec_relu0): ReLU()\n",
       "      (dec_convt1): ConvTranspose2d(8, 4, kernel_size=(3, 3), stride=(2, 2), padding=(1, 1), output_padding=(1, 1))\n",
       "      (dec_relu1): ReLU()\n",
       "      (dec_convt2): ConvTranspose2d(4, 1, kernel_size=(3, 3), stride=(2, 2), padding=(1, 1), output_padding=(1, 1))\n",
       "      (dec_sigmoid2): Sigmoid()\n",
       "      (dec_flat2): Flatten()\n",
       "    )\n",
       "  )\n",
       ")"
      ]
     },
     "execution_count": 38,
     "metadata": {},
     "output_type": "execute_result"
    }
   ],
   "source": [
    "net = ComposedAutoEncoder()\n",
    "net.train()"
   ]
  },
  {
   "cell_type": "code",
   "execution_count": 39,
   "metadata": {},
   "outputs": [
    {
     "name": "stdout",
     "output_type": "stream",
     "text": [
      "Training-AutoEncoder-03-03-11-31-51\n"
     ]
    }
   ],
   "source": [
    "expt_prefix = 'Training-AutoEncoder-'\n",
    "expt_name = expt_prefix + time.strftime('%m-%d-%H-%M-%S')\n",
    "print (expt_name)"
   ]
  },
  {
   "cell_type": "code",
   "execution_count": 40,
   "metadata": {},
   "outputs": [],
   "source": [
    "# expt_name = 'Training-AutoEncoder-01-18-16-55-55'\n",
    "folder = './saved_model/img_auto_encoder/' + expt_name\n",
    "PATH = folder + '/autoenc.pth'"
   ]
  },
  {
   "cell_type": "code",
   "execution_count": 41,
   "metadata": {},
   "outputs": [],
   "source": [
    "writer = SummaryWriter('runs/' + expt_name)"
   ]
  },
  {
   "cell_type": "code",
   "execution_count": 42,
   "metadata": {},
   "outputs": [],
   "source": [
    "def model_input(data):\n",
    "    return data[:, 2*x_dim:2*x_dim+img_size]"
   ]
  },
  {
   "cell_type": "code",
   "execution_count": 43,
   "metadata": {},
   "outputs": [
    {
     "name": "stdout",
     "output_type": "stream",
     "text": [
      "--------------------------------------------\r\n",
      "        Network Parameter Statistics\r\n",
      "--------------------------------------------\r\n",
      "Params for layer 1 = 36\r\n",
      "Params for layer 2 = 4\r\n",
      "Params for layer 3 = 288\r\n",
      "Params for layer 4 = 8\r\n",
      "Params for layer 5 = 1152\r\n",
      "Params for layer 6 = 16\r\n",
      "Params for layer 7 = 1152\r\n",
      "Params for layer 8 = 8\r\n",
      "Params for layer 9 = 288\r\n",
      "Params for layer 10 = 4\r\n",
      "Params for layer 11 = 36\r\n",
      "Params for layer 12 = 1\r\n",
      "--------------------------------------------\r\n",
      "Total: 2993\r\n",
      "--------------------------------------------\r\n",
      "\n",
      "ComposedAutoEncoder(\n",
      "  (encoder): ImageEncoder(\n",
      "    (net): Sequential(\n",
      "      (enc_conv0): Conv2d(1, 4, kernel_size=(3, 3), stride=(2, 2), padding=(1, 1))\n",
      "      (enc_relu0): ReLU()\n",
      "      (enc_conv1): Conv2d(4, 8, kernel_size=(3, 3), stride=(2, 2), padding=(1, 1))\n",
      "      (enc_relu1): ReLU()\n",
      "      (enc_conv2): Conv2d(8, 16, kernel_size=(3, 3), stride=(2, 2), padding=(1, 1))\n",
      "      (enc_relu2): ReLU()\n",
      "    )\n",
      "  )\n",
      "  (decoder): ImageDecoder(\n",
      "    (net): Sequential(\n",
      "      (dec_convt0): ConvTranspose2d(16, 8, kernel_size=(3, 3), stride=(2, 2), padding=(1, 1), output_padding=(1, 1))\n",
      "      (dec_relu0): ReLU()\n",
      "      (dec_convt1): ConvTranspose2d(8, 4, kernel_size=(3, 3), stride=(2, 2), padding=(1, 1), output_padding=(1, 1))\n",
      "      (dec_relu1): ReLU()\n",
      "      (dec_convt2): ConvTranspose2d(4, 1, kernel_size=(3, 3), stride=(2, 2), padding=(1, 1), output_padding=(1, 1))\n",
      "      (dec_sigmoid2): Sigmoid()\n",
      "      (dec_flat2): Flatten()\n",
      "    )\n",
      "  )\n",
      ")\n"
     ]
    }
   ],
   "source": [
    "def writeline(builder, line):\n",
    "    builder.write(line)\n",
    "    builder.write('\\r\\n')\n",
    "    \n",
    "builder = StringIO()\n",
    "\n",
    "writeline(builder, '--------------------------------------------')\n",
    "writeline(builder, '        Network Parameter Statistics')\n",
    "writeline(builder, '--------------------------------------------')\n",
    "\n",
    "total = 0\n",
    "layer = 0\n",
    "for p in net.parameters():\n",
    "    if p.requires_grad:\n",
    "        total += p.numel()\n",
    "        writeline(builder, 'Params for layer {} = {}'.format(layer+1, p.numel()))\n",
    "        layer += 1\n",
    "\n",
    "writeline(builder, '--------------------------------------------')\n",
    "writeline(builder, 'Total: {}'.format(total))\n",
    "writeline(builder, '--------------------------------------------')\n",
    "\n",
    "paramString = builder.getvalue()\n",
    "print (paramString)\n",
    "\n",
    "# writer.add_text('Network Parameter Info', paramString)\n",
    "\n",
    "# print (net)\n",
    "\n",
    "data = next(iter(training_loader)).float()\n",
    "\n",
    "# writer.add_graph(net, model_input(data))\n",
    "\n",
    "lines = str(net).split('\\n')\n",
    "builder2 = StringIO()\n",
    "# print ('Number of lines = {}'.format(len(lines)))\n",
    "for i, l in enumerate(lines):\n",
    "    if l.strip() == \"\":\n",
    "        continue\n",
    "    print(l)\n",
    "    writeline(builder2, l)\n",
    "    # writer.add_text('Network Structure', l, i)\n",
    "\n",
    "builder.close()\n",
    "builder2.close()"
   ]
  },
  {
   "cell_type": "code",
   "execution_count": 46,
   "metadata": {},
   "outputs": [
    {
     "name": "stdout",
     "output_type": "stream",
     "text": [
      "[201,   100] loss: 0.019\n",
      "[201,   200] loss: 0.018\n",
      "[202,   100] loss: 0.028\n",
      "[202,   200] loss: 0.015\n",
      "[203,   100] loss: 0.024\n",
      "[203,   200] loss: 0.013\n",
      "[204,   100] loss: 0.020\n",
      "[204,   200] loss: 0.011\n",
      "[205,   100] loss: 0.016\n",
      "[205,   200] loss: 0.009\n",
      "[206,   100] loss: 0.013\n",
      "[206,   200] loss: 0.007\n",
      "[207,   100] loss: 0.012\n",
      "[207,   200] loss: 0.007\n",
      "[208,   100] loss: 0.011\n",
      "[208,   200] loss: 0.006\n",
      "[209,   100] loss: 0.010\n",
      "[209,   200] loss: 0.006\n",
      "[210,   100] loss: 0.010\n",
      "[210,   200] loss: 0.006\n",
      "[211,   100] loss: 0.009\n",
      "[211,   200] loss: 0.006\n",
      "[212,   100] loss: 0.009\n",
      "[212,   200] loss: 0.005\n",
      "[213,   100] loss: 0.009\n",
      "[213,   200] loss: 0.005\n",
      "[214,   100] loss: 0.009\n",
      "[214,   200] loss: 0.005\n",
      "[215,   100] loss: 0.008\n",
      "[215,   200] loss: 0.005\n",
      "[216,   100] loss: 0.008\n",
      "[216,   200] loss: 0.005\n",
      "[217,   100] loss: 0.008\n",
      "[217,   200] loss: 0.005\n",
      "[218,   100] loss: 0.008\n",
      "[218,   200] loss: 0.005\n",
      "[219,   100] loss: 0.008\n",
      "[219,   200] loss: 0.005\n",
      "[220,   100] loss: 0.008\n",
      "[220,   200] loss: 0.005\n",
      "[221,   100] loss: 0.008\n",
      "[221,   200] loss: 0.005\n",
      "[222,   100] loss: 0.008\n",
      "[222,   200] loss: 0.005\n",
      "[223,   100] loss: 0.007\n",
      "[223,   200] loss: 0.004\n",
      "[224,   100] loss: 0.007\n",
      "[224,   200] loss: 0.004\n",
      "[225,   100] loss: 0.007\n",
      "[225,   200] loss: 0.004\n",
      "[226,   100] loss: 0.007\n",
      "[226,   200] loss: 0.004\n",
      "[227,   100] loss: 0.007\n",
      "[227,   200] loss: 0.004\n",
      "[228,   100] loss: 0.007\n",
      "[228,   200] loss: 0.004\n",
      "[229,   100] loss: 0.007\n",
      "[229,   200] loss: 0.004\n",
      "[230,   100] loss: 0.007\n",
      "[230,   200] loss: 0.004\n",
      "[231,   100] loss: 0.007\n",
      "[231,   200] loss: 0.004\n",
      "[232,   100] loss: 0.007\n",
      "[232,   200] loss: 0.004\n",
      "[233,   100] loss: 0.007\n",
      "[233,   200] loss: 0.004\n",
      "[234,   100] loss: 0.007\n",
      "[234,   200] loss: 0.004\n",
      "[235,   100] loss: 0.007\n",
      "[235,   200] loss: 0.004\n",
      "[236,   100] loss: 0.007\n",
      "[236,   200] loss: 0.004\n",
      "[237,   100] loss: 0.007\n",
      "[237,   200] loss: 0.004\n",
      "[238,   100] loss: 0.007\n",
      "[238,   200] loss: 0.004\n",
      "[239,   100] loss: 0.006\n",
      "[239,   200] loss: 0.004\n",
      "[240,   100] loss: 0.006\n",
      "[240,   200] loss: 0.004\n",
      "[241,   100] loss: 0.006\n",
      "[241,   200] loss: 0.004\n",
      "[242,   100] loss: 0.006\n",
      "[242,   200] loss: 0.004\n",
      "[243,   100] loss: 0.006\n",
      "[243,   200] loss: 0.004\n",
      "[244,   100] loss: 0.006\n",
      "[244,   200] loss: 0.004\n",
      "[245,   100] loss: 0.006\n",
      "[245,   200] loss: 0.004\n",
      "[246,   100] loss: 0.006\n",
      "[246,   200] loss: 0.004\n",
      "[247,   100] loss: 0.006\n",
      "[247,   200] loss: 0.004\n",
      "[248,   100] loss: 0.006\n",
      "[248,   200] loss: 0.004\n",
      "[249,   100] loss: 0.006\n",
      "[249,   200] loss: 0.004\n",
      "[250,   100] loss: 0.006\n",
      "[250,   200] loss: 0.004\n",
      "[251,   100] loss: 0.006\n",
      "[251,   200] loss: 0.004\n",
      "[252,   100] loss: 0.006\n",
      "[252,   200] loss: 0.004\n",
      "[253,   100] loss: 0.006\n",
      "[253,   200] loss: 0.004\n",
      "[254,   100] loss: 0.006\n",
      "[254,   200] loss: 0.004\n",
      "[255,   100] loss: 0.006\n",
      "[255,   200] loss: 0.004\n",
      "[256,   100] loss: 0.006\n",
      "[256,   200] loss: 0.004\n",
      "[257,   100] loss: 0.006\n",
      "[257,   200] loss: 0.004\n",
      "[258,   100] loss: 0.006\n",
      "[258,   200] loss: 0.004\n",
      "[259,   100] loss: 0.006\n",
      "[259,   200] loss: 0.003\n",
      "[260,   100] loss: 0.006\n",
      "[260,   200] loss: 0.003\n",
      "[261,   100] loss: 0.006\n",
      "[261,   200] loss: 0.003\n",
      "[262,   100] loss: 0.006\n",
      "[262,   200] loss: 0.003\n",
      "[263,   100] loss: 0.006\n",
      "[263,   200] loss: 0.003\n",
      "[264,   100] loss: 0.006\n",
      "[264,   200] loss: 0.003\n",
      "[265,   100] loss: 0.006\n",
      "[265,   200] loss: 0.003\n",
      "[266,   100] loss: 0.006\n",
      "[266,   200] loss: 0.003\n",
      "[267,   100] loss: 0.006\n",
      "[267,   200] loss: 0.003\n",
      "[268,   100] loss: 0.006\n",
      "[268,   200] loss: 0.003\n",
      "[269,   100] loss: 0.006\n",
      "[269,   200] loss: 0.003\n",
      "[270,   100] loss: 0.006\n",
      "[270,   200] loss: 0.003\n",
      "[271,   100] loss: 0.006\n",
      "[271,   200] loss: 0.003\n",
      "[272,   100] loss: 0.006\n",
      "[272,   200] loss: 0.003\n",
      "[273,   100] loss: 0.006\n",
      "[273,   200] loss: 0.003\n",
      "[274,   100] loss: 0.005\n",
      "[274,   200] loss: 0.003\n",
      "[275,   100] loss: 0.005\n",
      "[275,   200] loss: 0.003\n",
      "[276,   100] loss: 0.005\n",
      "[276,   200] loss: 0.003\n",
      "[277,   100] loss: 0.005\n",
      "[277,   200] loss: 0.003\n",
      "[278,   100] loss: 0.005\n",
      "[278,   200] loss: 0.003\n",
      "[279,   100] loss: 0.005\n",
      "[279,   200] loss: 0.003\n",
      "[280,   100] loss: 0.005\n",
      "[280,   200] loss: 0.003\n",
      "[281,   100] loss: 0.005\n",
      "[281,   200] loss: 0.003\n",
      "[282,   100] loss: 0.005\n",
      "[282,   200] loss: 0.003\n",
      "[283,   100] loss: 0.005\n",
      "[283,   200] loss: 0.003\n",
      "[284,   100] loss: 0.005\n",
      "[284,   200] loss: 0.003\n",
      "[285,   100] loss: 0.005\n",
      "[285,   200] loss: 0.003\n",
      "[286,   100] loss: 0.005\n",
      "[286,   200] loss: 0.003\n",
      "[287,   100] loss: 0.005\n",
      "[287,   200] loss: 0.003\n",
      "[288,   100] loss: 0.005\n",
      "[288,   200] loss: 0.003\n",
      "[289,   100] loss: 0.005\n",
      "[289,   200] loss: 0.003\n",
      "[290,   100] loss: 0.005\n",
      "[290,   200] loss: 0.003\n",
      "[291,   100] loss: 0.005\n",
      "[291,   200] loss: 0.003\n",
      "[292,   100] loss: 0.005\n",
      "[292,   200] loss: 0.003\n",
      "[293,   100] loss: 0.005\n",
      "[293,   200] loss: 0.003\n",
      "[294,   100] loss: 0.005\n",
      "[294,   200] loss: 0.003\n",
      "[295,   100] loss: 0.005\n",
      "[295,   200] loss: 0.003\n",
      "[296,   100] loss: 0.005\n",
      "[296,   200] loss: 0.003\n",
      "[297,   100] loss: 0.005\n",
      "[297,   200] loss: 0.003\n",
      "[298,   100] loss: 0.005\n",
      "[298,   200] loss: 0.003\n",
      "[299,   100] loss: 0.005\n",
      "[299,   200] loss: 0.003\n",
      "[300,   100] loss: 0.005\n",
      "[300,   200] loss: 0.003\n"
     ]
    }
   ],
   "source": [
    "## Training auto encoder and dynamics network\n",
    "resume_previous_training = True\n",
    "epochs = 100\n",
    "if not resume_previous_training:\n",
    "    prev_offset = 0\n",
    "\n",
    "optimizer = optim.Adam(net.parameters(), lr=1e-4)\n",
    "\n",
    "running_loss = np.array([0.0, 0.0, 0.0, 0.0])\n",
    "for epoch in range(epochs):\n",
    "    for i, data in enumerate(training_loader, 0):\n",
    "        data = data.float()\n",
    "        ip_batch = model_input(data)\n",
    "        # Divide by 255 to scale the input to bring between 0 and 1\n",
    "        ip_batch = ip_batch / 255\n",
    "        op_batch = net(ip_batch)\n",
    "        total_loss = F.mse_loss(op_batch, ip_batch)\n",
    "        \n",
    "        optimizer.zero_grad()\n",
    "        total_loss.backward()\n",
    "        optimizer.step()\n",
    "        \n",
    "        running_loss += total_loss.item()\n",
    "        if i % 100 == 99:\n",
    "            avg_loss = running_loss / 100\n",
    "            print ('[%d, %5d] loss: %.3f' % (prev_offset+epoch+1, i+1, avg_loss[0]))\n",
    "            index = (prev_offset+epoch) * len(training_loader) + i\n",
    "            writer.add_scalar('training_loss', avg_loss[0], index)\n",
    "            running_loss[:] = 0.0\n",
    "\n",
    "prev_offset += epochs"
   ]
  },
  {
   "cell_type": "code",
   "execution_count": 47,
   "metadata": {},
   "outputs": [
    {
     "name": "stdout",
     "output_type": "stream",
     "text": [
      "MSE: 0.00205573090352118\n"
     ]
    },
    {
     "data": {
      "image/png": "[encoded data removed]",
      "text/plain": [
       "<Figure size 432x288 with 6 Axes>"
      ]
     },
     "metadata": {
      "needs_background": "light"
     },
     "output_type": "display_data"
    }
   ],
   "source": [
    "with torch.no_grad():\n",
    "    test_data = iter(test_loader).next()\n",
    "#     test_img = np.random.randint(len(test_data))\n",
    "#     data = torch.as_tensor(test_data[test_img].reshape(1,-1))\n",
    "    test_data = test_data.float()\n",
    "    ip = model_input(test_data)\n",
    "    ip_n = ip / 255 \n",
    "    op_n = net(ip_n)\n",
    "    op = torch.floor(op_n * 255) # Post processing to match the pre-processing of inputs in network\n",
    "    rows = 3 # test_batch size\n",
    "    \n",
    "    print ('MSE: {}'.format(np.mean(np.abs(ip_n.numpy() - op_n.numpy()) ** 2)))\n",
    "    \n",
    "    fig = plt.figure()\n",
    "    \n",
    "    for r in range(rows):\n",
    "        ax = plt.subplot(rows,2,r*2 + 1)\n",
    "        orig_image = ip[r].reshape(img_res, img_res)\n",
    "        plt.imshow(orig_image)\n",
    "        # writer.add_image(str.format('test_original_{}', r), orig_image)\n",
    "        if r==0:\n",
    "            ax.title.set_text('Original')\n",
    "        ax.set_yticklabels([])\n",
    "        ax.set_xticklabels([])\n",
    "        ax = plt.subplot(rows,2,r*2 + 2)\n",
    "        ax.set_yticklabels([])\n",
    "        ax.set_xticklabels([])\n",
    "        recon_image = op[r].reshape(img_res, img_res)\n",
    "        plt.imshow(recon_image)\n",
    "        # writer.add_image(str.format('test_recontructed_{}', r), recon_image)\n",
    "        if r==0:\n",
    "            ax.title.set_text('Recontructed')\n",
    "    plt.show()\n",
    "    writer.add_figure('test_image_matplotlib', fig)\n"
   ]
  },
  {
   "cell_type": "code",
   "execution_count": 32,
   "metadata": {},
   "outputs": [
    {
     "name": "stdout",
     "output_type": "stream",
     "text": [
      "[0. 0. 0. ... 0. 0. 0.]\n",
      "[0 0 0 ... 0 0 1]\n"
     ]
    }
   ],
   "source": [
    "print (ip[0].numpy())\n",
    "print (np.array(op[0].numpy(), dtype=int))"
   ]
  },
  {
   "cell_type": "code",
   "execution_count": 33,
   "metadata": {},
   "outputs": [],
   "source": [
    "np.set_printoptions(**opt)"
   ]
  },
  {
   "cell_type": "code",
   "execution_count": 34,
   "metadata": {},
   "outputs": [],
   "source": [
    "os.makedirs(folder)\n",
    "torch.save(net.state_dict(), PATH)"
   ]
  },
  {
   "cell_type": "code",
   "execution_count": 35,
   "metadata": {},
   "outputs": [
    {
     "data": {
      "text/plain": [
       "<All keys matched successfully>"
      ]
     },
     "execution_count": 35,
     "metadata": {},
     "output_type": "execute_result"
    }
   ],
   "source": [
    "test_net = AutoEncoder()\n",
    "test_net.load_state_dict(torch.load(PATH))"
   ]
  }
 ],
 "metadata": {
  "kernelspec": {
   "display_name": "demopl",
   "language": "python",
   "name": "demopl"
  },
  "language_info": {
   "codemirror_mode": {
    "name": "ipython",
    "version": 3
   },
   "file_extension": ".py",
   "mimetype": "text/x-python",
   "name": "python",
   "nbconvert_exporter": "python",
   "pygments_lexer": "ipython3",
   "version": "3.6.8"
  }
 },
 "nbformat": 4,
 "nbformat_minor": 4
}
